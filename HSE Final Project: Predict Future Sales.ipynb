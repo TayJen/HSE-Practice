{
  "nbformat": 4,
  "nbformat_minor": 0,
  "metadata": {
    "colab": {
      "name": "HSE Final Project: Predict Future Sales.ipynb",
      "provenance": [],
      "collapsed_sections": [
        "rSDMuYuhSrXN",
        "67I_FSlwpVRS",
        "dv7vf18SpY1m"
      ],
      "mount_file_id": "1AyeI5r-jcoxgvkcm-FA2hWZXsRkqMfY0",
      "authorship_tag": "ABX9TyNf+gqtf1BE4MU5Z/h0XLoq"
    },
    "kernelspec": {
      "display_name": "Python 3",
      "name": "python3"
    },
    "language_info": {
      "name": "python"
    }
  },
  "cells": [
    {
      "cell_type": "markdown",
      "metadata": {
        "id": "G3ya-pzSTt_0"
      },
      "source": [
        "# Important stuff"
      ]
    },
    {
      "cell_type": "code",
      "metadata": {
        "colab": {
          "base_uri": "https://localhost:8080/"
        },
        "id": "cTvoR3teSeY3",
        "outputId": "f3ed3705-c896-4ce7-bb18-80df0a5f54cf"
      },
      "source": [
        "from google.colab import drive\n",
        "drive.mount('/content/drive')"
      ],
      "execution_count": 1,
      "outputs": [
        {
          "output_type": "stream",
          "name": "stdout",
          "text": [
            "Drive already mounted at /content/drive; to attempt to forcibly remount, call drive.mount(\"/content/drive\", force_remount=True).\n"
          ]
        }
      ]
    },
    {
      "cell_type": "markdown",
      "metadata": {
        "id": "rSDMuYuhSrXN"
      },
      "source": [
        "# Review criteria"
      ]
    },
    {
      "cell_type": "markdown",
      "metadata": {
        "id": "zHKAOIbMldM-"
      },
      "source": [
        "**Clarity**\n",
        "\n",
        "- The clear step-by-step instruction on how to produce the final submit file is provided\n",
        "\n",
        "- Code has comments where it is needed and meaningful function names\n",
        "\n",
        "**Feature preprocessing and generation with respect to models**\n",
        "\n",
        "- Several simple features are generated\n",
        "\n",
        "- For non-tree-based models preprocessing is used or the absence of it is explained\n",
        "\n",
        "**Feature extraction from text and images**\n",
        "\n",
        "- Features from text are extracted\n",
        "\n",
        "- Special preprocessings for text are utilized (TF-IDF, stemming, levenshtening...)\n",
        "\n",
        "**EDA**\n",
        "\n",
        "- Several interesting observations about data are discovered and explained\n",
        "\n",
        "- Target distribution is visualized, time trend is assessed\n",
        "\n",
        "**Validation**\n",
        "\n",
        "- Type of train/test split is identified and used for validation\n",
        "\n",
        "- Type of public/private split is identified\n",
        "\n",
        "**Data leakages**\n",
        "\n",
        "- Data is investigated for data leakages and investigation process is described\n",
        "\n",
        "- Found data leakages are utilized\n",
        "\n",
        "**Metrics optimization**\n",
        "\n",
        "- Correct metric is optimized\n",
        "\n",
        "**Advanced Features I: mean encodings**\n",
        "\n",
        "- Mean-encoding is applied\n",
        "\n",
        "- Mean-encoding is set up correctly, i.e. KFold or expanding scheme are utilized correctly\n",
        "\n",
        "**Advanced Features II**\n",
        "\n",
        "- At least one feature from this topic is introduced\n",
        "\n",
        "**Hyperparameter tuning**\n",
        "\n",
        "- Parameters of models are roughly optimal\n",
        "\n",
        "**Ensembles**\n",
        "\n",
        "- Ensembling is utilized (linear combination counts)\n",
        "\n",
        "- Validation with ensembling scheme is set up correctly, i.e. KFold or Holdout is utilized\n",
        "\n",
        "- Models from different classes are utilized (at least two from the following: KNN, linear models, RF, GBDT, NN)"
      ]
    },
    {
      "cell_type": "markdown",
      "metadata": {
        "id": "XG5mua_E7os4"
      },
      "source": [
        "# Data Work"
      ]
    },
    {
      "cell_type": "markdown",
      "metadata": {
        "id": "67I_FSlwpVRS"
      },
      "source": [
        "## Main Data"
      ]
    },
    {
      "cell_type": "code",
      "metadata": {
        "id": "i8IN1d1glP0v"
      },
      "source": [
        "import pandas as pd\n",
        "import numpy as np\n",
        "import matplotlib.pyplot as plt"
      ],
      "execution_count": 2,
      "outputs": []
    },
    {
      "cell_type": "code",
      "metadata": {
        "id": "WVvLr4yAlP3E"
      },
      "source": [
        "dest = '/content/drive/MyDrive/HSE Final Project/Data/'\n",
        "\n",
        "df_train = pd.read_csv(dest + 'sales_train.csv')\n",
        "df_test = pd.read_csv(dest + 'test.csv')"
      ],
      "execution_count": 3,
      "outputs": []
    },
    {
      "cell_type": "code",
      "metadata": {
        "colab": {
          "base_uri": "https://localhost:8080/",
          "height": 0
        },
        "id": "OOVZhmdclP5K",
        "outputId": "cb0c72f2-731a-437b-abcc-158d8f3dbbef"
      },
      "source": [
        "df_train.head()"
      ],
      "execution_count": 4,
      "outputs": [
        {
          "output_type": "execute_result",
          "data": {
            "text/html": [
              "<div>\n",
              "<style scoped>\n",
              "    .dataframe tbody tr th:only-of-type {\n",
              "        vertical-align: middle;\n",
              "    }\n",
              "\n",
              "    .dataframe tbody tr th {\n",
              "        vertical-align: top;\n",
              "    }\n",
              "\n",
              "    .dataframe thead th {\n",
              "        text-align: right;\n",
              "    }\n",
              "</style>\n",
              "<table border=\"1\" class=\"dataframe\">\n",
              "  <thead>\n",
              "    <tr style=\"text-align: right;\">\n",
              "      <th></th>\n",
              "      <th>date</th>\n",
              "      <th>date_block_num</th>\n",
              "      <th>shop_id</th>\n",
              "      <th>item_id</th>\n",
              "      <th>item_price</th>\n",
              "      <th>item_cnt_day</th>\n",
              "    </tr>\n",
              "  </thead>\n",
              "  <tbody>\n",
              "    <tr>\n",
              "      <th>0</th>\n",
              "      <td>02.01.2013</td>\n",
              "      <td>0</td>\n",
              "      <td>59</td>\n",
              "      <td>22154</td>\n",
              "      <td>999.00</td>\n",
              "      <td>1.0</td>\n",
              "    </tr>\n",
              "    <tr>\n",
              "      <th>1</th>\n",
              "      <td>03.01.2013</td>\n",
              "      <td>0</td>\n",
              "      <td>25</td>\n",
              "      <td>2552</td>\n",
              "      <td>899.00</td>\n",
              "      <td>1.0</td>\n",
              "    </tr>\n",
              "    <tr>\n",
              "      <th>2</th>\n",
              "      <td>05.01.2013</td>\n",
              "      <td>0</td>\n",
              "      <td>25</td>\n",
              "      <td>2552</td>\n",
              "      <td>899.00</td>\n",
              "      <td>-1.0</td>\n",
              "    </tr>\n",
              "    <tr>\n",
              "      <th>3</th>\n",
              "      <td>06.01.2013</td>\n",
              "      <td>0</td>\n",
              "      <td>25</td>\n",
              "      <td>2554</td>\n",
              "      <td>1709.05</td>\n",
              "      <td>1.0</td>\n",
              "    </tr>\n",
              "    <tr>\n",
              "      <th>4</th>\n",
              "      <td>15.01.2013</td>\n",
              "      <td>0</td>\n",
              "      <td>25</td>\n",
              "      <td>2555</td>\n",
              "      <td>1099.00</td>\n",
              "      <td>1.0</td>\n",
              "    </tr>\n",
              "  </tbody>\n",
              "</table>\n",
              "</div>"
            ],
            "text/plain": [
              "         date  date_block_num  shop_id  item_id  item_price  item_cnt_day\n",
              "0  02.01.2013               0       59    22154      999.00           1.0\n",
              "1  03.01.2013               0       25     2552      899.00           1.0\n",
              "2  05.01.2013               0       25     2552      899.00          -1.0\n",
              "3  06.01.2013               0       25     2554     1709.05           1.0\n",
              "4  15.01.2013               0       25     2555     1099.00           1.0"
            ]
          },
          "metadata": {},
          "execution_count": 4
        }
      ]
    },
    {
      "cell_type": "code",
      "metadata": {
        "colab": {
          "base_uri": "https://localhost:8080/",
          "height": 0
        },
        "id": "UfPNcWO8FFC8",
        "outputId": "a3e0a16a-f199-4e2a-f7c3-84c9f7cf26cc"
      },
      "source": [
        "df_test.head()"
      ],
      "execution_count": 5,
      "outputs": [
        {
          "output_type": "execute_result",
          "data": {
            "text/html": [
              "<div>\n",
              "<style scoped>\n",
              "    .dataframe tbody tr th:only-of-type {\n",
              "        vertical-align: middle;\n",
              "    }\n",
              "\n",
              "    .dataframe tbody tr th {\n",
              "        vertical-align: top;\n",
              "    }\n",
              "\n",
              "    .dataframe thead th {\n",
              "        text-align: right;\n",
              "    }\n",
              "</style>\n",
              "<table border=\"1\" class=\"dataframe\">\n",
              "  <thead>\n",
              "    <tr style=\"text-align: right;\">\n",
              "      <th></th>\n",
              "      <th>ID</th>\n",
              "      <th>shop_id</th>\n",
              "      <th>item_id</th>\n",
              "    </tr>\n",
              "  </thead>\n",
              "  <tbody>\n",
              "    <tr>\n",
              "      <th>0</th>\n",
              "      <td>0</td>\n",
              "      <td>5</td>\n",
              "      <td>5037</td>\n",
              "    </tr>\n",
              "    <tr>\n",
              "      <th>1</th>\n",
              "      <td>1</td>\n",
              "      <td>5</td>\n",
              "      <td>5320</td>\n",
              "    </tr>\n",
              "    <tr>\n",
              "      <th>2</th>\n",
              "      <td>2</td>\n",
              "      <td>5</td>\n",
              "      <td>5233</td>\n",
              "    </tr>\n",
              "    <tr>\n",
              "      <th>3</th>\n",
              "      <td>3</td>\n",
              "      <td>5</td>\n",
              "      <td>5232</td>\n",
              "    </tr>\n",
              "    <tr>\n",
              "      <th>4</th>\n",
              "      <td>4</td>\n",
              "      <td>5</td>\n",
              "      <td>5268</td>\n",
              "    </tr>\n",
              "  </tbody>\n",
              "</table>\n",
              "</div>"
            ],
            "text/plain": [
              "   ID  shop_id  item_id\n",
              "0   0        5     5037\n",
              "1   1        5     5320\n",
              "2   2        5     5233\n",
              "3   3        5     5232\n",
              "4   4        5     5268"
            ]
          },
          "metadata": {},
          "execution_count": 5
        }
      ]
    },
    {
      "cell_type": "markdown",
      "metadata": {
        "id": "KQxV-00UpN7f"
      },
      "source": [
        "## Additional Data"
      ]
    },
    {
      "cell_type": "code",
      "metadata": {
        "colab": {
          "base_uri": "https://localhost:8080/",
          "height": 206
        },
        "id": "hgmbc_VxlP7I",
        "outputId": "27091b6d-1bdd-4d61-fa71-8d9f64c0cfba"
      },
      "source": [
        "df_shops = pd.read_csv(dest + 'shops.csv')\n",
        "df_shops.head()"
      ],
      "execution_count": 6,
      "outputs": [
        {
          "output_type": "execute_result",
          "data": {
            "text/html": [
              "<div>\n",
              "<style scoped>\n",
              "    .dataframe tbody tr th:only-of-type {\n",
              "        vertical-align: middle;\n",
              "    }\n",
              "\n",
              "    .dataframe tbody tr th {\n",
              "        vertical-align: top;\n",
              "    }\n",
              "\n",
              "    .dataframe thead th {\n",
              "        text-align: right;\n",
              "    }\n",
              "</style>\n",
              "<table border=\"1\" class=\"dataframe\">\n",
              "  <thead>\n",
              "    <tr style=\"text-align: right;\">\n",
              "      <th></th>\n",
              "      <th>shop_name</th>\n",
              "      <th>shop_id</th>\n",
              "    </tr>\n",
              "  </thead>\n",
              "  <tbody>\n",
              "    <tr>\n",
              "      <th>0</th>\n",
              "      <td>!Якутск Орджоникидзе, 56 фран</td>\n",
              "      <td>0</td>\n",
              "    </tr>\n",
              "    <tr>\n",
              "      <th>1</th>\n",
              "      <td>!Якутск ТЦ \"Центральный\" фран</td>\n",
              "      <td>1</td>\n",
              "    </tr>\n",
              "    <tr>\n",
              "      <th>2</th>\n",
              "      <td>Адыгея ТЦ \"Мега\"</td>\n",
              "      <td>2</td>\n",
              "    </tr>\n",
              "    <tr>\n",
              "      <th>3</th>\n",
              "      <td>Балашиха ТРК \"Октябрь-Киномир\"</td>\n",
              "      <td>3</td>\n",
              "    </tr>\n",
              "    <tr>\n",
              "      <th>4</th>\n",
              "      <td>Волжский ТЦ \"Волга Молл\"</td>\n",
              "      <td>4</td>\n",
              "    </tr>\n",
              "  </tbody>\n",
              "</table>\n",
              "</div>"
            ],
            "text/plain": [
              "                        shop_name  shop_id\n",
              "0   !Якутск Орджоникидзе, 56 фран        0\n",
              "1   !Якутск ТЦ \"Центральный\" фран        1\n",
              "2                Адыгея ТЦ \"Мега\"        2\n",
              "3  Балашиха ТРК \"Октябрь-Киномир\"        3\n",
              "4        Волжский ТЦ \"Волга Молл\"        4"
            ]
          },
          "metadata": {},
          "execution_count": 6
        }
      ]
    },
    {
      "cell_type": "code",
      "metadata": {
        "colab": {
          "base_uri": "https://localhost:8080/",
          "height": 206
        },
        "id": "1T9YwvMuE_-_",
        "outputId": "4b921d7c-9dfe-4708-8aa7-d6a6ed21333e"
      },
      "source": [
        "df_shops['city'] = [split[0] for split in df_shops['shop_name'].str.split()]\n",
        "df_shops['shop_type'] = [split[1] for split in df_shops['shop_name'].str.split()]\n",
        "df_shops.head()"
      ],
      "execution_count": 7,
      "outputs": [
        {
          "output_type": "execute_result",
          "data": {
            "text/html": [
              "<div>\n",
              "<style scoped>\n",
              "    .dataframe tbody tr th:only-of-type {\n",
              "        vertical-align: middle;\n",
              "    }\n",
              "\n",
              "    .dataframe tbody tr th {\n",
              "        vertical-align: top;\n",
              "    }\n",
              "\n",
              "    .dataframe thead th {\n",
              "        text-align: right;\n",
              "    }\n",
              "</style>\n",
              "<table border=\"1\" class=\"dataframe\">\n",
              "  <thead>\n",
              "    <tr style=\"text-align: right;\">\n",
              "      <th></th>\n",
              "      <th>shop_name</th>\n",
              "      <th>shop_id</th>\n",
              "      <th>city</th>\n",
              "      <th>shop_type</th>\n",
              "    </tr>\n",
              "  </thead>\n",
              "  <tbody>\n",
              "    <tr>\n",
              "      <th>0</th>\n",
              "      <td>!Якутск Орджоникидзе, 56 фран</td>\n",
              "      <td>0</td>\n",
              "      <td>!Якутск</td>\n",
              "      <td>Орджоникидзе,</td>\n",
              "    </tr>\n",
              "    <tr>\n",
              "      <th>1</th>\n",
              "      <td>!Якутск ТЦ \"Центральный\" фран</td>\n",
              "      <td>1</td>\n",
              "      <td>!Якутск</td>\n",
              "      <td>ТЦ</td>\n",
              "    </tr>\n",
              "    <tr>\n",
              "      <th>2</th>\n",
              "      <td>Адыгея ТЦ \"Мега\"</td>\n",
              "      <td>2</td>\n",
              "      <td>Адыгея</td>\n",
              "      <td>ТЦ</td>\n",
              "    </tr>\n",
              "    <tr>\n",
              "      <th>3</th>\n",
              "      <td>Балашиха ТРК \"Октябрь-Киномир\"</td>\n",
              "      <td>3</td>\n",
              "      <td>Балашиха</td>\n",
              "      <td>ТРК</td>\n",
              "    </tr>\n",
              "    <tr>\n",
              "      <th>4</th>\n",
              "      <td>Волжский ТЦ \"Волга Молл\"</td>\n",
              "      <td>4</td>\n",
              "      <td>Волжский</td>\n",
              "      <td>ТЦ</td>\n",
              "    </tr>\n",
              "  </tbody>\n",
              "</table>\n",
              "</div>"
            ],
            "text/plain": [
              "                        shop_name  shop_id      city      shop_type\n",
              "0   !Якутск Орджоникидзе, 56 фран        0   !Якутск  Орджоникидзе,\n",
              "1   !Якутск ТЦ \"Центральный\" фран        1   !Якутск             ТЦ\n",
              "2                Адыгея ТЦ \"Мега\"        2    Адыгея             ТЦ\n",
              "3  Балашиха ТРК \"Октябрь-Киномир\"        3  Балашиха            ТРК\n",
              "4        Волжский ТЦ \"Волга Молл\"        4  Волжский             ТЦ"
            ]
          },
          "metadata": {},
          "execution_count": 7
        }
      ]
    },
    {
      "cell_type": "code",
      "metadata": {
        "colab": {
          "base_uri": "https://localhost:8080/",
          "height": 206
        },
        "id": "Wa-1F6VlKYl8",
        "outputId": "cd286cf1-1f73-4153-a7e3-3aacc27dddc3"
      },
      "source": [
        "mask = (df_shops.shop_type != 'ТЦ') & \\\n",
        "        (df_shops.shop_type != 'ТРК') & \\\n",
        "        (df_shops.shop_type != 'ТРЦ') & \\\n",
        "        (df_shops.shop_type != 'МТРЦ') & \\\n",
        "        (df_shops.shop_type != 'ТК')\n",
        "\n",
        "# mask = df_shops.shop_type not in ['ТЦ', 'ТРК', 'ТРЦ', 'МТРЦ', 'ТК']\n",
        "\n",
        "df_shops.loc[mask, 'shop_type'] = 'ТЦ'\n",
        "df_shops.head()"
      ],
      "execution_count": 8,
      "outputs": [
        {
          "output_type": "execute_result",
          "data": {
            "text/html": [
              "<div>\n",
              "<style scoped>\n",
              "    .dataframe tbody tr th:only-of-type {\n",
              "        vertical-align: middle;\n",
              "    }\n",
              "\n",
              "    .dataframe tbody tr th {\n",
              "        vertical-align: top;\n",
              "    }\n",
              "\n",
              "    .dataframe thead th {\n",
              "        text-align: right;\n",
              "    }\n",
              "</style>\n",
              "<table border=\"1\" class=\"dataframe\">\n",
              "  <thead>\n",
              "    <tr style=\"text-align: right;\">\n",
              "      <th></th>\n",
              "      <th>shop_name</th>\n",
              "      <th>shop_id</th>\n",
              "      <th>city</th>\n",
              "      <th>shop_type</th>\n",
              "    </tr>\n",
              "  </thead>\n",
              "  <tbody>\n",
              "    <tr>\n",
              "      <th>0</th>\n",
              "      <td>!Якутск Орджоникидзе, 56 фран</td>\n",
              "      <td>0</td>\n",
              "      <td>!Якутск</td>\n",
              "      <td>ТЦ</td>\n",
              "    </tr>\n",
              "    <tr>\n",
              "      <th>1</th>\n",
              "      <td>!Якутск ТЦ \"Центральный\" фран</td>\n",
              "      <td>1</td>\n",
              "      <td>!Якутск</td>\n",
              "      <td>ТЦ</td>\n",
              "    </tr>\n",
              "    <tr>\n",
              "      <th>2</th>\n",
              "      <td>Адыгея ТЦ \"Мега\"</td>\n",
              "      <td>2</td>\n",
              "      <td>Адыгея</td>\n",
              "      <td>ТЦ</td>\n",
              "    </tr>\n",
              "    <tr>\n",
              "      <th>3</th>\n",
              "      <td>Балашиха ТРК \"Октябрь-Киномир\"</td>\n",
              "      <td>3</td>\n",
              "      <td>Балашиха</td>\n",
              "      <td>ТРК</td>\n",
              "    </tr>\n",
              "    <tr>\n",
              "      <th>4</th>\n",
              "      <td>Волжский ТЦ \"Волга Молл\"</td>\n",
              "      <td>4</td>\n",
              "      <td>Волжский</td>\n",
              "      <td>ТЦ</td>\n",
              "    </tr>\n",
              "  </tbody>\n",
              "</table>\n",
              "</div>"
            ],
            "text/plain": [
              "                        shop_name  shop_id      city shop_type\n",
              "0   !Якутск Орджоникидзе, 56 фран        0   !Якутск        ТЦ\n",
              "1   !Якутск ТЦ \"Центральный\" фран        1   !Якутск        ТЦ\n",
              "2                Адыгея ТЦ \"Мега\"        2    Адыгея        ТЦ\n",
              "3  Балашиха ТРК \"Октябрь-Киномир\"        3  Балашиха       ТРК\n",
              "4        Волжский ТЦ \"Волга Молл\"        4  Волжский        ТЦ"
            ]
          },
          "metadata": {},
          "execution_count": 8
        }
      ]
    },
    {
      "cell_type": "code",
      "metadata": {
        "colab": {
          "base_uri": "https://localhost:8080/",
          "height": 206
        },
        "id": "tjOVC_AiNapt",
        "outputId": "9a4d10f2-b0d8-4b2c-c7f9-072e490f8ea6"
      },
      "source": [
        "import string\n",
        "\n",
        "df_shops['city'] = df_shops.city.str.translate(str.maketrans('', '', string.punctuation))\n",
        "df_shops.head()"
      ],
      "execution_count": 9,
      "outputs": [
        {
          "output_type": "execute_result",
          "data": {
            "text/html": [
              "<div>\n",
              "<style scoped>\n",
              "    .dataframe tbody tr th:only-of-type {\n",
              "        vertical-align: middle;\n",
              "    }\n",
              "\n",
              "    .dataframe tbody tr th {\n",
              "        vertical-align: top;\n",
              "    }\n",
              "\n",
              "    .dataframe thead th {\n",
              "        text-align: right;\n",
              "    }\n",
              "</style>\n",
              "<table border=\"1\" class=\"dataframe\">\n",
              "  <thead>\n",
              "    <tr style=\"text-align: right;\">\n",
              "      <th></th>\n",
              "      <th>shop_name</th>\n",
              "      <th>shop_id</th>\n",
              "      <th>city</th>\n",
              "      <th>shop_type</th>\n",
              "    </tr>\n",
              "  </thead>\n",
              "  <tbody>\n",
              "    <tr>\n",
              "      <th>0</th>\n",
              "      <td>!Якутск Орджоникидзе, 56 фран</td>\n",
              "      <td>0</td>\n",
              "      <td>Якутск</td>\n",
              "      <td>ТЦ</td>\n",
              "    </tr>\n",
              "    <tr>\n",
              "      <th>1</th>\n",
              "      <td>!Якутск ТЦ \"Центральный\" фран</td>\n",
              "      <td>1</td>\n",
              "      <td>Якутск</td>\n",
              "      <td>ТЦ</td>\n",
              "    </tr>\n",
              "    <tr>\n",
              "      <th>2</th>\n",
              "      <td>Адыгея ТЦ \"Мега\"</td>\n",
              "      <td>2</td>\n",
              "      <td>Адыгея</td>\n",
              "      <td>ТЦ</td>\n",
              "    </tr>\n",
              "    <tr>\n",
              "      <th>3</th>\n",
              "      <td>Балашиха ТРК \"Октябрь-Киномир\"</td>\n",
              "      <td>3</td>\n",
              "      <td>Балашиха</td>\n",
              "      <td>ТРК</td>\n",
              "    </tr>\n",
              "    <tr>\n",
              "      <th>4</th>\n",
              "      <td>Волжский ТЦ \"Волга Молл\"</td>\n",
              "      <td>4</td>\n",
              "      <td>Волжский</td>\n",
              "      <td>ТЦ</td>\n",
              "    </tr>\n",
              "  </tbody>\n",
              "</table>\n",
              "</div>"
            ],
            "text/plain": [
              "                        shop_name  shop_id      city shop_type\n",
              "0   !Якутск Орджоникидзе, 56 фран        0    Якутск        ТЦ\n",
              "1   !Якутск ТЦ \"Центральный\" фран        1    Якутск        ТЦ\n",
              "2                Адыгея ТЦ \"Мега\"        2    Адыгея        ТЦ\n",
              "3  Балашиха ТРК \"Октябрь-Киномир\"        3  Балашиха       ТРК\n",
              "4        Волжский ТЦ \"Волга Молл\"        4  Волжский        ТЦ"
            ]
          },
          "metadata": {},
          "execution_count": 9
        }
      ]
    },
    {
      "cell_type": "code",
      "metadata": {
        "colab": {
          "base_uri": "https://localhost:8080/"
        },
        "id": "cEAADBU5P6Ei",
        "outputId": "f016a18e-6dc8-4ad2-b99a-135ab7470bec"
      },
      "source": [
        "from sklearn.preprocessing import LabelEncoder\n",
        "\n",
        "encoder = LabelEncoder()\n",
        "\n",
        "# reshape the 1-D country array to 2-D as fit_transform expects 2-D and finally fit the object \n",
        "X = encoder.fit_transform(df_shops.city.values.reshape(-1,1))\n",
        "\n",
        "# add this back into the original dataframe \n",
        "encoded = pd.DataFrame(X, columns=[\"city_enc\"]) \n",
        "df_shops = pd.concat([df_shops, encoded], axis=1)"
      ],
      "execution_count": 10,
      "outputs": [
        {
          "output_type": "stream",
          "name": "stderr",
          "text": [
            "/usr/local/lib/python3.7/dist-packages/sklearn/preprocessing/_label.py:115: DataConversionWarning: A column-vector y was passed when a 1d array was expected. Please change the shape of y to (n_samples, ), for example using ravel().\n",
            "  y = column_or_1d(y, warn=True)\n"
          ]
        }
      ]
    },
    {
      "cell_type": "code",
      "metadata": {
        "colab": {
          "base_uri": "https://localhost:8080/",
          "height": 206
        },
        "id": "kQi6E6s7jf-W",
        "outputId": "06d5fc67-04a7-4887-b7b0-97661647de1e"
      },
      "source": [
        "# drop the city column and city_0 to avoid so called \"Dummy Variable Trap\"\n",
        "df_shops = df_shops.drop(['city'], axis=1) \n",
        "df_shops.head()"
      ],
      "execution_count": 11,
      "outputs": [
        {
          "output_type": "execute_result",
          "data": {
            "text/html": [
              "<div>\n",
              "<style scoped>\n",
              "    .dataframe tbody tr th:only-of-type {\n",
              "        vertical-align: middle;\n",
              "    }\n",
              "\n",
              "    .dataframe tbody tr th {\n",
              "        vertical-align: top;\n",
              "    }\n",
              "\n",
              "    .dataframe thead th {\n",
              "        text-align: right;\n",
              "    }\n",
              "</style>\n",
              "<table border=\"1\" class=\"dataframe\">\n",
              "  <thead>\n",
              "    <tr style=\"text-align: right;\">\n",
              "      <th></th>\n",
              "      <th>shop_name</th>\n",
              "      <th>shop_id</th>\n",
              "      <th>shop_type</th>\n",
              "      <th>city_enc</th>\n",
              "    </tr>\n",
              "  </thead>\n",
              "  <tbody>\n",
              "    <tr>\n",
              "      <th>0</th>\n",
              "      <td>!Якутск Орджоникидзе, 56 фран</td>\n",
              "      <td>0</td>\n",
              "      <td>ТЦ</td>\n",
              "      <td>29</td>\n",
              "    </tr>\n",
              "    <tr>\n",
              "      <th>1</th>\n",
              "      <td>!Якутск ТЦ \"Центральный\" фран</td>\n",
              "      <td>1</td>\n",
              "      <td>ТЦ</td>\n",
              "      <td>29</td>\n",
              "    </tr>\n",
              "    <tr>\n",
              "      <th>2</th>\n",
              "      <td>Адыгея ТЦ \"Мега\"</td>\n",
              "      <td>2</td>\n",
              "      <td>ТЦ</td>\n",
              "      <td>0</td>\n",
              "    </tr>\n",
              "    <tr>\n",
              "      <th>3</th>\n",
              "      <td>Балашиха ТРК \"Октябрь-Киномир\"</td>\n",
              "      <td>3</td>\n",
              "      <td>ТРК</td>\n",
              "      <td>1</td>\n",
              "    </tr>\n",
              "    <tr>\n",
              "      <th>4</th>\n",
              "      <td>Волжский ТЦ \"Волга Молл\"</td>\n",
              "      <td>4</td>\n",
              "      <td>ТЦ</td>\n",
              "      <td>2</td>\n",
              "    </tr>\n",
              "  </tbody>\n",
              "</table>\n",
              "</div>"
            ],
            "text/plain": [
              "                        shop_name  shop_id shop_type  city_enc\n",
              "0   !Якутск Орджоникидзе, 56 фран        0        ТЦ        29\n",
              "1   !Якутск ТЦ \"Центральный\" фран        1        ТЦ        29\n",
              "2                Адыгея ТЦ \"Мега\"        2        ТЦ         0\n",
              "3  Балашиха ТРК \"Октябрь-Киномир\"        3       ТРК         1\n",
              "4        Волжский ТЦ \"Волга Молл\"        4        ТЦ         2"
            ]
          },
          "metadata": {},
          "execution_count": 11
        }
      ]
    },
    {
      "cell_type": "markdown",
      "metadata": {
        "id": "H9xNE-hCSzAs"
      },
      "source": [
        "The same for shop_type"
      ]
    },
    {
      "cell_type": "code",
      "metadata": {
        "colab": {
          "base_uri": "https://localhost:8080/",
          "height": 261
        },
        "id": "92QQF4P6S3GN",
        "outputId": "d56998e6-0380-4274-abc8-b982d00f323d"
      },
      "source": [
        "encoder = LabelEncoder()\n",
        "X = encoder.fit_transform(df_shops.shop_type.values.reshape(-1,1))\n",
        "\n",
        "encoded = pd.DataFrame(X, columns=[\"shop_type_enc\"]) \n",
        "df_shops = pd.concat([df_shops, encoded], axis=1)\n",
        "\n",
        "df_shops = df_shops.drop(['shop_type'], axis=1) \n",
        "df_shops.head()"
      ],
      "execution_count": 12,
      "outputs": [
        {
          "output_type": "stream",
          "name": "stderr",
          "text": [
            "/usr/local/lib/python3.7/dist-packages/sklearn/preprocessing/_label.py:115: DataConversionWarning: A column-vector y was passed when a 1d array was expected. Please change the shape of y to (n_samples, ), for example using ravel().\n",
            "  y = column_or_1d(y, warn=True)\n"
          ]
        },
        {
          "output_type": "execute_result",
          "data": {
            "text/html": [
              "<div>\n",
              "<style scoped>\n",
              "    .dataframe tbody tr th:only-of-type {\n",
              "        vertical-align: middle;\n",
              "    }\n",
              "\n",
              "    .dataframe tbody tr th {\n",
              "        vertical-align: top;\n",
              "    }\n",
              "\n",
              "    .dataframe thead th {\n",
              "        text-align: right;\n",
              "    }\n",
              "</style>\n",
              "<table border=\"1\" class=\"dataframe\">\n",
              "  <thead>\n",
              "    <tr style=\"text-align: right;\">\n",
              "      <th></th>\n",
              "      <th>shop_name</th>\n",
              "      <th>shop_id</th>\n",
              "      <th>city_enc</th>\n",
              "      <th>shop_type_enc</th>\n",
              "    </tr>\n",
              "  </thead>\n",
              "  <tbody>\n",
              "    <tr>\n",
              "      <th>0</th>\n",
              "      <td>!Якутск Орджоникидзе, 56 фран</td>\n",
              "      <td>0</td>\n",
              "      <td>29</td>\n",
              "      <td>4</td>\n",
              "    </tr>\n",
              "    <tr>\n",
              "      <th>1</th>\n",
              "      <td>!Якутск ТЦ \"Центральный\" фран</td>\n",
              "      <td>1</td>\n",
              "      <td>29</td>\n",
              "      <td>4</td>\n",
              "    </tr>\n",
              "    <tr>\n",
              "      <th>2</th>\n",
              "      <td>Адыгея ТЦ \"Мега\"</td>\n",
              "      <td>2</td>\n",
              "      <td>0</td>\n",
              "      <td>4</td>\n",
              "    </tr>\n",
              "    <tr>\n",
              "      <th>3</th>\n",
              "      <td>Балашиха ТРК \"Октябрь-Киномир\"</td>\n",
              "      <td>3</td>\n",
              "      <td>1</td>\n",
              "      <td>2</td>\n",
              "    </tr>\n",
              "    <tr>\n",
              "      <th>4</th>\n",
              "      <td>Волжский ТЦ \"Волга Молл\"</td>\n",
              "      <td>4</td>\n",
              "      <td>2</td>\n",
              "      <td>4</td>\n",
              "    </tr>\n",
              "  </tbody>\n",
              "</table>\n",
              "</div>"
            ],
            "text/plain": [
              "                        shop_name  shop_id  city_enc  shop_type_enc\n",
              "0   !Якутск Орджоникидзе, 56 фран        0        29              4\n",
              "1   !Якутск ТЦ \"Центральный\" фран        1        29              4\n",
              "2                Адыгея ТЦ \"Мега\"        2         0              4\n",
              "3  Балашиха ТРК \"Октябрь-Киномир\"        3         1              2\n",
              "4        Волжский ТЦ \"Волга Молл\"        4         2              4"
            ]
          },
          "metadata": {},
          "execution_count": 12
        }
      ]
    },
    {
      "cell_type": "code",
      "metadata": {
        "colab": {
          "base_uri": "https://localhost:8080/",
          "height": 206
        },
        "id": "ZNYWJFLVTUIu",
        "outputId": "dc22599f-8c18-4184-e2d9-513c8dc3cf70"
      },
      "source": [
        "df_shops.drop(['shop_name'], axis=1, inplace=True)\n",
        "# df_shops.astype('int')\n",
        "df_shops.head()"
      ],
      "execution_count": 13,
      "outputs": [
        {
          "output_type": "execute_result",
          "data": {
            "text/html": [
              "<div>\n",
              "<style scoped>\n",
              "    .dataframe tbody tr th:only-of-type {\n",
              "        vertical-align: middle;\n",
              "    }\n",
              "\n",
              "    .dataframe tbody tr th {\n",
              "        vertical-align: top;\n",
              "    }\n",
              "\n",
              "    .dataframe thead th {\n",
              "        text-align: right;\n",
              "    }\n",
              "</style>\n",
              "<table border=\"1\" class=\"dataframe\">\n",
              "  <thead>\n",
              "    <tr style=\"text-align: right;\">\n",
              "      <th></th>\n",
              "      <th>shop_id</th>\n",
              "      <th>city_enc</th>\n",
              "      <th>shop_type_enc</th>\n",
              "    </tr>\n",
              "  </thead>\n",
              "  <tbody>\n",
              "    <tr>\n",
              "      <th>0</th>\n",
              "      <td>0</td>\n",
              "      <td>29</td>\n",
              "      <td>4</td>\n",
              "    </tr>\n",
              "    <tr>\n",
              "      <th>1</th>\n",
              "      <td>1</td>\n",
              "      <td>29</td>\n",
              "      <td>4</td>\n",
              "    </tr>\n",
              "    <tr>\n",
              "      <th>2</th>\n",
              "      <td>2</td>\n",
              "      <td>0</td>\n",
              "      <td>4</td>\n",
              "    </tr>\n",
              "    <tr>\n",
              "      <th>3</th>\n",
              "      <td>3</td>\n",
              "      <td>1</td>\n",
              "      <td>2</td>\n",
              "    </tr>\n",
              "    <tr>\n",
              "      <th>4</th>\n",
              "      <td>4</td>\n",
              "      <td>2</td>\n",
              "      <td>4</td>\n",
              "    </tr>\n",
              "  </tbody>\n",
              "</table>\n",
              "</div>"
            ],
            "text/plain": [
              "   shop_id  city_enc  shop_type_enc\n",
              "0        0        29              4\n",
              "1        1        29              4\n",
              "2        2         0              4\n",
              "3        3         1              2\n",
              "4        4         2              4"
            ]
          },
          "metadata": {},
          "execution_count": 13
        }
      ]
    },
    {
      "cell_type": "code",
      "metadata": {
        "colab": {
          "base_uri": "https://localhost:8080/",
          "height": 206
        },
        "id": "5rvoMVjYkc3Y",
        "outputId": "2e031f62-60f5-489a-c885-4c9d038f4f44"
      },
      "source": [
        "df_cat = pd.read_csv(dest + 'items.csv')\n",
        "df_cat.head()"
      ],
      "execution_count": 14,
      "outputs": [
        {
          "output_type": "execute_result",
          "data": {
            "text/html": [
              "<div>\n",
              "<style scoped>\n",
              "    .dataframe tbody tr th:only-of-type {\n",
              "        vertical-align: middle;\n",
              "    }\n",
              "\n",
              "    .dataframe tbody tr th {\n",
              "        vertical-align: top;\n",
              "    }\n",
              "\n",
              "    .dataframe thead th {\n",
              "        text-align: right;\n",
              "    }\n",
              "</style>\n",
              "<table border=\"1\" class=\"dataframe\">\n",
              "  <thead>\n",
              "    <tr style=\"text-align: right;\">\n",
              "      <th></th>\n",
              "      <th>item_name</th>\n",
              "      <th>item_id</th>\n",
              "      <th>item_category_id</th>\n",
              "    </tr>\n",
              "  </thead>\n",
              "  <tbody>\n",
              "    <tr>\n",
              "      <th>0</th>\n",
              "      <td>! ВО ВЛАСТИ НАВАЖДЕНИЯ (ПЛАСТ.)         D</td>\n",
              "      <td>0</td>\n",
              "      <td>40</td>\n",
              "    </tr>\n",
              "    <tr>\n",
              "      <th>1</th>\n",
              "      <td>!ABBYY FineReader 12 Professional Edition Full...</td>\n",
              "      <td>1</td>\n",
              "      <td>76</td>\n",
              "    </tr>\n",
              "    <tr>\n",
              "      <th>2</th>\n",
              "      <td>***В ЛУЧАХ СЛАВЫ   (UNV)                    D</td>\n",
              "      <td>2</td>\n",
              "      <td>40</td>\n",
              "    </tr>\n",
              "    <tr>\n",
              "      <th>3</th>\n",
              "      <td>***ГОЛУБАЯ ВОЛНА  (Univ)                      D</td>\n",
              "      <td>3</td>\n",
              "      <td>40</td>\n",
              "    </tr>\n",
              "    <tr>\n",
              "      <th>4</th>\n",
              "      <td>***КОРОБКА (СТЕКЛО)                       D</td>\n",
              "      <td>4</td>\n",
              "      <td>40</td>\n",
              "    </tr>\n",
              "  </tbody>\n",
              "</table>\n",
              "</div>"
            ],
            "text/plain": [
              "                                           item_name  item_id  item_category_id\n",
              "0          ! ВО ВЛАСТИ НАВАЖДЕНИЯ (ПЛАСТ.)         D        0                40\n",
              "1  !ABBYY FineReader 12 Professional Edition Full...        1                76\n",
              "2      ***В ЛУЧАХ СЛАВЫ   (UNV)                    D        2                40\n",
              "3    ***ГОЛУБАЯ ВОЛНА  (Univ)                      D        3                40\n",
              "4        ***КОРОБКА (СТЕКЛО)                       D        4                40"
            ]
          },
          "metadata": {},
          "execution_count": 14
        }
      ]
    },
    {
      "cell_type": "code",
      "metadata": {
        "colab": {
          "base_uri": "https://localhost:8080/",
          "height": 423
        },
        "id": "Shwrh-EBSJgd",
        "outputId": "b3570913-aebb-4293-852c-d6229e9e1e9f"
      },
      "source": [
        "df_categories = pd.read_csv(dest + 'item_categories.csv')\n",
        "df_categories.head(100)"
      ],
      "execution_count": 15,
      "outputs": [
        {
          "output_type": "execute_result",
          "data": {
            "text/html": [
              "<div>\n",
              "<style scoped>\n",
              "    .dataframe tbody tr th:only-of-type {\n",
              "        vertical-align: middle;\n",
              "    }\n",
              "\n",
              "    .dataframe tbody tr th {\n",
              "        vertical-align: top;\n",
              "    }\n",
              "\n",
              "    .dataframe thead th {\n",
              "        text-align: right;\n",
              "    }\n",
              "</style>\n",
              "<table border=\"1\" class=\"dataframe\">\n",
              "  <thead>\n",
              "    <tr style=\"text-align: right;\">\n",
              "      <th></th>\n",
              "      <th>item_category_name</th>\n",
              "      <th>item_category_id</th>\n",
              "    </tr>\n",
              "  </thead>\n",
              "  <tbody>\n",
              "    <tr>\n",
              "      <th>0</th>\n",
              "      <td>PC - Гарнитуры/Наушники</td>\n",
              "      <td>0</td>\n",
              "    </tr>\n",
              "    <tr>\n",
              "      <th>1</th>\n",
              "      <td>Аксессуары - PS2</td>\n",
              "      <td>1</td>\n",
              "    </tr>\n",
              "    <tr>\n",
              "      <th>2</th>\n",
              "      <td>Аксессуары - PS3</td>\n",
              "      <td>2</td>\n",
              "    </tr>\n",
              "    <tr>\n",
              "      <th>3</th>\n",
              "      <td>Аксессуары - PS4</td>\n",
              "      <td>3</td>\n",
              "    </tr>\n",
              "    <tr>\n",
              "      <th>4</th>\n",
              "      <td>Аксессуары - PSP</td>\n",
              "      <td>4</td>\n",
              "    </tr>\n",
              "    <tr>\n",
              "      <th>...</th>\n",
              "      <td>...</td>\n",
              "      <td>...</td>\n",
              "    </tr>\n",
              "    <tr>\n",
              "      <th>79</th>\n",
              "      <td>Служебные</td>\n",
              "      <td>79</td>\n",
              "    </tr>\n",
              "    <tr>\n",
              "      <th>80</th>\n",
              "      <td>Служебные - Билеты</td>\n",
              "      <td>80</td>\n",
              "    </tr>\n",
              "    <tr>\n",
              "      <th>81</th>\n",
              "      <td>Чистые носители (шпиль)</td>\n",
              "      <td>81</td>\n",
              "    </tr>\n",
              "    <tr>\n",
              "      <th>82</th>\n",
              "      <td>Чистые носители (штучные)</td>\n",
              "      <td>82</td>\n",
              "    </tr>\n",
              "    <tr>\n",
              "      <th>83</th>\n",
              "      <td>Элементы питания</td>\n",
              "      <td>83</td>\n",
              "    </tr>\n",
              "  </tbody>\n",
              "</table>\n",
              "<p>84 rows × 2 columns</p>\n",
              "</div>"
            ],
            "text/plain": [
              "           item_category_name  item_category_id\n",
              "0     PC - Гарнитуры/Наушники                 0\n",
              "1            Аксессуары - PS2                 1\n",
              "2            Аксессуары - PS3                 2\n",
              "3            Аксессуары - PS4                 3\n",
              "4            Аксессуары - PSP                 4\n",
              "..                        ...               ...\n",
              "79                  Служебные                79\n",
              "80         Служебные - Билеты                80\n",
              "81    Чистые носители (шпиль)                81\n",
              "82  Чистые носители (штучные)                82\n",
              "83           Элементы питания                83\n",
              "\n",
              "[84 rows x 2 columns]"
            ]
          },
          "metadata": {},
          "execution_count": 15
        }
      ]
    },
    {
      "cell_type": "code",
      "metadata": {
        "id": "qsW83vp1lqW4"
      },
      "source": [
        "df_categories['item_area'] = [split[0].split()[0] for split in df_categories.item_category_name.str.split('-')]\n",
        "df_categories['area_to'] = [split[-1].strip() for split in df_categories.item_category_name.str.split('-')]"
      ],
      "execution_count": 16,
      "outputs": []
    },
    {
      "cell_type": "code",
      "metadata": {
        "colab": {
          "base_uri": "https://localhost:8080/",
          "height": 206
        },
        "id": "tr8BPrFOmK-o",
        "outputId": "04658009-3652-4349-be14-5d4a9333ace0"
      },
      "source": [
        "df_categories.head()"
      ],
      "execution_count": 17,
      "outputs": [
        {
          "output_type": "execute_result",
          "data": {
            "text/html": [
              "<div>\n",
              "<style scoped>\n",
              "    .dataframe tbody tr th:only-of-type {\n",
              "        vertical-align: middle;\n",
              "    }\n",
              "\n",
              "    .dataframe tbody tr th {\n",
              "        vertical-align: top;\n",
              "    }\n",
              "\n",
              "    .dataframe thead th {\n",
              "        text-align: right;\n",
              "    }\n",
              "</style>\n",
              "<table border=\"1\" class=\"dataframe\">\n",
              "  <thead>\n",
              "    <tr style=\"text-align: right;\">\n",
              "      <th></th>\n",
              "      <th>item_category_name</th>\n",
              "      <th>item_category_id</th>\n",
              "      <th>item_area</th>\n",
              "      <th>area_to</th>\n",
              "    </tr>\n",
              "  </thead>\n",
              "  <tbody>\n",
              "    <tr>\n",
              "      <th>0</th>\n",
              "      <td>PC - Гарнитуры/Наушники</td>\n",
              "      <td>0</td>\n",
              "      <td>PC</td>\n",
              "      <td>Гарнитуры/Наушники</td>\n",
              "    </tr>\n",
              "    <tr>\n",
              "      <th>1</th>\n",
              "      <td>Аксессуары - PS2</td>\n",
              "      <td>1</td>\n",
              "      <td>Аксессуары</td>\n",
              "      <td>PS2</td>\n",
              "    </tr>\n",
              "    <tr>\n",
              "      <th>2</th>\n",
              "      <td>Аксессуары - PS3</td>\n",
              "      <td>2</td>\n",
              "      <td>Аксессуары</td>\n",
              "      <td>PS3</td>\n",
              "    </tr>\n",
              "    <tr>\n",
              "      <th>3</th>\n",
              "      <td>Аксессуары - PS4</td>\n",
              "      <td>3</td>\n",
              "      <td>Аксессуары</td>\n",
              "      <td>PS4</td>\n",
              "    </tr>\n",
              "    <tr>\n",
              "      <th>4</th>\n",
              "      <td>Аксессуары - PSP</td>\n",
              "      <td>4</td>\n",
              "      <td>Аксессуары</td>\n",
              "      <td>PSP</td>\n",
              "    </tr>\n",
              "  </tbody>\n",
              "</table>\n",
              "</div>"
            ],
            "text/plain": [
              "        item_category_name  item_category_id   item_area             area_to\n",
              "0  PC - Гарнитуры/Наушники                 0          PC  Гарнитуры/Наушники\n",
              "1         Аксессуары - PS2                 1  Аксессуары                 PS2\n",
              "2         Аксессуары - PS3                 2  Аксессуары                 PS3\n",
              "3         Аксессуары - PS4                 3  Аксессуары                 PS4\n",
              "4         Аксессуары - PSP                 4  Аксессуары                 PSP"
            ]
          },
          "metadata": {},
          "execution_count": 17
        }
      ]
    },
    {
      "cell_type": "code",
      "metadata": {
        "colab": {
          "base_uri": "https://localhost:8080/"
        },
        "id": "X2o4sjYpmSLr",
        "outputId": "bcd63544-08cc-418c-bf06-e29b4b3e6be7"
      },
      "source": [
        "df_categories.item_area.unique()"
      ],
      "execution_count": 18,
      "outputs": [
        {
          "output_type": "execute_result",
          "data": {
            "text/plain": [
              "array(['PC', 'Аксессуары', 'Билеты', 'Доставка', 'Игровые', 'Игры',\n",
              "       'Карты', 'Кино', 'Книги', 'Музыка', 'Подарки', 'Программы',\n",
              "       'Служебные', 'Чистые', 'Элементы'], dtype=object)"
            ]
          },
          "metadata": {},
          "execution_count": 18
        }
      ]
    },
    {
      "cell_type": "code",
      "metadata": {
        "colab": {
          "base_uri": "https://localhost:8080/"
        },
        "id": "By4Nf8EJmdJe",
        "outputId": "b42d4685-6a32-42e6-c14f-187afe9793b2"
      },
      "source": [
        "df_categories.area_to.unique()"
      ],
      "execution_count": 19,
      "outputs": [
        {
          "output_type": "execute_result",
          "data": {
            "text/plain": [
              "array(['Гарнитуры/Наушники', 'PS2', 'PS3', 'PS4', 'PSP', 'PSVita',\n",
              "       'XBOX 360', 'XBOX ONE', 'Билеты (Цифра)', 'Доставка товара',\n",
              "       'Прочие', 'Аксессуары для игр', 'Цифра', 'Дополнительные издания',\n",
              "       'Коллекционные издания', 'Стандартные издания',\n",
              "       'Карты оплаты (Кино, Музыка, Игры)', 'Live!', 'Live! (Цифра)',\n",
              "       'PSN', 'Windows (Цифра)', 'Ray', 'Ray 3D', 'Ray 4K', 'DVD',\n",
              "       'Коллекционное', 'Артбуки, энциклопедии', 'Аудиокниги',\n",
              "       'Аудиокниги (Цифра)', 'Аудиокниги 1С', 'Бизнес литература',\n",
              "       'Комиксы, манга', 'Компьютерная литература',\n",
              "       'Методические материалы 1С', 'Открытки',\n",
              "       'Познавательная литература', 'Путеводители',\n",
              "       'Художественная литература', 'CD локального производства',\n",
              "       'CD фирменного производства', 'MP3', 'Винил', 'Музыкальное видео',\n",
              "       'Подарочные издания', 'Атрибутика', 'Гаджеты, роботы, спорт',\n",
              "       'Мягкие игрушки', 'Настольные игры',\n",
              "       'Настольные игры (компактные)', 'Открытки, наклейки', 'Развитие',\n",
              "       'Сертификаты, услуги', 'Сувениры', 'Сувениры (в навеску)',\n",
              "       'Сумки, Альбомы, Коврики д/мыши', 'Фигурки', '1С:Предприятие 8',\n",
              "       'MAC (Цифра)', 'Для дома и офиса', 'Для дома и офиса (Цифра)',\n",
              "       'Обучающие', 'Обучающие (Цифра)', 'Служебные', 'Билеты',\n",
              "       'Чистые носители (шпиль)', 'Чистые носители (штучные)',\n",
              "       'Элементы питания'], dtype=object)"
            ]
          },
          "metadata": {},
          "execution_count": 19
        }
      ]
    },
    {
      "cell_type": "code",
      "metadata": {
        "colab": {
          "base_uri": "https://localhost:8080/",
          "height": 1000
        },
        "id": "732YsXp8w0Fg",
        "outputId": "4bd1d0b1-a35b-4969-dcbf-5acd486fe0d7"
      },
      "source": [
        "df_categories['digital'] = 0\n",
        "df_categories.loc[df_categories['area_to'].str.contains('(Цифра)'), 'digital'] = 1\n",
        "df_categories.tail(40)"
      ],
      "execution_count": 20,
      "outputs": [
        {
          "output_type": "stream",
          "name": "stderr",
          "text": [
            "/usr/local/lib/python3.7/dist-packages/pandas/core/strings.py:2001: UserWarning: This pattern has match groups. To actually get the groups, use str.extract.\n",
            "  return func(self, *args, **kwargs)\n"
          ]
        },
        {
          "output_type": "execute_result",
          "data": {
            "text/html": [
              "<div>\n",
              "<style scoped>\n",
              "    .dataframe tbody tr th:only-of-type {\n",
              "        vertical-align: middle;\n",
              "    }\n",
              "\n",
              "    .dataframe tbody tr th {\n",
              "        vertical-align: top;\n",
              "    }\n",
              "\n",
              "    .dataframe thead th {\n",
              "        text-align: right;\n",
              "    }\n",
              "</style>\n",
              "<table border=\"1\" class=\"dataframe\">\n",
              "  <thead>\n",
              "    <tr style=\"text-align: right;\">\n",
              "      <th></th>\n",
              "      <th>item_category_name</th>\n",
              "      <th>item_category_id</th>\n",
              "      <th>item_area</th>\n",
              "      <th>area_to</th>\n",
              "      <th>digital</th>\n",
              "    </tr>\n",
              "  </thead>\n",
              "  <tbody>\n",
              "    <tr>\n",
              "      <th>44</th>\n",
              "      <td>Книги - Аудиокниги (Цифра)</td>\n",
              "      <td>44</td>\n",
              "      <td>Книги</td>\n",
              "      <td>Аудиокниги (Цифра)</td>\n",
              "      <td>1</td>\n",
              "    </tr>\n",
              "    <tr>\n",
              "      <th>45</th>\n",
              "      <td>Книги - Аудиокниги 1С</td>\n",
              "      <td>45</td>\n",
              "      <td>Книги</td>\n",
              "      <td>Аудиокниги 1С</td>\n",
              "      <td>0</td>\n",
              "    </tr>\n",
              "    <tr>\n",
              "      <th>46</th>\n",
              "      <td>Книги - Бизнес литература</td>\n",
              "      <td>46</td>\n",
              "      <td>Книги</td>\n",
              "      <td>Бизнес литература</td>\n",
              "      <td>0</td>\n",
              "    </tr>\n",
              "    <tr>\n",
              "      <th>47</th>\n",
              "      <td>Книги - Комиксы, манга</td>\n",
              "      <td>47</td>\n",
              "      <td>Книги</td>\n",
              "      <td>Комиксы, манга</td>\n",
              "      <td>0</td>\n",
              "    </tr>\n",
              "    <tr>\n",
              "      <th>48</th>\n",
              "      <td>Книги - Компьютерная литература</td>\n",
              "      <td>48</td>\n",
              "      <td>Книги</td>\n",
              "      <td>Компьютерная литература</td>\n",
              "      <td>0</td>\n",
              "    </tr>\n",
              "    <tr>\n",
              "      <th>49</th>\n",
              "      <td>Книги - Методические материалы 1С</td>\n",
              "      <td>49</td>\n",
              "      <td>Книги</td>\n",
              "      <td>Методические материалы 1С</td>\n",
              "      <td>0</td>\n",
              "    </tr>\n",
              "    <tr>\n",
              "      <th>50</th>\n",
              "      <td>Книги - Открытки</td>\n",
              "      <td>50</td>\n",
              "      <td>Книги</td>\n",
              "      <td>Открытки</td>\n",
              "      <td>0</td>\n",
              "    </tr>\n",
              "    <tr>\n",
              "      <th>51</th>\n",
              "      <td>Книги - Познавательная литература</td>\n",
              "      <td>51</td>\n",
              "      <td>Книги</td>\n",
              "      <td>Познавательная литература</td>\n",
              "      <td>0</td>\n",
              "    </tr>\n",
              "    <tr>\n",
              "      <th>52</th>\n",
              "      <td>Книги - Путеводители</td>\n",
              "      <td>52</td>\n",
              "      <td>Книги</td>\n",
              "      <td>Путеводители</td>\n",
              "      <td>0</td>\n",
              "    </tr>\n",
              "    <tr>\n",
              "      <th>53</th>\n",
              "      <td>Книги - Художественная литература</td>\n",
              "      <td>53</td>\n",
              "      <td>Книги</td>\n",
              "      <td>Художественная литература</td>\n",
              "      <td>0</td>\n",
              "    </tr>\n",
              "    <tr>\n",
              "      <th>54</th>\n",
              "      <td>Книги - Цифра</td>\n",
              "      <td>54</td>\n",
              "      <td>Книги</td>\n",
              "      <td>Цифра</td>\n",
              "      <td>1</td>\n",
              "    </tr>\n",
              "    <tr>\n",
              "      <th>55</th>\n",
              "      <td>Музыка - CD локального производства</td>\n",
              "      <td>55</td>\n",
              "      <td>Музыка</td>\n",
              "      <td>CD локального производства</td>\n",
              "      <td>0</td>\n",
              "    </tr>\n",
              "    <tr>\n",
              "      <th>56</th>\n",
              "      <td>Музыка - CD фирменного производства</td>\n",
              "      <td>56</td>\n",
              "      <td>Музыка</td>\n",
              "      <td>CD фирменного производства</td>\n",
              "      <td>0</td>\n",
              "    </tr>\n",
              "    <tr>\n",
              "      <th>57</th>\n",
              "      <td>Музыка - MP3</td>\n",
              "      <td>57</td>\n",
              "      <td>Музыка</td>\n",
              "      <td>MP3</td>\n",
              "      <td>0</td>\n",
              "    </tr>\n",
              "    <tr>\n",
              "      <th>58</th>\n",
              "      <td>Музыка - Винил</td>\n",
              "      <td>58</td>\n",
              "      <td>Музыка</td>\n",
              "      <td>Винил</td>\n",
              "      <td>0</td>\n",
              "    </tr>\n",
              "    <tr>\n",
              "      <th>59</th>\n",
              "      <td>Музыка - Музыкальное видео</td>\n",
              "      <td>59</td>\n",
              "      <td>Музыка</td>\n",
              "      <td>Музыкальное видео</td>\n",
              "      <td>0</td>\n",
              "    </tr>\n",
              "    <tr>\n",
              "      <th>60</th>\n",
              "      <td>Музыка - Подарочные издания</td>\n",
              "      <td>60</td>\n",
              "      <td>Музыка</td>\n",
              "      <td>Подарочные издания</td>\n",
              "      <td>0</td>\n",
              "    </tr>\n",
              "    <tr>\n",
              "      <th>61</th>\n",
              "      <td>Подарки - Атрибутика</td>\n",
              "      <td>61</td>\n",
              "      <td>Подарки</td>\n",
              "      <td>Атрибутика</td>\n",
              "      <td>0</td>\n",
              "    </tr>\n",
              "    <tr>\n",
              "      <th>62</th>\n",
              "      <td>Подарки - Гаджеты, роботы, спорт</td>\n",
              "      <td>62</td>\n",
              "      <td>Подарки</td>\n",
              "      <td>Гаджеты, роботы, спорт</td>\n",
              "      <td>0</td>\n",
              "    </tr>\n",
              "    <tr>\n",
              "      <th>63</th>\n",
              "      <td>Подарки - Мягкие игрушки</td>\n",
              "      <td>63</td>\n",
              "      <td>Подарки</td>\n",
              "      <td>Мягкие игрушки</td>\n",
              "      <td>0</td>\n",
              "    </tr>\n",
              "    <tr>\n",
              "      <th>64</th>\n",
              "      <td>Подарки - Настольные игры</td>\n",
              "      <td>64</td>\n",
              "      <td>Подарки</td>\n",
              "      <td>Настольные игры</td>\n",
              "      <td>0</td>\n",
              "    </tr>\n",
              "    <tr>\n",
              "      <th>65</th>\n",
              "      <td>Подарки - Настольные игры (компактные)</td>\n",
              "      <td>65</td>\n",
              "      <td>Подарки</td>\n",
              "      <td>Настольные игры (компактные)</td>\n",
              "      <td>0</td>\n",
              "    </tr>\n",
              "    <tr>\n",
              "      <th>66</th>\n",
              "      <td>Подарки - Открытки, наклейки</td>\n",
              "      <td>66</td>\n",
              "      <td>Подарки</td>\n",
              "      <td>Открытки, наклейки</td>\n",
              "      <td>0</td>\n",
              "    </tr>\n",
              "    <tr>\n",
              "      <th>67</th>\n",
              "      <td>Подарки - Развитие</td>\n",
              "      <td>67</td>\n",
              "      <td>Подарки</td>\n",
              "      <td>Развитие</td>\n",
              "      <td>0</td>\n",
              "    </tr>\n",
              "    <tr>\n",
              "      <th>68</th>\n",
              "      <td>Подарки - Сертификаты, услуги</td>\n",
              "      <td>68</td>\n",
              "      <td>Подарки</td>\n",
              "      <td>Сертификаты, услуги</td>\n",
              "      <td>0</td>\n",
              "    </tr>\n",
              "    <tr>\n",
              "      <th>69</th>\n",
              "      <td>Подарки - Сувениры</td>\n",
              "      <td>69</td>\n",
              "      <td>Подарки</td>\n",
              "      <td>Сувениры</td>\n",
              "      <td>0</td>\n",
              "    </tr>\n",
              "    <tr>\n",
              "      <th>70</th>\n",
              "      <td>Подарки - Сувениры (в навеску)</td>\n",
              "      <td>70</td>\n",
              "      <td>Подарки</td>\n",
              "      <td>Сувениры (в навеску)</td>\n",
              "      <td>0</td>\n",
              "    </tr>\n",
              "    <tr>\n",
              "      <th>71</th>\n",
              "      <td>Подарки - Сумки, Альбомы, Коврики д/мыши</td>\n",
              "      <td>71</td>\n",
              "      <td>Подарки</td>\n",
              "      <td>Сумки, Альбомы, Коврики д/мыши</td>\n",
              "      <td>0</td>\n",
              "    </tr>\n",
              "    <tr>\n",
              "      <th>72</th>\n",
              "      <td>Подарки - Фигурки</td>\n",
              "      <td>72</td>\n",
              "      <td>Подарки</td>\n",
              "      <td>Фигурки</td>\n",
              "      <td>0</td>\n",
              "    </tr>\n",
              "    <tr>\n",
              "      <th>73</th>\n",
              "      <td>Программы - 1С:Предприятие 8</td>\n",
              "      <td>73</td>\n",
              "      <td>Программы</td>\n",
              "      <td>1С:Предприятие 8</td>\n",
              "      <td>0</td>\n",
              "    </tr>\n",
              "    <tr>\n",
              "      <th>74</th>\n",
              "      <td>Программы - MAC (Цифра)</td>\n",
              "      <td>74</td>\n",
              "      <td>Программы</td>\n",
              "      <td>MAC (Цифра)</td>\n",
              "      <td>1</td>\n",
              "    </tr>\n",
              "    <tr>\n",
              "      <th>75</th>\n",
              "      <td>Программы - Для дома и офиса</td>\n",
              "      <td>75</td>\n",
              "      <td>Программы</td>\n",
              "      <td>Для дома и офиса</td>\n",
              "      <td>0</td>\n",
              "    </tr>\n",
              "    <tr>\n",
              "      <th>76</th>\n",
              "      <td>Программы - Для дома и офиса (Цифра)</td>\n",
              "      <td>76</td>\n",
              "      <td>Программы</td>\n",
              "      <td>Для дома и офиса (Цифра)</td>\n",
              "      <td>1</td>\n",
              "    </tr>\n",
              "    <tr>\n",
              "      <th>77</th>\n",
              "      <td>Программы - Обучающие</td>\n",
              "      <td>77</td>\n",
              "      <td>Программы</td>\n",
              "      <td>Обучающие</td>\n",
              "      <td>0</td>\n",
              "    </tr>\n",
              "    <tr>\n",
              "      <th>78</th>\n",
              "      <td>Программы - Обучающие (Цифра)</td>\n",
              "      <td>78</td>\n",
              "      <td>Программы</td>\n",
              "      <td>Обучающие (Цифра)</td>\n",
              "      <td>1</td>\n",
              "    </tr>\n",
              "    <tr>\n",
              "      <th>79</th>\n",
              "      <td>Служебные</td>\n",
              "      <td>79</td>\n",
              "      <td>Служебные</td>\n",
              "      <td>Служебные</td>\n",
              "      <td>0</td>\n",
              "    </tr>\n",
              "    <tr>\n",
              "      <th>80</th>\n",
              "      <td>Служебные - Билеты</td>\n",
              "      <td>80</td>\n",
              "      <td>Служебные</td>\n",
              "      <td>Билеты</td>\n",
              "      <td>0</td>\n",
              "    </tr>\n",
              "    <tr>\n",
              "      <th>81</th>\n",
              "      <td>Чистые носители (шпиль)</td>\n",
              "      <td>81</td>\n",
              "      <td>Чистые</td>\n",
              "      <td>Чистые носители (шпиль)</td>\n",
              "      <td>0</td>\n",
              "    </tr>\n",
              "    <tr>\n",
              "      <th>82</th>\n",
              "      <td>Чистые носители (штучные)</td>\n",
              "      <td>82</td>\n",
              "      <td>Чистые</td>\n",
              "      <td>Чистые носители (штучные)</td>\n",
              "      <td>0</td>\n",
              "    </tr>\n",
              "    <tr>\n",
              "      <th>83</th>\n",
              "      <td>Элементы питания</td>\n",
              "      <td>83</td>\n",
              "      <td>Элементы</td>\n",
              "      <td>Элементы питания</td>\n",
              "      <td>0</td>\n",
              "    </tr>\n",
              "  </tbody>\n",
              "</table>\n",
              "</div>"
            ],
            "text/plain": [
              "                          item_category_name  ...  digital\n",
              "44                Книги - Аудиокниги (Цифра)  ...        1\n",
              "45                     Книги - Аудиокниги 1С  ...        0\n",
              "46                 Книги - Бизнес литература  ...        0\n",
              "47                    Книги - Комиксы, манга  ...        0\n",
              "48           Книги - Компьютерная литература  ...        0\n",
              "49         Книги - Методические материалы 1С  ...        0\n",
              "50                          Книги - Открытки  ...        0\n",
              "51         Книги - Познавательная литература  ...        0\n",
              "52                      Книги - Путеводители  ...        0\n",
              "53         Книги - Художественная литература  ...        0\n",
              "54                             Книги - Цифра  ...        1\n",
              "55       Музыка - CD локального производства  ...        0\n",
              "56       Музыка - CD фирменного производства  ...        0\n",
              "57                              Музыка - MP3  ...        0\n",
              "58                            Музыка - Винил  ...        0\n",
              "59                Музыка - Музыкальное видео  ...        0\n",
              "60               Музыка - Подарочные издания  ...        0\n",
              "61                      Подарки - Атрибутика  ...        0\n",
              "62          Подарки - Гаджеты, роботы, спорт  ...        0\n",
              "63                  Подарки - Мягкие игрушки  ...        0\n",
              "64                 Подарки - Настольные игры  ...        0\n",
              "65    Подарки - Настольные игры (компактные)  ...        0\n",
              "66              Подарки - Открытки, наклейки  ...        0\n",
              "67                        Подарки - Развитие  ...        0\n",
              "68             Подарки - Сертификаты, услуги  ...        0\n",
              "69                        Подарки - Сувениры  ...        0\n",
              "70            Подарки - Сувениры (в навеску)  ...        0\n",
              "71  Подарки - Сумки, Альбомы, Коврики д/мыши  ...        0\n",
              "72                         Подарки - Фигурки  ...        0\n",
              "73              Программы - 1С:Предприятие 8  ...        0\n",
              "74                   Программы - MAC (Цифра)  ...        1\n",
              "75              Программы - Для дома и офиса  ...        0\n",
              "76      Программы - Для дома и офиса (Цифра)  ...        1\n",
              "77                     Программы - Обучающие  ...        0\n",
              "78             Программы - Обучающие (Цифра)  ...        1\n",
              "79                                 Служебные  ...        0\n",
              "80                        Служебные - Билеты  ...        0\n",
              "81                   Чистые носители (шпиль)  ...        0\n",
              "82                 Чистые носители (штучные)  ...        0\n",
              "83                          Элементы питания  ...        0\n",
              "\n",
              "[40 rows x 5 columns]"
            ]
          },
          "metadata": {},
          "execution_count": 20
        }
      ]
    },
    {
      "cell_type": "code",
      "metadata": {
        "colab": {
          "base_uri": "https://localhost:8080/",
          "height": 711
        },
        "id": "dPVcVXjPvt0K",
        "outputId": "a06ab4ba-4fb1-48c5-add8-346e6c7d696d"
      },
      "source": [
        "df_categories.loc[df_categories['area_to'].str.contains('(Цифра)'), 'area_to'] = df_categories['area_to'].str.rstrip(' (Цифра)')\n",
        "df_categories.tail(20)"
      ],
      "execution_count": 21,
      "outputs": [
        {
          "output_type": "stream",
          "name": "stderr",
          "text": [
            "/usr/local/lib/python3.7/dist-packages/pandas/core/strings.py:2001: UserWarning: This pattern has match groups. To actually get the groups, use str.extract.\n",
            "  return func(self, *args, **kwargs)\n"
          ]
        },
        {
          "output_type": "execute_result",
          "data": {
            "text/html": [
              "<div>\n",
              "<style scoped>\n",
              "    .dataframe tbody tr th:only-of-type {\n",
              "        vertical-align: middle;\n",
              "    }\n",
              "\n",
              "    .dataframe tbody tr th {\n",
              "        vertical-align: top;\n",
              "    }\n",
              "\n",
              "    .dataframe thead th {\n",
              "        text-align: right;\n",
              "    }\n",
              "</style>\n",
              "<table border=\"1\" class=\"dataframe\">\n",
              "  <thead>\n",
              "    <tr style=\"text-align: right;\">\n",
              "      <th></th>\n",
              "      <th>item_category_name</th>\n",
              "      <th>item_category_id</th>\n",
              "      <th>item_area</th>\n",
              "      <th>area_to</th>\n",
              "      <th>digital</th>\n",
              "    </tr>\n",
              "  </thead>\n",
              "  <tbody>\n",
              "    <tr>\n",
              "      <th>64</th>\n",
              "      <td>Подарки - Настольные игры</td>\n",
              "      <td>64</td>\n",
              "      <td>Подарки</td>\n",
              "      <td>Настольные игры</td>\n",
              "      <td>0</td>\n",
              "    </tr>\n",
              "    <tr>\n",
              "      <th>65</th>\n",
              "      <td>Подарки - Настольные игры (компактные)</td>\n",
              "      <td>65</td>\n",
              "      <td>Подарки</td>\n",
              "      <td>Настольные игры (компактные)</td>\n",
              "      <td>0</td>\n",
              "    </tr>\n",
              "    <tr>\n",
              "      <th>66</th>\n",
              "      <td>Подарки - Открытки, наклейки</td>\n",
              "      <td>66</td>\n",
              "      <td>Подарки</td>\n",
              "      <td>Открытки, наклейки</td>\n",
              "      <td>0</td>\n",
              "    </tr>\n",
              "    <tr>\n",
              "      <th>67</th>\n",
              "      <td>Подарки - Развитие</td>\n",
              "      <td>67</td>\n",
              "      <td>Подарки</td>\n",
              "      <td>Развитие</td>\n",
              "      <td>0</td>\n",
              "    </tr>\n",
              "    <tr>\n",
              "      <th>68</th>\n",
              "      <td>Подарки - Сертификаты, услуги</td>\n",
              "      <td>68</td>\n",
              "      <td>Подарки</td>\n",
              "      <td>Сертификаты, услуги</td>\n",
              "      <td>0</td>\n",
              "    </tr>\n",
              "    <tr>\n",
              "      <th>69</th>\n",
              "      <td>Подарки - Сувениры</td>\n",
              "      <td>69</td>\n",
              "      <td>Подарки</td>\n",
              "      <td>Сувениры</td>\n",
              "      <td>0</td>\n",
              "    </tr>\n",
              "    <tr>\n",
              "      <th>70</th>\n",
              "      <td>Подарки - Сувениры (в навеску)</td>\n",
              "      <td>70</td>\n",
              "      <td>Подарки</td>\n",
              "      <td>Сувениры (в навеску)</td>\n",
              "      <td>0</td>\n",
              "    </tr>\n",
              "    <tr>\n",
              "      <th>71</th>\n",
              "      <td>Подарки - Сумки, Альбомы, Коврики д/мыши</td>\n",
              "      <td>71</td>\n",
              "      <td>Подарки</td>\n",
              "      <td>Сумки, Альбомы, Коврики д/мыши</td>\n",
              "      <td>0</td>\n",
              "    </tr>\n",
              "    <tr>\n",
              "      <th>72</th>\n",
              "      <td>Подарки - Фигурки</td>\n",
              "      <td>72</td>\n",
              "      <td>Подарки</td>\n",
              "      <td>Фигурки</td>\n",
              "      <td>0</td>\n",
              "    </tr>\n",
              "    <tr>\n",
              "      <th>73</th>\n",
              "      <td>Программы - 1С:Предприятие 8</td>\n",
              "      <td>73</td>\n",
              "      <td>Программы</td>\n",
              "      <td>1С:Предприятие 8</td>\n",
              "      <td>0</td>\n",
              "    </tr>\n",
              "    <tr>\n",
              "      <th>74</th>\n",
              "      <td>Программы - MAC (Цифра)</td>\n",
              "      <td>74</td>\n",
              "      <td>Программы</td>\n",
              "      <td>MAC</td>\n",
              "      <td>1</td>\n",
              "    </tr>\n",
              "    <tr>\n",
              "      <th>75</th>\n",
              "      <td>Программы - Для дома и офиса</td>\n",
              "      <td>75</td>\n",
              "      <td>Программы</td>\n",
              "      <td>Для дома и офиса</td>\n",
              "      <td>0</td>\n",
              "    </tr>\n",
              "    <tr>\n",
              "      <th>76</th>\n",
              "      <td>Программы - Для дома и офиса (Цифра)</td>\n",
              "      <td>76</td>\n",
              "      <td>Программы</td>\n",
              "      <td>Для дома и офис</td>\n",
              "      <td>1</td>\n",
              "    </tr>\n",
              "    <tr>\n",
              "      <th>77</th>\n",
              "      <td>Программы - Обучающие</td>\n",
              "      <td>77</td>\n",
              "      <td>Программы</td>\n",
              "      <td>Обучающие</td>\n",
              "      <td>0</td>\n",
              "    </tr>\n",
              "    <tr>\n",
              "      <th>78</th>\n",
              "      <td>Программы - Обучающие (Цифра)</td>\n",
              "      <td>78</td>\n",
              "      <td>Программы</td>\n",
              "      <td>Обучающие</td>\n",
              "      <td>1</td>\n",
              "    </tr>\n",
              "    <tr>\n",
              "      <th>79</th>\n",
              "      <td>Служебные</td>\n",
              "      <td>79</td>\n",
              "      <td>Служебные</td>\n",
              "      <td>Служебные</td>\n",
              "      <td>0</td>\n",
              "    </tr>\n",
              "    <tr>\n",
              "      <th>80</th>\n",
              "      <td>Служебные - Билеты</td>\n",
              "      <td>80</td>\n",
              "      <td>Служебные</td>\n",
              "      <td>Билеты</td>\n",
              "      <td>0</td>\n",
              "    </tr>\n",
              "    <tr>\n",
              "      <th>81</th>\n",
              "      <td>Чистые носители (шпиль)</td>\n",
              "      <td>81</td>\n",
              "      <td>Чистые</td>\n",
              "      <td>Чистые носители (шпиль)</td>\n",
              "      <td>0</td>\n",
              "    </tr>\n",
              "    <tr>\n",
              "      <th>82</th>\n",
              "      <td>Чистые носители (штучные)</td>\n",
              "      <td>82</td>\n",
              "      <td>Чистые</td>\n",
              "      <td>Чистые носители (штучные)</td>\n",
              "      <td>0</td>\n",
              "    </tr>\n",
              "    <tr>\n",
              "      <th>83</th>\n",
              "      <td>Элементы питания</td>\n",
              "      <td>83</td>\n",
              "      <td>Элементы</td>\n",
              "      <td>Элементы питания</td>\n",
              "      <td>0</td>\n",
              "    </tr>\n",
              "  </tbody>\n",
              "</table>\n",
              "</div>"
            ],
            "text/plain": [
              "                          item_category_name  ...  digital\n",
              "64                 Подарки - Настольные игры  ...        0\n",
              "65    Подарки - Настольные игры (компактные)  ...        0\n",
              "66              Подарки - Открытки, наклейки  ...        0\n",
              "67                        Подарки - Развитие  ...        0\n",
              "68             Подарки - Сертификаты, услуги  ...        0\n",
              "69                        Подарки - Сувениры  ...        0\n",
              "70            Подарки - Сувениры (в навеску)  ...        0\n",
              "71  Подарки - Сумки, Альбомы, Коврики д/мыши  ...        0\n",
              "72                         Подарки - Фигурки  ...        0\n",
              "73              Программы - 1С:Предприятие 8  ...        0\n",
              "74                   Программы - MAC (Цифра)  ...        1\n",
              "75              Программы - Для дома и офиса  ...        0\n",
              "76      Программы - Для дома и офиса (Цифра)  ...        1\n",
              "77                     Программы - Обучающие  ...        0\n",
              "78             Программы - Обучающие (Цифра)  ...        1\n",
              "79                                 Служебные  ...        0\n",
              "80                        Служебные - Билеты  ...        0\n",
              "81                   Чистые носители (шпиль)  ...        0\n",
              "82                 Чистые носители (штучные)  ...        0\n",
              "83                          Элементы питания  ...        0\n",
              "\n",
              "[20 rows x 5 columns]"
            ]
          },
          "metadata": {},
          "execution_count": 21
        }
      ]
    },
    {
      "cell_type": "code",
      "metadata": {
        "colab": {
          "base_uri": "https://localhost:8080/"
        },
        "id": "ugTlfDq9yFgS",
        "outputId": "85f54a01-0a25-4912-ad56-c09ff3f93d7b"
      },
      "source": [
        "df_categories.area_to.unique()"
      ],
      "execution_count": 22,
      "outputs": [
        {
          "output_type": "execute_result",
          "data": {
            "text/plain": [
              "array(['Гарнитуры/Наушники', 'PS2', 'PS3', 'PS4', 'PSP', 'PSVita',\n",
              "       'XBOX 360', 'XBOX ONE', 'Билеты', 'Доставка товара', 'Прочие',\n",
              "       'Аксессуары для игр', '', 'Дополнительные издания',\n",
              "       'Коллекционные издания', 'Стандартные издания',\n",
              "       'Карты оплаты (Кино, Музыка, Игры)', 'Live!', 'PSN', 'Windows',\n",
              "       'Ray', 'Ray 3D', 'Ray 4K', 'DVD', 'Коллекционное',\n",
              "       'Артбуки, энциклопедии', 'Аудиокниги', 'Аудиокниг',\n",
              "       'Аудиокниги 1С', 'Бизнес литература', 'Комиксы, манга',\n",
              "       'Компьютерная литература', 'Методические материалы 1С', 'Открытки',\n",
              "       'Познавательная литература', 'Путеводители',\n",
              "       'Художественная литература', 'CD локального производства',\n",
              "       'CD фирменного производства', 'MP3', 'Винил', 'Музыкальное видео',\n",
              "       'Подарочные издания', 'Атрибутика', 'Гаджеты, роботы, спорт',\n",
              "       'Мягкие игрушки', 'Настольные игры',\n",
              "       'Настольные игры (компактные)', 'Открытки, наклейки', 'Развитие',\n",
              "       'Сертификаты, услуги', 'Сувениры', 'Сувениры (в навеску)',\n",
              "       'Сумки, Альбомы, Коврики д/мыши', 'Фигурки', '1С:Предприятие 8',\n",
              "       'MAC', 'Для дома и офиса', 'Для дома и офис', 'Обучающие',\n",
              "       'Служебные', 'Чистые носители (шпиль)',\n",
              "       'Чистые носители (штучные)', 'Элементы питания'], dtype=object)"
            ]
          },
          "metadata": {},
          "execution_count": 22
        }
      ]
    },
    {
      "cell_type": "code",
      "metadata": {
        "colab": {
          "base_uri": "https://localhost:8080/"
        },
        "id": "ZVM7nFo5z3BA",
        "outputId": "334d6ffc-eee9-4f74-e820-d515b07c449b"
      },
      "source": [
        "len(df_categories.area_to.unique())"
      ],
      "execution_count": 23,
      "outputs": [
        {
          "output_type": "execute_result",
          "data": {
            "text/plain": [
              "64"
            ]
          },
          "metadata": {},
          "execution_count": 23
        }
      ]
    },
    {
      "cell_type": "code",
      "metadata": {
        "id": "D_mny3gyzN3X"
      },
      "source": [
        "mask1 = (df_categories.area_to == 'Аудиокниги') | \\\n",
        "        (df_categories.area_to == 'Аудиокниг') | \\\n",
        "        (df_categories.area_to == 'Аудиокниги 1С')\n",
        "\n",
        "df_categories.loc[mask1, 'area_to'] = 'Аудиокниги'\n",
        "\n",
        "mask2 = (df_categories.area_to == 'Открытки') | \\\n",
        "        (df_categories.area_to == 'Открытки, наклейки')\n",
        "\n",
        "df_categories.loc[mask2, 'area_to'] = 'Открытки'\n",
        "\n",
        "mask3 = (df_categories.area_to == 'Настольные игры') | \\\n",
        "        (df_categories.area_to == 'Настольные игры (компактные)')\n",
        "\n",
        "df_categories.loc[mask3, 'area_to'] = 'Настольные игры'\n",
        "\n",
        "mask4 = (df_categories.area_to == 'Сувениры') | \\\n",
        "        (df_categories.area_to == 'Сувениры (в навеску)')\n",
        "\n",
        "df_categories.loc[mask4, 'area_to'] = 'Сувениры'\n",
        "\n",
        "mask5 = (df_categories.area_to == 'Коллекционные издания') | \\\n",
        "        (df_categories.area_to == 'Коллекционное')\n",
        "\n",
        "df_categories.loc[mask5, 'area_to'] = 'Коллекционное'\n",
        "\n",
        "mask6 = (df_categories.area_to == 'Для дома и офиса') | \\\n",
        "        (df_categories.area_to == 'Для дома и офис')\n",
        "\n",
        "df_categories.loc[mask6, 'area_to'] = 'Для дома и офиса'\n",
        "\n",
        "mask7 = (df_categories.area_to == 'Для дома и офиса') & \\\n",
        "        (df_categories.area_to == 'Для дома и офис')\n",
        "\n",
        "df_categories.loc[mask6, 'area_to'] = 'Для дома и офиса'"
      ],
      "execution_count": 24,
      "outputs": []
    },
    {
      "cell_type": "code",
      "metadata": {
        "colab": {
          "base_uri": "https://localhost:8080/"
        },
        "id": "vu5cJ2LS15_f",
        "outputId": "449f9f5d-1898-4db1-dabb-5ea77e07a572"
      },
      "source": [
        "df_categories.area_to.unique()"
      ],
      "execution_count": 25,
      "outputs": [
        {
          "output_type": "execute_result",
          "data": {
            "text/plain": [
              "array(['Гарнитуры/Наушники', 'PS2', 'PS3', 'PS4', 'PSP', 'PSVita',\n",
              "       'XBOX 360', 'XBOX ONE', 'Билеты', 'Доставка товара', 'Прочие',\n",
              "       'Аксессуары для игр', '', 'Дополнительные издания',\n",
              "       'Коллекционное', 'Стандартные издания',\n",
              "       'Карты оплаты (Кино, Музыка, Игры)', 'Live!', 'PSN', 'Windows',\n",
              "       'Ray', 'Ray 3D', 'Ray 4K', 'DVD', 'Артбуки, энциклопедии',\n",
              "       'Аудиокниги', 'Бизнес литература', 'Комиксы, манга',\n",
              "       'Компьютерная литература', 'Методические материалы 1С', 'Открытки',\n",
              "       'Познавательная литература', 'Путеводители',\n",
              "       'Художественная литература', 'CD локального производства',\n",
              "       'CD фирменного производства', 'MP3', 'Винил', 'Музыкальное видео',\n",
              "       'Подарочные издания', 'Атрибутика', 'Гаджеты, роботы, спорт',\n",
              "       'Мягкие игрушки', 'Настольные игры', 'Развитие',\n",
              "       'Сертификаты, услуги', 'Сувениры',\n",
              "       'Сумки, Альбомы, Коврики д/мыши', 'Фигурки', '1С:Предприятие 8',\n",
              "       'MAC', 'Для дома и офиса', 'Обучающие', 'Служебные',\n",
              "       'Чистые носители (шпиль)', 'Чистые носители (штучные)',\n",
              "       'Элементы питания'], dtype=object)"
            ]
          },
          "metadata": {},
          "execution_count": 25
        }
      ]
    },
    {
      "cell_type": "code",
      "metadata": {
        "colab": {
          "base_uri": "https://localhost:8080/",
          "height": 206
        },
        "id": "6rxbHT0CkppK",
        "outputId": "c4401447-2242-4f7a-eb62-913c3552f8bf"
      },
      "source": [
        "df_cat = pd.merge(df_cat, df_categories,\n",
        "                  how='left', on='item_category_id')\n",
        "df_cat.head()"
      ],
      "execution_count": 26,
      "outputs": [
        {
          "output_type": "execute_result",
          "data": {
            "text/html": [
              "<div>\n",
              "<style scoped>\n",
              "    .dataframe tbody tr th:only-of-type {\n",
              "        vertical-align: middle;\n",
              "    }\n",
              "\n",
              "    .dataframe tbody tr th {\n",
              "        vertical-align: top;\n",
              "    }\n",
              "\n",
              "    .dataframe thead th {\n",
              "        text-align: right;\n",
              "    }\n",
              "</style>\n",
              "<table border=\"1\" class=\"dataframe\">\n",
              "  <thead>\n",
              "    <tr style=\"text-align: right;\">\n",
              "      <th></th>\n",
              "      <th>item_name</th>\n",
              "      <th>item_id</th>\n",
              "      <th>item_category_id</th>\n",
              "      <th>item_category_name</th>\n",
              "      <th>item_area</th>\n",
              "      <th>area_to</th>\n",
              "      <th>digital</th>\n",
              "    </tr>\n",
              "  </thead>\n",
              "  <tbody>\n",
              "    <tr>\n",
              "      <th>0</th>\n",
              "      <td>! ВО ВЛАСТИ НАВАЖДЕНИЯ (ПЛАСТ.)         D</td>\n",
              "      <td>0</td>\n",
              "      <td>40</td>\n",
              "      <td>Кино - DVD</td>\n",
              "      <td>Кино</td>\n",
              "      <td>DVD</td>\n",
              "      <td>0</td>\n",
              "    </tr>\n",
              "    <tr>\n",
              "      <th>1</th>\n",
              "      <td>!ABBYY FineReader 12 Professional Edition Full...</td>\n",
              "      <td>1</td>\n",
              "      <td>76</td>\n",
              "      <td>Программы - Для дома и офиса (Цифра)</td>\n",
              "      <td>Программы</td>\n",
              "      <td>Для дома и офиса</td>\n",
              "      <td>1</td>\n",
              "    </tr>\n",
              "    <tr>\n",
              "      <th>2</th>\n",
              "      <td>***В ЛУЧАХ СЛАВЫ   (UNV)                    D</td>\n",
              "      <td>2</td>\n",
              "      <td>40</td>\n",
              "      <td>Кино - DVD</td>\n",
              "      <td>Кино</td>\n",
              "      <td>DVD</td>\n",
              "      <td>0</td>\n",
              "    </tr>\n",
              "    <tr>\n",
              "      <th>3</th>\n",
              "      <td>***ГОЛУБАЯ ВОЛНА  (Univ)                      D</td>\n",
              "      <td>3</td>\n",
              "      <td>40</td>\n",
              "      <td>Кино - DVD</td>\n",
              "      <td>Кино</td>\n",
              "      <td>DVD</td>\n",
              "      <td>0</td>\n",
              "    </tr>\n",
              "    <tr>\n",
              "      <th>4</th>\n",
              "      <td>***КОРОБКА (СТЕКЛО)                       D</td>\n",
              "      <td>4</td>\n",
              "      <td>40</td>\n",
              "      <td>Кино - DVD</td>\n",
              "      <td>Кино</td>\n",
              "      <td>DVD</td>\n",
              "      <td>0</td>\n",
              "    </tr>\n",
              "  </tbody>\n",
              "</table>\n",
              "</div>"
            ],
            "text/plain": [
              "                                           item_name  ...  digital\n",
              "0          ! ВО ВЛАСТИ НАВАЖДЕНИЯ (ПЛАСТ.)         D  ...        0\n",
              "1  !ABBYY FineReader 12 Professional Edition Full...  ...        1\n",
              "2      ***В ЛУЧАХ СЛАВЫ   (UNV)                    D  ...        0\n",
              "3    ***ГОЛУБАЯ ВОЛНА  (Univ)                      D  ...        0\n",
              "4        ***КОРОБКА (СТЕКЛО)                       D  ...        0\n",
              "\n",
              "[5 rows x 7 columns]"
            ]
          },
          "metadata": {},
          "execution_count": 26
        }
      ]
    },
    {
      "cell_type": "code",
      "metadata": {
        "colab": {
          "base_uri": "https://localhost:8080/",
          "height": 206
        },
        "id": "YAwgXtPS2RqT",
        "outputId": "67ec6b9d-6449-43e5-b36f-1ac0e193c3c8"
      },
      "source": [
        "df_cat.drop(['item_name', 'item_category_name'], axis=1, inplace=True)\n",
        "df_cat.head()"
      ],
      "execution_count": 27,
      "outputs": [
        {
          "output_type": "execute_result",
          "data": {
            "text/html": [
              "<div>\n",
              "<style scoped>\n",
              "    .dataframe tbody tr th:only-of-type {\n",
              "        vertical-align: middle;\n",
              "    }\n",
              "\n",
              "    .dataframe tbody tr th {\n",
              "        vertical-align: top;\n",
              "    }\n",
              "\n",
              "    .dataframe thead th {\n",
              "        text-align: right;\n",
              "    }\n",
              "</style>\n",
              "<table border=\"1\" class=\"dataframe\">\n",
              "  <thead>\n",
              "    <tr style=\"text-align: right;\">\n",
              "      <th></th>\n",
              "      <th>item_id</th>\n",
              "      <th>item_category_id</th>\n",
              "      <th>item_area</th>\n",
              "      <th>area_to</th>\n",
              "      <th>digital</th>\n",
              "    </tr>\n",
              "  </thead>\n",
              "  <tbody>\n",
              "    <tr>\n",
              "      <th>0</th>\n",
              "      <td>0</td>\n",
              "      <td>40</td>\n",
              "      <td>Кино</td>\n",
              "      <td>DVD</td>\n",
              "      <td>0</td>\n",
              "    </tr>\n",
              "    <tr>\n",
              "      <th>1</th>\n",
              "      <td>1</td>\n",
              "      <td>76</td>\n",
              "      <td>Программы</td>\n",
              "      <td>Для дома и офиса</td>\n",
              "      <td>1</td>\n",
              "    </tr>\n",
              "    <tr>\n",
              "      <th>2</th>\n",
              "      <td>2</td>\n",
              "      <td>40</td>\n",
              "      <td>Кино</td>\n",
              "      <td>DVD</td>\n",
              "      <td>0</td>\n",
              "    </tr>\n",
              "    <tr>\n",
              "      <th>3</th>\n",
              "      <td>3</td>\n",
              "      <td>40</td>\n",
              "      <td>Кино</td>\n",
              "      <td>DVD</td>\n",
              "      <td>0</td>\n",
              "    </tr>\n",
              "    <tr>\n",
              "      <th>4</th>\n",
              "      <td>4</td>\n",
              "      <td>40</td>\n",
              "      <td>Кино</td>\n",
              "      <td>DVD</td>\n",
              "      <td>0</td>\n",
              "    </tr>\n",
              "  </tbody>\n",
              "</table>\n",
              "</div>"
            ],
            "text/plain": [
              "   item_id  item_category_id  item_area           area_to  digital\n",
              "0        0                40       Кино               DVD        0\n",
              "1        1                76  Программы  Для дома и офиса        1\n",
              "2        2                40       Кино               DVD        0\n",
              "3        3                40       Кино               DVD        0\n",
              "4        4                40       Кино               DVD        0"
            ]
          },
          "metadata": {},
          "execution_count": 27
        }
      ]
    },
    {
      "cell_type": "code",
      "metadata": {
        "colab": {
          "base_uri": "https://localhost:8080/",
          "height": 261
        },
        "id": "ryjYEVxb2u3j",
        "outputId": "d7597a6c-cbb2-4a6a-9ce9-48e4552e543d"
      },
      "source": [
        "from sklearn.preprocessing import LabelEncoder\n",
        "\n",
        "# For item_area\n",
        "encoder = LabelEncoder()\n",
        "\n",
        "# reshape the 1-D country array to 2-D as fit_transform expects 2-D and finally fit the object \n",
        "X = encoder.fit_transform(df_cat.item_area.values.reshape(-1,1))\n",
        "\n",
        "# add this back into the original dataframe \n",
        "encoded = pd.DataFrame(X, columns=[\"item_area_enc\"]) \n",
        "df_cat = pd.concat([df_cat, encoded], axis=1)\n",
        "\n",
        "# For area_to\n",
        "encoder = LabelEncoder()\n",
        "\n",
        "# reshape the 1-D country array to 2-D as fit_transform expects 2-D and finally fit the object \n",
        "X = encoder.fit_transform(df_cat.area_to.values.reshape(-1,1))\n",
        "\n",
        "# add this back into the original dataframe \n",
        "encoded = pd.DataFrame(X, columns=[\"area_to_enc\"]) \n",
        "df_cat = pd.concat([df_cat, encoded], axis=1)\n",
        "df_cat.head()"
      ],
      "execution_count": 28,
      "outputs": [
        {
          "output_type": "stream",
          "name": "stderr",
          "text": [
            "/usr/local/lib/python3.7/dist-packages/sklearn/preprocessing/_label.py:115: DataConversionWarning: A column-vector y was passed when a 1d array was expected. Please change the shape of y to (n_samples, ), for example using ravel().\n",
            "  y = column_or_1d(y, warn=True)\n"
          ]
        },
        {
          "output_type": "execute_result",
          "data": {
            "text/html": [
              "<div>\n",
              "<style scoped>\n",
              "    .dataframe tbody tr th:only-of-type {\n",
              "        vertical-align: middle;\n",
              "    }\n",
              "\n",
              "    .dataframe tbody tr th {\n",
              "        vertical-align: top;\n",
              "    }\n",
              "\n",
              "    .dataframe thead th {\n",
              "        text-align: right;\n",
              "    }\n",
              "</style>\n",
              "<table border=\"1\" class=\"dataframe\">\n",
              "  <thead>\n",
              "    <tr style=\"text-align: right;\">\n",
              "      <th></th>\n",
              "      <th>item_id</th>\n",
              "      <th>item_category_id</th>\n",
              "      <th>item_area</th>\n",
              "      <th>area_to</th>\n",
              "      <th>digital</th>\n",
              "      <th>item_area_enc</th>\n",
              "      <th>area_to_enc</th>\n",
              "    </tr>\n",
              "  </thead>\n",
              "  <tbody>\n",
              "    <tr>\n",
              "      <th>0</th>\n",
              "      <td>0</td>\n",
              "      <td>40</td>\n",
              "      <td>Кино</td>\n",
              "      <td>DVD</td>\n",
              "      <td>0</td>\n",
              "      <td>7</td>\n",
              "      <td>4</td>\n",
              "    </tr>\n",
              "    <tr>\n",
              "      <th>1</th>\n",
              "      <td>1</td>\n",
              "      <td>76</td>\n",
              "      <td>Программы</td>\n",
              "      <td>Для дома и офиса</td>\n",
              "      <td>1</td>\n",
              "      <td>11</td>\n",
              "      <td>29</td>\n",
              "    </tr>\n",
              "    <tr>\n",
              "      <th>2</th>\n",
              "      <td>2</td>\n",
              "      <td>40</td>\n",
              "      <td>Кино</td>\n",
              "      <td>DVD</td>\n",
              "      <td>0</td>\n",
              "      <td>7</td>\n",
              "      <td>4</td>\n",
              "    </tr>\n",
              "    <tr>\n",
              "      <th>3</th>\n",
              "      <td>3</td>\n",
              "      <td>40</td>\n",
              "      <td>Кино</td>\n",
              "      <td>DVD</td>\n",
              "      <td>0</td>\n",
              "      <td>7</td>\n",
              "      <td>4</td>\n",
              "    </tr>\n",
              "    <tr>\n",
              "      <th>4</th>\n",
              "      <td>4</td>\n",
              "      <td>40</td>\n",
              "      <td>Кино</td>\n",
              "      <td>DVD</td>\n",
              "      <td>0</td>\n",
              "      <td>7</td>\n",
              "      <td>4</td>\n",
              "    </tr>\n",
              "  </tbody>\n",
              "</table>\n",
              "</div>"
            ],
            "text/plain": [
              "   item_id  item_category_id  item_area  ... digital  item_area_enc  area_to_enc\n",
              "0        0                40       Кино  ...       0              7            4\n",
              "1        1                76  Программы  ...       1             11           29\n",
              "2        2                40       Кино  ...       0              7            4\n",
              "3        3                40       Кино  ...       0              7            4\n",
              "4        4                40       Кино  ...       0              7            4\n",
              "\n",
              "[5 rows x 7 columns]"
            ]
          },
          "metadata": {},
          "execution_count": 28
        }
      ]
    },
    {
      "cell_type": "code",
      "metadata": {
        "colab": {
          "base_uri": "https://localhost:8080/",
          "height": 206
        },
        "id": "qTcTonFO3Ep4",
        "outputId": "bbf156b6-50af-4f27-9676-ce3239d53407"
      },
      "source": [
        "df_cat.drop(['item_area', 'area_to'], axis=1, inplace=True)\n",
        "df_cat.head()"
      ],
      "execution_count": 29,
      "outputs": [
        {
          "output_type": "execute_result",
          "data": {
            "text/html": [
              "<div>\n",
              "<style scoped>\n",
              "    .dataframe tbody tr th:only-of-type {\n",
              "        vertical-align: middle;\n",
              "    }\n",
              "\n",
              "    .dataframe tbody tr th {\n",
              "        vertical-align: top;\n",
              "    }\n",
              "\n",
              "    .dataframe thead th {\n",
              "        text-align: right;\n",
              "    }\n",
              "</style>\n",
              "<table border=\"1\" class=\"dataframe\">\n",
              "  <thead>\n",
              "    <tr style=\"text-align: right;\">\n",
              "      <th></th>\n",
              "      <th>item_id</th>\n",
              "      <th>item_category_id</th>\n",
              "      <th>digital</th>\n",
              "      <th>item_area_enc</th>\n",
              "      <th>area_to_enc</th>\n",
              "    </tr>\n",
              "  </thead>\n",
              "  <tbody>\n",
              "    <tr>\n",
              "      <th>0</th>\n",
              "      <td>0</td>\n",
              "      <td>40</td>\n",
              "      <td>0</td>\n",
              "      <td>7</td>\n",
              "      <td>4</td>\n",
              "    </tr>\n",
              "    <tr>\n",
              "      <th>1</th>\n",
              "      <td>1</td>\n",
              "      <td>76</td>\n",
              "      <td>1</td>\n",
              "      <td>11</td>\n",
              "      <td>29</td>\n",
              "    </tr>\n",
              "    <tr>\n",
              "      <th>2</th>\n",
              "      <td>2</td>\n",
              "      <td>40</td>\n",
              "      <td>0</td>\n",
              "      <td>7</td>\n",
              "      <td>4</td>\n",
              "    </tr>\n",
              "    <tr>\n",
              "      <th>3</th>\n",
              "      <td>3</td>\n",
              "      <td>40</td>\n",
              "      <td>0</td>\n",
              "      <td>7</td>\n",
              "      <td>4</td>\n",
              "    </tr>\n",
              "    <tr>\n",
              "      <th>4</th>\n",
              "      <td>4</td>\n",
              "      <td>40</td>\n",
              "      <td>0</td>\n",
              "      <td>7</td>\n",
              "      <td>4</td>\n",
              "    </tr>\n",
              "  </tbody>\n",
              "</table>\n",
              "</div>"
            ],
            "text/plain": [
              "   item_id  item_category_id  digital  item_area_enc  area_to_enc\n",
              "0        0                40        0              7            4\n",
              "1        1                76        1             11           29\n",
              "2        2                40        0              7            4\n",
              "3        3                40        0              7            4\n",
              "4        4                40        0              7            4"
            ]
          },
          "metadata": {},
          "execution_count": 29
        }
      ]
    },
    {
      "cell_type": "markdown",
      "metadata": {
        "id": "dv7vf18SpY1m"
      },
      "source": [
        "## Analysis for train"
      ]
    },
    {
      "cell_type": "code",
      "metadata": {
        "colab": {
          "base_uri": "https://localhost:8080/"
        },
        "id": "imphqkN0E05v",
        "outputId": "da1e5520-b04f-45dd-a677-a2459e0c308a"
      },
      "source": [
        "df_train.info()"
      ],
      "execution_count": 30,
      "outputs": [
        {
          "output_type": "stream",
          "name": "stdout",
          "text": [
            "<class 'pandas.core.frame.DataFrame'>\n",
            "RangeIndex: 2935849 entries, 0 to 2935848\n",
            "Data columns (total 6 columns):\n",
            " #   Column          Dtype  \n",
            "---  ------          -----  \n",
            " 0   date            object \n",
            " 1   date_block_num  int64  \n",
            " 2   shop_id         int64  \n",
            " 3   item_id         int64  \n",
            " 4   item_price      float64\n",
            " 5   item_cnt_day    float64\n",
            "dtypes: float64(2), int64(3), object(1)\n",
            "memory usage: 134.4+ MB\n"
          ]
        }
      ]
    },
    {
      "cell_type": "code",
      "metadata": {
        "colab": {
          "base_uri": "https://localhost:8080/"
        },
        "id": "NByKgqiXE07v",
        "outputId": "77dae946-8328-4f1b-c224-686d423f0818"
      },
      "source": [
        "df_train['date'] =  pd.to_datetime(df_train['date'], format='%d.%m.%Y')\n",
        "df_train.info()"
      ],
      "execution_count": 31,
      "outputs": [
        {
          "output_type": "stream",
          "name": "stdout",
          "text": [
            "<class 'pandas.core.frame.DataFrame'>\n",
            "RangeIndex: 2935849 entries, 0 to 2935848\n",
            "Data columns (total 6 columns):\n",
            " #   Column          Dtype         \n",
            "---  ------          -----         \n",
            " 0   date            datetime64[ns]\n",
            " 1   date_block_num  int64         \n",
            " 2   shop_id         int64         \n",
            " 3   item_id         int64         \n",
            " 4   item_price      float64       \n",
            " 5   item_cnt_day    float64       \n",
            "dtypes: datetime64[ns](1), float64(2), int64(3)\n",
            "memory usage: 134.4 MB\n"
          ]
        }
      ]
    },
    {
      "cell_type": "code",
      "metadata": {
        "colab": {
          "base_uri": "https://localhost:8080/",
          "height": 0
        },
        "id": "M4lxHmTAqHDX",
        "outputId": "684cadfa-07c2-42c2-ab06-7d292753779a"
      },
      "source": [
        "df_train['year'] = df_train.date.dt.year\n",
        "# df_train['month'] = df_train.date.dt.month\n",
        "# df_train['day'] = df_train.date.dt.day\n",
        "df_train.head()"
      ],
      "execution_count": 32,
      "outputs": [
        {
          "output_type": "execute_result",
          "data": {
            "text/html": [
              "<div>\n",
              "<style scoped>\n",
              "    .dataframe tbody tr th:only-of-type {\n",
              "        vertical-align: middle;\n",
              "    }\n",
              "\n",
              "    .dataframe tbody tr th {\n",
              "        vertical-align: top;\n",
              "    }\n",
              "\n",
              "    .dataframe thead th {\n",
              "        text-align: right;\n",
              "    }\n",
              "</style>\n",
              "<table border=\"1\" class=\"dataframe\">\n",
              "  <thead>\n",
              "    <tr style=\"text-align: right;\">\n",
              "      <th></th>\n",
              "      <th>date</th>\n",
              "      <th>date_block_num</th>\n",
              "      <th>shop_id</th>\n",
              "      <th>item_id</th>\n",
              "      <th>item_price</th>\n",
              "      <th>item_cnt_day</th>\n",
              "      <th>year</th>\n",
              "    </tr>\n",
              "  </thead>\n",
              "  <tbody>\n",
              "    <tr>\n",
              "      <th>0</th>\n",
              "      <td>2013-01-02</td>\n",
              "      <td>0</td>\n",
              "      <td>59</td>\n",
              "      <td>22154</td>\n",
              "      <td>999.00</td>\n",
              "      <td>1.0</td>\n",
              "      <td>2013</td>\n",
              "    </tr>\n",
              "    <tr>\n",
              "      <th>1</th>\n",
              "      <td>2013-01-03</td>\n",
              "      <td>0</td>\n",
              "      <td>25</td>\n",
              "      <td>2552</td>\n",
              "      <td>899.00</td>\n",
              "      <td>1.0</td>\n",
              "      <td>2013</td>\n",
              "    </tr>\n",
              "    <tr>\n",
              "      <th>2</th>\n",
              "      <td>2013-01-05</td>\n",
              "      <td>0</td>\n",
              "      <td>25</td>\n",
              "      <td>2552</td>\n",
              "      <td>899.00</td>\n",
              "      <td>-1.0</td>\n",
              "      <td>2013</td>\n",
              "    </tr>\n",
              "    <tr>\n",
              "      <th>3</th>\n",
              "      <td>2013-01-06</td>\n",
              "      <td>0</td>\n",
              "      <td>25</td>\n",
              "      <td>2554</td>\n",
              "      <td>1709.05</td>\n",
              "      <td>1.0</td>\n",
              "      <td>2013</td>\n",
              "    </tr>\n",
              "    <tr>\n",
              "      <th>4</th>\n",
              "      <td>2013-01-15</td>\n",
              "      <td>0</td>\n",
              "      <td>25</td>\n",
              "      <td>2555</td>\n",
              "      <td>1099.00</td>\n",
              "      <td>1.0</td>\n",
              "      <td>2013</td>\n",
              "    </tr>\n",
              "  </tbody>\n",
              "</table>\n",
              "</div>"
            ],
            "text/plain": [
              "        date  date_block_num  shop_id  item_id  item_price  item_cnt_day  year\n",
              "0 2013-01-02               0       59    22154      999.00           1.0  2013\n",
              "1 2013-01-03               0       25     2552      899.00           1.0  2013\n",
              "2 2013-01-05               0       25     2552      899.00          -1.0  2013\n",
              "3 2013-01-06               0       25     2554     1709.05           1.0  2013\n",
              "4 2013-01-15               0       25     2555     1099.00           1.0  2013"
            ]
          },
          "metadata": {},
          "execution_count": 32
        }
      ]
    },
    {
      "cell_type": "code",
      "metadata": {
        "colab": {
          "base_uri": "https://localhost:8080/",
          "height": 0
        },
        "id": "nfy2NWHIqHFR",
        "outputId": "85016efd-24ab-46ba-e863-3202b25e7837"
      },
      "source": [
        "df_train.drop('date', axis=1, inplace=True)\n",
        "df_train.head()"
      ],
      "execution_count": 33,
      "outputs": [
        {
          "output_type": "execute_result",
          "data": {
            "text/html": [
              "<div>\n",
              "<style scoped>\n",
              "    .dataframe tbody tr th:only-of-type {\n",
              "        vertical-align: middle;\n",
              "    }\n",
              "\n",
              "    .dataframe tbody tr th {\n",
              "        vertical-align: top;\n",
              "    }\n",
              "\n",
              "    .dataframe thead th {\n",
              "        text-align: right;\n",
              "    }\n",
              "</style>\n",
              "<table border=\"1\" class=\"dataframe\">\n",
              "  <thead>\n",
              "    <tr style=\"text-align: right;\">\n",
              "      <th></th>\n",
              "      <th>date_block_num</th>\n",
              "      <th>shop_id</th>\n",
              "      <th>item_id</th>\n",
              "      <th>item_price</th>\n",
              "      <th>item_cnt_day</th>\n",
              "      <th>year</th>\n",
              "    </tr>\n",
              "  </thead>\n",
              "  <tbody>\n",
              "    <tr>\n",
              "      <th>0</th>\n",
              "      <td>0</td>\n",
              "      <td>59</td>\n",
              "      <td>22154</td>\n",
              "      <td>999.00</td>\n",
              "      <td>1.0</td>\n",
              "      <td>2013</td>\n",
              "    </tr>\n",
              "    <tr>\n",
              "      <th>1</th>\n",
              "      <td>0</td>\n",
              "      <td>25</td>\n",
              "      <td>2552</td>\n",
              "      <td>899.00</td>\n",
              "      <td>1.0</td>\n",
              "      <td>2013</td>\n",
              "    </tr>\n",
              "    <tr>\n",
              "      <th>2</th>\n",
              "      <td>0</td>\n",
              "      <td>25</td>\n",
              "      <td>2552</td>\n",
              "      <td>899.00</td>\n",
              "      <td>-1.0</td>\n",
              "      <td>2013</td>\n",
              "    </tr>\n",
              "    <tr>\n",
              "      <th>3</th>\n",
              "      <td>0</td>\n",
              "      <td>25</td>\n",
              "      <td>2554</td>\n",
              "      <td>1709.05</td>\n",
              "      <td>1.0</td>\n",
              "      <td>2013</td>\n",
              "    </tr>\n",
              "    <tr>\n",
              "      <th>4</th>\n",
              "      <td>0</td>\n",
              "      <td>25</td>\n",
              "      <td>2555</td>\n",
              "      <td>1099.00</td>\n",
              "      <td>1.0</td>\n",
              "      <td>2013</td>\n",
              "    </tr>\n",
              "  </tbody>\n",
              "</table>\n",
              "</div>"
            ],
            "text/plain": [
              "   date_block_num  shop_id  item_id  item_price  item_cnt_day  year\n",
              "0               0       59    22154      999.00           1.0  2013\n",
              "1               0       25     2552      899.00           1.0  2013\n",
              "2               0       25     2552      899.00          -1.0  2013\n",
              "3               0       25     2554     1709.05           1.0  2013\n",
              "4               0       25     2555     1099.00           1.0  2013"
            ]
          },
          "metadata": {},
          "execution_count": 33
        }
      ]
    },
    {
      "cell_type": "code",
      "metadata": {
        "colab": {
          "base_uri": "https://localhost:8080/",
          "height": 0
        },
        "id": "v1vW64TvZnxP",
        "outputId": "5365f0cd-71ae-4fab-dfdd-1f8690a7f977"
      },
      "source": [
        "df_train.corr()"
      ],
      "execution_count": 34,
      "outputs": [
        {
          "output_type": "execute_result",
          "data": {
            "text/html": [
              "<div>\n",
              "<style scoped>\n",
              "    .dataframe tbody tr th:only-of-type {\n",
              "        vertical-align: middle;\n",
              "    }\n",
              "\n",
              "    .dataframe tbody tr th {\n",
              "        vertical-align: top;\n",
              "    }\n",
              "\n",
              "    .dataframe thead th {\n",
              "        text-align: right;\n",
              "    }\n",
              "</style>\n",
              "<table border=\"1\" class=\"dataframe\">\n",
              "  <thead>\n",
              "    <tr style=\"text-align: right;\">\n",
              "      <th></th>\n",
              "      <th>date_block_num</th>\n",
              "      <th>shop_id</th>\n",
              "      <th>item_id</th>\n",
              "      <th>item_price</th>\n",
              "      <th>item_cnt_day</th>\n",
              "      <th>year</th>\n",
              "    </tr>\n",
              "  </thead>\n",
              "  <tbody>\n",
              "    <tr>\n",
              "      <th>date_block_num</th>\n",
              "      <td>1.000000</td>\n",
              "      <td>0.019273</td>\n",
              "      <td>0.009356</td>\n",
              "      <td>0.095010</td>\n",
              "      <td>0.009402</td>\n",
              "      <td>0.928280</td>\n",
              "    </tr>\n",
              "    <tr>\n",
              "      <th>shop_id</th>\n",
              "      <td>0.019273</td>\n",
              "      <td>1.000000</td>\n",
              "      <td>0.029396</td>\n",
              "      <td>-0.024034</td>\n",
              "      <td>-0.005230</td>\n",
              "      <td>0.011805</td>\n",
              "    </tr>\n",
              "    <tr>\n",
              "      <th>item_id</th>\n",
              "      <td>0.009356</td>\n",
              "      <td>0.029396</td>\n",
              "      <td>1.000000</td>\n",
              "      <td>-0.134104</td>\n",
              "      <td>0.016650</td>\n",
              "      <td>0.010340</td>\n",
              "    </tr>\n",
              "    <tr>\n",
              "      <th>item_price</th>\n",
              "      <td>0.095010</td>\n",
              "      <td>-0.024034</td>\n",
              "      <td>-0.134104</td>\n",
              "      <td>1.000000</td>\n",
              "      <td>0.011197</td>\n",
              "      <td>0.080192</td>\n",
              "    </tr>\n",
              "    <tr>\n",
              "      <th>item_cnt_day</th>\n",
              "      <td>0.009402</td>\n",
              "      <td>-0.005230</td>\n",
              "      <td>0.016650</td>\n",
              "      <td>0.011197</td>\n",
              "      <td>1.000000</td>\n",
              "      <td>0.002699</td>\n",
              "    </tr>\n",
              "    <tr>\n",
              "      <th>year</th>\n",
              "      <td>0.928280</td>\n",
              "      <td>0.011805</td>\n",
              "      <td>0.010340</td>\n",
              "      <td>0.080192</td>\n",
              "      <td>0.002699</td>\n",
              "      <td>1.000000</td>\n",
              "    </tr>\n",
              "  </tbody>\n",
              "</table>\n",
              "</div>"
            ],
            "text/plain": [
              "                date_block_num   shop_id  ...  item_cnt_day      year\n",
              "date_block_num        1.000000  0.019273  ...      0.009402  0.928280\n",
              "shop_id               0.019273  1.000000  ...     -0.005230  0.011805\n",
              "item_id               0.009356  0.029396  ...      0.016650  0.010340\n",
              "item_price            0.095010 -0.024034  ...      0.011197  0.080192\n",
              "item_cnt_day          0.009402 -0.005230  ...      1.000000  0.002699\n",
              "year                  0.928280  0.011805  ...      0.002699  1.000000\n",
              "\n",
              "[6 rows x 6 columns]"
            ]
          },
          "metadata": {},
          "execution_count": 34
        }
      ]
    },
    {
      "cell_type": "code",
      "metadata": {
        "colab": {
          "base_uri": "https://localhost:8080/"
        },
        "id": "gLSAZqFfaE3t",
        "outputId": "27a4dbed-7062-4bc2-a6a1-a6c19f83a4f8"
      },
      "source": [
        "df_train.item_price.describe()"
      ],
      "execution_count": 35,
      "outputs": [
        {
          "output_type": "execute_result",
          "data": {
            "text/plain": [
              "count    2.935849e+06\n",
              "mean     8.908532e+02\n",
              "std      1.729800e+03\n",
              "min     -1.000000e+00\n",
              "25%      2.490000e+02\n",
              "50%      3.990000e+02\n",
              "75%      9.990000e+02\n",
              "max      3.079800e+05\n",
              "Name: item_price, dtype: float64"
            ]
          },
          "metadata": {},
          "execution_count": 35
        }
      ]
    },
    {
      "cell_type": "code",
      "metadata": {
        "colab": {
          "base_uri": "https://localhost:8080/",
          "height": 0
        },
        "id": "3QWscR3Vbgs9",
        "outputId": "2b7c9512-4c5a-46ce-d981-a8b316db260a"
      },
      "source": [
        "plt.figure(figsize=(18, 16), dpi=100)\n",
        "plt.subplot(321)\n",
        "plt.scatter('item_id', 'item_price',\n",
        "            data=df_train[df_train['item_id'] <= 5000],\n",
        "            marker='o', alpha=0.4)\n",
        "\n",
        "plt.subplot(322)\n",
        "plt.scatter('item_id', 'item_price', \n",
        "            data=df_train[(df_train['item_id'] > 5000) & (df_train['item_id'] <= 10000)],\n",
        "            marker='o', color=\"orange\", alpha=0.3)\n",
        "\n",
        "plt.subplot(323)\n",
        "plt.scatter('item_id', 'item_price', \n",
        "            data=df_train[(df_train['item_id'] > 10000) & (df_train['item_id'] <= 15000)],\n",
        "            marker='D', color=\"green\", alpha=0.3)\n",
        "\n",
        "plt.subplot(324)\n",
        "plt.scatter('item_id', 'item_price',\n",
        "            data=df_train[(df_train['item_id'] > 15000) & (df_train['item_id'] <= 20000)],\n",
        "            marker='o', color=\"grey\", alpha=0.3)\n",
        "\n",
        "plt.subplot(325)\n",
        "plt.scatter('item_id', 'item_price',\n",
        "            data=df_train[df_train['item_id'] > 20000],\n",
        "            marker='o', color=\"grey\", alpha=0.3)\n",
        "plt.show()"
      ],
      "execution_count": 36,
      "outputs": [
        {
          "output_type": "display_data",
          "data": {
            "image/png": "[encoded data removed]",
            "text/plain": [
              "<Figure size 1800x1600 with 5 Axes>"
            ]
          },
          "metadata": {
            "needs_background": "light"
          }
        }
      ]
    },
    {
      "cell_type": "markdown",
      "metadata": {
        "id": "wxxMGl2ThT0X"
      },
      "source": [
        "Found one outlier with price 307980 and item_id 6066"
      ]
    },
    {
      "cell_type": "code",
      "metadata": {
        "colab": {
          "base_uri": "https://localhost:8080/",
          "height": 0
        },
        "id": "ZQ5F1mL2f94G",
        "outputId": "781fe8f4-f4d7-4cab-8452-7906271143f5"
      },
      "source": [
        "df_train[df_train.item_price > 100000]"
      ],
      "execution_count": 37,
      "outputs": [
        {
          "output_type": "execute_result",
          "data": {
            "text/html": [
              "<div>\n",
              "<style scoped>\n",
              "    .dataframe tbody tr th:only-of-type {\n",
              "        vertical-align: middle;\n",
              "    }\n",
              "\n",
              "    .dataframe tbody tr th {\n",
              "        vertical-align: top;\n",
              "    }\n",
              "\n",
              "    .dataframe thead th {\n",
              "        text-align: right;\n",
              "    }\n",
              "</style>\n",
              "<table border=\"1\" class=\"dataframe\">\n",
              "  <thead>\n",
              "    <tr style=\"text-align: right;\">\n",
              "      <th></th>\n",
              "      <th>date_block_num</th>\n",
              "      <th>shop_id</th>\n",
              "      <th>item_id</th>\n",
              "      <th>item_price</th>\n",
              "      <th>item_cnt_day</th>\n",
              "      <th>year</th>\n",
              "    </tr>\n",
              "  </thead>\n",
              "  <tbody>\n",
              "    <tr>\n",
              "      <th>1163158</th>\n",
              "      <td>11</td>\n",
              "      <td>12</td>\n",
              "      <td>6066</td>\n",
              "      <td>307980.0</td>\n",
              "      <td>1.0</td>\n",
              "      <td>2013</td>\n",
              "    </tr>\n",
              "  </tbody>\n",
              "</table>\n",
              "</div>"
            ],
            "text/plain": [
              "         date_block_num  shop_id  item_id  item_price  item_cnt_day  year\n",
              "1163158              11       12     6066    307980.0           1.0  2013"
            ]
          },
          "metadata": {},
          "execution_count": 37
        }
      ]
    },
    {
      "cell_type": "markdown",
      "metadata": {
        "id": "ZZJHIfufhfO0"
      },
      "source": [
        "Unfortunately this item has no more prices in the dataset, so we will drop him"
      ]
    },
    {
      "cell_type": "code",
      "metadata": {
        "colab": {
          "base_uri": "https://localhost:8080/",
          "height": 0
        },
        "id": "Qzp1vtTfhEEA",
        "outputId": "104c6f81-c506-450b-9b23-d4484a9b08c5"
      },
      "source": [
        "df_train[df_train.item_id == 6066]"
      ],
      "execution_count": 38,
      "outputs": [
        {
          "output_type": "execute_result",
          "data": {
            "text/html": [
              "<div>\n",
              "<style scoped>\n",
              "    .dataframe tbody tr th:only-of-type {\n",
              "        vertical-align: middle;\n",
              "    }\n",
              "\n",
              "    .dataframe tbody tr th {\n",
              "        vertical-align: top;\n",
              "    }\n",
              "\n",
              "    .dataframe thead th {\n",
              "        text-align: right;\n",
              "    }\n",
              "</style>\n",
              "<table border=\"1\" class=\"dataframe\">\n",
              "  <thead>\n",
              "    <tr style=\"text-align: right;\">\n",
              "      <th></th>\n",
              "      <th>date_block_num</th>\n",
              "      <th>shop_id</th>\n",
              "      <th>item_id</th>\n",
              "      <th>item_price</th>\n",
              "      <th>item_cnt_day</th>\n",
              "      <th>year</th>\n",
              "    </tr>\n",
              "  </thead>\n",
              "  <tbody>\n",
              "    <tr>\n",
              "      <th>1163158</th>\n",
              "      <td>11</td>\n",
              "      <td>12</td>\n",
              "      <td>6066</td>\n",
              "      <td>307980.0</td>\n",
              "      <td>1.0</td>\n",
              "      <td>2013</td>\n",
              "    </tr>\n",
              "  </tbody>\n",
              "</table>\n",
              "</div>"
            ],
            "text/plain": [
              "         date_block_num  shop_id  item_id  item_price  item_cnt_day  year\n",
              "1163158              11       12     6066    307980.0           1.0  2013"
            ]
          },
          "metadata": {},
          "execution_count": 38
        }
      ]
    },
    {
      "cell_type": "code",
      "metadata": {
        "colab": {
          "base_uri": "https://localhost:8080/",
          "height": 0
        },
        "id": "xUIlwhczhS-1",
        "outputId": "d55267f9-8fa8-4b04-8b05-1225925944d4"
      },
      "source": [
        "df_train.drop(1163158, inplace=True)\n",
        "df_train[df_train.item_price > 100000]"
      ],
      "execution_count": 39,
      "outputs": [
        {
          "output_type": "execute_result",
          "data": {
            "text/html": [
              "<div>\n",
              "<style scoped>\n",
              "    .dataframe tbody tr th:only-of-type {\n",
              "        vertical-align: middle;\n",
              "    }\n",
              "\n",
              "    .dataframe tbody tr th {\n",
              "        vertical-align: top;\n",
              "    }\n",
              "\n",
              "    .dataframe thead th {\n",
              "        text-align: right;\n",
              "    }\n",
              "</style>\n",
              "<table border=\"1\" class=\"dataframe\">\n",
              "  <thead>\n",
              "    <tr style=\"text-align: right;\">\n",
              "      <th></th>\n",
              "      <th>date_block_num</th>\n",
              "      <th>shop_id</th>\n",
              "      <th>item_id</th>\n",
              "      <th>item_price</th>\n",
              "      <th>item_cnt_day</th>\n",
              "      <th>year</th>\n",
              "    </tr>\n",
              "  </thead>\n",
              "  <tbody>\n",
              "  </tbody>\n",
              "</table>\n",
              "</div>"
            ],
            "text/plain": [
              "Empty DataFrame\n",
              "Columns: [date_block_num, shop_id, item_id, item_price, item_cnt_day, year]\n",
              "Index: []"
            ]
          },
          "metadata": {},
          "execution_count": 39
        }
      ]
    },
    {
      "cell_type": "markdown",
      "metadata": {
        "id": "If9zrWEsiGqw"
      },
      "source": [
        "Found one negative price value"
      ]
    },
    {
      "cell_type": "code",
      "metadata": {
        "colab": {
          "base_uri": "https://localhost:8080/",
          "height": 0
        },
        "id": "vcgZK7S0h9_w",
        "outputId": "d31520b0-de75-4e45-d2df-d91064786b40"
      },
      "source": [
        "df_train[df_train.item_price < 0]"
      ],
      "execution_count": 40,
      "outputs": [
        {
          "output_type": "execute_result",
          "data": {
            "text/html": [
              "<div>\n",
              "<style scoped>\n",
              "    .dataframe tbody tr th:only-of-type {\n",
              "        vertical-align: middle;\n",
              "    }\n",
              "\n",
              "    .dataframe tbody tr th {\n",
              "        vertical-align: top;\n",
              "    }\n",
              "\n",
              "    .dataframe thead th {\n",
              "        text-align: right;\n",
              "    }\n",
              "</style>\n",
              "<table border=\"1\" class=\"dataframe\">\n",
              "  <thead>\n",
              "    <tr style=\"text-align: right;\">\n",
              "      <th></th>\n",
              "      <th>date_block_num</th>\n",
              "      <th>shop_id</th>\n",
              "      <th>item_id</th>\n",
              "      <th>item_price</th>\n",
              "      <th>item_cnt_day</th>\n",
              "      <th>year</th>\n",
              "    </tr>\n",
              "  </thead>\n",
              "  <tbody>\n",
              "    <tr>\n",
              "      <th>484683</th>\n",
              "      <td>4</td>\n",
              "      <td>32</td>\n",
              "      <td>2973</td>\n",
              "      <td>-1.0</td>\n",
              "      <td>1.0</td>\n",
              "      <td>2013</td>\n",
              "    </tr>\n",
              "  </tbody>\n",
              "</table>\n",
              "</div>"
            ],
            "text/plain": [
              "        date_block_num  shop_id  item_id  item_price  item_cnt_day  year\n",
              "484683               4       32     2973        -1.0           1.0  2013"
            ]
          },
          "metadata": {},
          "execution_count": 40
        }
      ]
    },
    {
      "cell_type": "markdown",
      "metadata": {
        "id": "xvhcfpeKiQmF"
      },
      "source": [
        "We can see that this item had other prices so we'll fill it instead of dropping"
      ]
    },
    {
      "cell_type": "code",
      "metadata": {
        "colab": {
          "base_uri": "https://localhost:8080/",
          "height": 0
        },
        "id": "5CXmL6OgiLJd",
        "outputId": "3837d751-0085-47f4-e4b3-85fef085c4bf"
      },
      "source": [
        "df_train[df_train.item_id == 2973]"
      ],
      "execution_count": 41,
      "outputs": [
        {
          "output_type": "execute_result",
          "data": {
            "text/html": [
              "<div>\n",
              "<style scoped>\n",
              "    .dataframe tbody tr th:only-of-type {\n",
              "        vertical-align: middle;\n",
              "    }\n",
              "\n",
              "    .dataframe tbody tr th {\n",
              "        vertical-align: top;\n",
              "    }\n",
              "\n",
              "    .dataframe thead th {\n",
              "        text-align: right;\n",
              "    }\n",
              "</style>\n",
              "<table border=\"1\" class=\"dataframe\">\n",
              "  <thead>\n",
              "    <tr style=\"text-align: right;\">\n",
              "      <th></th>\n",
              "      <th>date_block_num</th>\n",
              "      <th>shop_id</th>\n",
              "      <th>item_id</th>\n",
              "      <th>item_price</th>\n",
              "      <th>item_cnt_day</th>\n",
              "      <th>year</th>\n",
              "    </tr>\n",
              "  </thead>\n",
              "  <tbody>\n",
              "    <tr>\n",
              "      <th>352</th>\n",
              "      <td>0</td>\n",
              "      <td>25</td>\n",
              "      <td>2973</td>\n",
              "      <td>2499.00</td>\n",
              "      <td>13.0</td>\n",
              "      <td>2013</td>\n",
              "    </tr>\n",
              "    <tr>\n",
              "      <th>353</th>\n",
              "      <td>0</td>\n",
              "      <td>25</td>\n",
              "      <td>2973</td>\n",
              "      <td>2499.00</td>\n",
              "      <td>5.0</td>\n",
              "      <td>2013</td>\n",
              "    </tr>\n",
              "    <tr>\n",
              "      <th>354</th>\n",
              "      <td>0</td>\n",
              "      <td>25</td>\n",
              "      <td>2973</td>\n",
              "      <td>2499.00</td>\n",
              "      <td>3.0</td>\n",
              "      <td>2013</td>\n",
              "    </tr>\n",
              "    <tr>\n",
              "      <th>355</th>\n",
              "      <td>0</td>\n",
              "      <td>25</td>\n",
              "      <td>2973</td>\n",
              "      <td>2499.00</td>\n",
              "      <td>2.0</td>\n",
              "      <td>2013</td>\n",
              "    </tr>\n",
              "    <tr>\n",
              "      <th>356</th>\n",
              "      <td>0</td>\n",
              "      <td>25</td>\n",
              "      <td>2973</td>\n",
              "      <td>2499.00</td>\n",
              "      <td>3.0</td>\n",
              "      <td>2013</td>\n",
              "    </tr>\n",
              "    <tr>\n",
              "      <th>...</th>\n",
              "      <td>...</td>\n",
              "      <td>...</td>\n",
              "      <td>...</td>\n",
              "      <td>...</td>\n",
              "      <td>...</td>\n",
              "      <td>...</td>\n",
              "    </tr>\n",
              "    <tr>\n",
              "      <th>1765321</th>\n",
              "      <td>17</td>\n",
              "      <td>57</td>\n",
              "      <td>2973</td>\n",
              "      <td>1249.50</td>\n",
              "      <td>1.0</td>\n",
              "      <td>2014</td>\n",
              "    </tr>\n",
              "    <tr>\n",
              "      <th>1782298</th>\n",
              "      <td>17</td>\n",
              "      <td>47</td>\n",
              "      <td>2973</td>\n",
              "      <td>1249.00</td>\n",
              "      <td>1.0</td>\n",
              "      <td>2014</td>\n",
              "    </tr>\n",
              "    <tr>\n",
              "      <th>1851765</th>\n",
              "      <td>18</td>\n",
              "      <td>26</td>\n",
              "      <td>2973</td>\n",
              "      <td>1249.50</td>\n",
              "      <td>1.0</td>\n",
              "      <td>2014</td>\n",
              "    </tr>\n",
              "    <tr>\n",
              "      <th>1923837</th>\n",
              "      <td>19</td>\n",
              "      <td>6</td>\n",
              "      <td>2973</td>\n",
              "      <td>1249.50</td>\n",
              "      <td>1.0</td>\n",
              "      <td>2014</td>\n",
              "    </tr>\n",
              "    <tr>\n",
              "      <th>2131937</th>\n",
              "      <td>22</td>\n",
              "      <td>51</td>\n",
              "      <td>2973</td>\n",
              "      <td>1832.37</td>\n",
              "      <td>1.0</td>\n",
              "      <td>2014</td>\n",
              "    </tr>\n",
              "  </tbody>\n",
              "</table>\n",
              "<p>780 rows × 6 columns</p>\n",
              "</div>"
            ],
            "text/plain": [
              "         date_block_num  shop_id  item_id  item_price  item_cnt_day  year\n",
              "352                   0       25     2973     2499.00          13.0  2013\n",
              "353                   0       25     2973     2499.00           5.0  2013\n",
              "354                   0       25     2973     2499.00           3.0  2013\n",
              "355                   0       25     2973     2499.00           2.0  2013\n",
              "356                   0       25     2973     2499.00           3.0  2013\n",
              "...                 ...      ...      ...         ...           ...   ...\n",
              "1765321              17       57     2973     1249.50           1.0  2014\n",
              "1782298              17       47     2973     1249.00           1.0  2014\n",
              "1851765              18       26     2973     1249.50           1.0  2014\n",
              "1923837              19        6     2973     1249.50           1.0  2014\n",
              "2131937              22       51     2973     1832.37           1.0  2014\n",
              "\n",
              "[780 rows x 6 columns]"
            ]
          },
          "metadata": {},
          "execution_count": 41
        }
      ]
    },
    {
      "cell_type": "code",
      "metadata": {
        "colab": {
          "base_uri": "https://localhost:8080/",
          "height": 0
        },
        "id": "uClgAgVWiaYJ",
        "outputId": "b18d876f-9b6b-4675-8eae-a6c8a7aa6098"
      },
      "source": [
        "df_train[(df_train.item_id == 2973) & (df_train.date_block_num == 4) &\n",
        "         (df_train.shop_id == 32)]"
      ],
      "execution_count": 42,
      "outputs": [
        {
          "output_type": "execute_result",
          "data": {
            "text/html": [
              "<div>\n",
              "<style scoped>\n",
              "    .dataframe tbody tr th:only-of-type {\n",
              "        vertical-align: middle;\n",
              "    }\n",
              "\n",
              "    .dataframe tbody tr th {\n",
              "        vertical-align: top;\n",
              "    }\n",
              "\n",
              "    .dataframe thead th {\n",
              "        text-align: right;\n",
              "    }\n",
              "</style>\n",
              "<table border=\"1\" class=\"dataframe\">\n",
              "  <thead>\n",
              "    <tr style=\"text-align: right;\">\n",
              "      <th></th>\n",
              "      <th>date_block_num</th>\n",
              "      <th>shop_id</th>\n",
              "      <th>item_id</th>\n",
              "      <th>item_price</th>\n",
              "      <th>item_cnt_day</th>\n",
              "      <th>year</th>\n",
              "    </tr>\n",
              "  </thead>\n",
              "  <tbody>\n",
              "    <tr>\n",
              "      <th>484682</th>\n",
              "      <td>4</td>\n",
              "      <td>32</td>\n",
              "      <td>2973</td>\n",
              "      <td>1249.0</td>\n",
              "      <td>1.0</td>\n",
              "      <td>2013</td>\n",
              "    </tr>\n",
              "    <tr>\n",
              "      <th>484683</th>\n",
              "      <td>4</td>\n",
              "      <td>32</td>\n",
              "      <td>2973</td>\n",
              "      <td>-1.0</td>\n",
              "      <td>1.0</td>\n",
              "      <td>2013</td>\n",
              "    </tr>\n",
              "    <tr>\n",
              "      <th>484684</th>\n",
              "      <td>4</td>\n",
              "      <td>32</td>\n",
              "      <td>2973</td>\n",
              "      <td>2499.0</td>\n",
              "      <td>1.0</td>\n",
              "      <td>2013</td>\n",
              "    </tr>\n",
              "  </tbody>\n",
              "</table>\n",
              "</div>"
            ],
            "text/plain": [
              "        date_block_num  shop_id  item_id  item_price  item_cnt_day  year\n",
              "484682               4       32     2973      1249.0           1.0  2013\n",
              "484683               4       32     2973        -1.0           1.0  2013\n",
              "484684               4       32     2973      2499.0           1.0  2013"
            ]
          },
          "metadata": {},
          "execution_count": 42
        }
      ]
    },
    {
      "cell_type": "code",
      "metadata": {
        "colab": {
          "base_uri": "https://localhost:8080/",
          "height": 0
        },
        "id": "wUJpjknXi6A4",
        "outputId": "4a0e2a10-efa9-4a50-b6f9-ddc3c330e7b1"
      },
      "source": [
        "df_train.loc[484683, 'item_price'] = 2499\n",
        "df_train[df_train.item_price < 0]"
      ],
      "execution_count": 43,
      "outputs": [
        {
          "output_type": "execute_result",
          "data": {
            "text/html": [
              "<div>\n",
              "<style scoped>\n",
              "    .dataframe tbody tr th:only-of-type {\n",
              "        vertical-align: middle;\n",
              "    }\n",
              "\n",
              "    .dataframe tbody tr th {\n",
              "        vertical-align: top;\n",
              "    }\n",
              "\n",
              "    .dataframe thead th {\n",
              "        text-align: right;\n",
              "    }\n",
              "</style>\n",
              "<table border=\"1\" class=\"dataframe\">\n",
              "  <thead>\n",
              "    <tr style=\"text-align: right;\">\n",
              "      <th></th>\n",
              "      <th>date_block_num</th>\n",
              "      <th>shop_id</th>\n",
              "      <th>item_id</th>\n",
              "      <th>item_price</th>\n",
              "      <th>item_cnt_day</th>\n",
              "      <th>year</th>\n",
              "    </tr>\n",
              "  </thead>\n",
              "  <tbody>\n",
              "  </tbody>\n",
              "</table>\n",
              "</div>"
            ],
            "text/plain": [
              "Empty DataFrame\n",
              "Columns: [date_block_num, shop_id, item_id, item_price, item_cnt_day, year]\n",
              "Index: []"
            ]
          },
          "metadata": {},
          "execution_count": 43
        }
      ]
    },
    {
      "cell_type": "code",
      "metadata": {
        "colab": {
          "base_uri": "https://localhost:8080/"
        },
        "id": "3LMDxLsvlA2u",
        "outputId": "3711f510-f2c9-4432-98e8-e6cfc7a24b19"
      },
      "source": [
        "print('Last date block num - ', df_train.date_block_num.max())\n",
        "print('Years: ', df_train.year.unique())"
      ],
      "execution_count": 44,
      "outputs": [
        {
          "output_type": "stream",
          "name": "stdout",
          "text": [
            "Last date block num -  33\n",
            "Years:  [2013 2014 2015]\n"
          ]
        }
      ]
    },
    {
      "cell_type": "code",
      "metadata": {
        "colab": {
          "base_uri": "https://localhost:8080/",
          "height": 0
        },
        "id": "1VY7AX6FalKS",
        "outputId": "ffe78fa1-922e-4d74-fba9-6916d48baf87"
      },
      "source": [
        "import matplotlib.pyplot as plt\n",
        "import seaborn as sns\n",
        "\n",
        "ax = sns.barplot(x=\"date_block_num\", y=\"item_price\", data=df_train)\n",
        "plt.xticks(rotation=45)\n",
        "plt.show()"
      ],
      "execution_count": 45,
      "outputs": [
        {
          "output_type": "display_data",
          "data": {
            "image/png": "[encoded data removed]",
            "text/plain": [
              "<Figure size 432x288 with 1 Axes>"
            ]
          },
          "metadata": {
            "needs_background": "light"
          }
        }
      ]
    },
    {
      "cell_type": "code",
      "metadata": {
        "colab": {
          "base_uri": "https://localhost:8080/",
          "height": 0
        },
        "id": "r3_CNbJ6VsAv",
        "outputId": "11b457a4-b3f5-4a32-ec96-e485020ed6b2"
      },
      "source": [
        "import matplotlib.pyplot as plt\n",
        "import seaborn as sns\n",
        "\n",
        "sns.scatterplot(x='item_id', y='item_price', data=df_train)\n",
        "plt.plot()"
      ],
      "execution_count": 46,
      "outputs": [
        {
          "output_type": "execute_result",
          "data": {
            "text/plain": [
              "[]"
            ]
          },
          "metadata": {},
          "execution_count": 46
        },
        {
          "output_type": "display_data",
          "data": {
            "image/png": "[encoded data removed]",
            "text/plain": [
              "<Figure size 432x288 with 1 Axes>"
            ]
          },
          "metadata": {
            "needs_background": "light"
          }
        }
      ]
    },
    {
      "cell_type": "markdown",
      "metadata": {
        "id": "kCzrNzmlQoEf"
      },
      "source": [
        "## Main"
      ]
    },
    {
      "cell_type": "code",
      "metadata": {
        "id": "IHvWtWhwTkWv"
      },
      "source": [
        "from itertools import product\n",
        "index_cols = ['shop_id','item_id','year','date_block_num']\n",
        "\n",
        "# For every month we create a grid from all shops/items combinations from that month\n",
        "grid = [] \n",
        "for block_num in df_train['date_block_num'].unique():\n",
        "    cur_shops = df_train[df_train['date_block_num'] == block_num]['shop_id'].unique()\n",
        "    cur_items = df_train[df_train['date_block_num'] == block_num]['item_id'].unique()\n",
        "    cur_years = df_train[df_train['date_block_num'] == block_num]['year'].unique()\n",
        "    grid.append(np.array(list(product(*[cur_shops,cur_items,cur_years,[block_num]])),\n",
        "                         dtype='int32'))\n",
        "\n",
        "# Turn the grid into pandas dataframe\n",
        "grid = pd.DataFrame(np.vstack(grid), columns=index_cols, dtype=np.int32)"
      ],
      "execution_count": 47,
      "outputs": []
    },
    {
      "cell_type": "code",
      "metadata": {
        "colab": {
          "base_uri": "https://localhost:8080/"
        },
        "id": "YwMVSqhuU6c6",
        "outputId": "e124cd9e-b00b-427a-aab5-4aefdda02832"
      },
      "source": [
        "# Get aggregated values for (shop_id, item_id, month, year)\n",
        "gb = df_train.groupby(index_cols, as_index=False)['item_cnt_day'].agg('sum')\n",
        "# Fix column names\n",
        "# gb.columns = [col[0] if col[-1] == '' else col[-1] for col in gb.columns.values]\n",
        "print(gb)"
      ],
      "execution_count": 48,
      "outputs": [
        {
          "output_type": "stream",
          "name": "stdout",
          "text": [
            "         shop_id  item_id  year  date_block_num  item_cnt_day\n",
            "0              0       30  2013               1          31.0\n",
            "1              0       31  2013               1          11.0\n",
            "2              0       32  2013               0           6.0\n",
            "3              0       32  2013               1          10.0\n",
            "4              0       33  2013               0           3.0\n",
            "...          ...      ...   ...             ...           ...\n",
            "1609118       59    22164  2015              27           2.0\n",
            "1609119       59    22164  2015              30           1.0\n",
            "1609120       59    22167  2013               9           1.0\n",
            "1609121       59    22167  2013              11           2.0\n",
            "1609122       59    22167  2014              17           1.0\n",
            "\n",
            "[1609123 rows x 5 columns]\n"
          ]
        }
      ]
    },
    {
      "cell_type": "code",
      "metadata": {
        "id": "tViYGIfuXSLU"
      },
      "source": [
        "# Join aggregated data to the grid\n",
        "df = pd.merge(grid, gb, how='left', on=index_cols).fillna(0)\n",
        "# Sort the data\n",
        "df.sort_values(['year','date_block_num','shop_id','item_id'], inplace=True)"
      ],
      "execution_count": 49,
      "outputs": []
    },
    {
      "cell_type": "code",
      "metadata": {
        "colab": {
          "base_uri": "https://localhost:8080/",
          "height": 206
        },
        "id": "Sh6p3tyTVXkp",
        "outputId": "abcf3fbd-7150-4b48-f40f-2b2ef19bb874"
      },
      "source": [
        "df.head()"
      ],
      "execution_count": 50,
      "outputs": [
        {
          "output_type": "execute_result",
          "data": {
            "text/html": [
              "<div>\n",
              "<style scoped>\n",
              "    .dataframe tbody tr th:only-of-type {\n",
              "        vertical-align: middle;\n",
              "    }\n",
              "\n",
              "    .dataframe tbody tr th {\n",
              "        vertical-align: top;\n",
              "    }\n",
              "\n",
              "    .dataframe thead th {\n",
              "        text-align: right;\n",
              "    }\n",
              "</style>\n",
              "<table border=\"1\" class=\"dataframe\">\n",
              "  <thead>\n",
              "    <tr style=\"text-align: right;\">\n",
              "      <th></th>\n",
              "      <th>shop_id</th>\n",
              "      <th>item_id</th>\n",
              "      <th>year</th>\n",
              "      <th>date_block_num</th>\n",
              "      <th>item_cnt_day</th>\n",
              "    </tr>\n",
              "  </thead>\n",
              "  <tbody>\n",
              "    <tr>\n",
              "      <th>139255</th>\n",
              "      <td>0</td>\n",
              "      <td>19</td>\n",
              "      <td>2013</td>\n",
              "      <td>0</td>\n",
              "      <td>0.0</td>\n",
              "    </tr>\n",
              "    <tr>\n",
              "      <th>141495</th>\n",
              "      <td>0</td>\n",
              "      <td>27</td>\n",
              "      <td>2013</td>\n",
              "      <td>0</td>\n",
              "      <td>0.0</td>\n",
              "    </tr>\n",
              "    <tr>\n",
              "      <th>144968</th>\n",
              "      <td>0</td>\n",
              "      <td>28</td>\n",
              "      <td>2013</td>\n",
              "      <td>0</td>\n",
              "      <td>0.0</td>\n",
              "    </tr>\n",
              "    <tr>\n",
              "      <th>142661</th>\n",
              "      <td>0</td>\n",
              "      <td>29</td>\n",
              "      <td>2013</td>\n",
              "      <td>0</td>\n",
              "      <td>0.0</td>\n",
              "    </tr>\n",
              "    <tr>\n",
              "      <th>138947</th>\n",
              "      <td>0</td>\n",
              "      <td>32</td>\n",
              "      <td>2013</td>\n",
              "      <td>0</td>\n",
              "      <td>6.0</td>\n",
              "    </tr>\n",
              "  </tbody>\n",
              "</table>\n",
              "</div>"
            ],
            "text/plain": [
              "        shop_id  item_id  year  date_block_num  item_cnt_day\n",
              "139255        0       19  2013               0           0.0\n",
              "141495        0       27  2013               0           0.0\n",
              "144968        0       28  2013               0           0.0\n",
              "142661        0       29  2013               0           0.0\n",
              "138947        0       32  2013               0           6.0"
            ]
          },
          "metadata": {},
          "execution_count": 50
        }
      ]
    },
    {
      "cell_type": "code",
      "metadata": {
        "id": "zvmfmMQ5bR0t"
      },
      "source": [
        "prices = df_train.groupby('item_id')['item_price'].max()"
      ],
      "execution_count": 51,
      "outputs": []
    },
    {
      "cell_type": "code",
      "metadata": {
        "colab": {
          "base_uri": "https://localhost:8080/",
          "height": 206
        },
        "id": "zNL0FOrZY1cg",
        "outputId": "715be45f-9c64-4a1b-e8e7-20cfa75b14ee"
      },
      "source": [
        "df['item_price'] = df['item_id'].map(prices)\n",
        "df.head()"
      ],
      "execution_count": 52,
      "outputs": [
        {
          "output_type": "execute_result",
          "data": {
            "text/html": [
              "<div>\n",
              "<style scoped>\n",
              "    .dataframe tbody tr th:only-of-type {\n",
              "        vertical-align: middle;\n",
              "    }\n",
              "\n",
              "    .dataframe tbody tr th {\n",
              "        vertical-align: top;\n",
              "    }\n",
              "\n",
              "    .dataframe thead th {\n",
              "        text-align: right;\n",
              "    }\n",
              "</style>\n",
              "<table border=\"1\" class=\"dataframe\">\n",
              "  <thead>\n",
              "    <tr style=\"text-align: right;\">\n",
              "      <th></th>\n",
              "      <th>shop_id</th>\n",
              "      <th>item_id</th>\n",
              "      <th>year</th>\n",
              "      <th>date_block_num</th>\n",
              "      <th>item_cnt_day</th>\n",
              "      <th>item_price</th>\n",
              "    </tr>\n",
              "  </thead>\n",
              "  <tbody>\n",
              "    <tr>\n",
              "      <th>139255</th>\n",
              "      <td>0</td>\n",
              "      <td>19</td>\n",
              "      <td>2013</td>\n",
              "      <td>0</td>\n",
              "      <td>0.0</td>\n",
              "      <td>28.0</td>\n",
              "    </tr>\n",
              "    <tr>\n",
              "      <th>141495</th>\n",
              "      <td>0</td>\n",
              "      <td>27</td>\n",
              "      <td>2013</td>\n",
              "      <td>0</td>\n",
              "      <td>0.0</td>\n",
              "      <td>2499.0</td>\n",
              "    </tr>\n",
              "    <tr>\n",
              "      <th>144968</th>\n",
              "      <td>0</td>\n",
              "      <td>28</td>\n",
              "      <td>2013</td>\n",
              "      <td>0</td>\n",
              "      <td>0.0</td>\n",
              "      <td>549.0</td>\n",
              "    </tr>\n",
              "    <tr>\n",
              "      <th>142661</th>\n",
              "      <td>0</td>\n",
              "      <td>29</td>\n",
              "      <td>2013</td>\n",
              "      <td>0</td>\n",
              "      <td>0.0</td>\n",
              "      <td>2499.0</td>\n",
              "    </tr>\n",
              "    <tr>\n",
              "      <th>138947</th>\n",
              "      <td>0</td>\n",
              "      <td>32</td>\n",
              "      <td>2013</td>\n",
              "      <td>0</td>\n",
              "      <td>6.0</td>\n",
              "      <td>349.0</td>\n",
              "    </tr>\n",
              "  </tbody>\n",
              "</table>\n",
              "</div>"
            ],
            "text/plain": [
              "        shop_id  item_id  year  date_block_num  item_cnt_day  item_price\n",
              "139255        0       19  2013               0           0.0        28.0\n",
              "141495        0       27  2013               0           0.0      2499.0\n",
              "144968        0       28  2013               0           0.0       549.0\n",
              "142661        0       29  2013               0           0.0      2499.0\n",
              "138947        0       32  2013               0           6.0       349.0"
            ]
          },
          "metadata": {},
          "execution_count": 52
        }
      ]
    },
    {
      "cell_type": "markdown",
      "metadata": {
        "id": "ksMbqm35xQIc"
      },
      "source": [
        "For clarification now we have values in months, so we will rename **item_cnt_day** to **item_cnt**"
      ]
    },
    {
      "cell_type": "code",
      "metadata": {
        "id": "Av7i-A54xPuT"
      },
      "source": [
        "df = df.rename(columns={'item_cnt_day': 'item_cnt'})"
      ],
      "execution_count": 53,
      "outputs": []
    },
    {
      "cell_type": "markdown",
      "metadata": {
        "id": "HPd1jGDiaVP6"
      },
      "source": [
        "It makes sense to create new feature, that will contain item_cnt in previous month for every item and shop ids "
      ]
    },
    {
      "cell_type": "code",
      "metadata": {
        "colab": {
          "base_uri": "https://localhost:8080/",
          "height": 206
        },
        "id": "pqNjR-H3pVdo",
        "outputId": "9215a395-4a51-48d8-9cf2-7e9d5727e893"
      },
      "source": [
        "cols = ['shop_id', 'item_id', 'date_block_num', 'item_cnt']\n",
        "\n",
        "prev_val_benchmark = df.loc[:, cols]\n",
        "prev_val_benchmark.date_block_num += 1\n",
        "prev_val_benchmark.rename(columns={'item_cnt': 'prev_value'}, inplace=True)\n",
        "prev_val_benchmark.head()"
      ],
      "execution_count": 54,
      "outputs": [
        {
          "output_type": "execute_result",
          "data": {
            "text/html": [
              "<div>\n",
              "<style scoped>\n",
              "    .dataframe tbody tr th:only-of-type {\n",
              "        vertical-align: middle;\n",
              "    }\n",
              "\n",
              "    .dataframe tbody tr th {\n",
              "        vertical-align: top;\n",
              "    }\n",
              "\n",
              "    .dataframe thead th {\n",
              "        text-align: right;\n",
              "    }\n",
              "</style>\n",
              "<table border=\"1\" class=\"dataframe\">\n",
              "  <thead>\n",
              "    <tr style=\"text-align: right;\">\n",
              "      <th></th>\n",
              "      <th>shop_id</th>\n",
              "      <th>item_id</th>\n",
              "      <th>date_block_num</th>\n",
              "      <th>prev_value</th>\n",
              "    </tr>\n",
              "  </thead>\n",
              "  <tbody>\n",
              "    <tr>\n",
              "      <th>139255</th>\n",
              "      <td>0</td>\n",
              "      <td>19</td>\n",
              "      <td>1</td>\n",
              "      <td>0.0</td>\n",
              "    </tr>\n",
              "    <tr>\n",
              "      <th>141495</th>\n",
              "      <td>0</td>\n",
              "      <td>27</td>\n",
              "      <td>1</td>\n",
              "      <td>0.0</td>\n",
              "    </tr>\n",
              "    <tr>\n",
              "      <th>144968</th>\n",
              "      <td>0</td>\n",
              "      <td>28</td>\n",
              "      <td>1</td>\n",
              "      <td>0.0</td>\n",
              "    </tr>\n",
              "    <tr>\n",
              "      <th>142661</th>\n",
              "      <td>0</td>\n",
              "      <td>29</td>\n",
              "      <td>1</td>\n",
              "      <td>0.0</td>\n",
              "    </tr>\n",
              "    <tr>\n",
              "      <th>138947</th>\n",
              "      <td>0</td>\n",
              "      <td>32</td>\n",
              "      <td>1</td>\n",
              "      <td>6.0</td>\n",
              "    </tr>\n",
              "  </tbody>\n",
              "</table>\n",
              "</div>"
            ],
            "text/plain": [
              "        shop_id  item_id  date_block_num  prev_value\n",
              "139255        0       19               1         0.0\n",
              "141495        0       27               1         0.0\n",
              "144968        0       28               1         0.0\n",
              "142661        0       29               1         0.0\n",
              "138947        0       32               1         6.0"
            ]
          },
          "metadata": {},
          "execution_count": 54
        }
      ]
    },
    {
      "cell_type": "code",
      "metadata": {
        "id": "yMwq9GectRQ9",
        "colab": {
          "base_uri": "https://localhost:8080/",
          "height": 206
        },
        "outputId": "1007cfbb-5ad9-4fbb-80e0-2c47f9488218"
      },
      "source": [
        "df = pd.merge(df, prev_val_benchmark,\n",
        "              how='left', on=cols[:-1])\n",
        "df.tail()"
      ],
      "execution_count": 55,
      "outputs": [
        {
          "output_type": "execute_result",
          "data": {
            "text/html": [
              "<div>\n",
              "<style scoped>\n",
              "    .dataframe tbody tr th:only-of-type {\n",
              "        vertical-align: middle;\n",
              "    }\n",
              "\n",
              "    .dataframe tbody tr th {\n",
              "        vertical-align: top;\n",
              "    }\n",
              "\n",
              "    .dataframe thead th {\n",
              "        text-align: right;\n",
              "    }\n",
              "</style>\n",
              "<table border=\"1\" class=\"dataframe\">\n",
              "  <thead>\n",
              "    <tr style=\"text-align: right;\">\n",
              "      <th></th>\n",
              "      <th>shop_id</th>\n",
              "      <th>item_id</th>\n",
              "      <th>year</th>\n",
              "      <th>date_block_num</th>\n",
              "      <th>item_cnt</th>\n",
              "      <th>item_price</th>\n",
              "      <th>prev_value</th>\n",
              "    </tr>\n",
              "  </thead>\n",
              "  <tbody>\n",
              "    <tr>\n",
              "      <th>10913799</th>\n",
              "      <td>59</td>\n",
              "      <td>22162</td>\n",
              "      <td>2015</td>\n",
              "      <td>33</td>\n",
              "      <td>0.0</td>\n",
              "      <td>399.0</td>\n",
              "      <td>0.0</td>\n",
              "    </tr>\n",
              "    <tr>\n",
              "      <th>10913800</th>\n",
              "      <td>59</td>\n",
              "      <td>22163</td>\n",
              "      <td>2015</td>\n",
              "      <td>33</td>\n",
              "      <td>0.0</td>\n",
              "      <td>169.0</td>\n",
              "      <td>0.0</td>\n",
              "    </tr>\n",
              "    <tr>\n",
              "      <th>10913801</th>\n",
              "      <td>59</td>\n",
              "      <td>22164</td>\n",
              "      <td>2015</td>\n",
              "      <td>33</td>\n",
              "      <td>0.0</td>\n",
              "      <td>749.0</td>\n",
              "      <td>0.0</td>\n",
              "    </tr>\n",
              "    <tr>\n",
              "      <th>10913802</th>\n",
              "      <td>59</td>\n",
              "      <td>22166</td>\n",
              "      <td>2015</td>\n",
              "      <td>33</td>\n",
              "      <td>0.0</td>\n",
              "      <td>150.0</td>\n",
              "      <td>0.0</td>\n",
              "    </tr>\n",
              "    <tr>\n",
              "      <th>10913803</th>\n",
              "      <td>59</td>\n",
              "      <td>22167</td>\n",
              "      <td>2015</td>\n",
              "      <td>33</td>\n",
              "      <td>0.0</td>\n",
              "      <td>299.0</td>\n",
              "      <td>0.0</td>\n",
              "    </tr>\n",
              "  </tbody>\n",
              "</table>\n",
              "</div>"
            ],
            "text/plain": [
              "          shop_id  item_id  year  ...  item_cnt  item_price  prev_value\n",
              "10913799       59    22162  2015  ...       0.0       399.0         0.0\n",
              "10913800       59    22163  2015  ...       0.0       169.0         0.0\n",
              "10913801       59    22164  2015  ...       0.0       749.0         0.0\n",
              "10913802       59    22166  2015  ...       0.0       150.0         0.0\n",
              "10913803       59    22167  2015  ...       0.0       299.0         0.0\n",
              "\n",
              "[5 rows x 7 columns]"
            ]
          },
          "metadata": {},
          "execution_count": 55
        }
      ]
    },
    {
      "cell_type": "markdown",
      "metadata": {
        "id": "-mpDHQLuaemK"
      },
      "source": [
        "Non-existent values we fill with -1"
      ]
    },
    {
      "cell_type": "code",
      "metadata": {
        "colab": {
          "base_uri": "https://localhost:8080/",
          "height": 206
        },
        "id": "n2WXvlTnUXnG",
        "outputId": "be7ee656-e976-43da-8ea5-26d3132c611d"
      },
      "source": [
        "df['prev_value'] = df.prev_value.fillna(-1)\n",
        "df.head()"
      ],
      "execution_count": 56,
      "outputs": [
        {
          "output_type": "execute_result",
          "data": {
            "text/html": [
              "<div>\n",
              "<style scoped>\n",
              "    .dataframe tbody tr th:only-of-type {\n",
              "        vertical-align: middle;\n",
              "    }\n",
              "\n",
              "    .dataframe tbody tr th {\n",
              "        vertical-align: top;\n",
              "    }\n",
              "\n",
              "    .dataframe thead th {\n",
              "        text-align: right;\n",
              "    }\n",
              "</style>\n",
              "<table border=\"1\" class=\"dataframe\">\n",
              "  <thead>\n",
              "    <tr style=\"text-align: right;\">\n",
              "      <th></th>\n",
              "      <th>shop_id</th>\n",
              "      <th>item_id</th>\n",
              "      <th>year</th>\n",
              "      <th>date_block_num</th>\n",
              "      <th>item_cnt</th>\n",
              "      <th>item_price</th>\n",
              "      <th>prev_value</th>\n",
              "    </tr>\n",
              "  </thead>\n",
              "  <tbody>\n",
              "    <tr>\n",
              "      <th>0</th>\n",
              "      <td>0</td>\n",
              "      <td>19</td>\n",
              "      <td>2013</td>\n",
              "      <td>0</td>\n",
              "      <td>0.0</td>\n",
              "      <td>28.0</td>\n",
              "      <td>-1.0</td>\n",
              "    </tr>\n",
              "    <tr>\n",
              "      <th>1</th>\n",
              "      <td>0</td>\n",
              "      <td>27</td>\n",
              "      <td>2013</td>\n",
              "      <td>0</td>\n",
              "      <td>0.0</td>\n",
              "      <td>2499.0</td>\n",
              "      <td>-1.0</td>\n",
              "    </tr>\n",
              "    <tr>\n",
              "      <th>2</th>\n",
              "      <td>0</td>\n",
              "      <td>28</td>\n",
              "      <td>2013</td>\n",
              "      <td>0</td>\n",
              "      <td>0.0</td>\n",
              "      <td>549.0</td>\n",
              "      <td>-1.0</td>\n",
              "    </tr>\n",
              "    <tr>\n",
              "      <th>3</th>\n",
              "      <td>0</td>\n",
              "      <td>29</td>\n",
              "      <td>2013</td>\n",
              "      <td>0</td>\n",
              "      <td>0.0</td>\n",
              "      <td>2499.0</td>\n",
              "      <td>-1.0</td>\n",
              "    </tr>\n",
              "    <tr>\n",
              "      <th>4</th>\n",
              "      <td>0</td>\n",
              "      <td>32</td>\n",
              "      <td>2013</td>\n",
              "      <td>0</td>\n",
              "      <td>6.0</td>\n",
              "      <td>349.0</td>\n",
              "      <td>-1.0</td>\n",
              "    </tr>\n",
              "  </tbody>\n",
              "</table>\n",
              "</div>"
            ],
            "text/plain": [
              "   shop_id  item_id  year  date_block_num  item_cnt  item_price  prev_value\n",
              "0        0       19  2013               0       0.0        28.0        -1.0\n",
              "1        0       27  2013               0       0.0      2499.0        -1.0\n",
              "2        0       28  2013               0       0.0       549.0        -1.0\n",
              "3        0       29  2013               0       0.0      2499.0        -1.0\n",
              "4        0       32  2013               0       6.0       349.0        -1.0"
            ]
          },
          "metadata": {},
          "execution_count": 56
        }
      ]
    },
    {
      "cell_type": "code",
      "metadata": {
        "colab": {
          "base_uri": "https://localhost:8080/",
          "height": 286
        },
        "id": "rI7alq_nRD_4",
        "outputId": "494f0f9a-149c-4614-9238-f4f7ce794012"
      },
      "source": [
        "import matplotlib.pyplot as plt\n",
        "import seaborn as sns\n",
        "\n",
        "ax = sns.barplot(x=\"date_block_num\", y=\"item_cnt\", data=df)\n",
        "plt.xticks(rotation=45)\n",
        "plt.show()"
      ],
      "execution_count": 57,
      "outputs": [
        {
          "output_type": "display_data",
          "data": {
            "image/png": "[encoded data removed]",
            "text/plain": [
              "<Figure size 432x288 with 1 Axes>"
            ]
          },
          "metadata": {
            "needs_background": "light"
          }
        }
      ]
    },
    {
      "cell_type": "markdown",
      "metadata": {
        "id": "mTNLTlwoTaFL"
      },
      "source": [
        "Moreover it makes sense to create new feature, that will display **item_cnt** in previous year in the same month"
      ]
    },
    {
      "cell_type": "code",
      "metadata": {
        "colab": {
          "base_uri": "https://localhost:8080/",
          "height": 206
        },
        "id": "I8qNzcPvThWn",
        "outputId": "63ddc4cd-d844-4182-e4f7-24d86c496bd4"
      },
      "source": [
        "cols = ['shop_id', 'item_id', 'date_block_num', 'item_cnt']\n",
        "\n",
        "prev_val_year_benchmark = df.loc[:, cols]\n",
        "prev_val_year_benchmark.date_block_num += 12\n",
        "prev_val_year_benchmark.rename(columns={'item_cnt': 'prev_value_year'}, inplace=True)\n",
        "prev_val_year_benchmark.head()"
      ],
      "execution_count": 58,
      "outputs": [
        {
          "output_type": "execute_result",
          "data": {
            "text/html": [
              "<div>\n",
              "<style scoped>\n",
              "    .dataframe tbody tr th:only-of-type {\n",
              "        vertical-align: middle;\n",
              "    }\n",
              "\n",
              "    .dataframe tbody tr th {\n",
              "        vertical-align: top;\n",
              "    }\n",
              "\n",
              "    .dataframe thead th {\n",
              "        text-align: right;\n",
              "    }\n",
              "</style>\n",
              "<table border=\"1\" class=\"dataframe\">\n",
              "  <thead>\n",
              "    <tr style=\"text-align: right;\">\n",
              "      <th></th>\n",
              "      <th>shop_id</th>\n",
              "      <th>item_id</th>\n",
              "      <th>date_block_num</th>\n",
              "      <th>prev_value_year</th>\n",
              "    </tr>\n",
              "  </thead>\n",
              "  <tbody>\n",
              "    <tr>\n",
              "      <th>0</th>\n",
              "      <td>0</td>\n",
              "      <td>19</td>\n",
              "      <td>12</td>\n",
              "      <td>0.0</td>\n",
              "    </tr>\n",
              "    <tr>\n",
              "      <th>1</th>\n",
              "      <td>0</td>\n",
              "      <td>27</td>\n",
              "      <td>12</td>\n",
              "      <td>0.0</td>\n",
              "    </tr>\n",
              "    <tr>\n",
              "      <th>2</th>\n",
              "      <td>0</td>\n",
              "      <td>28</td>\n",
              "      <td>12</td>\n",
              "      <td>0.0</td>\n",
              "    </tr>\n",
              "    <tr>\n",
              "      <th>3</th>\n",
              "      <td>0</td>\n",
              "      <td>29</td>\n",
              "      <td>12</td>\n",
              "      <td>0.0</td>\n",
              "    </tr>\n",
              "    <tr>\n",
              "      <th>4</th>\n",
              "      <td>0</td>\n",
              "      <td>32</td>\n",
              "      <td>12</td>\n",
              "      <td>6.0</td>\n",
              "    </tr>\n",
              "  </tbody>\n",
              "</table>\n",
              "</div>"
            ],
            "text/plain": [
              "   shop_id  item_id  date_block_num  prev_value_year\n",
              "0        0       19              12              0.0\n",
              "1        0       27              12              0.0\n",
              "2        0       28              12              0.0\n",
              "3        0       29              12              0.0\n",
              "4        0       32              12              6.0"
            ]
          },
          "metadata": {},
          "execution_count": 58
        }
      ]
    },
    {
      "cell_type": "code",
      "metadata": {
        "colab": {
          "base_uri": "https://localhost:8080/",
          "height": 206
        },
        "id": "llMyDlZvZmuC",
        "outputId": "f219d75c-ea82-4626-e86b-9293772353a9"
      },
      "source": [
        "df = pd.merge(df, prev_val_year_benchmark,\n",
        "              how='left', on=cols[:-1])\n",
        "df.tail()"
      ],
      "execution_count": 59,
      "outputs": [
        {
          "output_type": "execute_result",
          "data": {
            "text/html": [
              "<div>\n",
              "<style scoped>\n",
              "    .dataframe tbody tr th:only-of-type {\n",
              "        vertical-align: middle;\n",
              "    }\n",
              "\n",
              "    .dataframe tbody tr th {\n",
              "        vertical-align: top;\n",
              "    }\n",
              "\n",
              "    .dataframe thead th {\n",
              "        text-align: right;\n",
              "    }\n",
              "</style>\n",
              "<table border=\"1\" class=\"dataframe\">\n",
              "  <thead>\n",
              "    <tr style=\"text-align: right;\">\n",
              "      <th></th>\n",
              "      <th>shop_id</th>\n",
              "      <th>item_id</th>\n",
              "      <th>year</th>\n",
              "      <th>date_block_num</th>\n",
              "      <th>item_cnt</th>\n",
              "      <th>item_price</th>\n",
              "      <th>prev_value</th>\n",
              "      <th>prev_value_year</th>\n",
              "    </tr>\n",
              "  </thead>\n",
              "  <tbody>\n",
              "    <tr>\n",
              "      <th>10913799</th>\n",
              "      <td>59</td>\n",
              "      <td>22162</td>\n",
              "      <td>2015</td>\n",
              "      <td>33</td>\n",
              "      <td>0.0</td>\n",
              "      <td>399.0</td>\n",
              "      <td>0.0</td>\n",
              "      <td>NaN</td>\n",
              "    </tr>\n",
              "    <tr>\n",
              "      <th>10913800</th>\n",
              "      <td>59</td>\n",
              "      <td>22163</td>\n",
              "      <td>2015</td>\n",
              "      <td>33</td>\n",
              "      <td>0.0</td>\n",
              "      <td>169.0</td>\n",
              "      <td>0.0</td>\n",
              "      <td>NaN</td>\n",
              "    </tr>\n",
              "    <tr>\n",
              "      <th>10913801</th>\n",
              "      <td>59</td>\n",
              "      <td>22164</td>\n",
              "      <td>2015</td>\n",
              "      <td>33</td>\n",
              "      <td>0.0</td>\n",
              "      <td>749.0</td>\n",
              "      <td>0.0</td>\n",
              "      <td>NaN</td>\n",
              "    </tr>\n",
              "    <tr>\n",
              "      <th>10913802</th>\n",
              "      <td>59</td>\n",
              "      <td>22166</td>\n",
              "      <td>2015</td>\n",
              "      <td>33</td>\n",
              "      <td>0.0</td>\n",
              "      <td>150.0</td>\n",
              "      <td>0.0</td>\n",
              "      <td>0.0</td>\n",
              "    </tr>\n",
              "    <tr>\n",
              "      <th>10913803</th>\n",
              "      <td>59</td>\n",
              "      <td>22167</td>\n",
              "      <td>2015</td>\n",
              "      <td>33</td>\n",
              "      <td>0.0</td>\n",
              "      <td>299.0</td>\n",
              "      <td>0.0</td>\n",
              "      <td>0.0</td>\n",
              "    </tr>\n",
              "  </tbody>\n",
              "</table>\n",
              "</div>"
            ],
            "text/plain": [
              "          shop_id  item_id  year  ...  item_price  prev_value  prev_value_year\n",
              "10913799       59    22162  2015  ...       399.0         0.0              NaN\n",
              "10913800       59    22163  2015  ...       169.0         0.0              NaN\n",
              "10913801       59    22164  2015  ...       749.0         0.0              NaN\n",
              "10913802       59    22166  2015  ...       150.0         0.0              0.0\n",
              "10913803       59    22167  2015  ...       299.0         0.0              0.0\n",
              "\n",
              "[5 rows x 8 columns]"
            ]
          },
          "metadata": {},
          "execution_count": 59
        }
      ]
    },
    {
      "cell_type": "markdown",
      "metadata": {
        "id": "hMCPsy-AbUP3"
      },
      "source": [
        "Non-existent we fill with -1"
      ]
    },
    {
      "cell_type": "code",
      "metadata": {
        "colab": {
          "base_uri": "https://localhost:8080/",
          "height": 206
        },
        "id": "cBbCDS2FZupX",
        "outputId": "2602d646-1679-4187-a79c-c338738133a4"
      },
      "source": [
        "df['prev_value_year'] = df.prev_value_year.fillna(-1)\n",
        "df.head()"
      ],
      "execution_count": 60,
      "outputs": [
        {
          "output_type": "execute_result",
          "data": {
            "text/html": [
              "<div>\n",
              "<style scoped>\n",
              "    .dataframe tbody tr th:only-of-type {\n",
              "        vertical-align: middle;\n",
              "    }\n",
              "\n",
              "    .dataframe tbody tr th {\n",
              "        vertical-align: top;\n",
              "    }\n",
              "\n",
              "    .dataframe thead th {\n",
              "        text-align: right;\n",
              "    }\n",
              "</style>\n",
              "<table border=\"1\" class=\"dataframe\">\n",
              "  <thead>\n",
              "    <tr style=\"text-align: right;\">\n",
              "      <th></th>\n",
              "      <th>shop_id</th>\n",
              "      <th>item_id</th>\n",
              "      <th>year</th>\n",
              "      <th>date_block_num</th>\n",
              "      <th>item_cnt</th>\n",
              "      <th>item_price</th>\n",
              "      <th>prev_value</th>\n",
              "      <th>prev_value_year</th>\n",
              "    </tr>\n",
              "  </thead>\n",
              "  <tbody>\n",
              "    <tr>\n",
              "      <th>0</th>\n",
              "      <td>0</td>\n",
              "      <td>19</td>\n",
              "      <td>2013</td>\n",
              "      <td>0</td>\n",
              "      <td>0.0</td>\n",
              "      <td>28.0</td>\n",
              "      <td>-1.0</td>\n",
              "      <td>-1.0</td>\n",
              "    </tr>\n",
              "    <tr>\n",
              "      <th>1</th>\n",
              "      <td>0</td>\n",
              "      <td>27</td>\n",
              "      <td>2013</td>\n",
              "      <td>0</td>\n",
              "      <td>0.0</td>\n",
              "      <td>2499.0</td>\n",
              "      <td>-1.0</td>\n",
              "      <td>-1.0</td>\n",
              "    </tr>\n",
              "    <tr>\n",
              "      <th>2</th>\n",
              "      <td>0</td>\n",
              "      <td>28</td>\n",
              "      <td>2013</td>\n",
              "      <td>0</td>\n",
              "      <td>0.0</td>\n",
              "      <td>549.0</td>\n",
              "      <td>-1.0</td>\n",
              "      <td>-1.0</td>\n",
              "    </tr>\n",
              "    <tr>\n",
              "      <th>3</th>\n",
              "      <td>0</td>\n",
              "      <td>29</td>\n",
              "      <td>2013</td>\n",
              "      <td>0</td>\n",
              "      <td>0.0</td>\n",
              "      <td>2499.0</td>\n",
              "      <td>-1.0</td>\n",
              "      <td>-1.0</td>\n",
              "    </tr>\n",
              "    <tr>\n",
              "      <th>4</th>\n",
              "      <td>0</td>\n",
              "      <td>32</td>\n",
              "      <td>2013</td>\n",
              "      <td>0</td>\n",
              "      <td>6.0</td>\n",
              "      <td>349.0</td>\n",
              "      <td>-1.0</td>\n",
              "      <td>-1.0</td>\n",
              "    </tr>\n",
              "  </tbody>\n",
              "</table>\n",
              "</div>"
            ],
            "text/plain": [
              "   shop_id  item_id  year  ...  item_price  prev_value  prev_value_year\n",
              "0        0       19  2013  ...        28.0        -1.0             -1.0\n",
              "1        0       27  2013  ...      2499.0        -1.0             -1.0\n",
              "2        0       28  2013  ...       549.0        -1.0             -1.0\n",
              "3        0       29  2013  ...      2499.0        -1.0             -1.0\n",
              "4        0       32  2013  ...       349.0        -1.0             -1.0\n",
              "\n",
              "[5 rows x 8 columns]"
            ]
          },
          "metadata": {},
          "execution_count": 60
        }
      ]
    },
    {
      "cell_type": "markdown",
      "metadata": {
        "id": "IrkftcwOwxG2"
      },
      "source": [
        "New features:\n",
        "*   stock_prev = item_price * prev_value\n",
        "*   stock_prev_year = item_price * prev_value_year\n",
        "\n",
        "\n"
      ]
    },
    {
      "cell_type": "code",
      "metadata": {
        "id": "RueqigxfxBdX"
      },
      "source": [
        "df['stock_prev'] = df['item_price'] * df['prev_value']\n",
        "df['stock_prev_year'] = df['item_price'] * df['prev_value_year']"
      ],
      "execution_count": 61,
      "outputs": []
    },
    {
      "cell_type": "code",
      "metadata": {
        "colab": {
          "base_uri": "https://localhost:8080/",
          "height": 206
        },
        "id": "1IaMXl64izMu",
        "outputId": "615c6304-709d-4824-d63d-9f90b7043a50"
      },
      "source": [
        "df.loc[df['stock_prev'] < 0, 'stock_prev'] = -1\n",
        "df.loc[df['stock_prev_year'] < 0, 'stock_prev_year'] = -1\n",
        "df.head()"
      ],
      "execution_count": 62,
      "outputs": [
        {
          "output_type": "execute_result",
          "data": {
            "text/html": [
              "<div>\n",
              "<style scoped>\n",
              "    .dataframe tbody tr th:only-of-type {\n",
              "        vertical-align: middle;\n",
              "    }\n",
              "\n",
              "    .dataframe tbody tr th {\n",
              "        vertical-align: top;\n",
              "    }\n",
              "\n",
              "    .dataframe thead th {\n",
              "        text-align: right;\n",
              "    }\n",
              "</style>\n",
              "<table border=\"1\" class=\"dataframe\">\n",
              "  <thead>\n",
              "    <tr style=\"text-align: right;\">\n",
              "      <th></th>\n",
              "      <th>shop_id</th>\n",
              "      <th>item_id</th>\n",
              "      <th>year</th>\n",
              "      <th>date_block_num</th>\n",
              "      <th>item_cnt</th>\n",
              "      <th>item_price</th>\n",
              "      <th>prev_value</th>\n",
              "      <th>prev_value_year</th>\n",
              "      <th>stock_prev</th>\n",
              "      <th>stock_prev_year</th>\n",
              "    </tr>\n",
              "  </thead>\n",
              "  <tbody>\n",
              "    <tr>\n",
              "      <th>0</th>\n",
              "      <td>0</td>\n",
              "      <td>19</td>\n",
              "      <td>2013</td>\n",
              "      <td>0</td>\n",
              "      <td>0.0</td>\n",
              "      <td>28.0</td>\n",
              "      <td>-1.0</td>\n",
              "      <td>-1.0</td>\n",
              "      <td>-1.0</td>\n",
              "      <td>-1.0</td>\n",
              "    </tr>\n",
              "    <tr>\n",
              "      <th>1</th>\n",
              "      <td>0</td>\n",
              "      <td>27</td>\n",
              "      <td>2013</td>\n",
              "      <td>0</td>\n",
              "      <td>0.0</td>\n",
              "      <td>2499.0</td>\n",
              "      <td>-1.0</td>\n",
              "      <td>-1.0</td>\n",
              "      <td>-1.0</td>\n",
              "      <td>-1.0</td>\n",
              "    </tr>\n",
              "    <tr>\n",
              "      <th>2</th>\n",
              "      <td>0</td>\n",
              "      <td>28</td>\n",
              "      <td>2013</td>\n",
              "      <td>0</td>\n",
              "      <td>0.0</td>\n",
              "      <td>549.0</td>\n",
              "      <td>-1.0</td>\n",
              "      <td>-1.0</td>\n",
              "      <td>-1.0</td>\n",
              "      <td>-1.0</td>\n",
              "    </tr>\n",
              "    <tr>\n",
              "      <th>3</th>\n",
              "      <td>0</td>\n",
              "      <td>29</td>\n",
              "      <td>2013</td>\n",
              "      <td>0</td>\n",
              "      <td>0.0</td>\n",
              "      <td>2499.0</td>\n",
              "      <td>-1.0</td>\n",
              "      <td>-1.0</td>\n",
              "      <td>-1.0</td>\n",
              "      <td>-1.0</td>\n",
              "    </tr>\n",
              "    <tr>\n",
              "      <th>4</th>\n",
              "      <td>0</td>\n",
              "      <td>32</td>\n",
              "      <td>2013</td>\n",
              "      <td>0</td>\n",
              "      <td>6.0</td>\n",
              "      <td>349.0</td>\n",
              "      <td>-1.0</td>\n",
              "      <td>-1.0</td>\n",
              "      <td>-1.0</td>\n",
              "      <td>-1.0</td>\n",
              "    </tr>\n",
              "  </tbody>\n",
              "</table>\n",
              "</div>"
            ],
            "text/plain": [
              "   shop_id  item_id  year  ...  prev_value_year  stock_prev  stock_prev_year\n",
              "0        0       19  2013  ...             -1.0        -1.0             -1.0\n",
              "1        0       27  2013  ...             -1.0        -1.0             -1.0\n",
              "2        0       28  2013  ...             -1.0        -1.0             -1.0\n",
              "3        0       29  2013  ...             -1.0        -1.0             -1.0\n",
              "4        0       32  2013  ...             -1.0        -1.0             -1.0\n",
              "\n",
              "[5 rows x 10 columns]"
            ]
          },
          "metadata": {},
          "execution_count": 62
        }
      ]
    },
    {
      "cell_type": "markdown",
      "metadata": {
        "id": "W6WwoOK3xsjX"
      },
      "source": [
        "Merge with df_shops for additional info"
      ]
    },
    {
      "cell_type": "code",
      "metadata": {
        "colab": {
          "base_uri": "https://localhost:8080/",
          "height": 206
        },
        "id": "NDrGViihCHl7",
        "outputId": "151999ba-359d-4a18-b8cf-deac4a15e063"
      },
      "source": [
        "df = pd.merge(df, df_shops,\n",
        "              how='left', on='shop_id')\n",
        "df.head()"
      ],
      "execution_count": 63,
      "outputs": [
        {
          "output_type": "execute_result",
          "data": {
            "text/html": [
              "<div>\n",
              "<style scoped>\n",
              "    .dataframe tbody tr th:only-of-type {\n",
              "        vertical-align: middle;\n",
              "    }\n",
              "\n",
              "    .dataframe tbody tr th {\n",
              "        vertical-align: top;\n",
              "    }\n",
              "\n",
              "    .dataframe thead th {\n",
              "        text-align: right;\n",
              "    }\n",
              "</style>\n",
              "<table border=\"1\" class=\"dataframe\">\n",
              "  <thead>\n",
              "    <tr style=\"text-align: right;\">\n",
              "      <th></th>\n",
              "      <th>shop_id</th>\n",
              "      <th>item_id</th>\n",
              "      <th>year</th>\n",
              "      <th>date_block_num</th>\n",
              "      <th>item_cnt</th>\n",
              "      <th>item_price</th>\n",
              "      <th>prev_value</th>\n",
              "      <th>prev_value_year</th>\n",
              "      <th>stock_prev</th>\n",
              "      <th>stock_prev_year</th>\n",
              "      <th>city_enc</th>\n",
              "      <th>shop_type_enc</th>\n",
              "    </tr>\n",
              "  </thead>\n",
              "  <tbody>\n",
              "    <tr>\n",
              "      <th>0</th>\n",
              "      <td>0</td>\n",
              "      <td>19</td>\n",
              "      <td>2013</td>\n",
              "      <td>0</td>\n",
              "      <td>0.0</td>\n",
              "      <td>28.0</td>\n",
              "      <td>-1.0</td>\n",
              "      <td>-1.0</td>\n",
              "      <td>-1.0</td>\n",
              "      <td>-1.0</td>\n",
              "      <td>29</td>\n",
              "      <td>4</td>\n",
              "    </tr>\n",
              "    <tr>\n",
              "      <th>1</th>\n",
              "      <td>0</td>\n",
              "      <td>27</td>\n",
              "      <td>2013</td>\n",
              "      <td>0</td>\n",
              "      <td>0.0</td>\n",
              "      <td>2499.0</td>\n",
              "      <td>-1.0</td>\n",
              "      <td>-1.0</td>\n",
              "      <td>-1.0</td>\n",
              "      <td>-1.0</td>\n",
              "      <td>29</td>\n",
              "      <td>4</td>\n",
              "    </tr>\n",
              "    <tr>\n",
              "      <th>2</th>\n",
              "      <td>0</td>\n",
              "      <td>28</td>\n",
              "      <td>2013</td>\n",
              "      <td>0</td>\n",
              "      <td>0.0</td>\n",
              "      <td>549.0</td>\n",
              "      <td>-1.0</td>\n",
              "      <td>-1.0</td>\n",
              "      <td>-1.0</td>\n",
              "      <td>-1.0</td>\n",
              "      <td>29</td>\n",
              "      <td>4</td>\n",
              "    </tr>\n",
              "    <tr>\n",
              "      <th>3</th>\n",
              "      <td>0</td>\n",
              "      <td>29</td>\n",
              "      <td>2013</td>\n",
              "      <td>0</td>\n",
              "      <td>0.0</td>\n",
              "      <td>2499.0</td>\n",
              "      <td>-1.0</td>\n",
              "      <td>-1.0</td>\n",
              "      <td>-1.0</td>\n",
              "      <td>-1.0</td>\n",
              "      <td>29</td>\n",
              "      <td>4</td>\n",
              "    </tr>\n",
              "    <tr>\n",
              "      <th>4</th>\n",
              "      <td>0</td>\n",
              "      <td>32</td>\n",
              "      <td>2013</td>\n",
              "      <td>0</td>\n",
              "      <td>6.0</td>\n",
              "      <td>349.0</td>\n",
              "      <td>-1.0</td>\n",
              "      <td>-1.0</td>\n",
              "      <td>-1.0</td>\n",
              "      <td>-1.0</td>\n",
              "      <td>29</td>\n",
              "      <td>4</td>\n",
              "    </tr>\n",
              "  </tbody>\n",
              "</table>\n",
              "</div>"
            ],
            "text/plain": [
              "   shop_id  item_id  year  ...  stock_prev_year  city_enc  shop_type_enc\n",
              "0        0       19  2013  ...             -1.0        29              4\n",
              "1        0       27  2013  ...             -1.0        29              4\n",
              "2        0       28  2013  ...             -1.0        29              4\n",
              "3        0       29  2013  ...             -1.0        29              4\n",
              "4        0       32  2013  ...             -1.0        29              4\n",
              "\n",
              "[5 rows x 12 columns]"
            ]
          },
          "metadata": {},
          "execution_count": 63
        }
      ]
    },
    {
      "cell_type": "markdown",
      "metadata": {
        "id": "yjsiDsPI3PBo"
      },
      "source": [
        "Merge with df_cat for additional info"
      ]
    },
    {
      "cell_type": "code",
      "metadata": {
        "colab": {
          "base_uri": "https://localhost:8080/",
          "height": 226
        },
        "id": "_HdenJzu3R1X",
        "outputId": "9c5554df-e8df-427d-96d7-eb9f9ae6bc55"
      },
      "source": [
        "df = pd.merge(df, df_cat,\n",
        "              how='left', on='item_id')\n",
        "df.head()"
      ],
      "execution_count": 64,
      "outputs": [
        {
          "output_type": "execute_result",
          "data": {
            "text/html": [
              "<div>\n",
              "<style scoped>\n",
              "    .dataframe tbody tr th:only-of-type {\n",
              "        vertical-align: middle;\n",
              "    }\n",
              "\n",
              "    .dataframe tbody tr th {\n",
              "        vertical-align: top;\n",
              "    }\n",
              "\n",
              "    .dataframe thead th {\n",
              "        text-align: right;\n",
              "    }\n",
              "</style>\n",
              "<table border=\"1\" class=\"dataframe\">\n",
              "  <thead>\n",
              "    <tr style=\"text-align: right;\">\n",
              "      <th></th>\n",
              "      <th>shop_id</th>\n",
              "      <th>item_id</th>\n",
              "      <th>year</th>\n",
              "      <th>date_block_num</th>\n",
              "      <th>item_cnt</th>\n",
              "      <th>item_price</th>\n",
              "      <th>prev_value</th>\n",
              "      <th>prev_value_year</th>\n",
              "      <th>stock_prev</th>\n",
              "      <th>stock_prev_year</th>\n",
              "      <th>city_enc</th>\n",
              "      <th>shop_type_enc</th>\n",
              "      <th>item_category_id</th>\n",
              "      <th>digital</th>\n",
              "      <th>item_area_enc</th>\n",
              "      <th>area_to_enc</th>\n",
              "    </tr>\n",
              "  </thead>\n",
              "  <tbody>\n",
              "    <tr>\n",
              "      <th>0</th>\n",
              "      <td>0</td>\n",
              "      <td>19</td>\n",
              "      <td>2013</td>\n",
              "      <td>0</td>\n",
              "      <td>0.0</td>\n",
              "      <td>28.0</td>\n",
              "      <td>-1.0</td>\n",
              "      <td>-1.0</td>\n",
              "      <td>-1.0</td>\n",
              "      <td>-1.0</td>\n",
              "      <td>29</td>\n",
              "      <td>4</td>\n",
              "      <td>40</td>\n",
              "      <td>0</td>\n",
              "      <td>7</td>\n",
              "      <td>4</td>\n",
              "    </tr>\n",
              "    <tr>\n",
              "      <th>1</th>\n",
              "      <td>0</td>\n",
              "      <td>27</td>\n",
              "      <td>2013</td>\n",
              "      <td>0</td>\n",
              "      <td>0.0</td>\n",
              "      <td>2499.0</td>\n",
              "      <td>-1.0</td>\n",
              "      <td>-1.0</td>\n",
              "      <td>-1.0</td>\n",
              "      <td>-1.0</td>\n",
              "      <td>29</td>\n",
              "      <td>4</td>\n",
              "      <td>19</td>\n",
              "      <td>0</td>\n",
              "      <td>5</td>\n",
              "      <td>9</td>\n",
              "    </tr>\n",
              "    <tr>\n",
              "      <th>2</th>\n",
              "      <td>0</td>\n",
              "      <td>28</td>\n",
              "      <td>2013</td>\n",
              "      <td>0</td>\n",
              "      <td>0.0</td>\n",
              "      <td>549.0</td>\n",
              "      <td>-1.0</td>\n",
              "      <td>-1.0</td>\n",
              "      <td>-1.0</td>\n",
              "      <td>-1.0</td>\n",
              "      <td>29</td>\n",
              "      <td>4</td>\n",
              "      <td>30</td>\n",
              "      <td>0</td>\n",
              "      <td>5</td>\n",
              "      <td>49</td>\n",
              "    </tr>\n",
              "    <tr>\n",
              "      <th>3</th>\n",
              "      <td>0</td>\n",
              "      <td>29</td>\n",
              "      <td>2013</td>\n",
              "      <td>0</td>\n",
              "      <td>0.0</td>\n",
              "      <td>2499.0</td>\n",
              "      <td>-1.0</td>\n",
              "      <td>-1.0</td>\n",
              "      <td>-1.0</td>\n",
              "      <td>-1.0</td>\n",
              "      <td>29</td>\n",
              "      <td>4</td>\n",
              "      <td>23</td>\n",
              "      <td>0</td>\n",
              "      <td>5</td>\n",
              "      <td>18</td>\n",
              "    </tr>\n",
              "    <tr>\n",
              "      <th>4</th>\n",
              "      <td>0</td>\n",
              "      <td>32</td>\n",
              "      <td>2013</td>\n",
              "      <td>0</td>\n",
              "      <td>6.0</td>\n",
              "      <td>349.0</td>\n",
              "      <td>-1.0</td>\n",
              "      <td>-1.0</td>\n",
              "      <td>-1.0</td>\n",
              "      <td>-1.0</td>\n",
              "      <td>29</td>\n",
              "      <td>4</td>\n",
              "      <td>40</td>\n",
              "      <td>0</td>\n",
              "      <td>7</td>\n",
              "      <td>4</td>\n",
              "    </tr>\n",
              "  </tbody>\n",
              "</table>\n",
              "</div>"
            ],
            "text/plain": [
              "   shop_id  item_id  year  ...  digital  item_area_enc  area_to_enc\n",
              "0        0       19  2013  ...        0              7            4\n",
              "1        0       27  2013  ...        0              5            9\n",
              "2        0       28  2013  ...        0              5           49\n",
              "3        0       29  2013  ...        0              5           18\n",
              "4        0       32  2013  ...        0              7            4\n",
              "\n",
              "[5 rows x 16 columns]"
            ]
          },
          "metadata": {},
          "execution_count": 64
        }
      ]
    },
    {
      "cell_type": "code",
      "metadata": {
        "id": "wIXoSkmC0LCh"
      },
      "source": [
        "dest = '/content/drive/MyDrive/HSE Final Project/to_train'\n",
        "df.to_csv(dest + '/submit_5_abandoned.csv', index=False)"
      ],
      "execution_count": 65,
      "outputs": []
    },
    {
      "cell_type": "markdown",
      "metadata": {
        "id": "jADHqJAnjS2z"
      },
      "source": [
        "# Test Submission to kaggle"
      ]
    },
    {
      "cell_type": "code",
      "metadata": {
        "colab": {
          "base_uri": "https://localhost:8080/",
          "height": 206
        },
        "id": "PrtsigzzkVbR",
        "outputId": "1f066d20-defe-4c29-dc14-4ffd595d5708"
      },
      "source": [
        "test_dest = '/content/drive/MyDrive/HSE Final Project/Data/test.csv'\n",
        "test_df = pd.read_csv(test_dest)\n",
        "test_df.head()"
      ],
      "execution_count": 66,
      "outputs": [
        {
          "output_type": "execute_result",
          "data": {
            "text/html": [
              "<div>\n",
              "<style scoped>\n",
              "    .dataframe tbody tr th:only-of-type {\n",
              "        vertical-align: middle;\n",
              "    }\n",
              "\n",
              "    .dataframe tbody tr th {\n",
              "        vertical-align: top;\n",
              "    }\n",
              "\n",
              "    .dataframe thead th {\n",
              "        text-align: right;\n",
              "    }\n",
              "</style>\n",
              "<table border=\"1\" class=\"dataframe\">\n",
              "  <thead>\n",
              "    <tr style=\"text-align: right;\">\n",
              "      <th></th>\n",
              "      <th>ID</th>\n",
              "      <th>shop_id</th>\n",
              "      <th>item_id</th>\n",
              "    </tr>\n",
              "  </thead>\n",
              "  <tbody>\n",
              "    <tr>\n",
              "      <th>0</th>\n",
              "      <td>0</td>\n",
              "      <td>5</td>\n",
              "      <td>5037</td>\n",
              "    </tr>\n",
              "    <tr>\n",
              "      <th>1</th>\n",
              "      <td>1</td>\n",
              "      <td>5</td>\n",
              "      <td>5320</td>\n",
              "    </tr>\n",
              "    <tr>\n",
              "      <th>2</th>\n",
              "      <td>2</td>\n",
              "      <td>5</td>\n",
              "      <td>5233</td>\n",
              "    </tr>\n",
              "    <tr>\n",
              "      <th>3</th>\n",
              "      <td>3</td>\n",
              "      <td>5</td>\n",
              "      <td>5232</td>\n",
              "    </tr>\n",
              "    <tr>\n",
              "      <th>4</th>\n",
              "      <td>4</td>\n",
              "      <td>5</td>\n",
              "      <td>5268</td>\n",
              "    </tr>\n",
              "  </tbody>\n",
              "</table>\n",
              "</div>"
            ],
            "text/plain": [
              "   ID  shop_id  item_id\n",
              "0   0        5     5037\n",
              "1   1        5     5320\n",
              "2   2        5     5233\n",
              "3   3        5     5232\n",
              "4   4        5     5268"
            ]
          },
          "metadata": {},
          "execution_count": 66
        }
      ]
    },
    {
      "cell_type": "markdown",
      "metadata": {
        "id": "iB2bmGF4ySrv"
      },
      "source": [
        "Same actions for test as for train"
      ]
    },
    {
      "cell_type": "code",
      "metadata": {
        "colab": {
          "base_uri": "https://localhost:8080/"
        },
        "id": "1wyn4UgVlGHD",
        "outputId": "37d89e5e-d663-4a47-e946-121e07556e1c"
      },
      "source": [
        "test_features = test_df.drop('ID', axis=1)\n",
        "test_features['year'] = 2015\n",
        "test_features['date_block_num'] = 34\n",
        "\n",
        "prices = df_train.groupby('item_id')['item_price'].max()\n",
        "test_features['item_price'] = test_features['item_id'].map(prices).fillna(-1)\n",
        "test_features = pd.merge(test_features, prev_val_benchmark,\n",
        "                         how='left', on=cols[:-1]).fillna(-1)\n",
        "test_features = pd.merge(test_features, prev_val_year_benchmark,\n",
        "                         how='left', on=cols[:-1]).fillna(-1)\n",
        "\n",
        "test_features['stock_prev'] = test_features['item_price'] * test_features['prev_value']\n",
        "test_features['stock_prev_year'] = test_features['item_price'] * test_features['prev_value_year']\n",
        "test_features.loc[test_features['stock_prev'] < 0, 'stock_prev'] = -1\n",
        "test_features.loc[test_features['stock_prev_year'] < 0, 'stock_prev_year'] = -1\n",
        "test_features = pd.merge(test_features, df_shops,\n",
        "                         how='left', on='shop_id')\n",
        "test_features = pd.merge(test_features, df_cat,\n",
        "                         how='left', on='item_id')\n",
        "print(test_features.head())"
      ],
      "execution_count": 67,
      "outputs": [
        {
          "output_type": "stream",
          "name": "stdout",
          "text": [
            "   shop_id  item_id  year  ...  digital  item_area_enc  area_to_enc\n",
            "0        5     5037  2015  ...        0              5            9\n",
            "1        5     5320  2015  ...        0              9            2\n",
            "2        5     5233  2015  ...        0              5            9\n",
            "3        5     5232  2015  ...        0              5           18\n",
            "4        5     5268  2015  ...        0              5           10\n",
            "\n",
            "[5 rows x 15 columns]\n"
          ]
        }
      ]
    },
    {
      "cell_type": "code",
      "metadata": {
        "id": "1sE9MdMm9dky"
      },
      "source": [
        "dest = '/content/drive/MyDrive/HSE Final Project/to_test'\n",
        "name = 'submit_5_test.csv'\n",
        "test_features.to_csv(dest + '/' + name, index=False)"
      ],
      "execution_count": 68,
      "outputs": []
    },
    {
      "cell_type": "code",
      "metadata": {
        "id": "twG-lsA2fvUY"
      },
      "source": [
        ""
      ],
      "execution_count": null,
      "outputs": []
    },
    {
      "cell_type": "code",
      "metadata": {
        "id": "9o_j8kaG_Fz-"
      },
      "source": [
        ""
      ],
      "execution_count": null,
      "outputs": []
    },
    {
      "cell_type": "code",
      "metadata": {
        "id": "-YD0XVc8_F21"
      },
      "source": [
        ""
      ],
      "execution_count": null,
      "outputs": []
    }
  ]
}