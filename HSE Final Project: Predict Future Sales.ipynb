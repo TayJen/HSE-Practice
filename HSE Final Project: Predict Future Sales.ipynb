{
  "nbformat": 4,
  "nbformat_minor": 0,
  "metadata": {
    "colab": {
      "name": "HSE Final Project: Predict Future Sales.ipynb",
      "provenance": [],
      "collapsed_sections": [
        "u2B6tTL4_ktj",
        "rSDMuYuhSrXN",
        "67I_FSlwpVRS",
        "KQxV-00UpN7f",
        "dv7vf18SpY1m",
        "KJg9IaA8POBv"
      ],
      "mount_file_id": "1AyeI5r-jcoxgvkcm-FA2hWZXsRkqMfY0",
      "authorship_tag": "ABX9TyM1Ncb5j+Hav+oiZPtY81t8"
    },
    "kernelspec": {
      "display_name": "Python 3",
      "name": "python3"
    },
    "language_info": {
      "name": "python"
    },
    "accelerator": "TPU"
  },
  "cells": [
    {
      "cell_type": "markdown",
      "metadata": {
        "id": "G3ya-pzSTt_0"
      },
      "source": [
        "# Important stuff"
      ]
    },
    {
      "cell_type": "code",
      "metadata": {
        "colab": {
          "base_uri": "https://localhost:8080/"
        },
        "id": "cTvoR3teSeY3",
        "outputId": "caeaa0ee-76b1-403c-d04c-9310f0fbeba4"
      },
      "source": [
        "from google.colab import drive\n",
        "drive.mount('/content/drive')"
      ],
      "execution_count": 1,
      "outputs": [
        {
          "output_type": "stream",
          "name": "stdout",
          "text": [
            "Drive already mounted at /content/drive; to attempt to forcibly remount, call drive.mount(\"/content/drive\", force_remount=True).\n"
          ]
        }
      ]
    },
    {
      "cell_type": "markdown",
      "metadata": {
        "id": "rSDMuYuhSrXN"
      },
      "source": [
        "# Review criteria"
      ]
    },
    {
      "cell_type": "markdown",
      "metadata": {
        "id": "zHKAOIbMldM-"
      },
      "source": [
        "**Clarity**\n",
        "\n",
        "- The clear step-by-step instruction on how to produce the final submit file is provided\n",
        "\n",
        "- Code has comments where it is needed and meaningful function names\n",
        "\n",
        "**Feature preprocessing and generation with respect to models**\n",
        "\n",
        "- Several simple features are generated\n",
        "\n",
        "- For non-tree-based models preprocessing is used or the absence of it is explained\n",
        "\n",
        "**Feature extraction from text and images**\n",
        "\n",
        "- Features from text are extracted\n",
        "\n",
        "- Special preprocessings for text are utilized (TF-IDF, stemming, levenshtening...)\n",
        "\n",
        "**EDA**\n",
        "\n",
        "- Several interesting observations about data are discovered and explained\n",
        "\n",
        "- Target distribution is visualized, time trend is assessed\n",
        "\n",
        "**Validation**\n",
        "\n",
        "- Type of train/test split is identified and used for validation\n",
        "\n",
        "- Type of public/private split is identified\n",
        "\n",
        "**Data leakages**\n",
        "\n",
        "- Data is investigated for data leakages and investigation process is described\n",
        "\n",
        "- Found data leakages are utilized\n",
        "\n",
        "**Metrics optimization**\n",
        "\n",
        "- Correct metric is optimized\n",
        "\n",
        "**Advanced Features I: mean encodings**\n",
        "\n",
        "- Mean-encoding is applied\n",
        "\n",
        "- Mean-encoding is set up correctly, i.e. KFold or expanding scheme are utilized correctly\n",
        "\n",
        "**Advanced Features II**\n",
        "\n",
        "- At least one feature from this topic is introduced\n",
        "\n",
        "**Hyperparameter tuning**\n",
        "\n",
        "- Parameters of models are roughly optimal\n",
        "\n",
        "**Ensembles**\n",
        "\n",
        "- Ensembling is utilized (linear combination counts)\n",
        "\n",
        "- Validation with ensembling scheme is set up correctly, i.e. KFold or Holdout is utilized\n",
        "\n",
        "- Models from different classes are utilized (at least two from the following: KNN, linear models, RF, GBDT, NN)"
      ]
    },
    {
      "cell_type": "markdown",
      "metadata": {
        "id": "XG5mua_E7os4"
      },
      "source": [
        "# Data Work"
      ]
    },
    {
      "cell_type": "markdown",
      "metadata": {
        "id": "67I_FSlwpVRS"
      },
      "source": [
        "## Main Data"
      ]
    },
    {
      "cell_type": "code",
      "metadata": {
        "id": "i8IN1d1glP0v"
      },
      "source": [
        "import pandas as pd\n",
        "import numpy as np\n",
        "import matplotlib.pyplot as plt"
      ],
      "execution_count": 2,
      "outputs": []
    },
    {
      "cell_type": "code",
      "metadata": {
        "id": "WVvLr4yAlP3E"
      },
      "source": [
        "dest = '/content/drive/MyDrive/HSE Final Project/Data/'\n",
        "\n",
        "df_train = pd.read_csv(dest + 'sales_train.csv')\n",
        "df_test = pd.read_csv(dest + 'test.csv')"
      ],
      "execution_count": 3,
      "outputs": []
    },
    {
      "cell_type": "code",
      "metadata": {
        "colab": {
          "base_uri": "https://localhost:8080/",
          "height": 0
        },
        "id": "OOVZhmdclP5K",
        "outputId": "24fb2fce-4226-4ec9-9b5d-36eb2b18bcbd"
      },
      "source": [
        "df_train.head()"
      ],
      "execution_count": 4,
      "outputs": [
        {
          "output_type": "execute_result",
          "data": {
            "text/html": [
              "<div>\n",
              "<style scoped>\n",
              "    .dataframe tbody tr th:only-of-type {\n",
              "        vertical-align: middle;\n",
              "    }\n",
              "\n",
              "    .dataframe tbody tr th {\n",
              "        vertical-align: top;\n",
              "    }\n",
              "\n",
              "    .dataframe thead th {\n",
              "        text-align: right;\n",
              "    }\n",
              "</style>\n",
              "<table border=\"1\" class=\"dataframe\">\n",
              "  <thead>\n",
              "    <tr style=\"text-align: right;\">\n",
              "      <th></th>\n",
              "      <th>date</th>\n",
              "      <th>date_block_num</th>\n",
              "      <th>shop_id</th>\n",
              "      <th>item_id</th>\n",
              "      <th>item_price</th>\n",
              "      <th>item_cnt_day</th>\n",
              "    </tr>\n",
              "  </thead>\n",
              "  <tbody>\n",
              "    <tr>\n",
              "      <th>0</th>\n",
              "      <td>02.01.2013</td>\n",
              "      <td>0</td>\n",
              "      <td>59</td>\n",
              "      <td>22154</td>\n",
              "      <td>999.00</td>\n",
              "      <td>1.0</td>\n",
              "    </tr>\n",
              "    <tr>\n",
              "      <th>1</th>\n",
              "      <td>03.01.2013</td>\n",
              "      <td>0</td>\n",
              "      <td>25</td>\n",
              "      <td>2552</td>\n",
              "      <td>899.00</td>\n",
              "      <td>1.0</td>\n",
              "    </tr>\n",
              "    <tr>\n",
              "      <th>2</th>\n",
              "      <td>05.01.2013</td>\n",
              "      <td>0</td>\n",
              "      <td>25</td>\n",
              "      <td>2552</td>\n",
              "      <td>899.00</td>\n",
              "      <td>-1.0</td>\n",
              "    </tr>\n",
              "    <tr>\n",
              "      <th>3</th>\n",
              "      <td>06.01.2013</td>\n",
              "      <td>0</td>\n",
              "      <td>25</td>\n",
              "      <td>2554</td>\n",
              "      <td>1709.05</td>\n",
              "      <td>1.0</td>\n",
              "    </tr>\n",
              "    <tr>\n",
              "      <th>4</th>\n",
              "      <td>15.01.2013</td>\n",
              "      <td>0</td>\n",
              "      <td>25</td>\n",
              "      <td>2555</td>\n",
              "      <td>1099.00</td>\n",
              "      <td>1.0</td>\n",
              "    </tr>\n",
              "  </tbody>\n",
              "</table>\n",
              "</div>"
            ],
            "text/plain": [
              "         date  date_block_num  shop_id  item_id  item_price  item_cnt_day\n",
              "0  02.01.2013               0       59    22154      999.00           1.0\n",
              "1  03.01.2013               0       25     2552      899.00           1.0\n",
              "2  05.01.2013               0       25     2552      899.00          -1.0\n",
              "3  06.01.2013               0       25     2554     1709.05           1.0\n",
              "4  15.01.2013               0       25     2555     1099.00           1.0"
            ]
          },
          "metadata": {},
          "execution_count": 4
        }
      ]
    },
    {
      "cell_type": "code",
      "metadata": {
        "colab": {
          "base_uri": "https://localhost:8080/",
          "height": 0
        },
        "id": "UfPNcWO8FFC8",
        "outputId": "538fca96-fe57-441d-de13-7eb11a8fa396"
      },
      "source": [
        "df_test.head()"
      ],
      "execution_count": 5,
      "outputs": [
        {
          "output_type": "execute_result",
          "data": {
            "text/html": [
              "<div>\n",
              "<style scoped>\n",
              "    .dataframe tbody tr th:only-of-type {\n",
              "        vertical-align: middle;\n",
              "    }\n",
              "\n",
              "    .dataframe tbody tr th {\n",
              "        vertical-align: top;\n",
              "    }\n",
              "\n",
              "    .dataframe thead th {\n",
              "        text-align: right;\n",
              "    }\n",
              "</style>\n",
              "<table border=\"1\" class=\"dataframe\">\n",
              "  <thead>\n",
              "    <tr style=\"text-align: right;\">\n",
              "      <th></th>\n",
              "      <th>ID</th>\n",
              "      <th>shop_id</th>\n",
              "      <th>item_id</th>\n",
              "    </tr>\n",
              "  </thead>\n",
              "  <tbody>\n",
              "    <tr>\n",
              "      <th>0</th>\n",
              "      <td>0</td>\n",
              "      <td>5</td>\n",
              "      <td>5037</td>\n",
              "    </tr>\n",
              "    <tr>\n",
              "      <th>1</th>\n",
              "      <td>1</td>\n",
              "      <td>5</td>\n",
              "      <td>5320</td>\n",
              "    </tr>\n",
              "    <tr>\n",
              "      <th>2</th>\n",
              "      <td>2</td>\n",
              "      <td>5</td>\n",
              "      <td>5233</td>\n",
              "    </tr>\n",
              "    <tr>\n",
              "      <th>3</th>\n",
              "      <td>3</td>\n",
              "      <td>5</td>\n",
              "      <td>5232</td>\n",
              "    </tr>\n",
              "    <tr>\n",
              "      <th>4</th>\n",
              "      <td>4</td>\n",
              "      <td>5</td>\n",
              "      <td>5268</td>\n",
              "    </tr>\n",
              "  </tbody>\n",
              "</table>\n",
              "</div>"
            ],
            "text/plain": [
              "   ID  shop_id  item_id\n",
              "0   0        5     5037\n",
              "1   1        5     5320\n",
              "2   2        5     5233\n",
              "3   3        5     5232\n",
              "4   4        5     5268"
            ]
          },
          "metadata": {},
          "execution_count": 5
        }
      ]
    },
    {
      "cell_type": "code",
      "metadata": {
        "colab": {
          "base_uri": "https://localhost:8080/"
        },
        "id": "pJeKiGQoNhXm",
        "outputId": "ba6bef0f-8e16-4a7b-bfab-c04746ffcc3d"
      },
      "source": [
        "df_test.shape"
      ],
      "execution_count": 6,
      "outputs": [
        {
          "output_type": "execute_result",
          "data": {
            "text/plain": [
              "(214200, 3)"
            ]
          },
          "metadata": {},
          "execution_count": 6
        }
      ]
    },
    {
      "cell_type": "markdown",
      "metadata": {
        "id": "KQxV-00UpN7f"
      },
      "source": [
        "## Additional Data"
      ]
    },
    {
      "cell_type": "code",
      "metadata": {
        "colab": {
          "base_uri": "https://localhost:8080/",
          "height": 0
        },
        "id": "hgmbc_VxlP7I",
        "outputId": "bbf927b3-26ac-48e1-d463-274b253eeb15"
      },
      "source": [
        "df_shops = pd.read_csv(dest + 'shops.csv')\n",
        "df_shops.head()"
      ],
      "execution_count": 7,
      "outputs": [
        {
          "output_type": "execute_result",
          "data": {
            "text/html": [
              "<div>\n",
              "<style scoped>\n",
              "    .dataframe tbody tr th:only-of-type {\n",
              "        vertical-align: middle;\n",
              "    }\n",
              "\n",
              "    .dataframe tbody tr th {\n",
              "        vertical-align: top;\n",
              "    }\n",
              "\n",
              "    .dataframe thead th {\n",
              "        text-align: right;\n",
              "    }\n",
              "</style>\n",
              "<table border=\"1\" class=\"dataframe\">\n",
              "  <thead>\n",
              "    <tr style=\"text-align: right;\">\n",
              "      <th></th>\n",
              "      <th>shop_name</th>\n",
              "      <th>shop_id</th>\n",
              "    </tr>\n",
              "  </thead>\n",
              "  <tbody>\n",
              "    <tr>\n",
              "      <th>0</th>\n",
              "      <td>!Якутск Орджоникидзе, 56 фран</td>\n",
              "      <td>0</td>\n",
              "    </tr>\n",
              "    <tr>\n",
              "      <th>1</th>\n",
              "      <td>!Якутск ТЦ \"Центральный\" фран</td>\n",
              "      <td>1</td>\n",
              "    </tr>\n",
              "    <tr>\n",
              "      <th>2</th>\n",
              "      <td>Адыгея ТЦ \"Мега\"</td>\n",
              "      <td>2</td>\n",
              "    </tr>\n",
              "    <tr>\n",
              "      <th>3</th>\n",
              "      <td>Балашиха ТРК \"Октябрь-Киномир\"</td>\n",
              "      <td>3</td>\n",
              "    </tr>\n",
              "    <tr>\n",
              "      <th>4</th>\n",
              "      <td>Волжский ТЦ \"Волга Молл\"</td>\n",
              "      <td>4</td>\n",
              "    </tr>\n",
              "  </tbody>\n",
              "</table>\n",
              "</div>"
            ],
            "text/plain": [
              "                        shop_name  shop_id\n",
              "0   !Якутск Орджоникидзе, 56 фран        0\n",
              "1   !Якутск ТЦ \"Центральный\" фран        1\n",
              "2                Адыгея ТЦ \"Мега\"        2\n",
              "3  Балашиха ТРК \"Октябрь-Киномир\"        3\n",
              "4        Волжский ТЦ \"Волга Молл\"        4"
            ]
          },
          "metadata": {},
          "execution_count": 7
        }
      ]
    },
    {
      "cell_type": "code",
      "metadata": {
        "colab": {
          "base_uri": "https://localhost:8080/"
        },
        "id": "zodyJRV5KOXB",
        "outputId": "852540de-e9ae-474d-f4e5-a6394aaaccd1"
      },
      "source": [
        "df_shops.shop_name.unique()"
      ],
      "execution_count": 8,
      "outputs": [
        {
          "output_type": "execute_result",
          "data": {
            "text/plain": [
              "array(['!Якутск Орджоникидзе, 56 фран', '!Якутск ТЦ \"Центральный\" фран',\n",
              "       'Адыгея ТЦ \"Мега\"', 'Балашиха ТРК \"Октябрь-Киномир\"',\n",
              "       'Волжский ТЦ \"Волга Молл\"', 'Вологда ТРЦ \"Мармелад\"',\n",
              "       'Воронеж (Плехановская, 13)', 'Воронеж ТРЦ \"Максимир\"',\n",
              "       'Воронеж ТРЦ Сити-Парк \"Град\"', 'Выездная Торговля',\n",
              "       'Жуковский ул. Чкалова 39м?', 'Жуковский ул. Чкалова 39м²',\n",
              "       'Интернет-магазин ЧС', 'Казань ТЦ \"Бехетле\"',\n",
              "       'Казань ТЦ \"ПаркХаус\" II', 'Калуга ТРЦ \"XXI век\"',\n",
              "       'Коломна ТЦ \"Рио\"', 'Красноярск ТЦ \"Взлетка Плаза\"',\n",
              "       'Красноярск ТЦ \"Июнь\"', 'Курск ТЦ \"Пушкинский\"',\n",
              "       'Москва \"Распродажа\"', 'Москва МТРЦ \"Афи Молл\"',\n",
              "       'Москва Магазин С21', 'Москва ТК \"Буденовский\" (пав.А2)',\n",
              "       'Москва ТК \"Буденовский\" (пав.К7)', 'Москва ТРК \"Атриум\"',\n",
              "       'Москва ТЦ \"Ареал\" (Беляево)', 'Москва ТЦ \"МЕГА Белая Дача II\"',\n",
              "       'Москва ТЦ \"МЕГА Теплый Стан\" II',\n",
              "       'Москва ТЦ \"Новый век\" (Новокосино)', 'Москва ТЦ \"Перловский\"',\n",
              "       'Москва ТЦ \"Семеновский\"', 'Москва ТЦ \"Серебряный Дом\"',\n",
              "       'Мытищи ТРК \"XL-3\"', 'Н.Новгород ТРЦ \"РИО\"',\n",
              "       'Н.Новгород ТРЦ \"Фантастика\"',\n",
              "       'Новосибирск ТРЦ \"Галерея Новосибирск\"', 'Новосибирск ТЦ \"Мега\"',\n",
              "       'Омск ТЦ \"Мега\"', 'РостовНаДону ТРК \"Мегацентр Горизонт\"',\n",
              "       'РостовНаДону ТРК \"Мегацентр Горизонт\" Островной',\n",
              "       'РостовНаДону ТЦ \"Мега\"', 'СПб ТК \"Невский Центр\"',\n",
              "       'СПб ТК \"Сенная\"', 'Самара ТЦ \"Мелодия\"', 'Самара ТЦ \"ПаркХаус\"',\n",
              "       'Сергиев Посад ТЦ \"7Я\"', 'Сургут ТРЦ \"Сити Молл\"',\n",
              "       'Томск ТРЦ \"Изумрудный Город\"', 'Тюмень ТРЦ \"Кристалл\"',\n",
              "       'Тюмень ТЦ \"Гудвин\"', 'Тюмень ТЦ \"Зеленый Берег\"',\n",
              "       'Уфа ТК \"Центральный\"', 'Уфа ТЦ \"Семья\" 2', 'Химки ТЦ \"Мега\"',\n",
              "       'Цифровой склад 1С-Онлайн', 'Чехов ТРЦ \"Карнавал\"',\n",
              "       'Якутск Орджоникидзе, 56', 'Якутск ТЦ \"Центральный\"',\n",
              "       'Ярославль ТЦ \"Альтаир\"'], dtype=object)"
            ]
          },
          "metadata": {},
          "execution_count": 8
        }
      ]
    },
    {
      "cell_type": "code",
      "metadata": {
        "colab": {
          "base_uri": "https://localhost:8080/",
          "height": 0
        },
        "id": "1T9YwvMuE_-_",
        "outputId": "66278653-b043-49d3-c514-515cb443601d"
      },
      "source": [
        "df_shops['city'] = [split[0] for split in df_shops['shop_name'].str.split()]\n",
        "df_shops['shop_type'] = [split[1] for split in df_shops['shop_name'].str.split()]\n",
        "df_shops.head()"
      ],
      "execution_count": 9,
      "outputs": [
        {
          "output_type": "execute_result",
          "data": {
            "text/html": [
              "<div>\n",
              "<style scoped>\n",
              "    .dataframe tbody tr th:only-of-type {\n",
              "        vertical-align: middle;\n",
              "    }\n",
              "\n",
              "    .dataframe tbody tr th {\n",
              "        vertical-align: top;\n",
              "    }\n",
              "\n",
              "    .dataframe thead th {\n",
              "        text-align: right;\n",
              "    }\n",
              "</style>\n",
              "<table border=\"1\" class=\"dataframe\">\n",
              "  <thead>\n",
              "    <tr style=\"text-align: right;\">\n",
              "      <th></th>\n",
              "      <th>shop_name</th>\n",
              "      <th>shop_id</th>\n",
              "      <th>city</th>\n",
              "      <th>shop_type</th>\n",
              "    </tr>\n",
              "  </thead>\n",
              "  <tbody>\n",
              "    <tr>\n",
              "      <th>0</th>\n",
              "      <td>!Якутск Орджоникидзе, 56 фран</td>\n",
              "      <td>0</td>\n",
              "      <td>!Якутск</td>\n",
              "      <td>Орджоникидзе,</td>\n",
              "    </tr>\n",
              "    <tr>\n",
              "      <th>1</th>\n",
              "      <td>!Якутск ТЦ \"Центральный\" фран</td>\n",
              "      <td>1</td>\n",
              "      <td>!Якутск</td>\n",
              "      <td>ТЦ</td>\n",
              "    </tr>\n",
              "    <tr>\n",
              "      <th>2</th>\n",
              "      <td>Адыгея ТЦ \"Мега\"</td>\n",
              "      <td>2</td>\n",
              "      <td>Адыгея</td>\n",
              "      <td>ТЦ</td>\n",
              "    </tr>\n",
              "    <tr>\n",
              "      <th>3</th>\n",
              "      <td>Балашиха ТРК \"Октябрь-Киномир\"</td>\n",
              "      <td>3</td>\n",
              "      <td>Балашиха</td>\n",
              "      <td>ТРК</td>\n",
              "    </tr>\n",
              "    <tr>\n",
              "      <th>4</th>\n",
              "      <td>Волжский ТЦ \"Волга Молл\"</td>\n",
              "      <td>4</td>\n",
              "      <td>Волжский</td>\n",
              "      <td>ТЦ</td>\n",
              "    </tr>\n",
              "  </tbody>\n",
              "</table>\n",
              "</div>"
            ],
            "text/plain": [
              "                        shop_name  shop_id      city      shop_type\n",
              "0   !Якутск Орджоникидзе, 56 фран        0   !Якутск  Орджоникидзе,\n",
              "1   !Якутск ТЦ \"Центральный\" фран        1   !Якутск             ТЦ\n",
              "2                Адыгея ТЦ \"Мега\"        2    Адыгея             ТЦ\n",
              "3  Балашиха ТРК \"Октябрь-Киномир\"        3  Балашиха            ТРК\n",
              "4        Волжский ТЦ \"Волга Молл\"        4  Волжский             ТЦ"
            ]
          },
          "metadata": {},
          "execution_count": 9
        }
      ]
    },
    {
      "cell_type": "code",
      "metadata": {
        "colab": {
          "base_uri": "https://localhost:8080/"
        },
        "id": "r1ZvnyxnKDd8",
        "outputId": "3962b3f9-ae58-447d-a63a-adde6f94971f"
      },
      "source": [
        "df_shops.shop_type.unique()"
      ],
      "execution_count": 10,
      "outputs": [
        {
          "output_type": "execute_result",
          "data": {
            "text/plain": [
              "array(['Орджоникидзе,', 'ТЦ', 'ТРК', 'ТРЦ', '(Плехановская,', 'Торговля',\n",
              "       'ул.', 'ЧС', '\"Распродажа\"', 'МТРЦ', 'Магазин', 'ТК', 'Посад',\n",
              "       'склад'], dtype=object)"
            ]
          },
          "metadata": {},
          "execution_count": 10
        }
      ]
    },
    {
      "cell_type": "code",
      "metadata": {
        "colab": {
          "base_uri": "https://localhost:8080/",
          "height": 0
        },
        "id": "Wa-1F6VlKYl8",
        "outputId": "967fed7d-399b-4b3e-ef45-d53fc8363bef"
      },
      "source": [
        "mask = (df_shops.shop_type != 'ТЦ') & \\\n",
        "        (df_shops.shop_type != 'ТРК') & \\\n",
        "        (df_shops.shop_type != 'ТРЦ') & \\\n",
        "        (df_shops.shop_type != 'МТРЦ') & \\\n",
        "        (df_shops.shop_type != 'ТК')\n",
        "\n",
        "# mask = df_shops.shop_type not in ['ТЦ', 'ТРК', 'ТРЦ', 'МТРЦ', 'ТК']\n",
        "\n",
        "df_shops.loc[mask, 'shop_type'] = 'ТЦ'\n",
        "df_shops.head()"
      ],
      "execution_count": 11,
      "outputs": [
        {
          "output_type": "execute_result",
          "data": {
            "text/html": [
              "<div>\n",
              "<style scoped>\n",
              "    .dataframe tbody tr th:only-of-type {\n",
              "        vertical-align: middle;\n",
              "    }\n",
              "\n",
              "    .dataframe tbody tr th {\n",
              "        vertical-align: top;\n",
              "    }\n",
              "\n",
              "    .dataframe thead th {\n",
              "        text-align: right;\n",
              "    }\n",
              "</style>\n",
              "<table border=\"1\" class=\"dataframe\">\n",
              "  <thead>\n",
              "    <tr style=\"text-align: right;\">\n",
              "      <th></th>\n",
              "      <th>shop_name</th>\n",
              "      <th>shop_id</th>\n",
              "      <th>city</th>\n",
              "      <th>shop_type</th>\n",
              "    </tr>\n",
              "  </thead>\n",
              "  <tbody>\n",
              "    <tr>\n",
              "      <th>0</th>\n",
              "      <td>!Якутск Орджоникидзе, 56 фран</td>\n",
              "      <td>0</td>\n",
              "      <td>!Якутск</td>\n",
              "      <td>ТЦ</td>\n",
              "    </tr>\n",
              "    <tr>\n",
              "      <th>1</th>\n",
              "      <td>!Якутск ТЦ \"Центральный\" фран</td>\n",
              "      <td>1</td>\n",
              "      <td>!Якутск</td>\n",
              "      <td>ТЦ</td>\n",
              "    </tr>\n",
              "    <tr>\n",
              "      <th>2</th>\n",
              "      <td>Адыгея ТЦ \"Мега\"</td>\n",
              "      <td>2</td>\n",
              "      <td>Адыгея</td>\n",
              "      <td>ТЦ</td>\n",
              "    </tr>\n",
              "    <tr>\n",
              "      <th>3</th>\n",
              "      <td>Балашиха ТРК \"Октябрь-Киномир\"</td>\n",
              "      <td>3</td>\n",
              "      <td>Балашиха</td>\n",
              "      <td>ТРК</td>\n",
              "    </tr>\n",
              "    <tr>\n",
              "      <th>4</th>\n",
              "      <td>Волжский ТЦ \"Волга Молл\"</td>\n",
              "      <td>4</td>\n",
              "      <td>Волжский</td>\n",
              "      <td>ТЦ</td>\n",
              "    </tr>\n",
              "  </tbody>\n",
              "</table>\n",
              "</div>"
            ],
            "text/plain": [
              "                        shop_name  shop_id      city shop_type\n",
              "0   !Якутск Орджоникидзе, 56 фран        0   !Якутск        ТЦ\n",
              "1   !Якутск ТЦ \"Центральный\" фран        1   !Якутск        ТЦ\n",
              "2                Адыгея ТЦ \"Мега\"        2    Адыгея        ТЦ\n",
              "3  Балашиха ТРК \"Октябрь-Киномир\"        3  Балашиха       ТРК\n",
              "4        Волжский ТЦ \"Волга Молл\"        4  Волжский        ТЦ"
            ]
          },
          "metadata": {},
          "execution_count": 11
        }
      ]
    },
    {
      "cell_type": "code",
      "metadata": {
        "colab": {
          "base_uri": "https://localhost:8080/",
          "height": 0
        },
        "id": "tjOVC_AiNapt",
        "outputId": "a61c7d24-11ed-472b-84b8-dfa0a1f8261e"
      },
      "source": [
        "import string\n",
        "\n",
        "df_shops['city'] = df_shops.city.str.translate(str.maketrans('', '', string.punctuation))\n",
        "df_shops.head()"
      ],
      "execution_count": 12,
      "outputs": [
        {
          "output_type": "execute_result",
          "data": {
            "text/html": [
              "<div>\n",
              "<style scoped>\n",
              "    .dataframe tbody tr th:only-of-type {\n",
              "        vertical-align: middle;\n",
              "    }\n",
              "\n",
              "    .dataframe tbody tr th {\n",
              "        vertical-align: top;\n",
              "    }\n",
              "\n",
              "    .dataframe thead th {\n",
              "        text-align: right;\n",
              "    }\n",
              "</style>\n",
              "<table border=\"1\" class=\"dataframe\">\n",
              "  <thead>\n",
              "    <tr style=\"text-align: right;\">\n",
              "      <th></th>\n",
              "      <th>shop_name</th>\n",
              "      <th>shop_id</th>\n",
              "      <th>city</th>\n",
              "      <th>shop_type</th>\n",
              "    </tr>\n",
              "  </thead>\n",
              "  <tbody>\n",
              "    <tr>\n",
              "      <th>0</th>\n",
              "      <td>!Якутск Орджоникидзе, 56 фран</td>\n",
              "      <td>0</td>\n",
              "      <td>Якутск</td>\n",
              "      <td>ТЦ</td>\n",
              "    </tr>\n",
              "    <tr>\n",
              "      <th>1</th>\n",
              "      <td>!Якутск ТЦ \"Центральный\" фран</td>\n",
              "      <td>1</td>\n",
              "      <td>Якутск</td>\n",
              "      <td>ТЦ</td>\n",
              "    </tr>\n",
              "    <tr>\n",
              "      <th>2</th>\n",
              "      <td>Адыгея ТЦ \"Мега\"</td>\n",
              "      <td>2</td>\n",
              "      <td>Адыгея</td>\n",
              "      <td>ТЦ</td>\n",
              "    </tr>\n",
              "    <tr>\n",
              "      <th>3</th>\n",
              "      <td>Балашиха ТРК \"Октябрь-Киномир\"</td>\n",
              "      <td>3</td>\n",
              "      <td>Балашиха</td>\n",
              "      <td>ТРК</td>\n",
              "    </tr>\n",
              "    <tr>\n",
              "      <th>4</th>\n",
              "      <td>Волжский ТЦ \"Волга Молл\"</td>\n",
              "      <td>4</td>\n",
              "      <td>Волжский</td>\n",
              "      <td>ТЦ</td>\n",
              "    </tr>\n",
              "  </tbody>\n",
              "</table>\n",
              "</div>"
            ],
            "text/plain": [
              "                        shop_name  shop_id      city shop_type\n",
              "0   !Якутск Орджоникидзе, 56 фран        0    Якутск        ТЦ\n",
              "1   !Якутск ТЦ \"Центральный\" фран        1    Якутск        ТЦ\n",
              "2                Адыгея ТЦ \"Мега\"        2    Адыгея        ТЦ\n",
              "3  Балашиха ТРК \"Октябрь-Киномир\"        3  Балашиха       ТРК\n",
              "4        Волжский ТЦ \"Волга Молл\"        4  Волжский        ТЦ"
            ]
          },
          "metadata": {},
          "execution_count": 12
        }
      ]
    },
    {
      "cell_type": "code",
      "metadata": {
        "colab": {
          "base_uri": "https://localhost:8080/"
        },
        "id": "YwT1pnSRJlMR",
        "outputId": "71d085e8-9b3e-4546-b1d7-b1e52090a3bc"
      },
      "source": [
        "len(df_shops.city.unique())"
      ],
      "execution_count": 13,
      "outputs": [
        {
          "output_type": "execute_result",
          "data": {
            "text/plain": [
              "31"
            ]
          },
          "metadata": {},
          "execution_count": 13
        }
      ]
    },
    {
      "cell_type": "code",
      "metadata": {
        "colab": {
          "base_uri": "https://localhost:8080/"
        },
        "id": "cEAADBU5P6Ei",
        "outputId": "e1f35364-2a3a-4051-d46e-47b2c35adc68"
      },
      "source": [
        "from sklearn.preprocessing import LabelEncoder\n",
        "\n",
        "encoder = LabelEncoder()\n",
        "\n",
        "# reshape the 1-D country array to 2-D as fit_transform expects 2-D and finally fit the object \n",
        "X = encoder.fit_transform(df_shops.city.values.reshape(-1,1))\n",
        "\n",
        "# add this back into the original dataframe \n",
        "encoded = pd.DataFrame(X, columns=[\"city_enc\"]) \n",
        "df_shops = pd.concat([df_shops, encoded], axis=1)"
      ],
      "execution_count": 14,
      "outputs": [
        {
          "output_type": "stream",
          "name": "stderr",
          "text": [
            "/usr/local/lib/python3.7/dist-packages/sklearn/preprocessing/_label.py:115: DataConversionWarning: A column-vector y was passed when a 1d array was expected. Please change the shape of y to (n_samples, ), for example using ravel().\n",
            "  y = column_or_1d(y, warn=True)\n"
          ]
        }
      ]
    },
    {
      "cell_type": "code",
      "metadata": {
        "colab": {
          "base_uri": "https://localhost:8080/",
          "height": 0
        },
        "id": "kQi6E6s7jf-W",
        "outputId": "7ea420ce-d81e-4f82-c917-65c115c699e9"
      },
      "source": [
        "# drop the city column and city_0 to avoid so called \"Dummy Variable Trap\"\n",
        "df_shops = df_shops.drop(['city'], axis=1) \n",
        "df_shops.head()"
      ],
      "execution_count": 15,
      "outputs": [
        {
          "output_type": "execute_result",
          "data": {
            "text/html": [
              "<div>\n",
              "<style scoped>\n",
              "    .dataframe tbody tr th:only-of-type {\n",
              "        vertical-align: middle;\n",
              "    }\n",
              "\n",
              "    .dataframe tbody tr th {\n",
              "        vertical-align: top;\n",
              "    }\n",
              "\n",
              "    .dataframe thead th {\n",
              "        text-align: right;\n",
              "    }\n",
              "</style>\n",
              "<table border=\"1\" class=\"dataframe\">\n",
              "  <thead>\n",
              "    <tr style=\"text-align: right;\">\n",
              "      <th></th>\n",
              "      <th>shop_name</th>\n",
              "      <th>shop_id</th>\n",
              "      <th>shop_type</th>\n",
              "      <th>city_enc</th>\n",
              "    </tr>\n",
              "  </thead>\n",
              "  <tbody>\n",
              "    <tr>\n",
              "      <th>0</th>\n",
              "      <td>!Якутск Орджоникидзе, 56 фран</td>\n",
              "      <td>0</td>\n",
              "      <td>ТЦ</td>\n",
              "      <td>29</td>\n",
              "    </tr>\n",
              "    <tr>\n",
              "      <th>1</th>\n",
              "      <td>!Якутск ТЦ \"Центральный\" фран</td>\n",
              "      <td>1</td>\n",
              "      <td>ТЦ</td>\n",
              "      <td>29</td>\n",
              "    </tr>\n",
              "    <tr>\n",
              "      <th>2</th>\n",
              "      <td>Адыгея ТЦ \"Мега\"</td>\n",
              "      <td>2</td>\n",
              "      <td>ТЦ</td>\n",
              "      <td>0</td>\n",
              "    </tr>\n",
              "    <tr>\n",
              "      <th>3</th>\n",
              "      <td>Балашиха ТРК \"Октябрь-Киномир\"</td>\n",
              "      <td>3</td>\n",
              "      <td>ТРК</td>\n",
              "      <td>1</td>\n",
              "    </tr>\n",
              "    <tr>\n",
              "      <th>4</th>\n",
              "      <td>Волжский ТЦ \"Волга Молл\"</td>\n",
              "      <td>4</td>\n",
              "      <td>ТЦ</td>\n",
              "      <td>2</td>\n",
              "    </tr>\n",
              "  </tbody>\n",
              "</table>\n",
              "</div>"
            ],
            "text/plain": [
              "                        shop_name  shop_id shop_type  city_enc\n",
              "0   !Якутск Орджоникидзе, 56 фран        0        ТЦ        29\n",
              "1   !Якутск ТЦ \"Центральный\" фран        1        ТЦ        29\n",
              "2                Адыгея ТЦ \"Мега\"        2        ТЦ         0\n",
              "3  Балашиха ТРК \"Октябрь-Киномир\"        3       ТРК         1\n",
              "4        Волжский ТЦ \"Волга Молл\"        4        ТЦ         2"
            ]
          },
          "metadata": {},
          "execution_count": 15
        }
      ]
    },
    {
      "cell_type": "markdown",
      "metadata": {
        "id": "H9xNE-hCSzAs"
      },
      "source": [
        "The same for shop_type"
      ]
    },
    {
      "cell_type": "code",
      "metadata": {
        "colab": {
          "base_uri": "https://localhost:8080/",
          "height": 0
        },
        "id": "92QQF4P6S3GN",
        "outputId": "27ac946c-1b5f-45e2-84c2-1d60676f09aa"
      },
      "source": [
        "encoder = LabelEncoder()\n",
        "X = encoder.fit_transform(df_shops.shop_type.values.reshape(-1,1))\n",
        "\n",
        "encoded = pd.DataFrame(X, columns=[\"shop_type_enc\"]) \n",
        "df_shops = pd.concat([df_shops, encoded], axis=1)\n",
        "\n",
        "df_shops = df_shops.drop(['shop_type'], axis=1) \n",
        "df_shops.head()"
      ],
      "execution_count": 16,
      "outputs": [
        {
          "output_type": "stream",
          "name": "stderr",
          "text": [
            "/usr/local/lib/python3.7/dist-packages/sklearn/preprocessing/_label.py:115: DataConversionWarning: A column-vector y was passed when a 1d array was expected. Please change the shape of y to (n_samples, ), for example using ravel().\n",
            "  y = column_or_1d(y, warn=True)\n"
          ]
        },
        {
          "output_type": "execute_result",
          "data": {
            "text/html": [
              "<div>\n",
              "<style scoped>\n",
              "    .dataframe tbody tr th:only-of-type {\n",
              "        vertical-align: middle;\n",
              "    }\n",
              "\n",
              "    .dataframe tbody tr th {\n",
              "        vertical-align: top;\n",
              "    }\n",
              "\n",
              "    .dataframe thead th {\n",
              "        text-align: right;\n",
              "    }\n",
              "</style>\n",
              "<table border=\"1\" class=\"dataframe\">\n",
              "  <thead>\n",
              "    <tr style=\"text-align: right;\">\n",
              "      <th></th>\n",
              "      <th>shop_name</th>\n",
              "      <th>shop_id</th>\n",
              "      <th>city_enc</th>\n",
              "      <th>shop_type_enc</th>\n",
              "    </tr>\n",
              "  </thead>\n",
              "  <tbody>\n",
              "    <tr>\n",
              "      <th>0</th>\n",
              "      <td>!Якутск Орджоникидзе, 56 фран</td>\n",
              "      <td>0</td>\n",
              "      <td>29</td>\n",
              "      <td>4</td>\n",
              "    </tr>\n",
              "    <tr>\n",
              "      <th>1</th>\n",
              "      <td>!Якутск ТЦ \"Центральный\" фран</td>\n",
              "      <td>1</td>\n",
              "      <td>29</td>\n",
              "      <td>4</td>\n",
              "    </tr>\n",
              "    <tr>\n",
              "      <th>2</th>\n",
              "      <td>Адыгея ТЦ \"Мега\"</td>\n",
              "      <td>2</td>\n",
              "      <td>0</td>\n",
              "      <td>4</td>\n",
              "    </tr>\n",
              "    <tr>\n",
              "      <th>3</th>\n",
              "      <td>Балашиха ТРК \"Октябрь-Киномир\"</td>\n",
              "      <td>3</td>\n",
              "      <td>1</td>\n",
              "      <td>2</td>\n",
              "    </tr>\n",
              "    <tr>\n",
              "      <th>4</th>\n",
              "      <td>Волжский ТЦ \"Волга Молл\"</td>\n",
              "      <td>4</td>\n",
              "      <td>2</td>\n",
              "      <td>4</td>\n",
              "    </tr>\n",
              "  </tbody>\n",
              "</table>\n",
              "</div>"
            ],
            "text/plain": [
              "                        shop_name  shop_id  city_enc  shop_type_enc\n",
              "0   !Якутск Орджоникидзе, 56 фран        0        29              4\n",
              "1   !Якутск ТЦ \"Центральный\" фран        1        29              4\n",
              "2                Адыгея ТЦ \"Мега\"        2         0              4\n",
              "3  Балашиха ТРК \"Октябрь-Киномир\"        3         1              2\n",
              "4        Волжский ТЦ \"Волга Молл\"        4         2              4"
            ]
          },
          "metadata": {},
          "execution_count": 16
        }
      ]
    },
    {
      "cell_type": "code",
      "metadata": {
        "colab": {
          "base_uri": "https://localhost:8080/",
          "height": 0
        },
        "id": "ZNYWJFLVTUIu",
        "outputId": "9719c255-bec8-43e2-ba3b-c9f6233fdbfc"
      },
      "source": [
        "df_shops.drop(['shop_name'], axis=1, inplace=True)\n",
        "# df_shops.astype('int')\n",
        "df_shops.head()"
      ],
      "execution_count": 17,
      "outputs": [
        {
          "output_type": "execute_result",
          "data": {
            "text/html": [
              "<div>\n",
              "<style scoped>\n",
              "    .dataframe tbody tr th:only-of-type {\n",
              "        vertical-align: middle;\n",
              "    }\n",
              "\n",
              "    .dataframe tbody tr th {\n",
              "        vertical-align: top;\n",
              "    }\n",
              "\n",
              "    .dataframe thead th {\n",
              "        text-align: right;\n",
              "    }\n",
              "</style>\n",
              "<table border=\"1\" class=\"dataframe\">\n",
              "  <thead>\n",
              "    <tr style=\"text-align: right;\">\n",
              "      <th></th>\n",
              "      <th>shop_id</th>\n",
              "      <th>city_enc</th>\n",
              "      <th>shop_type_enc</th>\n",
              "    </tr>\n",
              "  </thead>\n",
              "  <tbody>\n",
              "    <tr>\n",
              "      <th>0</th>\n",
              "      <td>0</td>\n",
              "      <td>29</td>\n",
              "      <td>4</td>\n",
              "    </tr>\n",
              "    <tr>\n",
              "      <th>1</th>\n",
              "      <td>1</td>\n",
              "      <td>29</td>\n",
              "      <td>4</td>\n",
              "    </tr>\n",
              "    <tr>\n",
              "      <th>2</th>\n",
              "      <td>2</td>\n",
              "      <td>0</td>\n",
              "      <td>4</td>\n",
              "    </tr>\n",
              "    <tr>\n",
              "      <th>3</th>\n",
              "      <td>3</td>\n",
              "      <td>1</td>\n",
              "      <td>2</td>\n",
              "    </tr>\n",
              "    <tr>\n",
              "      <th>4</th>\n",
              "      <td>4</td>\n",
              "      <td>2</td>\n",
              "      <td>4</td>\n",
              "    </tr>\n",
              "  </tbody>\n",
              "</table>\n",
              "</div>"
            ],
            "text/plain": [
              "   shop_id  city_enc  shop_type_enc\n",
              "0        0        29              4\n",
              "1        1        29              4\n",
              "2        2         0              4\n",
              "3        3         1              2\n",
              "4        4         2              4"
            ]
          },
          "metadata": {},
          "execution_count": 17
        }
      ]
    },
    {
      "cell_type": "code",
      "metadata": {
        "colab": {
          "base_uri": "https://localhost:8080/",
          "height": 0
        },
        "id": "Shwrh-EBSJgd",
        "outputId": "ae31074c-f2fd-4e5c-cef4-087e8806875f"
      },
      "source": [
        "df_categories = pd.read_csv(dest + 'item_categories.csv')\n",
        "df_categories.head()"
      ],
      "execution_count": 18,
      "outputs": [
        {
          "output_type": "execute_result",
          "data": {
            "text/html": [
              "<div>\n",
              "<style scoped>\n",
              "    .dataframe tbody tr th:only-of-type {\n",
              "        vertical-align: middle;\n",
              "    }\n",
              "\n",
              "    .dataframe tbody tr th {\n",
              "        vertical-align: top;\n",
              "    }\n",
              "\n",
              "    .dataframe thead th {\n",
              "        text-align: right;\n",
              "    }\n",
              "</style>\n",
              "<table border=\"1\" class=\"dataframe\">\n",
              "  <thead>\n",
              "    <tr style=\"text-align: right;\">\n",
              "      <th></th>\n",
              "      <th>item_category_name</th>\n",
              "      <th>item_category_id</th>\n",
              "    </tr>\n",
              "  </thead>\n",
              "  <tbody>\n",
              "    <tr>\n",
              "      <th>0</th>\n",
              "      <td>PC - Гарнитуры/Наушники</td>\n",
              "      <td>0</td>\n",
              "    </tr>\n",
              "    <tr>\n",
              "      <th>1</th>\n",
              "      <td>Аксессуары - PS2</td>\n",
              "      <td>1</td>\n",
              "    </tr>\n",
              "    <tr>\n",
              "      <th>2</th>\n",
              "      <td>Аксессуары - PS3</td>\n",
              "      <td>2</td>\n",
              "    </tr>\n",
              "    <tr>\n",
              "      <th>3</th>\n",
              "      <td>Аксессуары - PS4</td>\n",
              "      <td>3</td>\n",
              "    </tr>\n",
              "    <tr>\n",
              "      <th>4</th>\n",
              "      <td>Аксессуары - PSP</td>\n",
              "      <td>4</td>\n",
              "    </tr>\n",
              "  </tbody>\n",
              "</table>\n",
              "</div>"
            ],
            "text/plain": [
              "        item_category_name  item_category_id\n",
              "0  PC - Гарнитуры/Наушники                 0\n",
              "1         Аксессуары - PS2                 1\n",
              "2         Аксессуары - PS3                 2\n",
              "3         Аксессуары - PS4                 3\n",
              "4         Аксессуары - PSP                 4"
            ]
          },
          "metadata": {},
          "execution_count": 18
        }
      ]
    },
    {
      "cell_type": "markdown",
      "metadata": {
        "id": "dv7vf18SpY1m"
      },
      "source": [
        "## Analysis for train"
      ]
    },
    {
      "cell_type": "code",
      "metadata": {
        "colab": {
          "base_uri": "https://localhost:8080/"
        },
        "id": "imphqkN0E05v",
        "outputId": "f3b83dc5-4b54-4cc7-a974-36601eee05c3"
      },
      "source": [
        "df_train.info()"
      ],
      "execution_count": 19,
      "outputs": [
        {
          "output_type": "stream",
          "name": "stdout",
          "text": [
            "<class 'pandas.core.frame.DataFrame'>\n",
            "RangeIndex: 2935849 entries, 0 to 2935848\n",
            "Data columns (total 6 columns):\n",
            " #   Column          Dtype  \n",
            "---  ------          -----  \n",
            " 0   date            object \n",
            " 1   date_block_num  int64  \n",
            " 2   shop_id         int64  \n",
            " 3   item_id         int64  \n",
            " 4   item_price      float64\n",
            " 5   item_cnt_day    float64\n",
            "dtypes: float64(2), int64(3), object(1)\n",
            "memory usage: 134.4+ MB\n"
          ]
        }
      ]
    },
    {
      "cell_type": "code",
      "metadata": {
        "colab": {
          "base_uri": "https://localhost:8080/"
        },
        "id": "NByKgqiXE07v",
        "outputId": "2b3916da-07f7-40fc-b167-75298cb3d4c5"
      },
      "source": [
        "df_train['date'] =  pd.to_datetime(df_train['date'], format='%d.%m.%Y')\n",
        "df_train.info()"
      ],
      "execution_count": 20,
      "outputs": [
        {
          "output_type": "stream",
          "name": "stdout",
          "text": [
            "<class 'pandas.core.frame.DataFrame'>\n",
            "RangeIndex: 2935849 entries, 0 to 2935848\n",
            "Data columns (total 6 columns):\n",
            " #   Column          Dtype         \n",
            "---  ------          -----         \n",
            " 0   date            datetime64[ns]\n",
            " 1   date_block_num  int64         \n",
            " 2   shop_id         int64         \n",
            " 3   item_id         int64         \n",
            " 4   item_price      float64       \n",
            " 5   item_cnt_day    float64       \n",
            "dtypes: datetime64[ns](1), float64(2), int64(3)\n",
            "memory usage: 134.4 MB\n"
          ]
        }
      ]
    },
    {
      "cell_type": "code",
      "metadata": {
        "colab": {
          "base_uri": "https://localhost:8080/",
          "height": 0
        },
        "id": "M4lxHmTAqHDX",
        "outputId": "df1b469e-03d3-49eb-e2a8-64efcda973cb"
      },
      "source": [
        "df_train['year'] = df_train.date.dt.year\n",
        "# df_train['month'] = df_train.date.dt.month\n",
        "# df_train['day'] = df_train.date.dt.day\n",
        "df_train.head()"
      ],
      "execution_count": 21,
      "outputs": [
        {
          "output_type": "execute_result",
          "data": {
            "text/html": [
              "<div>\n",
              "<style scoped>\n",
              "    .dataframe tbody tr th:only-of-type {\n",
              "        vertical-align: middle;\n",
              "    }\n",
              "\n",
              "    .dataframe tbody tr th {\n",
              "        vertical-align: top;\n",
              "    }\n",
              "\n",
              "    .dataframe thead th {\n",
              "        text-align: right;\n",
              "    }\n",
              "</style>\n",
              "<table border=\"1\" class=\"dataframe\">\n",
              "  <thead>\n",
              "    <tr style=\"text-align: right;\">\n",
              "      <th></th>\n",
              "      <th>date</th>\n",
              "      <th>date_block_num</th>\n",
              "      <th>shop_id</th>\n",
              "      <th>item_id</th>\n",
              "      <th>item_price</th>\n",
              "      <th>item_cnt_day</th>\n",
              "      <th>year</th>\n",
              "    </tr>\n",
              "  </thead>\n",
              "  <tbody>\n",
              "    <tr>\n",
              "      <th>0</th>\n",
              "      <td>2013-01-02</td>\n",
              "      <td>0</td>\n",
              "      <td>59</td>\n",
              "      <td>22154</td>\n",
              "      <td>999.00</td>\n",
              "      <td>1.0</td>\n",
              "      <td>2013</td>\n",
              "    </tr>\n",
              "    <tr>\n",
              "      <th>1</th>\n",
              "      <td>2013-01-03</td>\n",
              "      <td>0</td>\n",
              "      <td>25</td>\n",
              "      <td>2552</td>\n",
              "      <td>899.00</td>\n",
              "      <td>1.0</td>\n",
              "      <td>2013</td>\n",
              "    </tr>\n",
              "    <tr>\n",
              "      <th>2</th>\n",
              "      <td>2013-01-05</td>\n",
              "      <td>0</td>\n",
              "      <td>25</td>\n",
              "      <td>2552</td>\n",
              "      <td>899.00</td>\n",
              "      <td>-1.0</td>\n",
              "      <td>2013</td>\n",
              "    </tr>\n",
              "    <tr>\n",
              "      <th>3</th>\n",
              "      <td>2013-01-06</td>\n",
              "      <td>0</td>\n",
              "      <td>25</td>\n",
              "      <td>2554</td>\n",
              "      <td>1709.05</td>\n",
              "      <td>1.0</td>\n",
              "      <td>2013</td>\n",
              "    </tr>\n",
              "    <tr>\n",
              "      <th>4</th>\n",
              "      <td>2013-01-15</td>\n",
              "      <td>0</td>\n",
              "      <td>25</td>\n",
              "      <td>2555</td>\n",
              "      <td>1099.00</td>\n",
              "      <td>1.0</td>\n",
              "      <td>2013</td>\n",
              "    </tr>\n",
              "  </tbody>\n",
              "</table>\n",
              "</div>"
            ],
            "text/plain": [
              "        date  date_block_num  shop_id  item_id  item_price  item_cnt_day  year\n",
              "0 2013-01-02               0       59    22154      999.00           1.0  2013\n",
              "1 2013-01-03               0       25     2552      899.00           1.0  2013\n",
              "2 2013-01-05               0       25     2552      899.00          -1.0  2013\n",
              "3 2013-01-06               0       25     2554     1709.05           1.0  2013\n",
              "4 2013-01-15               0       25     2555     1099.00           1.0  2013"
            ]
          },
          "metadata": {},
          "execution_count": 21
        }
      ]
    },
    {
      "cell_type": "code",
      "metadata": {
        "colab": {
          "base_uri": "https://localhost:8080/",
          "height": 0
        },
        "id": "nfy2NWHIqHFR",
        "outputId": "ea85e303-4cfb-41a5-d3f3-e9248d0f76e2"
      },
      "source": [
        "df_train.drop('date', axis=1, inplace=True)\n",
        "df_train.head()"
      ],
      "execution_count": 22,
      "outputs": [
        {
          "output_type": "execute_result",
          "data": {
            "text/html": [
              "<div>\n",
              "<style scoped>\n",
              "    .dataframe tbody tr th:only-of-type {\n",
              "        vertical-align: middle;\n",
              "    }\n",
              "\n",
              "    .dataframe tbody tr th {\n",
              "        vertical-align: top;\n",
              "    }\n",
              "\n",
              "    .dataframe thead th {\n",
              "        text-align: right;\n",
              "    }\n",
              "</style>\n",
              "<table border=\"1\" class=\"dataframe\">\n",
              "  <thead>\n",
              "    <tr style=\"text-align: right;\">\n",
              "      <th></th>\n",
              "      <th>date_block_num</th>\n",
              "      <th>shop_id</th>\n",
              "      <th>item_id</th>\n",
              "      <th>item_price</th>\n",
              "      <th>item_cnt_day</th>\n",
              "      <th>year</th>\n",
              "    </tr>\n",
              "  </thead>\n",
              "  <tbody>\n",
              "    <tr>\n",
              "      <th>0</th>\n",
              "      <td>0</td>\n",
              "      <td>59</td>\n",
              "      <td>22154</td>\n",
              "      <td>999.00</td>\n",
              "      <td>1.0</td>\n",
              "      <td>2013</td>\n",
              "    </tr>\n",
              "    <tr>\n",
              "      <th>1</th>\n",
              "      <td>0</td>\n",
              "      <td>25</td>\n",
              "      <td>2552</td>\n",
              "      <td>899.00</td>\n",
              "      <td>1.0</td>\n",
              "      <td>2013</td>\n",
              "    </tr>\n",
              "    <tr>\n",
              "      <th>2</th>\n",
              "      <td>0</td>\n",
              "      <td>25</td>\n",
              "      <td>2552</td>\n",
              "      <td>899.00</td>\n",
              "      <td>-1.0</td>\n",
              "      <td>2013</td>\n",
              "    </tr>\n",
              "    <tr>\n",
              "      <th>3</th>\n",
              "      <td>0</td>\n",
              "      <td>25</td>\n",
              "      <td>2554</td>\n",
              "      <td>1709.05</td>\n",
              "      <td>1.0</td>\n",
              "      <td>2013</td>\n",
              "    </tr>\n",
              "    <tr>\n",
              "      <th>4</th>\n",
              "      <td>0</td>\n",
              "      <td>25</td>\n",
              "      <td>2555</td>\n",
              "      <td>1099.00</td>\n",
              "      <td>1.0</td>\n",
              "      <td>2013</td>\n",
              "    </tr>\n",
              "  </tbody>\n",
              "</table>\n",
              "</div>"
            ],
            "text/plain": [
              "   date_block_num  shop_id  item_id  item_price  item_cnt_day  year\n",
              "0               0       59    22154      999.00           1.0  2013\n",
              "1               0       25     2552      899.00           1.0  2013\n",
              "2               0       25     2552      899.00          -1.0  2013\n",
              "3               0       25     2554     1709.05           1.0  2013\n",
              "4               0       25     2555     1099.00           1.0  2013"
            ]
          },
          "metadata": {},
          "execution_count": 22
        }
      ]
    },
    {
      "cell_type": "code",
      "metadata": {
        "colab": {
          "base_uri": "https://localhost:8080/"
        },
        "id": "3LMDxLsvlA2u",
        "outputId": "d960a9c8-28ee-4a5f-dbca-6fcefa3c4f75"
      },
      "source": [
        "print('Last date block num - ', df_train.date_block_num.max())\n",
        "print('Years: ', df_train.year.unique())"
      ],
      "execution_count": 23,
      "outputs": [
        {
          "output_type": "stream",
          "name": "stdout",
          "text": [
            "Last date block num -  33\n",
            "Years:  [2013 2014 2015]\n"
          ]
        }
      ]
    },
    {
      "cell_type": "code",
      "metadata": {
        "colab": {
          "base_uri": "https://localhost:8080/",
          "height": 0
        },
        "id": "r3_CNbJ6VsAv",
        "outputId": "e892a478-7749-4a6e-d5c9-e7d9ff53b6bb"
      },
      "source": [
        "import matplotlib.pyplot as plt\n",
        "import seaborn as sns\n",
        "\n",
        "sns.scatterplot(x='item_id', y='item_price', data=df_train)\n",
        "plt.plot()"
      ],
      "execution_count": 24,
      "outputs": [
        {
          "output_type": "execute_result",
          "data": {
            "text/plain": [
              "[]"
            ]
          },
          "metadata": {},
          "execution_count": 24
        },
        {
          "output_type": "display_data",
          "data": {
            "image/png": "[encoded data removed]",
            "text/plain": [
              "<Figure size 432x288 with 1 Axes>"
            ]
          },
          "metadata": {
            "needs_background": "light"
          }
        }
      ]
    },
    {
      "cell_type": "code",
      "metadata": {
        "id": "ZB-zkqUyWiy1"
      },
      "source": [
        "# sns.scatterplot(x='item_id',\n",
        "#                 y='item_price',\n",
        "#                 data=df_train,\n",
        "#                 hue='date_block_num')\n",
        "# plt.plot()"
      ],
      "execution_count": 25,
      "outputs": []
    },
    {
      "cell_type": "markdown",
      "metadata": {
        "id": "kCzrNzmlQoEf"
      },
      "source": [
        "## Main"
      ]
    },
    {
      "cell_type": "code",
      "metadata": {
        "id": "IHvWtWhwTkWv"
      },
      "source": [
        "from itertools import product\n",
        "index_cols = ['shop_id','item_id','year','date_block_num']\n",
        "\n",
        "# For every month we create a grid from all shops/items combinations from that month\n",
        "grid = [] \n",
        "for block_num in df_train['date_block_num'].unique():\n",
        "    cur_shops = df_train[df_train['date_block_num'] == block_num]['shop_id'].unique()\n",
        "    cur_items = df_train[df_train['date_block_num'] == block_num]['item_id'].unique()\n",
        "    cur_years = df_train[df_train['date_block_num'] == block_num]['year'].unique()\n",
        "    grid.append(np.array(list(product(*[cur_shops,cur_items,cur_years,[block_num]])),\n",
        "                         dtype='int32'))\n",
        "\n",
        "# Turn the grid into pandas dataframe\n",
        "grid = pd.DataFrame(np.vstack(grid), columns=index_cols, dtype=np.int32)"
      ],
      "execution_count": 26,
      "outputs": []
    },
    {
      "cell_type": "code",
      "metadata": {
        "colab": {
          "base_uri": "https://localhost:8080/"
        },
        "id": "YwMVSqhuU6c6",
        "outputId": "fd2240d1-0374-42e8-e34d-8f1a1f576fe2"
      },
      "source": [
        "# Get aggregated values for (shop_id, item_id, month, year)\n",
        "gb = df_train.groupby(index_cols, as_index=False)['item_cnt_day'].agg('sum')\n",
        "# Fix column names\n",
        "# gb.columns = [col[0] if col[-1] == '' else col[-1] for col in gb.columns.values]\n",
        "print(gb)"
      ],
      "execution_count": 27,
      "outputs": [
        {
          "output_type": "stream",
          "name": "stdout",
          "text": [
            "         shop_id  item_id  year  date_block_num  item_cnt_day\n",
            "0              0       30  2013               1          31.0\n",
            "1              0       31  2013               1          11.0\n",
            "2              0       32  2013               0           6.0\n",
            "3              0       32  2013               1          10.0\n",
            "4              0       33  2013               0           3.0\n",
            "...          ...      ...   ...             ...           ...\n",
            "1609119       59    22164  2015              27           2.0\n",
            "1609120       59    22164  2015              30           1.0\n",
            "1609121       59    22167  2013               9           1.0\n",
            "1609122       59    22167  2013              11           2.0\n",
            "1609123       59    22167  2014              17           1.0\n",
            "\n",
            "[1609124 rows x 5 columns]\n"
          ]
        }
      ]
    },
    {
      "cell_type": "code",
      "metadata": {
        "id": "tViYGIfuXSLU"
      },
      "source": [
        "# Join aggregated data to the grid\n",
        "df = pd.merge(grid, gb, how='left', on=index_cols).fillna(0)\n",
        "# Sort the data\n",
        "df.sort_values(['year','date_block_num','shop_id','item_id'], inplace=True)"
      ],
      "execution_count": 28,
      "outputs": []
    },
    {
      "cell_type": "code",
      "metadata": {
        "colab": {
          "base_uri": "https://localhost:8080/",
          "height": 206
        },
        "id": "Sh6p3tyTVXkp",
        "outputId": "509c0d06-9547-4fd4-b5ed-091a0636e249"
      },
      "source": [
        "df.head()"
      ],
      "execution_count": 29,
      "outputs": [
        {
          "output_type": "execute_result",
          "data": {
            "text/html": [
              "<div>\n",
              "<style scoped>\n",
              "    .dataframe tbody tr th:only-of-type {\n",
              "        vertical-align: middle;\n",
              "    }\n",
              "\n",
              "    .dataframe tbody tr th {\n",
              "        vertical-align: top;\n",
              "    }\n",
              "\n",
              "    .dataframe thead th {\n",
              "        text-align: right;\n",
              "    }\n",
              "</style>\n",
              "<table border=\"1\" class=\"dataframe\">\n",
              "  <thead>\n",
              "    <tr style=\"text-align: right;\">\n",
              "      <th></th>\n",
              "      <th>shop_id</th>\n",
              "      <th>item_id</th>\n",
              "      <th>year</th>\n",
              "      <th>date_block_num</th>\n",
              "      <th>item_cnt_day</th>\n",
              "    </tr>\n",
              "  </thead>\n",
              "  <tbody>\n",
              "    <tr>\n",
              "      <th>139255</th>\n",
              "      <td>0</td>\n",
              "      <td>19</td>\n",
              "      <td>2013</td>\n",
              "      <td>0</td>\n",
              "      <td>0.0</td>\n",
              "    </tr>\n",
              "    <tr>\n",
              "      <th>141495</th>\n",
              "      <td>0</td>\n",
              "      <td>27</td>\n",
              "      <td>2013</td>\n",
              "      <td>0</td>\n",
              "      <td>0.0</td>\n",
              "    </tr>\n",
              "    <tr>\n",
              "      <th>144968</th>\n",
              "      <td>0</td>\n",
              "      <td>28</td>\n",
              "      <td>2013</td>\n",
              "      <td>0</td>\n",
              "      <td>0.0</td>\n",
              "    </tr>\n",
              "    <tr>\n",
              "      <th>142661</th>\n",
              "      <td>0</td>\n",
              "      <td>29</td>\n",
              "      <td>2013</td>\n",
              "      <td>0</td>\n",
              "      <td>0.0</td>\n",
              "    </tr>\n",
              "    <tr>\n",
              "      <th>138947</th>\n",
              "      <td>0</td>\n",
              "      <td>32</td>\n",
              "      <td>2013</td>\n",
              "      <td>0</td>\n",
              "      <td>6.0</td>\n",
              "    </tr>\n",
              "  </tbody>\n",
              "</table>\n",
              "</div>"
            ],
            "text/plain": [
              "        shop_id  item_id  year  date_block_num  item_cnt_day\n",
              "139255        0       19  2013               0           0.0\n",
              "141495        0       27  2013               0           0.0\n",
              "144968        0       28  2013               0           0.0\n",
              "142661        0       29  2013               0           0.0\n",
              "138947        0       32  2013               0           6.0"
            ]
          },
          "metadata": {},
          "execution_count": 29
        }
      ]
    },
    {
      "cell_type": "code",
      "metadata": {
        "id": "zvmfmMQ5bR0t"
      },
      "source": [
        "prices = df_train.groupby('item_id')['item_price'].max()"
      ],
      "execution_count": 30,
      "outputs": []
    },
    {
      "cell_type": "code",
      "metadata": {
        "colab": {
          "base_uri": "https://localhost:8080/",
          "height": 206
        },
        "id": "zNL0FOrZY1cg",
        "outputId": "96681b20-abd9-4601-9c06-41240f75d5cc"
      },
      "source": [
        "df['item_price'] = df['item_id'].map(prices)\n",
        "df.head()"
      ],
      "execution_count": 31,
      "outputs": [
        {
          "output_type": "execute_result",
          "data": {
            "text/html": [
              "<div>\n",
              "<style scoped>\n",
              "    .dataframe tbody tr th:only-of-type {\n",
              "        vertical-align: middle;\n",
              "    }\n",
              "\n",
              "    .dataframe tbody tr th {\n",
              "        vertical-align: top;\n",
              "    }\n",
              "\n",
              "    .dataframe thead th {\n",
              "        text-align: right;\n",
              "    }\n",
              "</style>\n",
              "<table border=\"1\" class=\"dataframe\">\n",
              "  <thead>\n",
              "    <tr style=\"text-align: right;\">\n",
              "      <th></th>\n",
              "      <th>shop_id</th>\n",
              "      <th>item_id</th>\n",
              "      <th>year</th>\n",
              "      <th>date_block_num</th>\n",
              "      <th>item_cnt_day</th>\n",
              "      <th>item_price</th>\n",
              "    </tr>\n",
              "  </thead>\n",
              "  <tbody>\n",
              "    <tr>\n",
              "      <th>139255</th>\n",
              "      <td>0</td>\n",
              "      <td>19</td>\n",
              "      <td>2013</td>\n",
              "      <td>0</td>\n",
              "      <td>0.0</td>\n",
              "      <td>28.0</td>\n",
              "    </tr>\n",
              "    <tr>\n",
              "      <th>141495</th>\n",
              "      <td>0</td>\n",
              "      <td>27</td>\n",
              "      <td>2013</td>\n",
              "      <td>0</td>\n",
              "      <td>0.0</td>\n",
              "      <td>2499.0</td>\n",
              "    </tr>\n",
              "    <tr>\n",
              "      <th>144968</th>\n",
              "      <td>0</td>\n",
              "      <td>28</td>\n",
              "      <td>2013</td>\n",
              "      <td>0</td>\n",
              "      <td>0.0</td>\n",
              "      <td>549.0</td>\n",
              "    </tr>\n",
              "    <tr>\n",
              "      <th>142661</th>\n",
              "      <td>0</td>\n",
              "      <td>29</td>\n",
              "      <td>2013</td>\n",
              "      <td>0</td>\n",
              "      <td>0.0</td>\n",
              "      <td>2499.0</td>\n",
              "    </tr>\n",
              "    <tr>\n",
              "      <th>138947</th>\n",
              "      <td>0</td>\n",
              "      <td>32</td>\n",
              "      <td>2013</td>\n",
              "      <td>0</td>\n",
              "      <td>6.0</td>\n",
              "      <td>349.0</td>\n",
              "    </tr>\n",
              "  </tbody>\n",
              "</table>\n",
              "</div>"
            ],
            "text/plain": [
              "        shop_id  item_id  year  date_block_num  item_cnt_day  item_price\n",
              "139255        0       19  2013               0           0.0        28.0\n",
              "141495        0       27  2013               0           0.0      2499.0\n",
              "144968        0       28  2013               0           0.0       549.0\n",
              "142661        0       29  2013               0           0.0      2499.0\n",
              "138947        0       32  2013               0           6.0       349.0"
            ]
          },
          "metadata": {},
          "execution_count": 31
        }
      ]
    },
    {
      "cell_type": "code",
      "metadata": {
        "colab": {
          "base_uri": "https://localhost:8080/",
          "height": 206
        },
        "id": "pqNjR-H3pVdo",
        "outputId": "bed35584-f528-44d8-ab75-efd3fa4a235b"
      },
      "source": [
        "cols = ['shop_id', 'item_id', 'date_block_num', 'item_cnt_day']\n",
        "\n",
        "prev_val_benchmark = df.loc[:, cols]\n",
        "prev_val_benchmark.date_block_num += 1\n",
        "prev_val_benchmark.rename(columns={'item_cnt_day': 'prev_value'}, inplace=True)\n",
        "prev_val_benchmark.head()"
      ],
      "execution_count": 32,
      "outputs": [
        {
          "output_type": "execute_result",
          "data": {
            "text/html": [
              "<div>\n",
              "<style scoped>\n",
              "    .dataframe tbody tr th:only-of-type {\n",
              "        vertical-align: middle;\n",
              "    }\n",
              "\n",
              "    .dataframe tbody tr th {\n",
              "        vertical-align: top;\n",
              "    }\n",
              "\n",
              "    .dataframe thead th {\n",
              "        text-align: right;\n",
              "    }\n",
              "</style>\n",
              "<table border=\"1\" class=\"dataframe\">\n",
              "  <thead>\n",
              "    <tr style=\"text-align: right;\">\n",
              "      <th></th>\n",
              "      <th>shop_id</th>\n",
              "      <th>item_id</th>\n",
              "      <th>date_block_num</th>\n",
              "      <th>prev_value</th>\n",
              "    </tr>\n",
              "  </thead>\n",
              "  <tbody>\n",
              "    <tr>\n",
              "      <th>139255</th>\n",
              "      <td>0</td>\n",
              "      <td>19</td>\n",
              "      <td>1</td>\n",
              "      <td>0.0</td>\n",
              "    </tr>\n",
              "    <tr>\n",
              "      <th>141495</th>\n",
              "      <td>0</td>\n",
              "      <td>27</td>\n",
              "      <td>1</td>\n",
              "      <td>0.0</td>\n",
              "    </tr>\n",
              "    <tr>\n",
              "      <th>144968</th>\n",
              "      <td>0</td>\n",
              "      <td>28</td>\n",
              "      <td>1</td>\n",
              "      <td>0.0</td>\n",
              "    </tr>\n",
              "    <tr>\n",
              "      <th>142661</th>\n",
              "      <td>0</td>\n",
              "      <td>29</td>\n",
              "      <td>1</td>\n",
              "      <td>0.0</td>\n",
              "    </tr>\n",
              "    <tr>\n",
              "      <th>138947</th>\n",
              "      <td>0</td>\n",
              "      <td>32</td>\n",
              "      <td>1</td>\n",
              "      <td>6.0</td>\n",
              "    </tr>\n",
              "  </tbody>\n",
              "</table>\n",
              "</div>"
            ],
            "text/plain": [
              "        shop_id  item_id  date_block_num  prev_value\n",
              "139255        0       19               1         0.0\n",
              "141495        0       27               1         0.0\n",
              "144968        0       28               1         0.0\n",
              "142661        0       29               1         0.0\n",
              "138947        0       32               1         6.0"
            ]
          },
          "metadata": {},
          "execution_count": 32
        }
      ]
    },
    {
      "cell_type": "code",
      "metadata": {
        "id": "5za2UHn4uoeW"
      },
      "source": [
        "max_block_num = prev_val_benchmark.date_block_num.max()\n",
        "next_val = prev_val_benchmark[prev_val_benchmark.date_block_num == max_block_num].prev_value.values"
      ],
      "execution_count": 33,
      "outputs": []
    },
    {
      "cell_type": "code",
      "metadata": {
        "id": "yMwq9GectRQ9",
        "colab": {
          "base_uri": "https://localhost:8080/",
          "height": 206
        },
        "outputId": "17164d49-fe95-40dd-dc37-1c4e410e2332"
      },
      "source": [
        "df = pd.merge(df, prev_val_benchmark,\n",
        "              how='left', on=cols[:-1])\n",
        "df.tail()"
      ],
      "execution_count": 34,
      "outputs": [
        {
          "output_type": "execute_result",
          "data": {
            "text/html": [
              "<div>\n",
              "<style scoped>\n",
              "    .dataframe tbody tr th:only-of-type {\n",
              "        vertical-align: middle;\n",
              "    }\n",
              "\n",
              "    .dataframe tbody tr th {\n",
              "        vertical-align: top;\n",
              "    }\n",
              "\n",
              "    .dataframe thead th {\n",
              "        text-align: right;\n",
              "    }\n",
              "</style>\n",
              "<table border=\"1\" class=\"dataframe\">\n",
              "  <thead>\n",
              "    <tr style=\"text-align: right;\">\n",
              "      <th></th>\n",
              "      <th>shop_id</th>\n",
              "      <th>item_id</th>\n",
              "      <th>year</th>\n",
              "      <th>date_block_num</th>\n",
              "      <th>item_cnt_day</th>\n",
              "      <th>item_price</th>\n",
              "      <th>prev_value</th>\n",
              "    </tr>\n",
              "  </thead>\n",
              "  <tbody>\n",
              "    <tr>\n",
              "      <th>10913845</th>\n",
              "      <td>59</td>\n",
              "      <td>22162</td>\n",
              "      <td>2015</td>\n",
              "      <td>33</td>\n",
              "      <td>0.0</td>\n",
              "      <td>399.0</td>\n",
              "      <td>0.0</td>\n",
              "    </tr>\n",
              "    <tr>\n",
              "      <th>10913846</th>\n",
              "      <td>59</td>\n",
              "      <td>22163</td>\n",
              "      <td>2015</td>\n",
              "      <td>33</td>\n",
              "      <td>0.0</td>\n",
              "      <td>169.0</td>\n",
              "      <td>0.0</td>\n",
              "    </tr>\n",
              "    <tr>\n",
              "      <th>10913847</th>\n",
              "      <td>59</td>\n",
              "      <td>22164</td>\n",
              "      <td>2015</td>\n",
              "      <td>33</td>\n",
              "      <td>0.0</td>\n",
              "      <td>749.0</td>\n",
              "      <td>0.0</td>\n",
              "    </tr>\n",
              "    <tr>\n",
              "      <th>10913848</th>\n",
              "      <td>59</td>\n",
              "      <td>22166</td>\n",
              "      <td>2015</td>\n",
              "      <td>33</td>\n",
              "      <td>0.0</td>\n",
              "      <td>150.0</td>\n",
              "      <td>0.0</td>\n",
              "    </tr>\n",
              "    <tr>\n",
              "      <th>10913849</th>\n",
              "      <td>59</td>\n",
              "      <td>22167</td>\n",
              "      <td>2015</td>\n",
              "      <td>33</td>\n",
              "      <td>0.0</td>\n",
              "      <td>299.0</td>\n",
              "      <td>0.0</td>\n",
              "    </tr>\n",
              "  </tbody>\n",
              "</table>\n",
              "</div>"
            ],
            "text/plain": [
              "          shop_id  item_id  year  ...  item_cnt_day  item_price  prev_value\n",
              "10913845       59    22162  2015  ...           0.0       399.0         0.0\n",
              "10913846       59    22163  2015  ...           0.0       169.0         0.0\n",
              "10913847       59    22164  2015  ...           0.0       749.0         0.0\n",
              "10913848       59    22166  2015  ...           0.0       150.0         0.0\n",
              "10913849       59    22167  2015  ...           0.0       299.0         0.0\n",
              "\n",
              "[5 rows x 7 columns]"
            ]
          },
          "metadata": {},
          "execution_count": 34
        }
      ]
    },
    {
      "cell_type": "code",
      "metadata": {
        "colab": {
          "base_uri": "https://localhost:8080/"
        },
        "id": "zN557vnWubzI",
        "outputId": "e78ddf0b-e8e7-4986-c275-9efdcb75e8e8"
      },
      "source": [
        "df.prev_value.describe()"
      ],
      "execution_count": 35,
      "outputs": [
        {
          "output_type": "execute_result",
          "data": {
            "text/plain": [
              "count    8.437839e+06\n",
              "mean     4.085508e-01\n",
              "std      3.604813e+00\n",
              "min     -2.200000e+01\n",
              "25%      0.000000e+00\n",
              "50%      0.000000e+00\n",
              "75%      0.000000e+00\n",
              "max      1.305000e+03\n",
              "Name: prev_value, dtype: float64"
            ]
          },
          "metadata": {},
          "execution_count": 35
        }
      ]
    },
    {
      "cell_type": "code",
      "metadata": {
        "colab": {
          "base_uri": "https://localhost:8080/",
          "height": 206
        },
        "id": "n2WXvlTnUXnG",
        "outputId": "f7a312de-48bd-4503-d636-d5dc61f94ea7"
      },
      "source": [
        "df['prev_value'] = df.prev_value.fillna(0)\n",
        "df.head()"
      ],
      "execution_count": 36,
      "outputs": [
        {
          "output_type": "execute_result",
          "data": {
            "text/html": [
              "<div>\n",
              "<style scoped>\n",
              "    .dataframe tbody tr th:only-of-type {\n",
              "        vertical-align: middle;\n",
              "    }\n",
              "\n",
              "    .dataframe tbody tr th {\n",
              "        vertical-align: top;\n",
              "    }\n",
              "\n",
              "    .dataframe thead th {\n",
              "        text-align: right;\n",
              "    }\n",
              "</style>\n",
              "<table border=\"1\" class=\"dataframe\">\n",
              "  <thead>\n",
              "    <tr style=\"text-align: right;\">\n",
              "      <th></th>\n",
              "      <th>shop_id</th>\n",
              "      <th>item_id</th>\n",
              "      <th>year</th>\n",
              "      <th>date_block_num</th>\n",
              "      <th>item_cnt_day</th>\n",
              "      <th>item_price</th>\n",
              "      <th>prev_value</th>\n",
              "    </tr>\n",
              "  </thead>\n",
              "  <tbody>\n",
              "    <tr>\n",
              "      <th>0</th>\n",
              "      <td>0</td>\n",
              "      <td>19</td>\n",
              "      <td>2013</td>\n",
              "      <td>0</td>\n",
              "      <td>0.0</td>\n",
              "      <td>28.0</td>\n",
              "      <td>0.0</td>\n",
              "    </tr>\n",
              "    <tr>\n",
              "      <th>1</th>\n",
              "      <td>0</td>\n",
              "      <td>27</td>\n",
              "      <td>2013</td>\n",
              "      <td>0</td>\n",
              "      <td>0.0</td>\n",
              "      <td>2499.0</td>\n",
              "      <td>0.0</td>\n",
              "    </tr>\n",
              "    <tr>\n",
              "      <th>2</th>\n",
              "      <td>0</td>\n",
              "      <td>28</td>\n",
              "      <td>2013</td>\n",
              "      <td>0</td>\n",
              "      <td>0.0</td>\n",
              "      <td>549.0</td>\n",
              "      <td>0.0</td>\n",
              "    </tr>\n",
              "    <tr>\n",
              "      <th>3</th>\n",
              "      <td>0</td>\n",
              "      <td>29</td>\n",
              "      <td>2013</td>\n",
              "      <td>0</td>\n",
              "      <td>0.0</td>\n",
              "      <td>2499.0</td>\n",
              "      <td>0.0</td>\n",
              "    </tr>\n",
              "    <tr>\n",
              "      <th>4</th>\n",
              "      <td>0</td>\n",
              "      <td>32</td>\n",
              "      <td>2013</td>\n",
              "      <td>0</td>\n",
              "      <td>6.0</td>\n",
              "      <td>349.0</td>\n",
              "      <td>0.0</td>\n",
              "    </tr>\n",
              "  </tbody>\n",
              "</table>\n",
              "</div>"
            ],
            "text/plain": [
              "   shop_id  item_id  year  date_block_num  item_cnt_day  item_price  prev_value\n",
              "0        0       19  2013               0           0.0        28.0         0.0\n",
              "1        0       27  2013               0           0.0      2499.0         0.0\n",
              "2        0       28  2013               0           0.0       549.0         0.0\n",
              "3        0       29  2013               0           0.0      2499.0         0.0\n",
              "4        0       32  2013               0           6.0       349.0         0.0"
            ]
          },
          "metadata": {},
          "execution_count": 36
        }
      ]
    },
    {
      "cell_type": "code",
      "metadata": {
        "colab": {
          "base_uri": "https://localhost:8080/",
          "height": 206
        },
        "id": "NDrGViihCHl7",
        "outputId": "a832184b-b539-4075-a52b-59b714486543"
      },
      "source": [
        "df = pd.merge(df, df_shops,\n",
        "              how='left', on='shop_id')\n",
        "df.head()"
      ],
      "execution_count": 37,
      "outputs": [
        {
          "output_type": "execute_result",
          "data": {
            "text/html": [
              "<div>\n",
              "<style scoped>\n",
              "    .dataframe tbody tr th:only-of-type {\n",
              "        vertical-align: middle;\n",
              "    }\n",
              "\n",
              "    .dataframe tbody tr th {\n",
              "        vertical-align: top;\n",
              "    }\n",
              "\n",
              "    .dataframe thead th {\n",
              "        text-align: right;\n",
              "    }\n",
              "</style>\n",
              "<table border=\"1\" class=\"dataframe\">\n",
              "  <thead>\n",
              "    <tr style=\"text-align: right;\">\n",
              "      <th></th>\n",
              "      <th>shop_id</th>\n",
              "      <th>item_id</th>\n",
              "      <th>year</th>\n",
              "      <th>date_block_num</th>\n",
              "      <th>item_cnt_day</th>\n",
              "      <th>item_price</th>\n",
              "      <th>prev_value</th>\n",
              "      <th>city_enc</th>\n",
              "      <th>shop_type_enc</th>\n",
              "    </tr>\n",
              "  </thead>\n",
              "  <tbody>\n",
              "    <tr>\n",
              "      <th>0</th>\n",
              "      <td>0</td>\n",
              "      <td>19</td>\n",
              "      <td>2013</td>\n",
              "      <td>0</td>\n",
              "      <td>0.0</td>\n",
              "      <td>28.0</td>\n",
              "      <td>0.0</td>\n",
              "      <td>29</td>\n",
              "      <td>4</td>\n",
              "    </tr>\n",
              "    <tr>\n",
              "      <th>1</th>\n",
              "      <td>0</td>\n",
              "      <td>27</td>\n",
              "      <td>2013</td>\n",
              "      <td>0</td>\n",
              "      <td>0.0</td>\n",
              "      <td>2499.0</td>\n",
              "      <td>0.0</td>\n",
              "      <td>29</td>\n",
              "      <td>4</td>\n",
              "    </tr>\n",
              "    <tr>\n",
              "      <th>2</th>\n",
              "      <td>0</td>\n",
              "      <td>28</td>\n",
              "      <td>2013</td>\n",
              "      <td>0</td>\n",
              "      <td>0.0</td>\n",
              "      <td>549.0</td>\n",
              "      <td>0.0</td>\n",
              "      <td>29</td>\n",
              "      <td>4</td>\n",
              "    </tr>\n",
              "    <tr>\n",
              "      <th>3</th>\n",
              "      <td>0</td>\n",
              "      <td>29</td>\n",
              "      <td>2013</td>\n",
              "      <td>0</td>\n",
              "      <td>0.0</td>\n",
              "      <td>2499.0</td>\n",
              "      <td>0.0</td>\n",
              "      <td>29</td>\n",
              "      <td>4</td>\n",
              "    </tr>\n",
              "    <tr>\n",
              "      <th>4</th>\n",
              "      <td>0</td>\n",
              "      <td>32</td>\n",
              "      <td>2013</td>\n",
              "      <td>0</td>\n",
              "      <td>6.0</td>\n",
              "      <td>349.0</td>\n",
              "      <td>0.0</td>\n",
              "      <td>29</td>\n",
              "      <td>4</td>\n",
              "    </tr>\n",
              "  </tbody>\n",
              "</table>\n",
              "</div>"
            ],
            "text/plain": [
              "   shop_id  item_id  year  ...  prev_value  city_enc  shop_type_enc\n",
              "0        0       19  2013  ...         0.0        29              4\n",
              "1        0       27  2013  ...         0.0        29              4\n",
              "2        0       28  2013  ...         0.0        29              4\n",
              "3        0       29  2013  ...         0.0        29              4\n",
              "4        0       32  2013  ...         0.0        29              4\n",
              "\n",
              "[5 rows x 9 columns]"
            ]
          },
          "metadata": {},
          "execution_count": 37
        }
      ]
    },
    {
      "cell_type": "code",
      "metadata": {
        "id": "7ygJh_fDCS7K"
      },
      "source": [
        "# import seaborn as sns\n",
        "# sns.pairplot(df)"
      ],
      "execution_count": 38,
      "outputs": []
    },
    {
      "cell_type": "code",
      "metadata": {
        "id": "wIXoSkmC0LCh"
      },
      "source": [
        "dest = '/content/drive/MyDrive/HSE Final Project/to_train'\n",
        "df.to_csv(dest + '/submit_2_abandoned.csv', index=False)"
      ],
      "execution_count": 39,
      "outputs": []
    },
    {
      "cell_type": "markdown",
      "metadata": {
        "id": "jADHqJAnjS2z"
      },
      "source": [
        "# Test Submission to kaggle"
      ]
    },
    {
      "cell_type": "code",
      "metadata": {
        "colab": {
          "base_uri": "https://localhost:8080/",
          "height": 206
        },
        "id": "PrtsigzzkVbR",
        "outputId": "fb863538-c08b-486a-ed54-6d9fc0dcc75c"
      },
      "source": [
        "test_dest = '/content/drive/MyDrive/HSE Final Project/Data/test.csv'\n",
        "test_df = pd.read_csv(test_dest)\n",
        "test_df.head()"
      ],
      "execution_count": 40,
      "outputs": [
        {
          "output_type": "execute_result",
          "data": {
            "text/html": [
              "<div>\n",
              "<style scoped>\n",
              "    .dataframe tbody tr th:only-of-type {\n",
              "        vertical-align: middle;\n",
              "    }\n",
              "\n",
              "    .dataframe tbody tr th {\n",
              "        vertical-align: top;\n",
              "    }\n",
              "\n",
              "    .dataframe thead th {\n",
              "        text-align: right;\n",
              "    }\n",
              "</style>\n",
              "<table border=\"1\" class=\"dataframe\">\n",
              "  <thead>\n",
              "    <tr style=\"text-align: right;\">\n",
              "      <th></th>\n",
              "      <th>ID</th>\n",
              "      <th>shop_id</th>\n",
              "      <th>item_id</th>\n",
              "    </tr>\n",
              "  </thead>\n",
              "  <tbody>\n",
              "    <tr>\n",
              "      <th>0</th>\n",
              "      <td>0</td>\n",
              "      <td>5</td>\n",
              "      <td>5037</td>\n",
              "    </tr>\n",
              "    <tr>\n",
              "      <th>1</th>\n",
              "      <td>1</td>\n",
              "      <td>5</td>\n",
              "      <td>5320</td>\n",
              "    </tr>\n",
              "    <tr>\n",
              "      <th>2</th>\n",
              "      <td>2</td>\n",
              "      <td>5</td>\n",
              "      <td>5233</td>\n",
              "    </tr>\n",
              "    <tr>\n",
              "      <th>3</th>\n",
              "      <td>3</td>\n",
              "      <td>5</td>\n",
              "      <td>5232</td>\n",
              "    </tr>\n",
              "    <tr>\n",
              "      <th>4</th>\n",
              "      <td>4</td>\n",
              "      <td>5</td>\n",
              "      <td>5268</td>\n",
              "    </tr>\n",
              "  </tbody>\n",
              "</table>\n",
              "</div>"
            ],
            "text/plain": [
              "   ID  shop_id  item_id\n",
              "0   0        5     5037\n",
              "1   1        5     5320\n",
              "2   2        5     5233\n",
              "3   3        5     5232\n",
              "4   4        5     5268"
            ]
          },
          "metadata": {},
          "execution_count": 40
        }
      ]
    },
    {
      "cell_type": "code",
      "metadata": {
        "colab": {
          "base_uri": "https://localhost:8080/"
        },
        "id": "1wyn4UgVlGHD",
        "outputId": "7c5c9752-26f9-429d-e5fd-c637bd10ad0d"
      },
      "source": [
        "test_features = test_df.drop('ID', axis=1)\n",
        "test_features['year'] = 2015\n",
        "test_features['date_block_num'] = 34\n",
        "\n",
        "prices = df_train.groupby('item_id')['item_price'].max()\n",
        "test_features['item_price'] = test_features['item_id'].map(prices).fillna(-1)\n",
        "test_features = pd.merge(test_features, prev_val_benchmark,\n",
        "                         how='left', on=cols[:-1]).fillna(0)\n",
        "\n",
        "test_features = pd.merge(test_features, df_shops,\n",
        "                         how='left', on='shop_id')\n",
        "print(test_features.head())"
      ],
      "execution_count": 41,
      "outputs": [
        {
          "output_type": "stream",
          "name": "stdout",
          "text": [
            "   shop_id  item_id  year  ...  prev_value  city_enc  shop_type_enc\n",
            "0        5     5037  2015  ...         0.0         3              3\n",
            "1        5     5320  2015  ...         0.0         3              3\n",
            "2        5     5233  2015  ...         1.0         3              3\n",
            "3        5     5232  2015  ...         0.0         3              3\n",
            "4        5     5268  2015  ...         0.0         3              3\n",
            "\n",
            "[5 rows x 8 columns]\n"
          ]
        }
      ]
    },
    {
      "cell_type": "code",
      "metadata": {
        "id": "1sE9MdMm9dky"
      },
      "source": [
        "dest = '/content/drive/MyDrive/HSE Final Project/to_test'\n",
        "name = 'submit_2_test.csv'\n",
        "test_features.to_csv(dest + '/' + name, index=False)"
      ],
      "execution_count": 44,
      "outputs": []
    },
    {
      "cell_type": "code",
      "metadata": {
        "id": "twG-lsA2fvUY"
      },
      "source": [
        ""
      ],
      "execution_count": null,
      "outputs": []
    },
    {
      "cell_type": "code",
      "metadata": {
        "id": "9o_j8kaG_Fz-"
      },
      "source": [
        ""
      ],
      "execution_count": null,
      "outputs": []
    },
    {
      "cell_type": "code",
      "metadata": {
        "id": "-YD0XVc8_F21"
      },
      "source": [
        ""
      ],
      "execution_count": null,
      "outputs": []
    }
  ]
}