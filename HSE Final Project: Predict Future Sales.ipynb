{
  "nbformat": 4,
  "nbformat_minor": 0,
  "metadata": {
    "colab": {
      "name": "HSE Final Project: Predict Future Sales.ipynb",
      "provenance": [],
      "collapsed_sections": [
        "u2B6tTL4_ktj",
        "rSDMuYuhSrXN"
      ],
      "mount_file_id": "1AyeI5r-jcoxgvkcm-FA2hWZXsRkqMfY0",
      "authorship_tag": "ABX9TyMf0hpg6MAh21LGyEhxalxy"
    },
    "kernelspec": {
      "name": "python3",
      "display_name": "Python 3"
    },
    "language_info": {
      "name": "python"
    },
    "accelerator": "GPU"
  },
  "cells": [
    {
      "cell_type": "markdown",
      "metadata": {
        "id": "G3ya-pzSTt_0"
      },
      "source": [
        "# Important stuff"
      ]
    },
    {
      "cell_type": "code",
      "metadata": {
        "colab": {
          "base_uri": "https://localhost:8080/"
        },
        "id": "cTvoR3teSeY3",
        "outputId": "7d61edbc-c668-4eb4-ef2f-2f245bd82f0a"
      },
      "source": [
        "from google.colab import drive\n",
        "drive.mount('/content/drive')"
      ],
      "execution_count": 1,
      "outputs": [
        {
          "output_type": "stream",
          "name": "stdout",
          "text": [
            "Drive already mounted at /content/drive; to attempt to forcibly remount, call drive.mount(\"/content/drive\", force_remount=True).\n"
          ]
        }
      ]
    },
    {
      "cell_type": "markdown",
      "metadata": {
        "id": "u2B6tTL4_ktj"
      },
      "source": [
        "## Data Download"
      ]
    },
    {
      "cell_type": "code",
      "metadata": {
        "id": "iQH8lf0vljyc"
      },
      "source": [
        "! pip install -q kaggle"
      ],
      "execution_count": null,
      "outputs": []
    },
    {
      "cell_type": "code",
      "metadata": {
        "id": "Tr3OISSf_n8q"
      },
      "source": [
        "# using kaggle.json\n",
        "from google.colab import files\n",
        "files.upload()"
      ],
      "execution_count": null,
      "outputs": []
    },
    {
      "cell_type": "code",
      "metadata": {
        "colab": {
          "base_uri": "https://localhost:8080/"
        },
        "id": "nrzR7t9P_n_u",
        "outputId": "50ea7e81-098a-4529-ae7f-2de15623ac50"
      },
      "source": [
        "# Hiding kaggle.json file and downloading \n",
        "! mkdir ~/.kaggle\n",
        "! cp kaggle.json ~/.kaggle/\n",
        "! chmod 600 ~/.kaggle/kaggle.json\n",
        "! kaggle competitions download -c competitive-data-science-predict-future-sales"
      ],
      "execution_count": null,
      "outputs": [
        {
          "output_type": "stream",
          "name": "stdout",
          "text": [
            "mkdir: cannot create directory ‘/root/.kaggle’: File exists\n",
            "Warning: Looks like you're using an outdated API Version, please consider updating (server 1.5.12 / client 1.5.4)\n",
            "Downloading shops.csv to /content\n",
            "  0% 0.00/2.91k [00:00<?, ?B/s]\n",
            "100% 2.91k/2.91k [00:00<00:00, 2.62MB/s]\n",
            "Downloading sales_train.csv.zip to /content\n",
            " 83% 11.0M/13.3M [00:00<00:00, 115MB/s]\n",
            "100% 13.3M/13.3M [00:00<00:00, 120MB/s]\n",
            "Downloading sample_submission.csv.zip to /content\n",
            "  0% 0.00/468k [00:00<?, ?B/s]\n",
            "100% 468k/468k [00:00<00:00, 150MB/s]\n",
            "Downloading items.csv.zip to /content\n",
            "  0% 0.00/368k [00:00<?, ?B/s]\n",
            "100% 368k/368k [00:00<00:00, 123MB/s]\n",
            "Downloading item_categories.csv to /content\n",
            "  0% 0.00/3.49k [00:00<?, ?B/s]\n",
            "100% 3.49k/3.49k [00:00<00:00, 3.63MB/s]\n",
            "Downloading test.csv.zip to /content\n",
            "  0% 0.00/1.02M [00:00<?, ?B/s]\n",
            "100% 1.02M/1.02M [00:00<00:00, 134MB/s]\n"
          ]
        }
      ]
    },
    {
      "cell_type": "code",
      "metadata": {
        "colab": {
          "base_uri": "https://localhost:8080/"
        },
        "id": "5yuYO884_oCS",
        "outputId": "e7bfae04-2eb8-463d-f5b3-765d5d214c00"
      },
      "source": [
        "import os\n",
        "\n",
        "my_dir = '/content/'\n",
        "filelist = [f for f in os.listdir(my_dir) if '.' in f]\n",
        "filelist = filelist[2:]\n",
        "print(filelist)"
      ],
      "execution_count": null,
      "outputs": [
        {
          "output_type": "stream",
          "name": "stdout",
          "text": [
            "['sales_train.csv.zip', 'items.csv.zip', 'sample_submission.csv.zip', 'item_categories.csv', 'shops.csv', 'test.csv.zip']\n"
          ]
        }
      ]
    },
    {
      "cell_type": "code",
      "metadata": {
        "id": "SYpkr6EPBNO0"
      },
      "source": [
        "! mkdir '/content/drive/MyDrive/HSE Final Project'\n",
        "! mkdir '/content/drive/MyDrive/HSE Final Project/Data'"
      ],
      "execution_count": null,
      "outputs": []
    },
    {
      "cell_type": "code",
      "metadata": {
        "id": "DiVPGQ2f_oD9"
      },
      "source": [
        "import shutil\n",
        "\n",
        "new_dir = '/content/drive/MyDrive/HSE Final Project/Data/'\n",
        "\n",
        "for file_name in filelist:\n",
        "    shutil.move(my_dir + file_name, new_dir + file_name)"
      ],
      "execution_count": null,
      "outputs": []
    },
    {
      "cell_type": "code",
      "metadata": {
        "colab": {
          "base_uri": "https://localhost:8080/"
        },
        "id": "Qj5IFYscB-jn",
        "outputId": "3b4439d1-72bc-4870-fb6b-f5e087a5cbab"
      },
      "source": [
        "! unzip '/content/drive/MyDrive/HSE Final Project/Data/items.csv.zip'\n",
        "! unzip '/content/drive/MyDrive/HSE Final Project/Data/sales_train.csv.zip'\n",
        "! unzip '/content/drive/MyDrive/HSE Final Project/Data/test.csv.zip'"
      ],
      "execution_count": null,
      "outputs": [
        {
          "output_type": "stream",
          "name": "stdout",
          "text": [
            "Archive:  /content/drive/MyDrive/HSE Final Project/Data/items.csv.zip\n",
            "  inflating: items.csv               \n",
            "Archive:  /content/drive/MyDrive/HSE Final Project/Data/sales_train.csv.zip\n",
            "  inflating: sales_train.csv         \n",
            "Archive:  /content/drive/MyDrive/HSE Final Project/Data/test.csv.zip\n",
            "  inflating: test.csv                \n"
          ]
        }
      ]
    },
    {
      "cell_type": "code",
      "metadata": {
        "id": "MHhT81MWB-lV"
      },
      "source": [
        "! mkdir '/content/drive/MyDrive/HSE Final Project/Data/Zip'"
      ],
      "execution_count": null,
      "outputs": []
    },
    {
      "cell_type": "code",
      "metadata": {
        "id": "mxXvbw8CCrKA"
      },
      "source": [
        "filenames = ['items.csv.zip', 'sales_train.csv.zip', 'test.csv.zip']\n",
        "\n",
        "src = '/content/drive/MyDrive/HSE Final Project/Data/'\n",
        "dest = src + 'Zip/'\n",
        "\n",
        "for file_name in filenames:\n",
        "    shutil.move(src + file_name, dest + file_name)"
      ],
      "execution_count": null,
      "outputs": []
    },
    {
      "cell_type": "code",
      "metadata": {
        "colab": {
          "base_uri": "https://localhost:8080/"
        },
        "id": "QRE103VZDEUy",
        "outputId": "1076e853-4d03-40a0-a23f-7612421535e5"
      },
      "source": [
        "file_names = [file_name[:-4] for file_name in filenames]\n",
        "print(file_names)"
      ],
      "execution_count": null,
      "outputs": [
        {
          "output_type": "stream",
          "name": "stdout",
          "text": [
            "['items.csv', 'sales_train.csv', 'test.csv']\n"
          ]
        }
      ]
    },
    {
      "cell_type": "code",
      "metadata": {
        "id": "vzoFsAD2DW9g"
      },
      "source": [
        "src = '/content/'\n",
        "dest = '/content/drive/MyDrive/HSE Final Project/Data/'\n",
        "\n",
        "for file_name in file_names:\n",
        "    shutil.move(src + file_name, dest + file_name)"
      ],
      "execution_count": null,
      "outputs": []
    },
    {
      "cell_type": "markdown",
      "metadata": {
        "id": "rSDMuYuhSrXN"
      },
      "source": [
        "# Review criteria"
      ]
    },
    {
      "cell_type": "markdown",
      "metadata": {
        "id": "zHKAOIbMldM-"
      },
      "source": [
        "**Clarity**\n",
        "\n",
        "- The clear step-by-step instruction on how to produce the final submit file is provided\n",
        "\n",
        "- Code has comments where it is needed and meaningful function names\n",
        "\n",
        "**Feature preprocessing and generation with respect to models**\n",
        "\n",
        "- Several simple features are generated\n",
        "\n",
        "- For non-tree-based models preprocessing is used or the absence of it is explained\n",
        "\n",
        "**Feature extraction from text and images**\n",
        "\n",
        "- Features from text are extracted\n",
        "\n",
        "- Special preprocessings for text are utilized (TF-IDF, stemming, levenshtening...)\n",
        "\n",
        "**EDA**\n",
        "\n",
        "- Several interesting observations about data are discovered and explained\n",
        "\n",
        "- Target distribution is visualized, time trend is assessed\n",
        "\n",
        "**Validation**\n",
        "\n",
        "- Type of train/test split is identified and used for validation\n",
        "\n",
        "- Type of public/private split is identified\n",
        "\n",
        "**Data leakages**\n",
        "\n",
        "- Data is investigated for data leakages and investigation process is described\n",
        "\n",
        "- Found data leakages are utilized\n",
        "\n",
        "**Metrics optimization**\n",
        "\n",
        "- Correct metric is optimized\n",
        "\n",
        "**Advanced Features I: mean encodings**\n",
        "\n",
        "- Mean-encoding is applied\n",
        "\n",
        "- Mean-encoding is set up correctly, i.e. KFold or expanding scheme are utilized correctly\n",
        "\n",
        "**Advanced Features II**\n",
        "\n",
        "- At least one feature from this topic is introduced\n",
        "\n",
        "**Hyperparameter tuning**\n",
        "\n",
        "- Parameters of models are roughly optimal\n",
        "\n",
        "**Ensembles**\n",
        "\n",
        "- Ensembling is utilized (linear combination counts)\n",
        "\n",
        "- Validation with ensembling scheme is set up correctly, i.e. KFold or Holdout is utilized\n",
        "\n",
        "- Models from different classes are utilized (at least two from the following: KNN, linear models, RF, GBDT, NN)"
      ]
    },
    {
      "cell_type": "markdown",
      "metadata": {
        "id": "yVRBD_PNleqO"
      },
      "source": [
        "# Baseline"
      ]
    },
    {
      "cell_type": "markdown",
      "metadata": {
        "id": "67I_FSlwpVRS"
      },
      "source": [
        "## Main Data"
      ]
    },
    {
      "cell_type": "code",
      "metadata": {
        "id": "i8IN1d1glP0v"
      },
      "source": [
        "import pandas as pd\n",
        "import numpy as np\n",
        "import matplotlib.pyplot as plt"
      ],
      "execution_count": 2,
      "outputs": []
    },
    {
      "cell_type": "code",
      "metadata": {
        "id": "WVvLr4yAlP3E"
      },
      "source": [
        "dest = '/content/drive/MyDrive/HSE Final Project/Data/'\n",
        "\n",
        "df_train = pd.read_csv(dest + 'sales_train.csv')\n",
        "df_test = pd.read_csv(dest + 'test.csv')"
      ],
      "execution_count": 3,
      "outputs": []
    },
    {
      "cell_type": "code",
      "metadata": {
        "colab": {
          "base_uri": "https://localhost:8080/",
          "height": 203
        },
        "id": "OOVZhmdclP5K",
        "outputId": "15b37d32-f159-44ea-b776-0486cca938f7"
      },
      "source": [
        "df_train.head()"
      ],
      "execution_count": 4,
      "outputs": [
        {
          "output_type": "execute_result",
          "data": {
            "text/html": [
              "<div>\n",
              "<style scoped>\n",
              "    .dataframe tbody tr th:only-of-type {\n",
              "        vertical-align: middle;\n",
              "    }\n",
              "\n",
              "    .dataframe tbody tr th {\n",
              "        vertical-align: top;\n",
              "    }\n",
              "\n",
              "    .dataframe thead th {\n",
              "        text-align: right;\n",
              "    }\n",
              "</style>\n",
              "<table border=\"1\" class=\"dataframe\">\n",
              "  <thead>\n",
              "    <tr style=\"text-align: right;\">\n",
              "      <th></th>\n",
              "      <th>date</th>\n",
              "      <th>date_block_num</th>\n",
              "      <th>shop_id</th>\n",
              "      <th>item_id</th>\n",
              "      <th>item_price</th>\n",
              "      <th>item_cnt_day</th>\n",
              "    </tr>\n",
              "  </thead>\n",
              "  <tbody>\n",
              "    <tr>\n",
              "      <th>0</th>\n",
              "      <td>02.01.2013</td>\n",
              "      <td>0</td>\n",
              "      <td>59</td>\n",
              "      <td>22154</td>\n",
              "      <td>999.00</td>\n",
              "      <td>1.0</td>\n",
              "    </tr>\n",
              "    <tr>\n",
              "      <th>1</th>\n",
              "      <td>03.01.2013</td>\n",
              "      <td>0</td>\n",
              "      <td>25</td>\n",
              "      <td>2552</td>\n",
              "      <td>899.00</td>\n",
              "      <td>1.0</td>\n",
              "    </tr>\n",
              "    <tr>\n",
              "      <th>2</th>\n",
              "      <td>05.01.2013</td>\n",
              "      <td>0</td>\n",
              "      <td>25</td>\n",
              "      <td>2552</td>\n",
              "      <td>899.00</td>\n",
              "      <td>-1.0</td>\n",
              "    </tr>\n",
              "    <tr>\n",
              "      <th>3</th>\n",
              "      <td>06.01.2013</td>\n",
              "      <td>0</td>\n",
              "      <td>25</td>\n",
              "      <td>2554</td>\n",
              "      <td>1709.05</td>\n",
              "      <td>1.0</td>\n",
              "    </tr>\n",
              "    <tr>\n",
              "      <th>4</th>\n",
              "      <td>15.01.2013</td>\n",
              "      <td>0</td>\n",
              "      <td>25</td>\n",
              "      <td>2555</td>\n",
              "      <td>1099.00</td>\n",
              "      <td>1.0</td>\n",
              "    </tr>\n",
              "  </tbody>\n",
              "</table>\n",
              "</div>"
            ],
            "text/plain": [
              "         date  date_block_num  shop_id  item_id  item_price  item_cnt_day\n",
              "0  02.01.2013               0       59    22154      999.00           1.0\n",
              "1  03.01.2013               0       25     2552      899.00           1.0\n",
              "2  05.01.2013               0       25     2552      899.00          -1.0\n",
              "3  06.01.2013               0       25     2554     1709.05           1.0\n",
              "4  15.01.2013               0       25     2555     1099.00           1.0"
            ]
          },
          "metadata": {},
          "execution_count": 4
        }
      ]
    },
    {
      "cell_type": "code",
      "metadata": {
        "colab": {
          "base_uri": "https://localhost:8080/",
          "height": 203
        },
        "id": "UfPNcWO8FFC8",
        "outputId": "d6e432d0-08c8-4cf5-e194-f3713cd8c360"
      },
      "source": [
        "df_test.head()"
      ],
      "execution_count": 5,
      "outputs": [
        {
          "output_type": "execute_result",
          "data": {
            "text/html": [
              "<div>\n",
              "<style scoped>\n",
              "    .dataframe tbody tr th:only-of-type {\n",
              "        vertical-align: middle;\n",
              "    }\n",
              "\n",
              "    .dataframe tbody tr th {\n",
              "        vertical-align: top;\n",
              "    }\n",
              "\n",
              "    .dataframe thead th {\n",
              "        text-align: right;\n",
              "    }\n",
              "</style>\n",
              "<table border=\"1\" class=\"dataframe\">\n",
              "  <thead>\n",
              "    <tr style=\"text-align: right;\">\n",
              "      <th></th>\n",
              "      <th>ID</th>\n",
              "      <th>shop_id</th>\n",
              "      <th>item_id</th>\n",
              "    </tr>\n",
              "  </thead>\n",
              "  <tbody>\n",
              "    <tr>\n",
              "      <th>0</th>\n",
              "      <td>0</td>\n",
              "      <td>5</td>\n",
              "      <td>5037</td>\n",
              "    </tr>\n",
              "    <tr>\n",
              "      <th>1</th>\n",
              "      <td>1</td>\n",
              "      <td>5</td>\n",
              "      <td>5320</td>\n",
              "    </tr>\n",
              "    <tr>\n",
              "      <th>2</th>\n",
              "      <td>2</td>\n",
              "      <td>5</td>\n",
              "      <td>5233</td>\n",
              "    </tr>\n",
              "    <tr>\n",
              "      <th>3</th>\n",
              "      <td>3</td>\n",
              "      <td>5</td>\n",
              "      <td>5232</td>\n",
              "    </tr>\n",
              "    <tr>\n",
              "      <th>4</th>\n",
              "      <td>4</td>\n",
              "      <td>5</td>\n",
              "      <td>5268</td>\n",
              "    </tr>\n",
              "  </tbody>\n",
              "</table>\n",
              "</div>"
            ],
            "text/plain": [
              "   ID  shop_id  item_id\n",
              "0   0        5     5037\n",
              "1   1        5     5320\n",
              "2   2        5     5233\n",
              "3   3        5     5232\n",
              "4   4        5     5268"
            ]
          },
          "metadata": {},
          "execution_count": 5
        }
      ]
    },
    {
      "cell_type": "markdown",
      "metadata": {
        "id": "KQxV-00UpN7f"
      },
      "source": [
        "## Additional Data (not needed yet)"
      ]
    },
    {
      "cell_type": "code",
      "metadata": {
        "colab": {
          "base_uri": "https://localhost:8080/",
          "height": 203
        },
        "id": "hgmbc_VxlP7I",
        "outputId": "cce6648e-3adc-4fd9-eb15-3acc722b65cf"
      },
      "source": [
        "df_shops = pd.read_csv(dest + 'shops.csv')\n",
        "df_shops.head()"
      ],
      "execution_count": null,
      "outputs": [
        {
          "output_type": "execute_result",
          "data": {
            "text/html": [
              "<div>\n",
              "<style scoped>\n",
              "    .dataframe tbody tr th:only-of-type {\n",
              "        vertical-align: middle;\n",
              "    }\n",
              "\n",
              "    .dataframe tbody tr th {\n",
              "        vertical-align: top;\n",
              "    }\n",
              "\n",
              "    .dataframe thead th {\n",
              "        text-align: right;\n",
              "    }\n",
              "</style>\n",
              "<table border=\"1\" class=\"dataframe\">\n",
              "  <thead>\n",
              "    <tr style=\"text-align: right;\">\n",
              "      <th></th>\n",
              "      <th>shop_name</th>\n",
              "      <th>shop_id</th>\n",
              "    </tr>\n",
              "  </thead>\n",
              "  <tbody>\n",
              "    <tr>\n",
              "      <th>0</th>\n",
              "      <td>!Якутск Орджоникидзе, 56 фран</td>\n",
              "      <td>0</td>\n",
              "    </tr>\n",
              "    <tr>\n",
              "      <th>1</th>\n",
              "      <td>!Якутск ТЦ \"Центральный\" фран</td>\n",
              "      <td>1</td>\n",
              "    </tr>\n",
              "    <tr>\n",
              "      <th>2</th>\n",
              "      <td>Адыгея ТЦ \"Мега\"</td>\n",
              "      <td>2</td>\n",
              "    </tr>\n",
              "    <tr>\n",
              "      <th>3</th>\n",
              "      <td>Балашиха ТРК \"Октябрь-Киномир\"</td>\n",
              "      <td>3</td>\n",
              "    </tr>\n",
              "    <tr>\n",
              "      <th>4</th>\n",
              "      <td>Волжский ТЦ \"Волга Молл\"</td>\n",
              "      <td>4</td>\n",
              "    </tr>\n",
              "  </tbody>\n",
              "</table>\n",
              "</div>"
            ],
            "text/plain": [
              "                        shop_name  shop_id\n",
              "0   !Якутск Орджоникидзе, 56 фран        0\n",
              "1   !Якутск ТЦ \"Центральный\" фран        1\n",
              "2                Адыгея ТЦ \"Мега\"        2\n",
              "3  Балашиха ТРК \"Октябрь-Киномир\"        3\n",
              "4        Волжский ТЦ \"Волга Молл\"        4"
            ]
          },
          "metadata": {},
          "execution_count": 21
        }
      ]
    },
    {
      "cell_type": "code",
      "metadata": {
        "id": "Shwrh-EBSJgd",
        "colab": {
          "base_uri": "https://localhost:8080/",
          "height": 203
        },
        "outputId": "cd848528-c6c5-415f-a2b2-017f788f4edc"
      },
      "source": [
        "df_categories = pd.read_csv(dest + 'item_categories.csv')\n",
        "df_categories.head()"
      ],
      "execution_count": null,
      "outputs": [
        {
          "output_type": "execute_result",
          "data": {
            "text/html": [
              "<div>\n",
              "<style scoped>\n",
              "    .dataframe tbody tr th:only-of-type {\n",
              "        vertical-align: middle;\n",
              "    }\n",
              "\n",
              "    .dataframe tbody tr th {\n",
              "        vertical-align: top;\n",
              "    }\n",
              "\n",
              "    .dataframe thead th {\n",
              "        text-align: right;\n",
              "    }\n",
              "</style>\n",
              "<table border=\"1\" class=\"dataframe\">\n",
              "  <thead>\n",
              "    <tr style=\"text-align: right;\">\n",
              "      <th></th>\n",
              "      <th>item_category_name</th>\n",
              "      <th>item_category_id</th>\n",
              "    </tr>\n",
              "  </thead>\n",
              "  <tbody>\n",
              "    <tr>\n",
              "      <th>0</th>\n",
              "      <td>PC - Гарнитуры/Наушники</td>\n",
              "      <td>0</td>\n",
              "    </tr>\n",
              "    <tr>\n",
              "      <th>1</th>\n",
              "      <td>Аксессуары - PS2</td>\n",
              "      <td>1</td>\n",
              "    </tr>\n",
              "    <tr>\n",
              "      <th>2</th>\n",
              "      <td>Аксессуары - PS3</td>\n",
              "      <td>2</td>\n",
              "    </tr>\n",
              "    <tr>\n",
              "      <th>3</th>\n",
              "      <td>Аксессуары - PS4</td>\n",
              "      <td>3</td>\n",
              "    </tr>\n",
              "    <tr>\n",
              "      <th>4</th>\n",
              "      <td>Аксессуары - PSP</td>\n",
              "      <td>4</td>\n",
              "    </tr>\n",
              "  </tbody>\n",
              "</table>\n",
              "</div>"
            ],
            "text/plain": [
              "        item_category_name  item_category_id\n",
              "0  PC - Гарнитуры/Наушники                 0\n",
              "1         Аксессуары - PS2                 1\n",
              "2         Аксессуары - PS3                 2\n",
              "3         Аксессуары - PS4                 3\n",
              "4         Аксессуары - PSP                 4"
            ]
          },
          "metadata": {},
          "execution_count": 22
        }
      ]
    },
    {
      "cell_type": "markdown",
      "metadata": {
        "id": "dv7vf18SpY1m"
      },
      "source": [
        "## Analysis for train"
      ]
    },
    {
      "cell_type": "code",
      "metadata": {
        "id": "imphqkN0E05v",
        "colab": {
          "base_uri": "https://localhost:8080/"
        },
        "outputId": "a295902b-7f3e-45c8-bc09-a68c8e03e584"
      },
      "source": [
        "df_train.info()"
      ],
      "execution_count": 6,
      "outputs": [
        {
          "output_type": "stream",
          "name": "stdout",
          "text": [
            "<class 'pandas.core.frame.DataFrame'>\n",
            "RangeIndex: 2935849 entries, 0 to 2935848\n",
            "Data columns (total 6 columns):\n",
            " #   Column          Dtype  \n",
            "---  ------          -----  \n",
            " 0   date            object \n",
            " 1   date_block_num  int64  \n",
            " 2   shop_id         int64  \n",
            " 3   item_id         int64  \n",
            " 4   item_price      float64\n",
            " 5   item_cnt_day    float64\n",
            "dtypes: float64(2), int64(3), object(1)\n",
            "memory usage: 134.4+ MB\n"
          ]
        }
      ]
    },
    {
      "cell_type": "code",
      "metadata": {
        "id": "NByKgqiXE07v",
        "colab": {
          "base_uri": "https://localhost:8080/"
        },
        "outputId": "872c99dd-d153-40c0-a736-f1ed4dc30d84"
      },
      "source": [
        "df_train['date'] =  pd.to_datetime(df_train['date'], format='%d.%m.%Y')\n",
        "df_train.info()"
      ],
      "execution_count": 7,
      "outputs": [
        {
          "output_type": "stream",
          "name": "stdout",
          "text": [
            "<class 'pandas.core.frame.DataFrame'>\n",
            "RangeIndex: 2935849 entries, 0 to 2935848\n",
            "Data columns (total 6 columns):\n",
            " #   Column          Dtype         \n",
            "---  ------          -----         \n",
            " 0   date            datetime64[ns]\n",
            " 1   date_block_num  int64         \n",
            " 2   shop_id         int64         \n",
            " 3   item_id         int64         \n",
            " 4   item_price      float64       \n",
            " 5   item_cnt_day    float64       \n",
            "dtypes: datetime64[ns](1), float64(2), int64(3)\n",
            "memory usage: 134.4 MB\n"
          ]
        }
      ]
    },
    {
      "cell_type": "code",
      "metadata": {
        "colab": {
          "base_uri": "https://localhost:8080/",
          "height": 203
        },
        "id": "M4lxHmTAqHDX",
        "outputId": "1311b411-4578-4ddd-e97e-97e69b5973d1"
      },
      "source": [
        "df_train['year'] = df_train.date.dt.year\n",
        "df_train['month'] = df_train.date.dt.month\n",
        "df_train['day'] = df_train.date.dt.day\n",
        "df_train.head()"
      ],
      "execution_count": 8,
      "outputs": [
        {
          "output_type": "execute_result",
          "data": {
            "text/html": [
              "<div>\n",
              "<style scoped>\n",
              "    .dataframe tbody tr th:only-of-type {\n",
              "        vertical-align: middle;\n",
              "    }\n",
              "\n",
              "    .dataframe tbody tr th {\n",
              "        vertical-align: top;\n",
              "    }\n",
              "\n",
              "    .dataframe thead th {\n",
              "        text-align: right;\n",
              "    }\n",
              "</style>\n",
              "<table border=\"1\" class=\"dataframe\">\n",
              "  <thead>\n",
              "    <tr style=\"text-align: right;\">\n",
              "      <th></th>\n",
              "      <th>date</th>\n",
              "      <th>date_block_num</th>\n",
              "      <th>shop_id</th>\n",
              "      <th>item_id</th>\n",
              "      <th>item_price</th>\n",
              "      <th>item_cnt_day</th>\n",
              "      <th>year</th>\n",
              "      <th>month</th>\n",
              "      <th>day</th>\n",
              "    </tr>\n",
              "  </thead>\n",
              "  <tbody>\n",
              "    <tr>\n",
              "      <th>0</th>\n",
              "      <td>2013-01-02</td>\n",
              "      <td>0</td>\n",
              "      <td>59</td>\n",
              "      <td>22154</td>\n",
              "      <td>999.00</td>\n",
              "      <td>1.0</td>\n",
              "      <td>2013</td>\n",
              "      <td>1</td>\n",
              "      <td>2</td>\n",
              "    </tr>\n",
              "    <tr>\n",
              "      <th>1</th>\n",
              "      <td>2013-01-03</td>\n",
              "      <td>0</td>\n",
              "      <td>25</td>\n",
              "      <td>2552</td>\n",
              "      <td>899.00</td>\n",
              "      <td>1.0</td>\n",
              "      <td>2013</td>\n",
              "      <td>1</td>\n",
              "      <td>3</td>\n",
              "    </tr>\n",
              "    <tr>\n",
              "      <th>2</th>\n",
              "      <td>2013-01-05</td>\n",
              "      <td>0</td>\n",
              "      <td>25</td>\n",
              "      <td>2552</td>\n",
              "      <td>899.00</td>\n",
              "      <td>-1.0</td>\n",
              "      <td>2013</td>\n",
              "      <td>1</td>\n",
              "      <td>5</td>\n",
              "    </tr>\n",
              "    <tr>\n",
              "      <th>3</th>\n",
              "      <td>2013-01-06</td>\n",
              "      <td>0</td>\n",
              "      <td>25</td>\n",
              "      <td>2554</td>\n",
              "      <td>1709.05</td>\n",
              "      <td>1.0</td>\n",
              "      <td>2013</td>\n",
              "      <td>1</td>\n",
              "      <td>6</td>\n",
              "    </tr>\n",
              "    <tr>\n",
              "      <th>4</th>\n",
              "      <td>2013-01-15</td>\n",
              "      <td>0</td>\n",
              "      <td>25</td>\n",
              "      <td>2555</td>\n",
              "      <td>1099.00</td>\n",
              "      <td>1.0</td>\n",
              "      <td>2013</td>\n",
              "      <td>1</td>\n",
              "      <td>15</td>\n",
              "    </tr>\n",
              "  </tbody>\n",
              "</table>\n",
              "</div>"
            ],
            "text/plain": [
              "        date  date_block_num  shop_id  item_id  ...  item_cnt_day  year  month  day\n",
              "0 2013-01-02               0       59    22154  ...           1.0  2013      1    2\n",
              "1 2013-01-03               0       25     2552  ...           1.0  2013      1    3\n",
              "2 2013-01-05               0       25     2552  ...          -1.0  2013      1    5\n",
              "3 2013-01-06               0       25     2554  ...           1.0  2013      1    6\n",
              "4 2013-01-15               0       25     2555  ...           1.0  2013      1   15\n",
              "\n",
              "[5 rows x 9 columns]"
            ]
          },
          "metadata": {},
          "execution_count": 8
        }
      ]
    },
    {
      "cell_type": "code",
      "metadata": {
        "colab": {
          "base_uri": "https://localhost:8080/",
          "height": 203
        },
        "id": "nfy2NWHIqHFR",
        "outputId": "9fb9dfcd-95aa-4701-968c-bfac9be2881b"
      },
      "source": [
        "df_train.drop('date', axis=1, inplace=True)\n",
        "df_train.head()"
      ],
      "execution_count": 9,
      "outputs": [
        {
          "output_type": "execute_result",
          "data": {
            "text/html": [
              "<div>\n",
              "<style scoped>\n",
              "    .dataframe tbody tr th:only-of-type {\n",
              "        vertical-align: middle;\n",
              "    }\n",
              "\n",
              "    .dataframe tbody tr th {\n",
              "        vertical-align: top;\n",
              "    }\n",
              "\n",
              "    .dataframe thead th {\n",
              "        text-align: right;\n",
              "    }\n",
              "</style>\n",
              "<table border=\"1\" class=\"dataframe\">\n",
              "  <thead>\n",
              "    <tr style=\"text-align: right;\">\n",
              "      <th></th>\n",
              "      <th>date_block_num</th>\n",
              "      <th>shop_id</th>\n",
              "      <th>item_id</th>\n",
              "      <th>item_price</th>\n",
              "      <th>item_cnt_day</th>\n",
              "      <th>year</th>\n",
              "      <th>month</th>\n",
              "      <th>day</th>\n",
              "    </tr>\n",
              "  </thead>\n",
              "  <tbody>\n",
              "    <tr>\n",
              "      <th>0</th>\n",
              "      <td>0</td>\n",
              "      <td>59</td>\n",
              "      <td>22154</td>\n",
              "      <td>999.00</td>\n",
              "      <td>1.0</td>\n",
              "      <td>2013</td>\n",
              "      <td>1</td>\n",
              "      <td>2</td>\n",
              "    </tr>\n",
              "    <tr>\n",
              "      <th>1</th>\n",
              "      <td>0</td>\n",
              "      <td>25</td>\n",
              "      <td>2552</td>\n",
              "      <td>899.00</td>\n",
              "      <td>1.0</td>\n",
              "      <td>2013</td>\n",
              "      <td>1</td>\n",
              "      <td>3</td>\n",
              "    </tr>\n",
              "    <tr>\n",
              "      <th>2</th>\n",
              "      <td>0</td>\n",
              "      <td>25</td>\n",
              "      <td>2552</td>\n",
              "      <td>899.00</td>\n",
              "      <td>-1.0</td>\n",
              "      <td>2013</td>\n",
              "      <td>1</td>\n",
              "      <td>5</td>\n",
              "    </tr>\n",
              "    <tr>\n",
              "      <th>3</th>\n",
              "      <td>0</td>\n",
              "      <td>25</td>\n",
              "      <td>2554</td>\n",
              "      <td>1709.05</td>\n",
              "      <td>1.0</td>\n",
              "      <td>2013</td>\n",
              "      <td>1</td>\n",
              "      <td>6</td>\n",
              "    </tr>\n",
              "    <tr>\n",
              "      <th>4</th>\n",
              "      <td>0</td>\n",
              "      <td>25</td>\n",
              "      <td>2555</td>\n",
              "      <td>1099.00</td>\n",
              "      <td>1.0</td>\n",
              "      <td>2013</td>\n",
              "      <td>1</td>\n",
              "      <td>15</td>\n",
              "    </tr>\n",
              "  </tbody>\n",
              "</table>\n",
              "</div>"
            ],
            "text/plain": [
              "   date_block_num  shop_id  item_id  item_price  item_cnt_day  year  month  day\n",
              "0               0       59    22154      999.00           1.0  2013      1    2\n",
              "1               0       25     2552      899.00           1.0  2013      1    3\n",
              "2               0       25     2552      899.00          -1.0  2013      1    5\n",
              "3               0       25     2554     1709.05           1.0  2013      1    6\n",
              "4               0       25     2555     1099.00           1.0  2013      1   15"
            ]
          },
          "metadata": {},
          "execution_count": 9
        }
      ]
    },
    {
      "cell_type": "code",
      "metadata": {
        "colab": {
          "base_uri": "https://localhost:8080/",
          "height": 295
        },
        "id": "vZxkkgzHqHHR",
        "outputId": "2ad6d33a-d090-4c63-e7e1-e8763856a266"
      },
      "source": [
        "df_train.describe()"
      ],
      "execution_count": 10,
      "outputs": [
        {
          "output_type": "execute_result",
          "data": {
            "text/html": [
              "<div>\n",
              "<style scoped>\n",
              "    .dataframe tbody tr th:only-of-type {\n",
              "        vertical-align: middle;\n",
              "    }\n",
              "\n",
              "    .dataframe tbody tr th {\n",
              "        vertical-align: top;\n",
              "    }\n",
              "\n",
              "    .dataframe thead th {\n",
              "        text-align: right;\n",
              "    }\n",
              "</style>\n",
              "<table border=\"1\" class=\"dataframe\">\n",
              "  <thead>\n",
              "    <tr style=\"text-align: right;\">\n",
              "      <th></th>\n",
              "      <th>date_block_num</th>\n",
              "      <th>shop_id</th>\n",
              "      <th>item_id</th>\n",
              "      <th>item_price</th>\n",
              "      <th>item_cnt_day</th>\n",
              "      <th>year</th>\n",
              "      <th>month</th>\n",
              "      <th>day</th>\n",
              "    </tr>\n",
              "  </thead>\n",
              "  <tbody>\n",
              "    <tr>\n",
              "      <th>count</th>\n",
              "      <td>2.935849e+06</td>\n",
              "      <td>2.935849e+06</td>\n",
              "      <td>2.935849e+06</td>\n",
              "      <td>2.935849e+06</td>\n",
              "      <td>2.935849e+06</td>\n",
              "      <td>2.935849e+06</td>\n",
              "      <td>2.935849e+06</td>\n",
              "      <td>2.935849e+06</td>\n",
              "    </tr>\n",
              "    <tr>\n",
              "      <th>mean</th>\n",
              "      <td>1.456991e+01</td>\n",
              "      <td>3.300173e+01</td>\n",
              "      <td>1.019723e+04</td>\n",
              "      <td>8.908532e+02</td>\n",
              "      <td>1.242641e+00</td>\n",
              "      <td>2.013777e+03</td>\n",
              "      <td>6.247717e+00</td>\n",
              "      <td>1.585267e+01</td>\n",
              "    </tr>\n",
              "    <tr>\n",
              "      <th>std</th>\n",
              "      <td>9.422988e+00</td>\n",
              "      <td>1.622697e+01</td>\n",
              "      <td>6.324297e+03</td>\n",
              "      <td>1.729800e+03</td>\n",
              "      <td>2.618834e+00</td>\n",
              "      <td>7.684790e-01</td>\n",
              "      <td>3.536219e+00</td>\n",
              "      <td>8.923483e+00</td>\n",
              "    </tr>\n",
              "    <tr>\n",
              "      <th>min</th>\n",
              "      <td>0.000000e+00</td>\n",
              "      <td>0.000000e+00</td>\n",
              "      <td>0.000000e+00</td>\n",
              "      <td>-1.000000e+00</td>\n",
              "      <td>-2.200000e+01</td>\n",
              "      <td>2.013000e+03</td>\n",
              "      <td>1.000000e+00</td>\n",
              "      <td>1.000000e+00</td>\n",
              "    </tr>\n",
              "    <tr>\n",
              "      <th>25%</th>\n",
              "      <td>7.000000e+00</td>\n",
              "      <td>2.200000e+01</td>\n",
              "      <td>4.476000e+03</td>\n",
              "      <td>2.490000e+02</td>\n",
              "      <td>1.000000e+00</td>\n",
              "      <td>2.013000e+03</td>\n",
              "      <td>3.000000e+00</td>\n",
              "      <td>8.000000e+00</td>\n",
              "    </tr>\n",
              "    <tr>\n",
              "      <th>50%</th>\n",
              "      <td>1.400000e+01</td>\n",
              "      <td>3.100000e+01</td>\n",
              "      <td>9.343000e+03</td>\n",
              "      <td>3.990000e+02</td>\n",
              "      <td>1.000000e+00</td>\n",
              "      <td>2.014000e+03</td>\n",
              "      <td>6.000000e+00</td>\n",
              "      <td>1.600000e+01</td>\n",
              "    </tr>\n",
              "    <tr>\n",
              "      <th>75%</th>\n",
              "      <td>2.300000e+01</td>\n",
              "      <td>4.700000e+01</td>\n",
              "      <td>1.568400e+04</td>\n",
              "      <td>9.990000e+02</td>\n",
              "      <td>1.000000e+00</td>\n",
              "      <td>2.014000e+03</td>\n",
              "      <td>9.000000e+00</td>\n",
              "      <td>2.400000e+01</td>\n",
              "    </tr>\n",
              "    <tr>\n",
              "      <th>max</th>\n",
              "      <td>3.300000e+01</td>\n",
              "      <td>5.900000e+01</td>\n",
              "      <td>2.216900e+04</td>\n",
              "      <td>3.079800e+05</td>\n",
              "      <td>2.169000e+03</td>\n",
              "      <td>2.015000e+03</td>\n",
              "      <td>1.200000e+01</td>\n",
              "      <td>3.100000e+01</td>\n",
              "    </tr>\n",
              "  </tbody>\n",
              "</table>\n",
              "</div>"
            ],
            "text/plain": [
              "       date_block_num       shop_id  ...         month           day\n",
              "count    2.935849e+06  2.935849e+06  ...  2.935849e+06  2.935849e+06\n",
              "mean     1.456991e+01  3.300173e+01  ...  6.247717e+00  1.585267e+01\n",
              "std      9.422988e+00  1.622697e+01  ...  3.536219e+00  8.923483e+00\n",
              "min      0.000000e+00  0.000000e+00  ...  1.000000e+00  1.000000e+00\n",
              "25%      7.000000e+00  2.200000e+01  ...  3.000000e+00  8.000000e+00\n",
              "50%      1.400000e+01  3.100000e+01  ...  6.000000e+00  1.600000e+01\n",
              "75%      2.300000e+01  4.700000e+01  ...  9.000000e+00  2.400000e+01\n",
              "max      3.300000e+01  5.900000e+01  ...  1.200000e+01  3.100000e+01\n",
              "\n",
              "[8 rows x 8 columns]"
            ]
          },
          "metadata": {},
          "execution_count": 10
        }
      ]
    },
    {
      "cell_type": "code",
      "metadata": {
        "colab": {
          "base_uri": "https://localhost:8080/"
        },
        "id": "ae2mDKRfqHIy",
        "outputId": "fe616322-6288-480e-a301-3696e4892723"
      },
      "source": [
        "df_train_monthly = df_train.groupby(['date_block_num', 'item_id', 'shop_id'])['item_cnt_day'].sum()\n",
        "df_train_monthly.head()"
      ],
      "execution_count": 15,
      "outputs": [
        {
          "output_type": "execute_result",
          "data": {
            "text/plain": [
              "date_block_num  item_id  shop_id\n",
              "0               19       25         1.0\n",
              "                27       1          1.0\n",
              "                         2          1.0\n",
              "                         10         1.0\n",
              "                         19         1.0\n",
              "Name: item_cnt_day, dtype: float64"
            ]
          },
          "metadata": {},
          "execution_count": 15
        }
      ]
    },
    {
      "cell_type": "code",
      "metadata": {
        "id": "ihUSge8cE03w"
      },
      "source": [
        "from sklearn.ensemble import GradientBoostingClassifier\n",
        "from sklearn.model_selection import train_test_split"
      ],
      "execution_count": null,
      "outputs": []
    },
    {
      "cell_type": "code",
      "metadata": {
        "id": "TfKIsuPkE09o"
      },
      "source": [
        ""
      ],
      "execution_count": null,
      "outputs": []
    }
  ]
}