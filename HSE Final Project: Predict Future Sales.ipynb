{
  "nbformat": 4,
  "nbformat_minor": 0,
  "metadata": {
    "colab": {
      "name": "HSE Final Project - Predict Future Sales.ipynb",
      "provenance": [],
      "collapsed_sections": [],
      "mount_file_id": "1AyeI5r-jcoxgvkcm-FA2hWZXsRkqMfY0",
      "authorship_tag": "ABX9TyO4gQYAGVGajswd8h8jxcNn"
    },
    "kernelspec": {
      "name": "python3",
      "display_name": "Python 3"
    },
    "language_info": {
      "name": "python"
    },
    "accelerator": "GPU"
  },
  "cells": [
    {
      "cell_type": "markdown",
      "metadata": {
        "id": "G3ya-pzSTt_0"
      },
      "source": [
        "# Important stuff"
      ]
    },
    {
      "cell_type": "code",
      "metadata": {
        "colab": {
          "base_uri": "https://localhost:8080/"
        },
        "id": "cTvoR3teSeY3",
        "outputId": "78409228-cc28-4e30-8a84-bdf3becb1813"
      },
      "source": [
        "from google.colab import drive\n",
        "drive.mount('/content/drive')"
      ],
      "execution_count": 1,
      "outputs": [
        {
          "output_type": "stream",
          "name": "stdout",
          "text": [
            "Drive already mounted at /content/drive; to attempt to forcibly remount, call drive.mount(\"/content/drive\", force_remount=True).\n"
          ]
        }
      ]
    },
    {
      "cell_type": "markdown",
      "metadata": {
        "id": "rSDMuYuhSrXN"
      },
      "source": [
        "# Review criteria\n",
        "\n",
        "**Clarity**\n",
        "\n",
        "- The clear step-by-step instruction on how to produce the final submit file is provided\n",
        "\n",
        "- Code has comments where it is needed and meaningful function names\n",
        "\n",
        "**Feature preprocessing and generation with respect to models**\n",
        "\n",
        "- Several simple features are generated\n",
        "\n",
        "- For non-tree-based models preprocessing is used or the absence of it is explained\n",
        "\n",
        "**Feature extraction from text and images**\n",
        "\n",
        "- Features from text are extracted\n",
        "\n",
        "- Special preprocessings for text are utilized (TF-IDF, stemming, levenshtening...)\n",
        "\n",
        "**EDA**\n",
        "\n",
        "- Several interesting observations about data are discovered and explained\n",
        "\n",
        "- Target distribution is visualized, time trend is assessed\n",
        "\n",
        "**Validation**\n",
        "\n",
        "- Type of train/test split is identified and used for validation\n",
        "\n",
        "- Type of public/private split is identified\n",
        "\n",
        "**Data leakages**\n",
        "\n",
        "- Data is investigated for data leakages and investigation process is described\n",
        "\n",
        "- Found data leakages are utilized\n",
        "\n",
        "**Metrics optimization**\n",
        "\n",
        "- Correct metric is optimized\n",
        "\n",
        "**Advanced Features I: mean encodings**\n",
        "\n",
        "- Mean-encoding is applied\n",
        "\n",
        "- Mean-encoding is set up correctly, i.e. KFold or expanding scheme are utilized correctly\n",
        "\n",
        "**Advanced Features II**\n",
        "\n",
        "- At least one feature from this topic is introduced\n",
        "\n",
        "**Hyperparameter tuning**\n",
        "\n",
        "- Parameters of models are roughly optimal\n",
        "\n",
        "**Ensembles**\n",
        "\n",
        "- Ensembling is utilized (linear combination counts)\n",
        "\n",
        "- Validation with ensembling scheme is set up correctly, i.e. KFold or Holdout is utilized\n",
        "\n",
        "- Models from different classes are utilized (at least two from the following: KNN, linear models, RF, GBDT, NN)"
      ]
    },
    {
      "cell_type": "code",
      "metadata": {
        "id": "Shwrh-EBSJgd"
      },
      "source": [
        ""
      ],
      "execution_count": null,
      "outputs": []
    }
  ]
}