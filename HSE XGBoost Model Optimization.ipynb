{
  "cells": [
    {
      "cell_type": "code",
      "execution_count": null,
      "metadata": {
        "id": "MbYbVRO5une-"
      },
      "outputs": [],
      "source": [
        "import pandas as pd\n",
        "import numpy as np\n",
        "import xgboost as xgb\n",
        "from sklearn.model_selection import train_test_split\n",
        "from sklearn.model_selection import cross_val_score"
      ]
    },
    {
      "cell_type": "code",
      "execution_count": null,
      "metadata": {
        "colab": {
          "base_uri": "https://localhost:8080/",
          "height": 226
        },
        "id": "u5YOpcpIzcv9",
        "outputId": "f5dd3371-3f42-475a-f436-013363bf61f7"
      },
      "outputs": [
        {
          "output_type": "execute_result",
          "data": {
            "text/html": [
              "<div>\n",
              "<style scoped>\n",
              "    .dataframe tbody tr th:only-of-type {\n",
              "        vertical-align: middle;\n",
              "    }\n",
              "\n",
              "    .dataframe tbody tr th {\n",
              "        vertical-align: top;\n",
              "    }\n",
              "\n",
              "    .dataframe thead th {\n",
              "        text-align: right;\n",
              "    }\n",
              "</style>\n",
              "<table border=\"1\" class=\"dataframe\">\n",
              "  <thead>\n",
              "    <tr style=\"text-align: right;\">\n",
              "      <th></th>\n",
              "      <th>shop_id</th>\n",
              "      <th>item_id</th>\n",
              "      <th>month</th>\n",
              "      <th>year</th>\n",
              "      <th>date_block_num</th>\n",
              "      <th>item_cnt</th>\n",
              "      <th>item_price</th>\n",
              "      <th>prev_value</th>\n",
              "      <th>prev_value_year</th>\n",
              "      <th>stock_prev</th>\n",
              "      <th>stock_prev_year</th>\n",
              "      <th>shop_city</th>\n",
              "      <th>shop_category</th>\n",
              "      <th>item_category_id</th>\n",
              "      <th>digital</th>\n",
              "      <th>category_type</th>\n",
              "      <th>category_subtype</th>\n",
              "      <th>item_cnt_lag_2</th>\n",
              "      <th>item_cnt_lag_3</th>\n",
              "      <th>item_cnt_lag_4</th>\n",
              "      <th>item_cnt_lag_5</th>\n",
              "      <th>date_item_avg_item_cnt</th>\n",
              "      <th>shop_item_avg_item_cnt</th>\n",
              "      <th>cat_item_avg_item_cnt</th>\n",
              "    </tr>\n",
              "  </thead>\n",
              "  <tbody>\n",
              "    <tr>\n",
              "      <th>0</th>\n",
              "      <td>0</td>\n",
              "      <td>19</td>\n",
              "      <td>1</td>\n",
              "      <td>2013</td>\n",
              "      <td>0</td>\n",
              "      <td>0</td>\n",
              "      <td>28.0</td>\n",
              "      <td>0</td>\n",
              "      <td>0</td>\n",
              "      <td>0.0</td>\n",
              "      <td>0.0</td>\n",
              "      <td>29</td>\n",
              "      <td>4</td>\n",
              "      <td>40</td>\n",
              "      <td>False</td>\n",
              "      <td>7</td>\n",
              "      <td>4</td>\n",
              "      <td>0</td>\n",
              "      <td>0</td>\n",
              "      <td>0</td>\n",
              "      <td>0</td>\n",
              "      <td>0.02222</td>\n",
              "      <td>0.0</td>\n",
              "      <td>0.02222</td>\n",
              "    </tr>\n",
              "    <tr>\n",
              "      <th>1</th>\n",
              "      <td>0</td>\n",
              "      <td>27</td>\n",
              "      <td>1</td>\n",
              "      <td>2013</td>\n",
              "      <td>0</td>\n",
              "      <td>0</td>\n",
              "      <td>2499.0</td>\n",
              "      <td>0</td>\n",
              "      <td>0</td>\n",
              "      <td>0.0</td>\n",
              "      <td>0.0</td>\n",
              "      <td>29</td>\n",
              "      <td>4</td>\n",
              "      <td>19</td>\n",
              "      <td>False</td>\n",
              "      <td>5</td>\n",
              "      <td>9</td>\n",
              "      <td>0</td>\n",
              "      <td>0</td>\n",
              "      <td>0</td>\n",
              "      <td>0</td>\n",
              "      <td>0.15550</td>\n",
              "      <td>0.0</td>\n",
              "      <td>0.05682</td>\n",
              "    </tr>\n",
              "    <tr>\n",
              "      <th>2</th>\n",
              "      <td>0</td>\n",
              "      <td>28</td>\n",
              "      <td>1</td>\n",
              "      <td>2013</td>\n",
              "      <td>0</td>\n",
              "      <td>0</td>\n",
              "      <td>549.0</td>\n",
              "      <td>0</td>\n",
              "      <td>0</td>\n",
              "      <td>0.0</td>\n",
              "      <td>0.0</td>\n",
              "      <td>29</td>\n",
              "      <td>4</td>\n",
              "      <td>30</td>\n",
              "      <td>False</td>\n",
              "      <td>5</td>\n",
              "      <td>49</td>\n",
              "      <td>0</td>\n",
              "      <td>0</td>\n",
              "      <td>0</td>\n",
              "      <td>0</td>\n",
              "      <td>0.17770</td>\n",
              "      <td>0.0</td>\n",
              "      <td>0.14120</td>\n",
              "    </tr>\n",
              "    <tr>\n",
              "      <th>3</th>\n",
              "      <td>0</td>\n",
              "      <td>29</td>\n",
              "      <td>1</td>\n",
              "      <td>2013</td>\n",
              "      <td>0</td>\n",
              "      <td>0</td>\n",
              "      <td>2499.0</td>\n",
              "      <td>0</td>\n",
              "      <td>0</td>\n",
              "      <td>0.0</td>\n",
              "      <td>0.0</td>\n",
              "      <td>29</td>\n",
              "      <td>4</td>\n",
              "      <td>23</td>\n",
              "      <td>False</td>\n",
              "      <td>5</td>\n",
              "      <td>18</td>\n",
              "      <td>0</td>\n",
              "      <td>0</td>\n",
              "      <td>0</td>\n",
              "      <td>0</td>\n",
              "      <td>0.08887</td>\n",
              "      <td>0.0</td>\n",
              "      <td>0.03738</td>\n",
              "    </tr>\n",
              "    <tr>\n",
              "      <th>4</th>\n",
              "      <td>0</td>\n",
              "      <td>32</td>\n",
              "      <td>1</td>\n",
              "      <td>2013</td>\n",
              "      <td>0</td>\n",
              "      <td>6</td>\n",
              "      <td>349.0</td>\n",
              "      <td>0</td>\n",
              "      <td>0</td>\n",
              "      <td>0.0</td>\n",
              "      <td>0.0</td>\n",
              "      <td>29</td>\n",
              "      <td>4</td>\n",
              "      <td>40</td>\n",
              "      <td>False</td>\n",
              "      <td>7</td>\n",
              "      <td>4</td>\n",
              "      <td>0</td>\n",
              "      <td>0</td>\n",
              "      <td>0</td>\n",
              "      <td>0</td>\n",
              "      <td>6.64500</td>\n",
              "      <td>8.0</td>\n",
              "      <td>1.31900</td>\n",
              "    </tr>\n",
              "  </tbody>\n",
              "</table>\n",
              "</div>"
            ],
            "text/plain": [
              "   shop_id  item_id  ...  shop_item_avg_item_cnt  cat_item_avg_item_cnt\n",
              "0        0       19  ...                     0.0                0.02222\n",
              "1        0       27  ...                     0.0                0.05682\n",
              "2        0       28  ...                     0.0                0.14120\n",
              "3        0       29  ...                     0.0                0.03738\n",
              "4        0       32  ...                     8.0                1.31900\n",
              "\n",
              "[5 rows x 24 columns]"
            ]
          },
          "metadata": {},
          "execution_count": 2
        }
      ],
      "source": [
        "dest = '/content/drive/MyDrive/HSE Final Project/to_train'\n",
        "name = 'submit_7_abandoned.csv'\n",
        "\n",
        "df = pd.read_csv(dest + '/' + name)\n",
        "df.head()"
      ]
    },
    {
      "cell_type": "code",
      "execution_count": null,
      "metadata": {
        "id": "wWTYdJoHGrxb",
        "colab": {
          "base_uri": "https://localhost:8080/",
          "height": 571
        },
        "outputId": "ec886c51-d753-4218-a8f6-d65f6c689f28"
      },
      "outputs": [
        {
          "output_type": "error",
          "ename": "KeyError",
          "evalue": "ignored",
          "traceback": [
            "\u001b[0;31m---------------------------------------------------------------------------\u001b[0m",
            "\u001b[0;31mKeyError\u001b[0m                                  Traceback (most recent call last)",
            "\u001b[0;32m/usr/local/lib/python3.7/dist-packages/pandas/core/indexes/base.py\u001b[0m in \u001b[0;36mget_loc\u001b[0;34m(self, key, method, tolerance)\u001b[0m\n\u001b[1;32m   2897\u001b[0m             \u001b[0;32mtry\u001b[0m\u001b[0;34m:\u001b[0m\u001b[0;34m\u001b[0m\u001b[0;34m\u001b[0m\u001b[0m\n\u001b[0;32m-> 2898\u001b[0;31m                 \u001b[0;32mreturn\u001b[0m \u001b[0mself\u001b[0m\u001b[0;34m.\u001b[0m\u001b[0m_engine\u001b[0m\u001b[0;34m.\u001b[0m\u001b[0mget_loc\u001b[0m\u001b[0;34m(\u001b[0m\u001b[0mcasted_key\u001b[0m\u001b[0;34m)\u001b[0m\u001b[0;34m\u001b[0m\u001b[0;34m\u001b[0m\u001b[0m\n\u001b[0m\u001b[1;32m   2899\u001b[0m             \u001b[0;32mexcept\u001b[0m \u001b[0mKeyError\u001b[0m \u001b[0;32mas\u001b[0m \u001b[0merr\u001b[0m\u001b[0;34m:\u001b[0m\u001b[0;34m\u001b[0m\u001b[0;34m\u001b[0m\u001b[0m\n",
            "\u001b[0;32mpandas/_libs/index.pyx\u001b[0m in \u001b[0;36mpandas._libs.index.IndexEngine.get_loc\u001b[0;34m()\u001b[0m\n",
            "\u001b[0;32mpandas/_libs/index.pyx\u001b[0m in \u001b[0;36mpandas._libs.index.IndexEngine.get_loc\u001b[0;34m()\u001b[0m\n",
            "\u001b[0;32mpandas/_libs/hashtable_class_helper.pxi\u001b[0m in \u001b[0;36mpandas._libs.hashtable.PyObjectHashTable.get_item\u001b[0;34m()\u001b[0m\n",
            "\u001b[0;32mpandas/_libs/hashtable_class_helper.pxi\u001b[0m in \u001b[0;36mpandas._libs.hashtable.PyObjectHashTable.get_item\u001b[0;34m()\u001b[0m\n",
            "\u001b[0;31mKeyError\u001b[0m: 'item_cnt_lag_6'",
            "\nThe above exception was the direct cause of the following exception:\n",
            "\u001b[0;31mKeyError\u001b[0m                                  Traceback (most recent call last)",
            "\u001b[0;32m<ipython-input-3-a79f12bc382f>\u001b[0m in \u001b[0;36m<module>\u001b[0;34m()\u001b[0m\n\u001b[1;32m     17\u001b[0m \u001b[0mdf\u001b[0m\u001b[0;34m[\u001b[0m\u001b[0;34m'item_cnt_lag_4'\u001b[0m\u001b[0;34m]\u001b[0m \u001b[0;34m=\u001b[0m \u001b[0mdf\u001b[0m\u001b[0;34m[\u001b[0m\u001b[0;34m'item_cnt_lag_4'\u001b[0m\u001b[0;34m]\u001b[0m\u001b[0;34m.\u001b[0m\u001b[0mastype\u001b[0m\u001b[0;34m(\u001b[0m\u001b[0mnp\u001b[0m\u001b[0;34m.\u001b[0m\u001b[0mint32\u001b[0m\u001b[0;34m)\u001b[0m\u001b[0;34m\u001b[0m\u001b[0;34m\u001b[0m\u001b[0m\n\u001b[1;32m     18\u001b[0m \u001b[0mdf\u001b[0m\u001b[0;34m[\u001b[0m\u001b[0;34m'item_cnt_lag_5'\u001b[0m\u001b[0;34m]\u001b[0m \u001b[0;34m=\u001b[0m \u001b[0mdf\u001b[0m\u001b[0;34m[\u001b[0m\u001b[0;34m'item_cnt_lag_5'\u001b[0m\u001b[0;34m]\u001b[0m\u001b[0;34m.\u001b[0m\u001b[0mastype\u001b[0m\u001b[0;34m(\u001b[0m\u001b[0mnp\u001b[0m\u001b[0;34m.\u001b[0m\u001b[0mint32\u001b[0m\u001b[0;34m)\u001b[0m\u001b[0;34m\u001b[0m\u001b[0;34m\u001b[0m\u001b[0m\n\u001b[0;32m---> 19\u001b[0;31m \u001b[0mdf\u001b[0m\u001b[0;34m[\u001b[0m\u001b[0;34m'item_cnt_lag_6'\u001b[0m\u001b[0;34m]\u001b[0m \u001b[0;34m=\u001b[0m \u001b[0mdf\u001b[0m\u001b[0;34m[\u001b[0m\u001b[0;34m'item_cnt_lag_6'\u001b[0m\u001b[0;34m]\u001b[0m\u001b[0;34m.\u001b[0m\u001b[0mastype\u001b[0m\u001b[0;34m(\u001b[0m\u001b[0mnp\u001b[0m\u001b[0;34m.\u001b[0m\u001b[0mint32\u001b[0m\u001b[0;34m)\u001b[0m\u001b[0;34m\u001b[0m\u001b[0;34m\u001b[0m\u001b[0m\n\u001b[0m",
            "\u001b[0;32m/usr/local/lib/python3.7/dist-packages/pandas/core/frame.py\u001b[0m in \u001b[0;36m__getitem__\u001b[0;34m(self, key)\u001b[0m\n\u001b[1;32m   2904\u001b[0m             \u001b[0;32mif\u001b[0m \u001b[0mself\u001b[0m\u001b[0;34m.\u001b[0m\u001b[0mcolumns\u001b[0m\u001b[0;34m.\u001b[0m\u001b[0mnlevels\u001b[0m \u001b[0;34m>\u001b[0m \u001b[0;36m1\u001b[0m\u001b[0;34m:\u001b[0m\u001b[0;34m\u001b[0m\u001b[0;34m\u001b[0m\u001b[0m\n\u001b[1;32m   2905\u001b[0m                 \u001b[0;32mreturn\u001b[0m \u001b[0mself\u001b[0m\u001b[0;34m.\u001b[0m\u001b[0m_getitem_multilevel\u001b[0m\u001b[0;34m(\u001b[0m\u001b[0mkey\u001b[0m\u001b[0;34m)\u001b[0m\u001b[0;34m\u001b[0m\u001b[0;34m\u001b[0m\u001b[0m\n\u001b[0;32m-> 2906\u001b[0;31m             \u001b[0mindexer\u001b[0m \u001b[0;34m=\u001b[0m \u001b[0mself\u001b[0m\u001b[0;34m.\u001b[0m\u001b[0mcolumns\u001b[0m\u001b[0;34m.\u001b[0m\u001b[0mget_loc\u001b[0m\u001b[0;34m(\u001b[0m\u001b[0mkey\u001b[0m\u001b[0;34m)\u001b[0m\u001b[0;34m\u001b[0m\u001b[0;34m\u001b[0m\u001b[0m\n\u001b[0m\u001b[1;32m   2907\u001b[0m             \u001b[0;32mif\u001b[0m \u001b[0mis_integer\u001b[0m\u001b[0;34m(\u001b[0m\u001b[0mindexer\u001b[0m\u001b[0;34m)\u001b[0m\u001b[0;34m:\u001b[0m\u001b[0;34m\u001b[0m\u001b[0;34m\u001b[0m\u001b[0m\n\u001b[1;32m   2908\u001b[0m                 \u001b[0mindexer\u001b[0m \u001b[0;34m=\u001b[0m \u001b[0;34m[\u001b[0m\u001b[0mindexer\u001b[0m\u001b[0;34m]\u001b[0m\u001b[0;34m\u001b[0m\u001b[0;34m\u001b[0m\u001b[0m\n",
            "\u001b[0;32m/usr/local/lib/python3.7/dist-packages/pandas/core/indexes/base.py\u001b[0m in \u001b[0;36mget_loc\u001b[0;34m(self, key, method, tolerance)\u001b[0m\n\u001b[1;32m   2898\u001b[0m                 \u001b[0;32mreturn\u001b[0m \u001b[0mself\u001b[0m\u001b[0;34m.\u001b[0m\u001b[0m_engine\u001b[0m\u001b[0;34m.\u001b[0m\u001b[0mget_loc\u001b[0m\u001b[0;34m(\u001b[0m\u001b[0mcasted_key\u001b[0m\u001b[0;34m)\u001b[0m\u001b[0;34m\u001b[0m\u001b[0;34m\u001b[0m\u001b[0m\n\u001b[1;32m   2899\u001b[0m             \u001b[0;32mexcept\u001b[0m \u001b[0mKeyError\u001b[0m \u001b[0;32mas\u001b[0m \u001b[0merr\u001b[0m\u001b[0;34m:\u001b[0m\u001b[0;34m\u001b[0m\u001b[0;34m\u001b[0m\u001b[0m\n\u001b[0;32m-> 2900\u001b[0;31m                 \u001b[0;32mraise\u001b[0m \u001b[0mKeyError\u001b[0m\u001b[0;34m(\u001b[0m\u001b[0mkey\u001b[0m\u001b[0;34m)\u001b[0m \u001b[0;32mfrom\u001b[0m \u001b[0merr\u001b[0m\u001b[0;34m\u001b[0m\u001b[0;34m\u001b[0m\u001b[0m\n\u001b[0m\u001b[1;32m   2901\u001b[0m \u001b[0;34m\u001b[0m\u001b[0m\n\u001b[1;32m   2902\u001b[0m         \u001b[0;32mif\u001b[0m \u001b[0mtolerance\u001b[0m \u001b[0;32mis\u001b[0m \u001b[0;32mnot\u001b[0m \u001b[0;32mNone\u001b[0m\u001b[0;34m:\u001b[0m\u001b[0;34m\u001b[0m\u001b[0;34m\u001b[0m\u001b[0m\n",
            "\u001b[0;31mKeyError\u001b[0m: 'item_cnt_lag_6'"
          ]
        }
      ],
      "source": [
        "df['shop_id'] = df['shop_id'].astype(np.int8)\n",
        "df['item_id'] = df['item_id'].astype(np.int16)\n",
        "df['month'] = df['month'].astype(np.int8)\n",
        "df['year'] = df['year'].astype(np.int16)\n",
        "df['date_block_num'] = df['date_block_num'].astype(np.int8)\n",
        "df['item_cnt'] = df['item_cnt'].astype(np.int32)\n",
        "df['prev_value'] = df['prev_value'].astype(np.int32)\n",
        "df['prev_value_year'] = df['prev_value_year'].astype(np.int32)\n",
        "df['shop_city'] = df['shop_city'].astype(np.int8)\n",
        "df['shop_category'] = df['shop_category'].astype(np.int8)\n",
        "df['item_category_id'] = df['item_category_id'].astype(np.int8)\n",
        "df['digital'] = df['digital'].astype(np.bool_)\n",
        "df['category_type'] = df['category_type'].astype(np.int8)\n",
        "df['category_subtype'] = df['category_subtype'].astype(np.int8)\n",
        "df['item_cnt_lag_2'] = df['item_cnt_lag_2'].astype(np.int32)\n",
        "df['item_cnt_lag_3'] = df['item_cnt_lag_3'].astype(np.int32)\n",
        "df['item_cnt_lag_4'] = df['item_cnt_lag_4'].astype(np.int32)\n",
        "df['item_cnt_lag_5'] = df['item_cnt_lag_5'].astype(np.int32)\n",
        "df['item_cnt_lag_6'] = df['item_cnt_lag_6'].astype(np.int32)"
      ]
    },
    {
      "cell_type": "code",
      "execution_count": null,
      "metadata": {
        "id": "eVWe3qHUHMPH"
      },
      "outputs": [],
      "source": [
        "for col in df.columns[22:40]:\n",
        "    df[col] = df[col].astype(np.int32)"
      ]
    },
    {
      "cell_type": "code",
      "source": [
        "df.shape"
      ],
      "metadata": {
        "colab": {
          "base_uri": "https://localhost:8080/"
        },
        "id": "KsFQg1fRKP-p",
        "outputId": "25a16f32-c7fd-4ff7-f19c-43d31d6f42ae"
      },
      "execution_count": null,
      "outputs": [
        {
          "output_type": "execute_result",
          "data": {
            "text/plain": [
              "(10913804, 24)"
            ]
          },
          "metadata": {},
          "execution_count": 5
        }
      ]
    },
    {
      "cell_type": "code",
      "source": [
        "df = df[df.date_block_num >= 12]\n",
        "df.reset_index(drop=True, inplace=True)\n",
        "df.shape"
      ],
      "metadata": {
        "colab": {
          "base_uri": "https://localhost:8080/"
        },
        "id": "KAFwkRCHKL-U",
        "outputId": "0beb18ad-c6d6-4b81-8108-0c6fdcac070f"
      },
      "execution_count": null,
      "outputs": [
        {
          "output_type": "execute_result",
          "data": {
            "text/plain": [
              "(6425094, 24)"
            ]
          },
          "metadata": {},
          "execution_count": 6
        }
      ]
    },
    {
      "cell_type": "code",
      "execution_count": null,
      "metadata": {
        "colab": {
          "base_uri": "https://localhost:8080/"
        },
        "id": "C3Vwz5Cg2UVp",
        "outputId": "ce4b4d03-59d2-4f43-8e9f-7bab6a917723"
      },
      "outputs": [
        {
          "output_type": "stream",
          "name": "stdout",
          "text": [
            "<class 'pandas.core.frame.DataFrame'>\n",
            "RangeIndex: 6425094 entries, 0 to 6425093\n",
            "Data columns (total 24 columns):\n",
            " #   Column                  Dtype  \n",
            "---  ------                  -----  \n",
            " 0   shop_id                 int8   \n",
            " 1   item_id                 int16  \n",
            " 2   month                   int8   \n",
            " 3   year                    int16  \n",
            " 4   date_block_num          int8   \n",
            " 5   item_cnt                int32  \n",
            " 6   item_price              float64\n",
            " 7   prev_value              int32  \n",
            " 8   prev_value_year         int32  \n",
            " 9   stock_prev              float64\n",
            " 10  stock_prev_year         float64\n",
            " 11  shop_city               int8   \n",
            " 12  shop_category           int8   \n",
            " 13  item_category_id        int8   \n",
            " 14  digital                 bool   \n",
            " 15  category_type           int8   \n",
            " 16  category_subtype        int8   \n",
            " 17  item_cnt_lag_2          int32  \n",
            " 18  item_cnt_lag_3          int32  \n",
            " 19  item_cnt_lag_4          int32  \n",
            " 20  item_cnt_lag_5          int32  \n",
            " 21  date_item_avg_item_cnt  float64\n",
            " 22  shop_item_avg_item_cnt  int32  \n",
            " 23  cat_item_avg_item_cnt   int32  \n",
            "dtypes: bool(1), float64(4), int16(2), int32(9), int8(8)\n",
            "memory usage: 496.3 MB\n"
          ]
        }
      ],
      "source": [
        "df.info()"
      ]
    },
    {
      "cell_type": "markdown",
      "metadata": {
        "id": "r3FgsrZ99UKI"
      },
      "source": [
        "Due to the fact that we predict future, it makes no sense to shuffle the data"
      ]
    },
    {
      "cell_type": "markdown",
      "metadata": {
        "id": "yrVztVSTiNeM"
      },
      "source": [
        "**Best Params:**\n",
        "\n",
        "*   Max_depth: 8\n",
        "*   Min_child_weight: 5\n",
        "*   col_sample_by_tree: 0.9\n",
        "*   eta: 0.5\n",
        "*   n_estimators: 500\n",
        "*   subsample: 0.9\n",
        "*   gamma: 2\n",
        "\n",
        "\n",
        "---\n",
        "\n",
        "\n",
        "The best estimator across ALL searched params:\n",
        " XGBRegressor(colsample_bytree=0.9, gamma=2, learning_rate=0.5, max_depth=8,\n",
        "             min_child_weight=5, n_estimators=500, objective='reg:squarederror',\n",
        "             random_state=13, subsample=0.9, tree_method='gpu_hist',\n",
        "             verbosity=2)\n",
        "\n",
        " The best score across ALL searched params:\n",
        " -2.3636728504578244"
      ]
    },
    {
      "cell_type": "code",
      "execution_count": null,
      "metadata": {
        "id": "bp_PA1951FNq"
      },
      "outputs": [],
      "source": [
        "max_depth = 8\n",
        "min_child_weight = 5\n",
        "col_sample_by_tree = 0.9\n",
        "eta = 0.5\n",
        "n_estimators = 500\n",
        "subsample = 0.9\n",
        "gamma = 2\n",
        "\n",
        "random_state = 13\n",
        "verbosity = 2\n",
        "gp = 'gpu_hist'\n",
        "obj = 'reg:squarederror'"
      ]
    },
    {
      "cell_type": "code",
      "execution_count": null,
      "metadata": {
        "id": "AVH_UrBz1Lbl"
      },
      "outputs": [],
      "source": [
        "xgbr = xgb.XGBRegressor(max_depth=max_depth,\n",
        "                        min_child_weight=min_child_weight,\n",
        "                        col_sample_by_tree=col_sample_by_tree,\n",
        "                        eta=eta,\n",
        "                        n_estimators=n_estimators,\n",
        "                        subsample=subsample,\n",
        "                        gamma=gamma,\n",
        "                        tree_method=gp,\n",
        "                        objective=obj,\n",
        "                        random_state=random_state,\n",
        "                        verbosity=verbosity)"
      ]
    },
    {
      "cell_type": "code",
      "execution_count": null,
      "metadata": {
        "id": "1oyBfxKw0-Lt"
      },
      "outputs": [],
      "source": [
        "X_train = df[df.date_block_num < 33].drop(['item_cnt'], axis=1)\n",
        "y_train = df[df.date_block_num < 33]['item_cnt']\n",
        "X_valid = df[df.date_block_num == 33].drop(['item_cnt'], axis=1)\n",
        "y_valid = df[df.date_block_num == 33]['item_cnt']"
      ]
    },
    {
      "cell_type": "code",
      "source": [
        "del df"
      ],
      "metadata": {
        "id": "a6LYhic3vqOY"
      },
      "execution_count": null,
      "outputs": []
    },
    {
      "cell_type": "code",
      "source": [
        "eval_set = [(X_train, y_train), (X_valid, y_valid)]"
      ],
      "metadata": {
        "id": "hvYxE49QtcL7"
      },
      "execution_count": null,
      "outputs": []
    },
    {
      "cell_type": "code",
      "execution_count": null,
      "metadata": {
        "id": "fvF4Nj3y1Lhd",
        "colab": {
          "base_uri": "https://localhost:8080/"
        },
        "outputId": "8a44c96c-f5e3-4be7-eb17-c3b479795adb"
      },
      "outputs": [
        {
          "output_type": "stream",
          "name": "stdout",
          "text": [
            "[0]\tvalidation_0-rmse:3.27116\tvalidation_1-rmse:5.11082\n",
            "Multiple eval metrics have been passed: 'validation_1-rmse' will be used for early stopping.\n",
            "\n",
            "Will train until validation_1-rmse hasn't improved in 200 rounds.\n",
            "[1]\tvalidation_0-rmse:3.02271\tvalidation_1-rmse:4.96257\n",
            "[2]\tvalidation_0-rmse:2.80704\tvalidation_1-rmse:4.80489\n",
            "[3]\tvalidation_0-rmse:2.6179\tvalidation_1-rmse:4.66894\n",
            "[4]\tvalidation_0-rmse:2.44718\tvalidation_1-rmse:4.49688\n",
            "[5]\tvalidation_0-rmse:2.29591\tvalidation_1-rmse:4.38382\n",
            "[6]\tvalidation_0-rmse:2.15241\tvalidation_1-rmse:4.2879\n",
            "[7]\tvalidation_0-rmse:2.02321\tvalidation_1-rmse:4.24248\n",
            "[8]\tvalidation_0-rmse:1.90836\tvalidation_1-rmse:4.15146\n",
            "[9]\tvalidation_0-rmse:1.80563\tvalidation_1-rmse:4.10661\n",
            "[10]\tvalidation_0-rmse:1.71689\tvalidation_1-rmse:4.0379\n",
            "[11]\tvalidation_0-rmse:1.63438\tvalidation_1-rmse:3.99298\n",
            "[12]\tvalidation_0-rmse:1.57183\tvalidation_1-rmse:3.95879\n",
            "[13]\tvalidation_0-rmse:1.5034\tvalidation_1-rmse:3.92273\n",
            "[14]\tvalidation_0-rmse:1.45363\tvalidation_1-rmse:3.88379\n",
            "[15]\tvalidation_0-rmse:1.40738\tvalidation_1-rmse:3.86857\n",
            "[16]\tvalidation_0-rmse:1.3626\tvalidation_1-rmse:3.85976\n",
            "[17]\tvalidation_0-rmse:1.3172\tvalidation_1-rmse:3.83609\n",
            "[18]\tvalidation_0-rmse:1.28025\tvalidation_1-rmse:3.82427\n",
            "[19]\tvalidation_0-rmse:1.24652\tvalidation_1-rmse:3.8164\n",
            "[20]\tvalidation_0-rmse:1.21572\tvalidation_1-rmse:3.8041\n",
            "[21]\tvalidation_0-rmse:1.18574\tvalidation_1-rmse:3.74359\n",
            "[22]\tvalidation_0-rmse:1.16251\tvalidation_1-rmse:3.73666\n",
            "[23]\tvalidation_0-rmse:1.13833\tvalidation_1-rmse:3.71869\n",
            "[24]\tvalidation_0-rmse:1.11895\tvalidation_1-rmse:3.71537\n",
            "[25]\tvalidation_0-rmse:1.09993\tvalidation_1-rmse:3.69996\n",
            "[26]\tvalidation_0-rmse:1.08576\tvalidation_1-rmse:3.7078\n",
            "[27]\tvalidation_0-rmse:1.0722\tvalidation_1-rmse:3.70954\n",
            "[28]\tvalidation_0-rmse:1.06213\tvalidation_1-rmse:3.71307\n",
            "[29]\tvalidation_0-rmse:1.05048\tvalidation_1-rmse:3.72045\n",
            "[30]\tvalidation_0-rmse:1.03925\tvalidation_1-rmse:3.71364\n",
            "[31]\tvalidation_0-rmse:1.02918\tvalidation_1-rmse:3.68512\n",
            "[32]\tvalidation_0-rmse:1.02004\tvalidation_1-rmse:3.68726\n",
            "[33]\tvalidation_0-rmse:1.0092\tvalidation_1-rmse:3.68432\n",
            "[34]\tvalidation_0-rmse:1.00215\tvalidation_1-rmse:3.67848\n",
            "[35]\tvalidation_0-rmse:0.994771\tvalidation_1-rmse:3.6752\n",
            "[36]\tvalidation_0-rmse:0.98745\tvalidation_1-rmse:3.67574\n",
            "[37]\tvalidation_0-rmse:0.977715\tvalidation_1-rmse:3.68065\n",
            "[38]\tvalidation_0-rmse:0.969182\tvalidation_1-rmse:3.68229\n",
            "[39]\tvalidation_0-rmse:0.962812\tvalidation_1-rmse:3.6835\n",
            "[40]\tvalidation_0-rmse:0.953174\tvalidation_1-rmse:3.67346\n",
            "[41]\tvalidation_0-rmse:0.946155\tvalidation_1-rmse:3.67161\n",
            "[42]\tvalidation_0-rmse:0.940564\tvalidation_1-rmse:3.6707\n",
            "[43]\tvalidation_0-rmse:0.935322\tvalidation_1-rmse:3.67225\n",
            "[44]\tvalidation_0-rmse:0.929194\tvalidation_1-rmse:3.67213\n",
            "[45]\tvalidation_0-rmse:0.925121\tvalidation_1-rmse:3.67452\n",
            "[46]\tvalidation_0-rmse:0.919661\tvalidation_1-rmse:3.67873\n",
            "[47]\tvalidation_0-rmse:0.915881\tvalidation_1-rmse:3.67903\n",
            "[48]\tvalidation_0-rmse:0.910785\tvalidation_1-rmse:3.67927\n",
            "[49]\tvalidation_0-rmse:0.908276\tvalidation_1-rmse:3.67493\n",
            "[50]\tvalidation_0-rmse:0.903943\tvalidation_1-rmse:3.67813\n",
            "[51]\tvalidation_0-rmse:0.899571\tvalidation_1-rmse:3.67165\n",
            "[52]\tvalidation_0-rmse:0.896766\tvalidation_1-rmse:3.67344\n",
            "[53]\tvalidation_0-rmse:0.892864\tvalidation_1-rmse:3.67374\n",
            "[54]\tvalidation_0-rmse:0.889764\tvalidation_1-rmse:3.67097\n",
            "[55]\tvalidation_0-rmse:0.885443\tvalidation_1-rmse:3.65816\n",
            "[56]\tvalidation_0-rmse:0.882593\tvalidation_1-rmse:3.65778\n",
            "[57]\tvalidation_0-rmse:0.878747\tvalidation_1-rmse:3.66493\n",
            "[58]\tvalidation_0-rmse:0.875907\tvalidation_1-rmse:3.66289\n",
            "[59]\tvalidation_0-rmse:0.87323\tvalidation_1-rmse:3.65389\n",
            "[60]\tvalidation_0-rmse:0.870598\tvalidation_1-rmse:3.65288\n",
            "[61]\tvalidation_0-rmse:0.867721\tvalidation_1-rmse:3.65121\n",
            "[62]\tvalidation_0-rmse:0.866558\tvalidation_1-rmse:3.65319\n",
            "[63]\tvalidation_0-rmse:0.865153\tvalidation_1-rmse:3.65634\n",
            "[64]\tvalidation_0-rmse:0.862706\tvalidation_1-rmse:3.65709\n",
            "[65]\tvalidation_0-rmse:0.858296\tvalidation_1-rmse:3.66128\n",
            "[66]\tvalidation_0-rmse:0.856461\tvalidation_1-rmse:3.66188\n",
            "[67]\tvalidation_0-rmse:0.853144\tvalidation_1-rmse:3.6716\n",
            "[68]\tvalidation_0-rmse:0.851451\tvalidation_1-rmse:3.6714\n",
            "[69]\tvalidation_0-rmse:0.85043\tvalidation_1-rmse:3.67239\n",
            "[70]\tvalidation_0-rmse:0.847818\tvalidation_1-rmse:3.67326\n",
            "[71]\tvalidation_0-rmse:0.844686\tvalidation_1-rmse:3.67558\n",
            "[72]\tvalidation_0-rmse:0.841703\tvalidation_1-rmse:3.67627\n",
            "[73]\tvalidation_0-rmse:0.838452\tvalidation_1-rmse:3.67556\n",
            "[74]\tvalidation_0-rmse:0.836174\tvalidation_1-rmse:3.67581\n",
            "[75]\tvalidation_0-rmse:0.833892\tvalidation_1-rmse:3.66952\n",
            "[76]\tvalidation_0-rmse:0.831802\tvalidation_1-rmse:3.67028\n",
            "[77]\tvalidation_0-rmse:0.831109\tvalidation_1-rmse:3.67056\n",
            "[78]\tvalidation_0-rmse:0.828788\tvalidation_1-rmse:3.67163\n",
            "[79]\tvalidation_0-rmse:0.826537\tvalidation_1-rmse:3.66745\n",
            "[80]\tvalidation_0-rmse:0.8242\tvalidation_1-rmse:3.66982\n",
            "[81]\tvalidation_0-rmse:0.821544\tvalidation_1-rmse:3.66796\n",
            "[82]\tvalidation_0-rmse:0.819483\tvalidation_1-rmse:3.66816\n",
            "[83]\tvalidation_0-rmse:0.817283\tvalidation_1-rmse:3.66856\n",
            "[84]\tvalidation_0-rmse:0.815158\tvalidation_1-rmse:3.66857\n",
            "[85]\tvalidation_0-rmse:0.813101\tvalidation_1-rmse:3.66836\n",
            "[86]\tvalidation_0-rmse:0.810891\tvalidation_1-rmse:3.66801\n",
            "[87]\tvalidation_0-rmse:0.8097\tvalidation_1-rmse:3.66506\n",
            "[88]\tvalidation_0-rmse:0.808869\tvalidation_1-rmse:3.66483\n",
            "[89]\tvalidation_0-rmse:0.805237\tvalidation_1-rmse:3.66791\n",
            "[90]\tvalidation_0-rmse:0.804236\tvalidation_1-rmse:3.66827\n",
            "[91]\tvalidation_0-rmse:0.803127\tvalidation_1-rmse:3.66994\n",
            "[92]\tvalidation_0-rmse:0.801965\tvalidation_1-rmse:3.66983\n",
            "[93]\tvalidation_0-rmse:0.800174\tvalidation_1-rmse:3.66667\n",
            "[94]\tvalidation_0-rmse:0.799191\tvalidation_1-rmse:3.66366\n",
            "[95]\tvalidation_0-rmse:0.798528\tvalidation_1-rmse:3.66602\n",
            "[96]\tvalidation_0-rmse:0.797634\tvalidation_1-rmse:3.67028\n",
            "[97]\tvalidation_0-rmse:0.795925\tvalidation_1-rmse:3.66797\n",
            "[98]\tvalidation_0-rmse:0.793766\tvalidation_1-rmse:3.66565\n",
            "[99]\tvalidation_0-rmse:0.79269\tvalidation_1-rmse:3.66671\n",
            "[100]\tvalidation_0-rmse:0.791221\tvalidation_1-rmse:3.66674\n",
            "[101]\tvalidation_0-rmse:0.789824\tvalidation_1-rmse:3.66637\n",
            "[102]\tvalidation_0-rmse:0.787848\tvalidation_1-rmse:3.66609\n",
            "[103]\tvalidation_0-rmse:0.785988\tvalidation_1-rmse:3.66356\n",
            "[104]\tvalidation_0-rmse:0.784069\tvalidation_1-rmse:3.66445\n",
            "[105]\tvalidation_0-rmse:0.782666\tvalidation_1-rmse:3.66571\n",
            "[106]\tvalidation_0-rmse:0.781643\tvalidation_1-rmse:3.66693\n",
            "[107]\tvalidation_0-rmse:0.780715\tvalidation_1-rmse:3.66871\n",
            "[108]\tvalidation_0-rmse:0.779083\tvalidation_1-rmse:3.66627\n",
            "[109]\tvalidation_0-rmse:0.777918\tvalidation_1-rmse:3.66723\n",
            "[110]\tvalidation_0-rmse:0.776833\tvalidation_1-rmse:3.66697\n",
            "[111]\tvalidation_0-rmse:0.775608\tvalidation_1-rmse:3.66658\n",
            "[112]\tvalidation_0-rmse:0.774466\tvalidation_1-rmse:3.66712\n",
            "[113]\tvalidation_0-rmse:0.772973\tvalidation_1-rmse:3.6701\n",
            "[114]\tvalidation_0-rmse:0.771564\tvalidation_1-rmse:3.66908\n",
            "[115]\tvalidation_0-rmse:0.770448\tvalidation_1-rmse:3.6687\n",
            "[116]\tvalidation_0-rmse:0.769202\tvalidation_1-rmse:3.66418\n",
            "[117]\tvalidation_0-rmse:0.767825\tvalidation_1-rmse:3.66692\n",
            "[118]\tvalidation_0-rmse:0.766093\tvalidation_1-rmse:3.66708\n",
            "[119]\tvalidation_0-rmse:0.764842\tvalidation_1-rmse:3.66802\n",
            "[120]\tvalidation_0-rmse:0.763818\tvalidation_1-rmse:3.66972\n",
            "[121]\tvalidation_0-rmse:0.762782\tvalidation_1-rmse:3.67041\n",
            "[122]\tvalidation_0-rmse:0.761547\tvalidation_1-rmse:3.67144\n",
            "[123]\tvalidation_0-rmse:0.760948\tvalidation_1-rmse:3.67319\n",
            "[124]\tvalidation_0-rmse:0.759966\tvalidation_1-rmse:3.67384\n",
            "[125]\tvalidation_0-rmse:0.758652\tvalidation_1-rmse:3.67375\n",
            "[126]\tvalidation_0-rmse:0.757539\tvalidation_1-rmse:3.67111\n",
            "[127]\tvalidation_0-rmse:0.756944\tvalidation_1-rmse:3.66948\n",
            "[128]\tvalidation_0-rmse:0.755906\tvalidation_1-rmse:3.66857\n",
            "[129]\tvalidation_0-rmse:0.754064\tvalidation_1-rmse:3.66796\n",
            "[130]\tvalidation_0-rmse:0.752349\tvalidation_1-rmse:3.67033\n",
            "[131]\tvalidation_0-rmse:0.751607\tvalidation_1-rmse:3.67091\n",
            "[132]\tvalidation_0-rmse:0.751033\tvalidation_1-rmse:3.67237\n",
            "[133]\tvalidation_0-rmse:0.749804\tvalidation_1-rmse:3.66993\n",
            "[134]\tvalidation_0-rmse:0.749224\tvalidation_1-rmse:3.67039\n",
            "[135]\tvalidation_0-rmse:0.747913\tvalidation_1-rmse:3.67215\n",
            "[136]\tvalidation_0-rmse:0.747171\tvalidation_1-rmse:3.67213\n",
            "[137]\tvalidation_0-rmse:0.746005\tvalidation_1-rmse:3.67068\n",
            "[138]\tvalidation_0-rmse:0.745342\tvalidation_1-rmse:3.67066\n",
            "[139]\tvalidation_0-rmse:0.744008\tvalidation_1-rmse:3.66986\n",
            "[140]\tvalidation_0-rmse:0.742556\tvalidation_1-rmse:3.67014\n",
            "[141]\tvalidation_0-rmse:0.741572\tvalidation_1-rmse:3.67055\n",
            "[142]\tvalidation_0-rmse:0.740747\tvalidation_1-rmse:3.67381\n",
            "[143]\tvalidation_0-rmse:0.73998\tvalidation_1-rmse:3.67239\n",
            "[144]\tvalidation_0-rmse:0.738776\tvalidation_1-rmse:3.67049\n",
            "[145]\tvalidation_0-rmse:0.737895\tvalidation_1-rmse:3.67262\n",
            "[146]\tvalidation_0-rmse:0.737264\tvalidation_1-rmse:3.67238\n",
            "[147]\tvalidation_0-rmse:0.736535\tvalidation_1-rmse:3.67191\n",
            "[148]\tvalidation_0-rmse:0.735767\tvalidation_1-rmse:3.67154\n",
            "[149]\tvalidation_0-rmse:0.73463\tvalidation_1-rmse:3.67246\n",
            "[150]\tvalidation_0-rmse:0.73347\tvalidation_1-rmse:3.67095\n",
            "[151]\tvalidation_0-rmse:0.732441\tvalidation_1-rmse:3.67341\n",
            "[152]\tvalidation_0-rmse:0.732049\tvalidation_1-rmse:3.67416\n",
            "[153]\tvalidation_0-rmse:0.731377\tvalidation_1-rmse:3.67476\n",
            "[154]\tvalidation_0-rmse:0.730808\tvalidation_1-rmse:3.67509\n",
            "[155]\tvalidation_0-rmse:0.729748\tvalidation_1-rmse:3.6757\n",
            "[156]\tvalidation_0-rmse:0.729013\tvalidation_1-rmse:3.67573\n",
            "[157]\tvalidation_0-rmse:0.728506\tvalidation_1-rmse:3.67571\n",
            "[158]\tvalidation_0-rmse:0.727849\tvalidation_1-rmse:3.67744\n",
            "[159]\tvalidation_0-rmse:0.727023\tvalidation_1-rmse:3.67673\n",
            "[160]\tvalidation_0-rmse:0.725661\tvalidation_1-rmse:3.6769\n",
            "[161]\tvalidation_0-rmse:0.725292\tvalidation_1-rmse:3.6767\n",
            "[162]\tvalidation_0-rmse:0.724307\tvalidation_1-rmse:3.6767\n",
            "[163]\tvalidation_0-rmse:0.723703\tvalidation_1-rmse:3.67716\n",
            "[164]\tvalidation_0-rmse:0.723206\tvalidation_1-rmse:3.6778\n",
            "[165]\tvalidation_0-rmse:0.721833\tvalidation_1-rmse:3.67794\n",
            "[166]\tvalidation_0-rmse:0.72109\tvalidation_1-rmse:3.67806\n",
            "[167]\tvalidation_0-rmse:0.720372\tvalidation_1-rmse:3.67671\n",
            "[168]\tvalidation_0-rmse:0.719785\tvalidation_1-rmse:3.6759\n",
            "[169]\tvalidation_0-rmse:0.718792\tvalidation_1-rmse:3.67585\n",
            "[170]\tvalidation_0-rmse:0.718041\tvalidation_1-rmse:3.67591\n",
            "[171]\tvalidation_0-rmse:0.717398\tvalidation_1-rmse:3.67615\n",
            "[172]\tvalidation_0-rmse:0.716671\tvalidation_1-rmse:3.67791\n",
            "[173]\tvalidation_0-rmse:0.715842\tvalidation_1-rmse:3.68148\n",
            "[174]\tvalidation_0-rmse:0.715291\tvalidation_1-rmse:3.68246\n",
            "[175]\tvalidation_0-rmse:0.715011\tvalidation_1-rmse:3.68202\n",
            "[176]\tvalidation_0-rmse:0.714358\tvalidation_1-rmse:3.68192\n",
            "[177]\tvalidation_0-rmse:0.713725\tvalidation_1-rmse:3.68261\n",
            "[178]\tvalidation_0-rmse:0.713325\tvalidation_1-rmse:3.68419\n",
            "[179]\tvalidation_0-rmse:0.712493\tvalidation_1-rmse:3.68562\n",
            "[180]\tvalidation_0-rmse:0.711573\tvalidation_1-rmse:3.68735\n",
            "[181]\tvalidation_0-rmse:0.711379\tvalidation_1-rmse:3.688\n",
            "[182]\tvalidation_0-rmse:0.711035\tvalidation_1-rmse:3.68719\n",
            "[183]\tvalidation_0-rmse:0.709652\tvalidation_1-rmse:3.68742\n",
            "[184]\tvalidation_0-rmse:0.709099\tvalidation_1-rmse:3.68759\n",
            "[185]\tvalidation_0-rmse:0.707958\tvalidation_1-rmse:3.69046\n",
            "[186]\tvalidation_0-rmse:0.706897\tvalidation_1-rmse:3.69053\n",
            "[187]\tvalidation_0-rmse:0.706293\tvalidation_1-rmse:3.68928\n",
            "[188]\tvalidation_0-rmse:0.705991\tvalidation_1-rmse:3.68986\n",
            "[189]\tvalidation_0-rmse:0.705329\tvalidation_1-rmse:3.69031\n",
            "[190]\tvalidation_0-rmse:0.70484\tvalidation_1-rmse:3.6899\n",
            "[191]\tvalidation_0-rmse:0.704362\tvalidation_1-rmse:3.68873\n",
            "[192]\tvalidation_0-rmse:0.703373\tvalidation_1-rmse:3.68894\n",
            "[193]\tvalidation_0-rmse:0.702313\tvalidation_1-rmse:3.68992\n",
            "[194]\tvalidation_0-rmse:0.701917\tvalidation_1-rmse:3.69027\n",
            "[195]\tvalidation_0-rmse:0.701481\tvalidation_1-rmse:3.69018\n",
            "[196]\tvalidation_0-rmse:0.700986\tvalidation_1-rmse:3.68933\n",
            "[197]\tvalidation_0-rmse:0.700218\tvalidation_1-rmse:3.69052\n",
            "[198]\tvalidation_0-rmse:0.699749\tvalidation_1-rmse:3.69185\n",
            "[199]\tvalidation_0-rmse:0.699497\tvalidation_1-rmse:3.69203\n",
            "[200]\tvalidation_0-rmse:0.699114\tvalidation_1-rmse:3.69328\n",
            "[201]\tvalidation_0-rmse:0.698666\tvalidation_1-rmse:3.69206\n",
            "[202]\tvalidation_0-rmse:0.697972\tvalidation_1-rmse:3.6928\n",
            "[203]\tvalidation_0-rmse:0.697421\tvalidation_1-rmse:3.69283\n",
            "[204]\tvalidation_0-rmse:0.69714\tvalidation_1-rmse:3.69307\n",
            "[205]\tvalidation_0-rmse:0.696679\tvalidation_1-rmse:3.6946\n",
            "[206]\tvalidation_0-rmse:0.696183\tvalidation_1-rmse:3.69428\n",
            "[207]\tvalidation_0-rmse:0.695735\tvalidation_1-rmse:3.69387\n",
            "[208]\tvalidation_0-rmse:0.694964\tvalidation_1-rmse:3.69457\n",
            "[209]\tvalidation_0-rmse:0.694564\tvalidation_1-rmse:3.69461\n",
            "[210]\tvalidation_0-rmse:0.694123\tvalidation_1-rmse:3.69573\n",
            "[211]\tvalidation_0-rmse:0.693554\tvalidation_1-rmse:3.69656\n",
            "[212]\tvalidation_0-rmse:0.692831\tvalidation_1-rmse:3.6974\n",
            "[213]\tvalidation_0-rmse:0.692415\tvalidation_1-rmse:3.69813\n",
            "[214]\tvalidation_0-rmse:0.692079\tvalidation_1-rmse:3.69883\n",
            "[215]\tvalidation_0-rmse:0.691287\tvalidation_1-rmse:3.69994\n",
            "[216]\tvalidation_0-rmse:0.690777\tvalidation_1-rmse:3.69813\n",
            "[217]\tvalidation_0-rmse:0.690272\tvalidation_1-rmse:3.69721\n",
            "[218]\tvalidation_0-rmse:0.689907\tvalidation_1-rmse:3.69668\n",
            "[219]\tvalidation_0-rmse:0.689701\tvalidation_1-rmse:3.69658\n",
            "[220]\tvalidation_0-rmse:0.688269\tvalidation_1-rmse:3.69619\n",
            "[221]\tvalidation_0-rmse:0.688015\tvalidation_1-rmse:3.69644\n",
            "[222]\tvalidation_0-rmse:0.687271\tvalidation_1-rmse:3.6962\n",
            "[223]\tvalidation_0-rmse:0.686715\tvalidation_1-rmse:3.69633\n",
            "[224]\tvalidation_0-rmse:0.686367\tvalidation_1-rmse:3.69674\n",
            "[225]\tvalidation_0-rmse:0.685775\tvalidation_1-rmse:3.69633\n",
            "[226]\tvalidation_0-rmse:0.685333\tvalidation_1-rmse:3.69714\n",
            "[227]\tvalidation_0-rmse:0.685009\tvalidation_1-rmse:3.69714\n",
            "[228]\tvalidation_0-rmse:0.684086\tvalidation_1-rmse:3.69757\n",
            "[229]\tvalidation_0-rmse:0.683063\tvalidation_1-rmse:3.697\n",
            "[230]\tvalidation_0-rmse:0.682668\tvalidation_1-rmse:3.698\n",
            "[231]\tvalidation_0-rmse:0.682338\tvalidation_1-rmse:3.69841\n",
            "[232]\tvalidation_0-rmse:0.682053\tvalidation_1-rmse:3.69905\n",
            "[233]\tvalidation_0-rmse:0.681876\tvalidation_1-rmse:3.69862\n",
            "[234]\tvalidation_0-rmse:0.681617\tvalidation_1-rmse:3.69882\n",
            "[235]\tvalidation_0-rmse:0.681267\tvalidation_1-rmse:3.69747\n",
            "[236]\tvalidation_0-rmse:0.680855\tvalidation_1-rmse:3.69857\n",
            "[237]\tvalidation_0-rmse:0.680492\tvalidation_1-rmse:3.6992\n",
            "[238]\tvalidation_0-rmse:0.679894\tvalidation_1-rmse:3.69831\n",
            "[239]\tvalidation_0-rmse:0.67938\tvalidation_1-rmse:3.6986\n",
            "[240]\tvalidation_0-rmse:0.679041\tvalidation_1-rmse:3.69882\n",
            "[241]\tvalidation_0-rmse:0.678747\tvalidation_1-rmse:3.69915\n",
            "[242]\tvalidation_0-rmse:0.677427\tvalidation_1-rmse:3.69918\n",
            "[243]\tvalidation_0-rmse:0.676203\tvalidation_1-rmse:3.69884\n",
            "[244]\tvalidation_0-rmse:0.675014\tvalidation_1-rmse:3.69897\n",
            "[245]\tvalidation_0-rmse:0.674689\tvalidation_1-rmse:3.69939\n",
            "[246]\tvalidation_0-rmse:0.674397\tvalidation_1-rmse:3.69976\n",
            "[247]\tvalidation_0-rmse:0.672667\tvalidation_1-rmse:3.69979\n",
            "[248]\tvalidation_0-rmse:0.672328\tvalidation_1-rmse:3.69987\n",
            "[249]\tvalidation_0-rmse:0.671994\tvalidation_1-rmse:3.69968\n",
            "[250]\tvalidation_0-rmse:0.671545\tvalidation_1-rmse:3.70127\n",
            "[251]\tvalidation_0-rmse:0.671237\tvalidation_1-rmse:3.7009\n",
            "[252]\tvalidation_0-rmse:0.670757\tvalidation_1-rmse:3.70082\n",
            "[253]\tvalidation_0-rmse:0.670564\tvalidation_1-rmse:3.70158\n",
            "[254]\tvalidation_0-rmse:0.66924\tvalidation_1-rmse:3.69949\n",
            "[255]\tvalidation_0-rmse:0.669071\tvalidation_1-rmse:3.69895\n",
            "[256]\tvalidation_0-rmse:0.668369\tvalidation_1-rmse:3.69921\n",
            "[257]\tvalidation_0-rmse:0.667128\tvalidation_1-rmse:3.69826\n",
            "[258]\tvalidation_0-rmse:0.666895\tvalidation_1-rmse:3.69863\n",
            "[259]\tvalidation_0-rmse:0.666268\tvalidation_1-rmse:3.69863\n",
            "[260]\tvalidation_0-rmse:0.665294\tvalidation_1-rmse:3.69859\n",
            "[261]\tvalidation_0-rmse:0.664813\tvalidation_1-rmse:3.69877\n",
            "Stopping. Best iteration:\n",
            "[61]\tvalidation_0-rmse:0.867721\tvalidation_1-rmse:3.65121\n",
            "\n"
          ]
        },
        {
          "output_type": "execute_result",
          "data": {
            "text/plain": [
              "XGBRegressor(col_sample_by_tree=0.9, eta=0.5, gamma=2, max_depth=8,\n",
              "             min_child_weight=5, n_estimators=500, objective='reg:squarederror',\n",
              "             random_state=13, subsample=0.9, tree_method='gpu_hist',\n",
              "             verbosity=2)"
            ]
          },
          "metadata": {},
          "execution_count": 13
        }
      ],
      "source": [
        "xgbr.fit(X_train, y_train,\n",
        "         eval_metric=['rmse', 'rmse'], eval_set=eval_set,\n",
        "         early_stopping_rounds=200, verbose=True)"
      ]
    },
    {
      "cell_type": "code",
      "execution_count": null,
      "metadata": {
        "id": "kkPMUN_9WD8F",
        "colab": {
          "base_uri": "https://localhost:8080/",
          "height": 281
        },
        "outputId": "cb1ef9b8-1c94-4e5e-e66c-b26ca2d8421a"
      },
      "outputs": [
        {
          "output_type": "display_data",
          "data": {
            "image/png": "[encoded data removed]",
            "text/plain": [
              "<Figure size 432x288 with 1 Axes>"
            ]
          },
          "metadata": {
            "needs_background": "light"
          }
        }
      ],
      "source": [
        "import matplotlib.pyplot as plt\n",
        "\n",
        "# retrieve performance metrics\n",
        "results = xgbr.evals_result()\n",
        "epochs = len(results['validation_0']['rmse'])\n",
        "x_axis = range(0, epochs)\n",
        "\n",
        "# plot rmse\n",
        "fig, ax = plt.subplots()\n",
        "ax.plot(x_axis, results['validation_0']['rmse'], label='Train')\n",
        "ax.plot(x_axis, results['validation_1']['rmse'], label='Test')\n",
        "ax.legend()\n",
        "plt.ylabel('RMSE')\n",
        "plt.title('XGBoost RMSE')\n",
        "plt.show()"
      ]
    },
    {
      "cell_type": "code",
      "execution_count": null,
      "metadata": {
        "id": "9RUt3O_KUcCO"
      },
      "outputs": [],
      "source": [
        "import pickle\n",
        "\n",
        "dest = '/content/drive/MyDrive/HSE Final Project/Models/'\n",
        "file_name = 'xgb_reg_8 (+2013).pkl'\n",
        "\n",
        "# save\n",
        "pickle.dump(xgbr, open(dest + file_name, 'wb'))"
      ]
    },
    {
      "cell_type": "code",
      "execution_count": null,
      "metadata": {
        "id": "tq6UbG4KUoSU",
        "colab": {
          "base_uri": "https://localhost:8080/"
        },
        "outputId": "d625995a-6a71-413a-b8fd-c6dc78b4e828"
      },
      "outputs": [
        {
          "output_type": "stream",
          "name": "stdout",
          "text": [
            "[18:22:52] INFO: /workspace/src/learner.cc:370: Parameter 'predictor' has been recovered from the saved model. It will be set to 'gpu_predictor' for prediction. To override the predictor behavior, explicitly set 'predictor' parameter as follows:\n",
            "  * Python package: bst.set_param('predictor', [new value])\n",
            "  * R package:      xgb.parameters(bst) <- list(predictor = [new value])\n",
            "  * JVM packages:   bst.setParam(\"predictor\", [new value])\n"
          ]
        }
      ],
      "source": [
        "import pickle\n",
        "\n",
        "dest = '/content/drive/MyDrive/HSE Final Project/Models/'\n",
        "file_name = 'xgb_reg_8 (+2013).pkl'\n",
        "# load\n",
        "xgbr = pickle.load(open(dest + file_name, \"rb\"))"
      ]
    },
    {
      "cell_type": "code",
      "execution_count": null,
      "metadata": {
        "id": "70FE96If1Lj3",
        "colab": {
          "base_uri": "https://localhost:8080/"
        },
        "outputId": "7d091d25-d0bf-4d04-9fc0-e4e9b6ee3911"
      },
      "outputs": [
        {
          "output_type": "stream",
          "name": "stdout",
          "text": [
            "MSE: 13.19\n",
            "RMSE: 3.63\n",
            "MSE (rounded): 13.21\n",
            "RMSE (rounded): 3.63\n"
          ]
        }
      ],
      "source": [
        "from sklearn.metrics import mean_squared_error\n",
        "\n",
        "y_pred = xgbr.predict(X_valid)\n",
        "y_pred_rounded = np.around(y_pred)\n",
        "mse = mean_squared_error(y_valid, y_pred)\n",
        "mse_rd = mean_squared_error(y_valid, y_pred_rounded)\n",
        "\n",
        "print('MSE: %.2f' % mse)\n",
        "print('RMSE: %.2f' % (mse ** (0.5)))\n",
        "\n",
        "print('MSE (rounded): %.2f' % mse_rd)\n",
        "print('RMSE (rounded): %.2f' % (mse_rd ** (0.5)))"
      ]
    },
    {
      "cell_type": "code",
      "execution_count": null,
      "metadata": {
        "id": "y3qwU-rR8baQ",
        "colab": {
          "base_uri": "https://localhost:8080/",
          "height": 226
        },
        "outputId": "6e7273f6-125b-43c1-8039-010f8b3c90be"
      },
      "outputs": [
        {
          "output_type": "execute_result",
          "data": {
            "text/html": [
              "<div>\n",
              "<style scoped>\n",
              "    .dataframe tbody tr th:only-of-type {\n",
              "        vertical-align: middle;\n",
              "    }\n",
              "\n",
              "    .dataframe tbody tr th {\n",
              "        vertical-align: top;\n",
              "    }\n",
              "\n",
              "    .dataframe thead th {\n",
              "        text-align: right;\n",
              "    }\n",
              "</style>\n",
              "<table border=\"1\" class=\"dataframe\">\n",
              "  <thead>\n",
              "    <tr style=\"text-align: right;\">\n",
              "      <th></th>\n",
              "      <th>shop_id</th>\n",
              "      <th>item_id</th>\n",
              "      <th>year</th>\n",
              "      <th>month</th>\n",
              "      <th>date_block_num</th>\n",
              "      <th>item_price</th>\n",
              "      <th>prev_value</th>\n",
              "      <th>prev_value_year</th>\n",
              "      <th>stock_prev</th>\n",
              "      <th>stock_prev_year</th>\n",
              "      <th>shop_city</th>\n",
              "      <th>shop_category</th>\n",
              "      <th>item_category_id</th>\n",
              "      <th>digital</th>\n",
              "      <th>category_type</th>\n",
              "      <th>category_subtype</th>\n",
              "      <th>item_cnt_lag_2</th>\n",
              "      <th>item_cnt_lag_3</th>\n",
              "      <th>item_cnt_lag_4</th>\n",
              "      <th>item_cnt_lag_5</th>\n",
              "      <th>date_item_avg_item_cnt</th>\n",
              "      <th>shop_item_avg_item_cnt</th>\n",
              "      <th>cat_item_avg_item_cnt</th>\n",
              "    </tr>\n",
              "  </thead>\n",
              "  <tbody>\n",
              "    <tr>\n",
              "      <th>0</th>\n",
              "      <td>5</td>\n",
              "      <td>5037</td>\n",
              "      <td>2015</td>\n",
              "      <td>11</td>\n",
              "      <td>34</td>\n",
              "      <td>2599.0</td>\n",
              "      <td>0</td>\n",
              "      <td>1</td>\n",
              "      <td>0.0</td>\n",
              "      <td>2599.0</td>\n",
              "      <td>3</td>\n",
              "      <td>3</td>\n",
              "      <td>19</td>\n",
              "      <td>False</td>\n",
              "      <td>5</td>\n",
              "      <td>9</td>\n",
              "      <td>1</td>\n",
              "      <td>3</td>\n",
              "      <td>1</td>\n",
              "      <td>1</td>\n",
              "      <td>NaN</td>\n",
              "      <td>0.9287</td>\n",
              "      <td>1.951</td>\n",
              "    </tr>\n",
              "    <tr>\n",
              "      <th>1</th>\n",
              "      <td>5</td>\n",
              "      <td>5320</td>\n",
              "      <td>2015</td>\n",
              "      <td>11</td>\n",
              "      <td>34</td>\n",
              "      <td>0.0</td>\n",
              "      <td>0</td>\n",
              "      <td>0</td>\n",
              "      <td>0.0</td>\n",
              "      <td>0.0</td>\n",
              "      <td>3</td>\n",
              "      <td>3</td>\n",
              "      <td>55</td>\n",
              "      <td>False</td>\n",
              "      <td>9</td>\n",
              "      <td>2</td>\n",
              "      <td>0</td>\n",
              "      <td>0</td>\n",
              "      <td>0</td>\n",
              "      <td>0</td>\n",
              "      <td>NaN</td>\n",
              "      <td>NaN</td>\n",
              "      <td>NaN</td>\n",
              "    </tr>\n",
              "    <tr>\n",
              "      <th>2</th>\n",
              "      <td>5</td>\n",
              "      <td>5233</td>\n",
              "      <td>2015</td>\n",
              "      <td>11</td>\n",
              "      <td>34</td>\n",
              "      <td>1199.0</td>\n",
              "      <td>1</td>\n",
              "      <td>0</td>\n",
              "      <td>1199.0</td>\n",
              "      <td>0.0</td>\n",
              "      <td>3</td>\n",
              "      <td>3</td>\n",
              "      <td>19</td>\n",
              "      <td>False</td>\n",
              "      <td>5</td>\n",
              "      <td>9</td>\n",
              "      <td>3</td>\n",
              "      <td>1</td>\n",
              "      <td>0</td>\n",
              "      <td>2</td>\n",
              "      <td>NaN</td>\n",
              "      <td>1.4290</td>\n",
              "      <td>1.657</td>\n",
              "    </tr>\n",
              "    <tr>\n",
              "      <th>3</th>\n",
              "      <td>5</td>\n",
              "      <td>5232</td>\n",
              "      <td>2015</td>\n",
              "      <td>11</td>\n",
              "      <td>34</td>\n",
              "      <td>1199.0</td>\n",
              "      <td>0</td>\n",
              "      <td>0</td>\n",
              "      <td>0.0</td>\n",
              "      <td>0.0</td>\n",
              "      <td>3</td>\n",
              "      <td>3</td>\n",
              "      <td>23</td>\n",
              "      <td>False</td>\n",
              "      <td>5</td>\n",
              "      <td>18</td>\n",
              "      <td>0</td>\n",
              "      <td>1</td>\n",
              "      <td>0</td>\n",
              "      <td>0</td>\n",
              "      <td>NaN</td>\n",
              "      <td>0.3333</td>\n",
              "      <td>1.093</td>\n",
              "    </tr>\n",
              "    <tr>\n",
              "      <th>4</th>\n",
              "      <td>5</td>\n",
              "      <td>5268</td>\n",
              "      <td>2015</td>\n",
              "      <td>11</td>\n",
              "      <td>34</td>\n",
              "      <td>0.0</td>\n",
              "      <td>0</td>\n",
              "      <td>0</td>\n",
              "      <td>0.0</td>\n",
              "      <td>0.0</td>\n",
              "      <td>3</td>\n",
              "      <td>3</td>\n",
              "      <td>20</td>\n",
              "      <td>False</td>\n",
              "      <td>5</td>\n",
              "      <td>10</td>\n",
              "      <td>0</td>\n",
              "      <td>0</td>\n",
              "      <td>0</td>\n",
              "      <td>0</td>\n",
              "      <td>NaN</td>\n",
              "      <td>NaN</td>\n",
              "      <td>NaN</td>\n",
              "    </tr>\n",
              "  </tbody>\n",
              "</table>\n",
              "</div>"
            ],
            "text/plain": [
              "   shop_id  item_id  ...  shop_item_avg_item_cnt  cat_item_avg_item_cnt\n",
              "0        5     5037  ...                  0.9287                  1.951\n",
              "1        5     5320  ...                     NaN                    NaN\n",
              "2        5     5233  ...                  1.4290                  1.657\n",
              "3        5     5232  ...                  0.3333                  1.093\n",
              "4        5     5268  ...                     NaN                    NaN\n",
              "\n",
              "[5 rows x 23 columns]"
            ]
          },
          "metadata": {},
          "execution_count": 14
        }
      ],
      "source": [
        "dest = '/content/drive/MyDrive/HSE Final Project/to_test'\n",
        "name = 'submit_7_test.csv'\n",
        "\n",
        "test_df = pd.read_csv(dest + '/' + name)\n",
        "test_df.head()"
      ]
    },
    {
      "cell_type": "code",
      "execution_count": null,
      "metadata": {
        "id": "GTMpzBzt8bc5",
        "colab": {
          "base_uri": "https://localhost:8080/",
          "height": 398
        },
        "outputId": "c7273a91-0e68-426b-acbb-0aac0266ed08"
      },
      "outputs": [
        {
          "output_type": "error",
          "ename": "ValueError",
          "evalue": "ignored",
          "traceback": [
            "\u001b[0;31m---------------------------------------------------------------------------\u001b[0m",
            "\u001b[0;31mValueError\u001b[0m                                Traceback (most recent call last)",
            "\u001b[0;32m<ipython-input-15-882a15bf5c58>\u001b[0m in \u001b[0;36m<module>\u001b[0;34m()\u001b[0m\n\u001b[0;32m----> 1\u001b[0;31m \u001b[0mtest_pred\u001b[0m \u001b[0;34m=\u001b[0m \u001b[0mxgbr\u001b[0m\u001b[0;34m.\u001b[0m\u001b[0mpredict\u001b[0m\u001b[0;34m(\u001b[0m\u001b[0mtest_df\u001b[0m\u001b[0;34m)\u001b[0m\u001b[0;34m\u001b[0m\u001b[0;34m\u001b[0m\u001b[0m\n\u001b[0m\u001b[1;32m      2\u001b[0m \u001b[0mprint\u001b[0m\u001b[0;34m(\u001b[0m\u001b[0mtest_pred\u001b[0m\u001b[0;34m)\u001b[0m\u001b[0;34m\u001b[0m\u001b[0;34m\u001b[0m\u001b[0m\n",
            "\u001b[0;32m/usr/local/lib/python3.7/dist-packages/xgboost/sklearn.py\u001b[0m in \u001b[0;36mpredict\u001b[0;34m(self, data, output_margin, ntree_limit, validate_features)\u001b[0m\n\u001b[1;32m    454\u001b[0m                                           \u001b[0moutput_margin\u001b[0m\u001b[0;34m=\u001b[0m\u001b[0moutput_margin\u001b[0m\u001b[0;34m,\u001b[0m\u001b[0;34m\u001b[0m\u001b[0;34m\u001b[0m\u001b[0m\n\u001b[1;32m    455\u001b[0m                                           \u001b[0mntree_limit\u001b[0m\u001b[0;34m=\u001b[0m\u001b[0mntree_limit\u001b[0m\u001b[0;34m,\u001b[0m\u001b[0;34m\u001b[0m\u001b[0;34m\u001b[0m\u001b[0m\n\u001b[0;32m--> 456\u001b[0;31m                                           validate_features=validate_features)\n\u001b[0m\u001b[1;32m    457\u001b[0m \u001b[0;34m\u001b[0m\u001b[0m\n\u001b[1;32m    458\u001b[0m     \u001b[0;32mdef\u001b[0m \u001b[0mapply\u001b[0m\u001b[0;34m(\u001b[0m\u001b[0mself\u001b[0m\u001b[0;34m,\u001b[0m \u001b[0mX\u001b[0m\u001b[0;34m,\u001b[0m \u001b[0mntree_limit\u001b[0m\u001b[0;34m=\u001b[0m\u001b[0;36m0\u001b[0m\u001b[0;34m)\u001b[0m\u001b[0;34m:\u001b[0m\u001b[0;34m\u001b[0m\u001b[0;34m\u001b[0m\u001b[0m\n",
            "\u001b[0;32m/usr/local/lib/python3.7/dist-packages/xgboost/core.py\u001b[0m in \u001b[0;36mpredict\u001b[0;34m(self, data, output_margin, ntree_limit, pred_leaf, pred_contribs, approx_contribs, pred_interactions, validate_features)\u001b[0m\n\u001b[1;32m   1282\u001b[0m \u001b[0;34m\u001b[0m\u001b[0m\n\u001b[1;32m   1283\u001b[0m         \u001b[0;32mif\u001b[0m \u001b[0mvalidate_features\u001b[0m\u001b[0;34m:\u001b[0m\u001b[0;34m\u001b[0m\u001b[0;34m\u001b[0m\u001b[0m\n\u001b[0;32m-> 1284\u001b[0;31m             \u001b[0mself\u001b[0m\u001b[0;34m.\u001b[0m\u001b[0m_validate_features\u001b[0m\u001b[0;34m(\u001b[0m\u001b[0mdata\u001b[0m\u001b[0;34m)\u001b[0m\u001b[0;34m\u001b[0m\u001b[0;34m\u001b[0m\u001b[0m\n\u001b[0m\u001b[1;32m   1285\u001b[0m \u001b[0;34m\u001b[0m\u001b[0m\n\u001b[1;32m   1286\u001b[0m         \u001b[0mlength\u001b[0m \u001b[0;34m=\u001b[0m \u001b[0mc_bst_ulong\u001b[0m\u001b[0;34m(\u001b[0m\u001b[0;34m)\u001b[0m\u001b[0;34m\u001b[0m\u001b[0;34m\u001b[0m\u001b[0m\n",
            "\u001b[0;32m/usr/local/lib/python3.7/dist-packages/xgboost/core.py\u001b[0m in \u001b[0;36m_validate_features\u001b[0;34m(self, data)\u001b[0m\n\u001b[1;32m   1688\u001b[0m \u001b[0;34m\u001b[0m\u001b[0m\n\u001b[1;32m   1689\u001b[0m                 raise ValueError(msg.format(self.feature_names,\n\u001b[0;32m-> 1690\u001b[0;31m                                             data.feature_names))\n\u001b[0m\u001b[1;32m   1691\u001b[0m \u001b[0;34m\u001b[0m\u001b[0m\n\u001b[1;32m   1692\u001b[0m     \u001b[0;32mdef\u001b[0m \u001b[0mget_split_value_histogram\u001b[0m\u001b[0;34m(\u001b[0m\u001b[0mself\u001b[0m\u001b[0;34m,\u001b[0m \u001b[0mfeature\u001b[0m\u001b[0;34m,\u001b[0m \u001b[0mfmap\u001b[0m\u001b[0;34m=\u001b[0m\u001b[0;34m''\u001b[0m\u001b[0;34m,\u001b[0m \u001b[0mbins\u001b[0m\u001b[0;34m=\u001b[0m\u001b[0;32mNone\u001b[0m\u001b[0;34m,\u001b[0m \u001b[0mas_pandas\u001b[0m\u001b[0;34m=\u001b[0m\u001b[0;32mTrue\u001b[0m\u001b[0;34m)\u001b[0m\u001b[0;34m:\u001b[0m\u001b[0;34m\u001b[0m\u001b[0;34m\u001b[0m\u001b[0m\n",
            "\u001b[0;31mValueError\u001b[0m: feature_names mismatch: ['shop_id', 'item_id', 'month', 'year', 'date_block_num', 'item_price', 'prev_value', 'prev_value_year', 'stock_prev', 'stock_prev_year', 'shop_city', 'shop_category', 'item_category_id', 'digital', 'category_type', 'category_subtype', 'item_cnt_lag_2', 'item_cnt_lag_3', 'item_cnt_lag_4', 'item_cnt_lag_5', 'date_item_avg_item_cnt', 'shop_item_avg_item_cnt', 'cat_item_avg_item_cnt'] ['shop_id', 'item_id', 'year', 'month', 'date_block_num', 'item_price', 'prev_value', 'prev_value_year', 'stock_prev', 'stock_prev_year', 'shop_city', 'shop_category', 'item_category_id', 'digital', 'category_type', 'category_subtype', 'item_cnt_lag_2', 'item_cnt_lag_3', 'item_cnt_lag_4', 'item_cnt_lag_5', 'date_item_avg_item_cnt', 'shop_item_avg_item_cnt', 'cat_item_avg_item_cnt']"
          ]
        }
      ],
      "source": [
        "test_pred = xgbr.predict(test_df)\n",
        "print(test_pred)"
      ]
    },
    {
      "cell_type": "code",
      "execution_count": null,
      "metadata": {
        "id": "guR693Q38bf_",
        "colab": {
          "base_uri": "https://localhost:8080/",
          "height": 206
        },
        "outputId": "20e0ae82-2e04-4f36-f02c-67b835b68890"
      },
      "outputs": [
        {
          "output_type": "execute_result",
          "data": {
            "text/html": [
              "<div>\n",
              "<style scoped>\n",
              "    .dataframe tbody tr th:only-of-type {\n",
              "        vertical-align: middle;\n",
              "    }\n",
              "\n",
              "    .dataframe tbody tr th {\n",
              "        vertical-align: top;\n",
              "    }\n",
              "\n",
              "    .dataframe thead th {\n",
              "        text-align: right;\n",
              "    }\n",
              "</style>\n",
              "<table border=\"1\" class=\"dataframe\">\n",
              "  <thead>\n",
              "    <tr style=\"text-align: right;\">\n",
              "      <th></th>\n",
              "      <th>ID</th>\n",
              "      <th>item_cnt_month</th>\n",
              "    </tr>\n",
              "  </thead>\n",
              "  <tbody>\n",
              "    <tr>\n",
              "      <th>0</th>\n",
              "      <td>0</td>\n",
              "      <td>0.5</td>\n",
              "    </tr>\n",
              "    <tr>\n",
              "      <th>1</th>\n",
              "      <td>1</td>\n",
              "      <td>0.5</td>\n",
              "    </tr>\n",
              "    <tr>\n",
              "      <th>2</th>\n",
              "      <td>2</td>\n",
              "      <td>0.5</td>\n",
              "    </tr>\n",
              "    <tr>\n",
              "      <th>3</th>\n",
              "      <td>3</td>\n",
              "      <td>0.5</td>\n",
              "    </tr>\n",
              "    <tr>\n",
              "      <th>4</th>\n",
              "      <td>4</td>\n",
              "      <td>0.5</td>\n",
              "    </tr>\n",
              "  </tbody>\n",
              "</table>\n",
              "</div>"
            ],
            "text/plain": [
              "   ID  item_cnt_month\n",
              "0   0             0.5\n",
              "1   1             0.5\n",
              "2   2             0.5\n",
              "3   3             0.5\n",
              "4   4             0.5"
            ]
          },
          "metadata": {},
          "execution_count": 18
        }
      ],
      "source": [
        "name_sample = 'sample_submission.csv'\n",
        "\n",
        "sample = pd.read_csv(dest + '/' + name_sample)\n",
        "sample.head()"
      ]
    },
    {
      "cell_type": "code",
      "execution_count": null,
      "metadata": {
        "id": "Mm5bOWJm8biM",
        "colab": {
          "base_uri": "https://localhost:8080/",
          "height": 206
        },
        "outputId": "816700c3-d766-49a7-9df5-999e3b36c97f"
      },
      "outputs": [
        {
          "output_type": "execute_result",
          "data": {
            "text/html": [
              "<div>\n",
              "<style scoped>\n",
              "    .dataframe tbody tr th:only-of-type {\n",
              "        vertical-align: middle;\n",
              "    }\n",
              "\n",
              "    .dataframe tbody tr th {\n",
              "        vertical-align: top;\n",
              "    }\n",
              "\n",
              "    .dataframe thead th {\n",
              "        text-align: right;\n",
              "    }\n",
              "</style>\n",
              "<table border=\"1\" class=\"dataframe\">\n",
              "  <thead>\n",
              "    <tr style=\"text-align: right;\">\n",
              "      <th></th>\n",
              "      <th>ID</th>\n",
              "      <th>item_cnt_month</th>\n",
              "    </tr>\n",
              "  </thead>\n",
              "  <tbody>\n",
              "    <tr>\n",
              "      <th>0</th>\n",
              "      <td>0</td>\n",
              "      <td>0.0</td>\n",
              "    </tr>\n",
              "    <tr>\n",
              "      <th>1</th>\n",
              "      <td>1</td>\n",
              "      <td>-0.0</td>\n",
              "    </tr>\n",
              "    <tr>\n",
              "      <th>2</th>\n",
              "      <td>2</td>\n",
              "      <td>0.0</td>\n",
              "    </tr>\n",
              "    <tr>\n",
              "      <th>3</th>\n",
              "      <td>3</td>\n",
              "      <td>0.0</td>\n",
              "    </tr>\n",
              "    <tr>\n",
              "      <th>4</th>\n",
              "      <td>4</td>\n",
              "      <td>-0.0</td>\n",
              "    </tr>\n",
              "  </tbody>\n",
              "</table>\n",
              "</div>"
            ],
            "text/plain": [
              "   ID  item_cnt_month\n",
              "0   0             0.0\n",
              "1   1            -0.0\n",
              "2   2             0.0\n",
              "3   3             0.0\n",
              "4   4            -0.0"
            ]
          },
          "metadata": {},
          "execution_count": 19
        }
      ],
      "source": [
        "sample.item_cnt_month = np.around(test_pred)\n",
        "sample.head()"
      ]
    },
    {
      "cell_type": "code",
      "execution_count": null,
      "metadata": {
        "id": "-QA1-Gah8bmj"
      },
      "outputs": [],
      "source": [
        "dest = '/content/drive/MyDrive/HSE Final Project/submissions/'\n",
        "sample.to_csv(dest + 'submission #20 (+2013).csv', index=False)"
      ]
    },
    {
      "cell_type": "code",
      "execution_count": null,
      "metadata": {
        "id": "BpEbSyXy-hA6"
      },
      "outputs": [],
      "source": [
        "from xgboost import plot_importance\n",
        "import matplotlib.pyplot as plt\n",
        "\n",
        "\n",
        "def plot_features(booster, figsize):    \n",
        "    fig, ax = plt.subplots(1, 1, figsize=figsize)\n",
        "    return plot_importance(booster=booster, ax=ax)"
      ]
    },
    {
      "cell_type": "code",
      "execution_count": null,
      "metadata": {
        "id": "0L4CgBg3-hDB",
        "colab": {
          "base_uri": "https://localhost:8080/",
          "height": 856
        },
        "outputId": "5838ddfb-a912-4c6c-d127-103e750277e5"
      },
      "outputs": [
        {
          "output_type": "execute_result",
          "data": {
            "text/plain": [
              "<matplotlib.axes._subplots.AxesSubplot at 0x7f025f49a690>"
            ]
          },
          "metadata": {},
          "execution_count": 22
        },
        {
          "output_type": "display_data",
          "data": {
            "image/png": "[encoded data removed]",
            "text/plain": [
              "<Figure size 720x1008 with 1 Axes>"
            ]
          },
          "metadata": {
            "needs_background": "light"
          }
        }
      ],
      "source": [
        "plot_features(xgbr, (10, 14))"
      ]
    },
    {
      "cell_type": "code",
      "execution_count": null,
      "metadata": {
        "id": "j1SHDDbcAdF3"
      },
      "outputs": [],
      "source": [
        ""
      ]
    },
    {
      "cell_type": "code",
      "execution_count": null,
      "metadata": {
        "id": "R1jgmhvbAdH6"
      },
      "outputs": [],
      "source": [
        ""
      ]
    }
  ],
  "metadata": {
    "accelerator": "GPU",
    "colab": {
      "collapsed_sections": [],
      "machine_shape": "hm",
      "name": "HSE XGBoost Model Optimization.ipynb",
      "provenance": [],
      "mount_file_id": "1QhJ70X6HbLTChMfkk5wK-UzghN-3ANEn",
      "authorship_tag": "ABX9TyMBUOhEcfqnuLiOoobs58cD"
    },
    "kernelspec": {
      "display_name": "Python 3",
      "name": "python3"
    },
    "language_info": {
      "name": "python"
    }
  },
  "nbformat": 4,
  "nbformat_minor": 0
}