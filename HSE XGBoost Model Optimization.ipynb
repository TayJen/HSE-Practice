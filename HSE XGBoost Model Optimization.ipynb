{
  "cells": [
    {
      "cell_type": "code",
      "execution_count": null,
      "metadata": {
        "id": "MbYbVRO5une-"
      },
      "outputs": [],
      "source": [
        "import pandas as pd\n",
        "import numpy as np\n",
        "import xgboost as xgb\n",
        "from sklearn.model_selection import train_test_split\n",
        "from sklearn.model_selection import cross_val_score"
      ]
    },
    {
      "cell_type": "code",
      "execution_count": null,
      "metadata": {
        "colab": {
          "base_uri": "https://localhost:8080/",
          "height": 226
        },
        "id": "u5YOpcpIzcv9",
        "outputId": "21378151-11a0-4991-81a5-3f3c6f0a56b9"
      },
      "outputs": [
        {
          "data": {
            "text/html": [
              "<div>\n",
              "<style scoped>\n",
              "    .dataframe tbody tr th:only-of-type {\n",
              "        vertical-align: middle;\n",
              "    }\n",
              "\n",
              "    .dataframe tbody tr th {\n",
              "        vertical-align: top;\n",
              "    }\n",
              "\n",
              "    .dataframe thead th {\n",
              "        text-align: right;\n",
              "    }\n",
              "</style>\n",
              "<table border=\"1\" class=\"dataframe\">\n",
              "  <thead>\n",
              "    <tr style=\"text-align: right;\">\n",
              "      <th></th>\n",
              "      <th>shop_id</th>\n",
              "      <th>item_id</th>\n",
              "      <th>month</th>\n",
              "      <th>year</th>\n",
              "      <th>date_block_num</th>\n",
              "      <th>item_cnt</th>\n",
              "      <th>item_price</th>\n",
              "      <th>prev_value</th>\n",
              "      <th>prev_value_year</th>\n",
              "      <th>stock_prev</th>\n",
              "      <th>stock_prev_year</th>\n",
              "      <th>shop_city</th>\n",
              "      <th>shop_category</th>\n",
              "      <th>item_category_id</th>\n",
              "      <th>digital</th>\n",
              "      <th>category_type</th>\n",
              "      <th>category_subtype</th>\n",
              "      <th>item_cnt_lag_2</th>\n",
              "      <th>item_cnt_lag_3</th>\n",
              "      <th>item_cnt_lag_4</th>\n",
              "      <th>item_cnt_lag_5</th>\n",
              "      <th>item_cnt_lag_6</th>\n",
              "      <th>cnt_block_shop_lag_1</th>\n",
              "      <th>cnt_block_shop_lag_2</th>\n",
              "      <th>cnt_block_shop_lag_3</th>\n",
              "      <th>cnt_block_shop_lag_4</th>\n",
              "      <th>cnt_block_shop_lag_5</th>\n",
              "      <th>cnt_block_shop_lag_12</th>\n",
              "      <th>cnt_block_item_lag_1</th>\n",
              "      <th>cnt_block_item_lag_2</th>\n",
              "      <th>cnt_block_item_lag_3</th>\n",
              "      <th>cnt_block_item_lag_4</th>\n",
              "      <th>cnt_block_item_lag_5</th>\n",
              "      <th>cnt_block_item_lag_12</th>\n",
              "      <th>cnt_block_category_lag_1</th>\n",
              "      <th>cnt_block_category_lag_2</th>\n",
              "      <th>cnt_block_category_lag_3</th>\n",
              "      <th>cnt_block_category_lag_4</th>\n",
              "      <th>cnt_block_category_lag_5</th>\n",
              "      <th>cnt_block_category_lag_12</th>\n",
              "      <th>date_item_avg_item_cnt</th>\n",
              "      <th>shop_item_avg_item_cnt</th>\n",
              "      <th>cat_item_avg_item_cnt</th>\n",
              "    </tr>\n",
              "  </thead>\n",
              "  <tbody>\n",
              "    <tr>\n",
              "      <th>0</th>\n",
              "      <td>0</td>\n",
              "      <td>19</td>\n",
              "      <td>1</td>\n",
              "      <td>2013</td>\n",
              "      <td>0</td>\n",
              "      <td>0</td>\n",
              "      <td>0.0</td>\n",
              "      <td>0</td>\n",
              "      <td>0</td>\n",
              "      <td>0.0</td>\n",
              "      <td>0.0</td>\n",
              "      <td>29</td>\n",
              "      <td>4</td>\n",
              "      <td>40</td>\n",
              "      <td>False</td>\n",
              "      <td>7</td>\n",
              "      <td>4</td>\n",
              "      <td>0</td>\n",
              "      <td>0</td>\n",
              "      <td>0</td>\n",
              "      <td>0</td>\n",
              "      <td>0</td>\n",
              "      <td>0</td>\n",
              "      <td>0</td>\n",
              "      <td>0</td>\n",
              "      <td>0</td>\n",
              "      <td>0</td>\n",
              "      <td>0</td>\n",
              "      <td>0</td>\n",
              "      <td>0</td>\n",
              "      <td>0</td>\n",
              "      <td>0</td>\n",
              "      <td>0</td>\n",
              "      <td>0</td>\n",
              "      <td>0</td>\n",
              "      <td>0</td>\n",
              "      <td>0</td>\n",
              "      <td>0</td>\n",
              "      <td>0</td>\n",
              "      <td>0</td>\n",
              "      <td>0.02222</td>\n",
              "      <td>0.0</td>\n",
              "      <td>0.02222</td>\n",
              "    </tr>\n",
              "    <tr>\n",
              "      <th>1</th>\n",
              "      <td>0</td>\n",
              "      <td>27</td>\n",
              "      <td>1</td>\n",
              "      <td>2013</td>\n",
              "      <td>0</td>\n",
              "      <td>0</td>\n",
              "      <td>0.0</td>\n",
              "      <td>0</td>\n",
              "      <td>0</td>\n",
              "      <td>0.0</td>\n",
              "      <td>0.0</td>\n",
              "      <td>29</td>\n",
              "      <td>4</td>\n",
              "      <td>19</td>\n",
              "      <td>False</td>\n",
              "      <td>5</td>\n",
              "      <td>9</td>\n",
              "      <td>0</td>\n",
              "      <td>0</td>\n",
              "      <td>0</td>\n",
              "      <td>0</td>\n",
              "      <td>0</td>\n",
              "      <td>0</td>\n",
              "      <td>0</td>\n",
              "      <td>0</td>\n",
              "      <td>0</td>\n",
              "      <td>0</td>\n",
              "      <td>0</td>\n",
              "      <td>0</td>\n",
              "      <td>0</td>\n",
              "      <td>0</td>\n",
              "      <td>0</td>\n",
              "      <td>0</td>\n",
              "      <td>0</td>\n",
              "      <td>0</td>\n",
              "      <td>0</td>\n",
              "      <td>0</td>\n",
              "      <td>0</td>\n",
              "      <td>0</td>\n",
              "      <td>0</td>\n",
              "      <td>0.15550</td>\n",
              "      <td>0.0</td>\n",
              "      <td>0.05682</td>\n",
              "    </tr>\n",
              "    <tr>\n",
              "      <th>2</th>\n",
              "      <td>0</td>\n",
              "      <td>28</td>\n",
              "      <td>1</td>\n",
              "      <td>2013</td>\n",
              "      <td>0</td>\n",
              "      <td>0</td>\n",
              "      <td>0.0</td>\n",
              "      <td>0</td>\n",
              "      <td>0</td>\n",
              "      <td>0.0</td>\n",
              "      <td>0.0</td>\n",
              "      <td>29</td>\n",
              "      <td>4</td>\n",
              "      <td>30</td>\n",
              "      <td>False</td>\n",
              "      <td>5</td>\n",
              "      <td>49</td>\n",
              "      <td>0</td>\n",
              "      <td>0</td>\n",
              "      <td>0</td>\n",
              "      <td>0</td>\n",
              "      <td>0</td>\n",
              "      <td>0</td>\n",
              "      <td>0</td>\n",
              "      <td>0</td>\n",
              "      <td>0</td>\n",
              "      <td>0</td>\n",
              "      <td>0</td>\n",
              "      <td>0</td>\n",
              "      <td>0</td>\n",
              "      <td>0</td>\n",
              "      <td>0</td>\n",
              "      <td>0</td>\n",
              "      <td>0</td>\n",
              "      <td>0</td>\n",
              "      <td>0</td>\n",
              "      <td>0</td>\n",
              "      <td>0</td>\n",
              "      <td>0</td>\n",
              "      <td>0</td>\n",
              "      <td>0.17770</td>\n",
              "      <td>0.0</td>\n",
              "      <td>0.14120</td>\n",
              "    </tr>\n",
              "    <tr>\n",
              "      <th>3</th>\n",
              "      <td>0</td>\n",
              "      <td>29</td>\n",
              "      <td>1</td>\n",
              "      <td>2013</td>\n",
              "      <td>0</td>\n",
              "      <td>0</td>\n",
              "      <td>0.0</td>\n",
              "      <td>0</td>\n",
              "      <td>0</td>\n",
              "      <td>0.0</td>\n",
              "      <td>0.0</td>\n",
              "      <td>29</td>\n",
              "      <td>4</td>\n",
              "      <td>23</td>\n",
              "      <td>False</td>\n",
              "      <td>5</td>\n",
              "      <td>18</td>\n",
              "      <td>0</td>\n",
              "      <td>0</td>\n",
              "      <td>0</td>\n",
              "      <td>0</td>\n",
              "      <td>0</td>\n",
              "      <td>0</td>\n",
              "      <td>0</td>\n",
              "      <td>0</td>\n",
              "      <td>0</td>\n",
              "      <td>0</td>\n",
              "      <td>0</td>\n",
              "      <td>0</td>\n",
              "      <td>0</td>\n",
              "      <td>0</td>\n",
              "      <td>0</td>\n",
              "      <td>0</td>\n",
              "      <td>0</td>\n",
              "      <td>0</td>\n",
              "      <td>0</td>\n",
              "      <td>0</td>\n",
              "      <td>0</td>\n",
              "      <td>0</td>\n",
              "      <td>0</td>\n",
              "      <td>0.08887</td>\n",
              "      <td>0.0</td>\n",
              "      <td>0.03738</td>\n",
              "    </tr>\n",
              "    <tr>\n",
              "      <th>4</th>\n",
              "      <td>0</td>\n",
              "      <td>32</td>\n",
              "      <td>1</td>\n",
              "      <td>2013</td>\n",
              "      <td>0</td>\n",
              "      <td>6</td>\n",
              "      <td>221.0</td>\n",
              "      <td>0</td>\n",
              "      <td>0</td>\n",
              "      <td>0.0</td>\n",
              "      <td>0.0</td>\n",
              "      <td>29</td>\n",
              "      <td>4</td>\n",
              "      <td>40</td>\n",
              "      <td>False</td>\n",
              "      <td>7</td>\n",
              "      <td>4</td>\n",
              "      <td>0</td>\n",
              "      <td>0</td>\n",
              "      <td>0</td>\n",
              "      <td>0</td>\n",
              "      <td>0</td>\n",
              "      <td>0</td>\n",
              "      <td>0</td>\n",
              "      <td>0</td>\n",
              "      <td>0</td>\n",
              "      <td>0</td>\n",
              "      <td>0</td>\n",
              "      <td>0</td>\n",
              "      <td>0</td>\n",
              "      <td>0</td>\n",
              "      <td>0</td>\n",
              "      <td>0</td>\n",
              "      <td>0</td>\n",
              "      <td>0</td>\n",
              "      <td>0</td>\n",
              "      <td>0</td>\n",
              "      <td>0</td>\n",
              "      <td>0</td>\n",
              "      <td>0</td>\n",
              "      <td>6.64500</td>\n",
              "      <td>8.0</td>\n",
              "      <td>1.31900</td>\n",
              "    </tr>\n",
              "  </tbody>\n",
              "</table>\n",
              "</div>"
            ],
            "text/plain": [
              "   shop_id  item_id  ...  shop_item_avg_item_cnt  cat_item_avg_item_cnt\n",
              "0        0       19  ...                     0.0                0.02222\n",
              "1        0       27  ...                     0.0                0.05682\n",
              "2        0       28  ...                     0.0                0.14120\n",
              "3        0       29  ...                     0.0                0.03738\n",
              "4        0       32  ...                     8.0                1.31900\n",
              "\n",
              "[5 rows x 43 columns]"
            ]
          },
          "execution_count": 2,
          "metadata": {},
          "output_type": "execute_result"
        }
      ],
      "source": [
        "dest = '/content/drive/MyDrive/HSE Final Project/to_train'\n",
        "name = 'submit_9_abandoned.csv'\n",
        "\n",
        "df = pd.read_csv(dest + '/' + name)\n",
        "df.head()"
      ]
    },
    {
      "cell_type": "code",
      "execution_count": null,
      "metadata": {
        "id": "wWTYdJoHGrxb"
      },
      "outputs": [],
      "source": [
        "df['shop_id'] = df['shop_id'].astype(np.int8)\n",
        "df['item_id'] = df['item_id'].astype(np.int16)\n",
        "df['month'] = df['month'].astype(np.int8)\n",
        "df['year'] = df['year'].astype(np.int16)\n",
        "df['date_block_num'] = df['date_block_num'].astype(np.int8)\n",
        "df['item_cnt'] = df['item_cnt'].astype(np.int32)\n",
        "df['prev_value'] = df['prev_value'].astype(np.int32)\n",
        "df['prev_value_year'] = df['prev_value_year'].astype(np.int32)\n",
        "df['shop_city'] = df['shop_city'].astype(np.int8)\n",
        "df['shop_category'] = df['shop_category'].astype(np.int8)\n",
        "df['item_category_id'] = df['item_category_id'].astype(np.int8)\n",
        "df['digital'] = df['digital'].astype(np.bool_)\n",
        "df['category_type'] = df['category_type'].astype(np.int8)\n",
        "df['category_subtype'] = df['category_subtype'].astype(np.int8)\n",
        "df['item_cnt_lag_2'] = df['item_cnt_lag_2'].astype(np.int32)\n",
        "df['item_cnt_lag_3'] = df['item_cnt_lag_3'].astype(np.int32)\n",
        "df['item_cnt_lag_4'] = df['item_cnt_lag_4'].astype(np.int32)\n",
        "df['item_cnt_lag_5'] = df['item_cnt_lag_5'].astype(np.int32)\n",
        "df['item_cnt_lag_6'] = df['item_cnt_lag_6'].astype(np.int32)"
      ]
    },
    {
      "cell_type": "code",
      "execution_count": null,
      "metadata": {
        "id": "eVWe3qHUHMPH"
      },
      "outputs": [],
      "source": [
        "for col in df.columns[22:40]:\n",
        "    df[col] = df[col].astype(np.int32)"
      ]
    },
    {
      "cell_type": "code",
      "execution_count": null,
      "metadata": {
        "colab": {
          "base_uri": "https://localhost:8080/"
        },
        "id": "C3Vwz5Cg2UVp",
        "outputId": "26b30869-5617-4ae3-c5e7-57beeec6f0d7"
      },
      "outputs": [
        {
          "name": "stdout",
          "output_type": "stream",
          "text": [
            "<class 'pandas.core.frame.DataFrame'>\n",
            "RangeIndex: 10913804 entries, 0 to 10913803\n",
            "Data columns (total 43 columns):\n",
            " #   Column                     Dtype  \n",
            "---  ------                     -----  \n",
            " 0   shop_id                    int8   \n",
            " 1   item_id                    int16  \n",
            " 2   month                      int8   \n",
            " 3   year                       int16  \n",
            " 4   date_block_num             int8   \n",
            " 5   item_cnt                   int32  \n",
            " 6   item_price                 float64\n",
            " 7   prev_value                 int32  \n",
            " 8   prev_value_year            int32  \n",
            " 9   stock_prev                 float64\n",
            " 10  stock_prev_year            float64\n",
            " 11  shop_city                  int8   \n",
            " 12  shop_category              int8   \n",
            " 13  item_category_id           int8   \n",
            " 14  digital                    bool   \n",
            " 15  category_type              int8   \n",
            " 16  category_subtype           int8   \n",
            " 17  item_cnt_lag_2             int32  \n",
            " 18  item_cnt_lag_3             int32  \n",
            " 19  item_cnt_lag_4             int32  \n",
            " 20  item_cnt_lag_5             int32  \n",
            " 21  item_cnt_lag_6             int32  \n",
            " 22  cnt_block_shop_lag_1       int32  \n",
            " 23  cnt_block_shop_lag_2       int32  \n",
            " 24  cnt_block_shop_lag_3       int32  \n",
            " 25  cnt_block_shop_lag_4       int32  \n",
            " 26  cnt_block_shop_lag_5       int32  \n",
            " 27  cnt_block_shop_lag_12      int32  \n",
            " 28  cnt_block_item_lag_1       int32  \n",
            " 29  cnt_block_item_lag_2       int32  \n",
            " 30  cnt_block_item_lag_3       int32  \n",
            " 31  cnt_block_item_lag_4       int32  \n",
            " 32  cnt_block_item_lag_5       int32  \n",
            " 33  cnt_block_item_lag_12      int32  \n",
            " 34  cnt_block_category_lag_1   int32  \n",
            " 35  cnt_block_category_lag_2   int32  \n",
            " 36  cnt_block_category_lag_3   int32  \n",
            " 37  cnt_block_category_lag_4   int32  \n",
            " 38  cnt_block_category_lag_5   int32  \n",
            " 39  cnt_block_category_lag_12  int32  \n",
            " 40  date_item_avg_item_cnt     float64\n",
            " 41  shop_item_avg_item_cnt     float64\n",
            " 42  cat_item_avg_item_cnt      float64\n",
            "dtypes: bool(1), float64(6), int16(2), int32(26), int8(8)\n",
            "memory usage: 1.7 GB\n"
          ]
        }
      ],
      "source": [
        "df.info()"
      ]
    },
    {
      "cell_type": "markdown",
      "metadata": {
        "id": "r3FgsrZ99UKI"
      },
      "source": [
        "Due to the fact that we predict future, it makes no sense to shuffle the data"
      ]
    },
    {
      "cell_type": "code",
      "execution_count": null,
      "metadata": {
        "colab": {
          "base_uri": "https://localhost:8080/"
        },
        "id": "fLKeDZjLVBd5",
        "outputId": "d7e26b74-44a9-4afc-fbcc-386bad3c8c27"
      },
      "outputs": [
        {
          "name": "stdout",
          "output_type": "stream",
          "text": [
            "[10675627, 10675628, 10675629, 10675630, 10675631]\n",
            "[10913799, 10913800, 10913801, 10913802, 10913803]\n"
          ]
        }
      ],
      "source": [
        "# Indices for RandomizedSearchCV\n",
        "index = df.index\n",
        "\n",
        "condition_train = df.date_block_num < 33\n",
        "train_indices = index[condition_train]\n",
        "\n",
        "condition_valid = df.date_block_num == 33\n",
        "valid_indices = index[condition_valid]\n",
        "\n",
        "train_indices = train_indices.tolist()\n",
        "valid_indices = valid_indices.tolist()\n",
        "\n",
        "print(train_indices[-5:])\n",
        "print(valid_indices[-5:])"
      ]
    },
    {
      "cell_type": "code",
      "execution_count": null,
      "metadata": {
        "colab": {
          "base_uri": "https://localhost:8080/"
        },
        "id": "x0ExZQcXdFDt",
        "outputId": "3c3c9ac9-ce2a-4200-ead0-d9511789475b"
      },
      "outputs": [
        {
          "data": {
            "text/plain": [
              "4"
            ]
          },
          "execution_count": 7,
          "metadata": {},
          "output_type": "execute_result"
        }
      ],
      "source": [
        "import multiprocessing\n",
        "multiprocessing.cpu_count()"
      ]
    },
    {
      "cell_type": "code",
      "execution_count": null,
      "metadata": {
        "id": "I7FfXygE6S2q"
      },
      "outputs": [],
      "source": [
        "# del df\n",
        "# learning_rate = 0.1\n",
        "# max_depth = 8\n",
        "# n_estimators = 1000"
      ]
    },
    {
      "cell_type": "code",
      "execution_count": null,
      "metadata": {
        "id": "R_noOweAZOYH"
      },
      "outputs": [],
      "source": [
        "# eval_set = [(X_train, y_train), (X_valid, y_valid)]"
      ]
    },
    {
      "cell_type": "code",
      "execution_count": null,
      "metadata": {
        "id": "uqt585rDgKcJ"
      },
      "outputs": [],
      "source": [
        "X = df.drop(['item_cnt'], axis=1)\n",
        "y = df['item_cnt']"
      ]
    },
    {
      "cell_type": "code",
      "execution_count": null,
      "metadata": {
        "id": "CXsmK1VDkcT9"
      },
      "outputs": [],
      "source": [
        "del df"
      ]
    },
    {
      "cell_type": "markdown",
      "metadata": {
        "id": "82gzZgvwV3h-"
      },
      "source": [
        "RandomizedSearchCV"
      ]
    },
    {
      "cell_type": "code",
      "execution_count": null,
      "metadata": {
        "id": "obNEj3poVqkQ"
      },
      "outputs": [],
      "source": [
        "from sklearn.model_selection import RandomizedSearchCV\n",
        "\n",
        "custom_cv = [(train_indices, valid_indices)]\n",
        "params = {'learning_rate': [0.05, 0.1, 0.3], \n",
        "          'max_depth': [7, 9, 11],\n",
        "          'min_child_weight': [0, 5, 10, 20],\n",
        "          'colsample_bytree': [0.7, 0.9, 1],\n",
        "          'n_estimators': [300, 500, 1000]}\n",
        "\n",
        "fit_params={\"early_stopping_rounds\": 10,\n",
        "            \"eval_metric\": \"rmse\", \n",
        "            \"eval_set\": [(X.loc[valid_indices], y.loc[valid_indices])],\n",
        "            \"verbose\": 2}"
      ]
    },
    {
      "cell_type": "code",
      "execution_count": null,
      "metadata": {
        "id": "bp_PA1951FNq"
      },
      "outputs": [],
      "source": [
        "random_state = 13\n",
        "verbosity = 2\n",
        "obj = 'reg:squarederror'"
      ]
    },
    {
      "cell_type": "code",
      "execution_count": null,
      "metadata": {
        "id": "AVH_UrBz1Lbl"
      },
      "outputs": [],
      "source": [
        "xgbr = xgb.XGBRegressor(verbosity=verbosity,\n",
        "                        objective=obj,\n",
        "                        random_state=random_state)"
      ]
    },
    {
      "cell_type": "code",
      "execution_count": null,
      "metadata": {
        "id": "1oyBfxKw0-Lt"
      },
      "outputs": [],
      "source": [
        "# X_train = df[df.date_block_num < 33].drop(['item_cnt'], axis=1)\n",
        "# y_train = df[df.date_block_num < 33]['item_cnt']\n",
        "# X_valid = df[df.date_block_num == 33].drop(['item_cnt'], axis=1)\n",
        "# y_valid = df[df.date_block_num == 33]['item_cnt']"
      ]
    },
    {
      "cell_type": "code",
      "execution_count": null,
      "metadata": {
        "id": "fvF4Nj3y1Lhd"
      },
      "outputs": [],
      "source": [
        "# xgbr.fit(X_train, y_train,\n",
        "#          eval_metric=['rmse', 'rmse'], eval_set=eval_set,\n",
        "#          early_stopping_rounds=15, verbose=True)"
      ]
    },
    {
      "cell_type": "code",
      "execution_count": null,
      "metadata": {
        "id": "vmbwmO1_e03j"
      },
      "outputs": [],
      "source": [
        "grid_obj_xgbr = RandomizedSearchCV(xgbr, params,\n",
        "                                   cv=custom_cv,\n",
        "                                   n_iter=5,\n",
        "                                   scoring='neg_root_mean_squared_error',\n",
        "                                   verbose=5, n_jobs=1)"
      ]
    },
    {
      "cell_type": "code",
      "execution_count": 1,
      "metadata": {
        "colab": {
          "base_uri": "https://localhost:8080/",
          "height": 165
        },
        "id": "EfTMzmcfhpgq",
        "outputId": "fba19151-3ef0-40e1-cb63-da9460e57603"
      },
      "outputs": [
        {
          "output_type": "error",
          "ename": "NameError",
          "evalue": "ignored",
          "traceback": [
            "\u001b[0;31m---------------------------------------------------------------------------\u001b[0m",
            "\u001b[0;31mNameError\u001b[0m                                 Traceback (most recent call last)",
            "\u001b[0;32m<ipython-input-1-12dddf023176>\u001b[0m in \u001b[0;36m<module>\u001b[0;34m()\u001b[0m\n\u001b[0;32m----> 1\u001b[0;31m \u001b[0mgrid_obj_xgbr\u001b[0m\u001b[0;34m.\u001b[0m\u001b[0mfit\u001b[0m\u001b[0;34m(\u001b[0m\u001b[0mX\u001b[0m\u001b[0;34m,\u001b[0m \u001b[0my\u001b[0m\u001b[0;34m,\u001b[0m \u001b[0;34m**\u001b[0m\u001b[0mfit_params\u001b[0m\u001b[0;34m)\u001b[0m\u001b[0;34m\u001b[0m\u001b[0;34m\u001b[0m\u001b[0m\n\u001b[0m",
            "\u001b[0;31mNameError\u001b[0m: name 'grid_obj_xgbr' is not defined"
          ]
        }
      ],
      "source": [
        "grid_obj_xgbr.fit(X, y, **fit_params)"
      ]
    },
    {
      "cell_type": "code",
      "execution_count": null,
      "metadata": {
        "id": "EIFgVtpgkh0W"
      },
      "outputs": [],
      "source": [
        "print(\"\\n The best estimator across ALL searched params:\\n\", grid_obj_xgbr.best_estimator_)\n",
        "print(\"\\n The best score across ALL searched params:\\n\", grid_obj_xgbr.best_score_)\n",
        "print(\"\\n The best parameters across ALL searched params:\\n\", grid_obj_xgbr.best_params_)"
      ]
    },
    {
      "cell_type": "code",
      "execution_count": null,
      "metadata": {
        "id": "kkPMUN_9WD8F"
      },
      "outputs": [],
      "source": [
        "import matplotlib.pyplot as plt\n",
        "\n",
        "# retrieve performance metrics\n",
        "results = xgbr.evals_result()\n",
        "epochs = len(results['validation_0']['rmse'])\n",
        "x_axis = range(0, epochs)\n",
        "\n",
        "# plot rmse\n",
        "fig, ax = plt.subplots()\n",
        "ax.plot(x_axis, results['validation_0']['rmse'], label='Train')\n",
        "ax.plot(x_axis, results['validation_1']['rmse'], label='Test')\n",
        "ax.legend()\n",
        "plt.ylabel('RMSE')\n",
        "plt.title('XGBoost RMSE')\n",
        "plt.show()"
      ]
    },
    {
      "cell_type": "code",
      "execution_count": null,
      "metadata": {
        "id": "9RUt3O_KUcCO"
      },
      "outputs": [],
      "source": [
        "import pickle\n",
        "\n",
        "dest = '/content/drive/MyDrive/HSE Final Project/Models/'\n",
        "file_name = 'xgb_reg_5 (new valid + prices).pkl'\n",
        "\n",
        "# save\n",
        "pickle.dump(xgbr, open(dest + file_name, 'wb'))"
      ]
    },
    {
      "cell_type": "code",
      "execution_count": null,
      "metadata": {
        "id": "tq6UbG4KUoSU"
      },
      "outputs": [],
      "source": [
        "import pickle\n",
        "\n",
        "dest = '/content/drive/MyDrive/HSE Final Project/Models/'\n",
        "file_name = 'xgb_reg_5 (new valid + prices).pkl'\n",
        "# load\n",
        "xgbr = pickle.load(open(dest + file_name, \"rb\"))"
      ]
    },
    {
      "cell_type": "code",
      "execution_count": null,
      "metadata": {
        "id": "70FE96If1Lj3"
      },
      "outputs": [],
      "source": [
        "from sklearn.metrics import mean_squared_error\n",
        "\n",
        "y_pred = xgbr.predict(X_valid)\n",
        "y_pred_rounded = np.around(y_pred)\n",
        "mse = mean_squared_error(y_valid, y_pred)\n",
        "mse_rd = mean_squared_error(y_valid, y_pred_rounded)\n",
        "\n",
        "print('MSE: %.2f' % mse)\n",
        "print('RMSE: %.2f' % (mse ** (0.5)))\n",
        "\n",
        "print('MSE (rounded): %.2f' % mse_rd)\n",
        "print('RMSE (rounded): %.2f' % (mse_rd ** (0.5)))"
      ]
    },
    {
      "cell_type": "code",
      "execution_count": null,
      "metadata": {
        "id": "biFLMI0R1Ll8"
      },
      "outputs": [],
      "source": [
        "# from sklearn.metrics import mean_squared_log_error\n",
        "# msle = mean_squared_log_error(y_test, y_pred)\n",
        "# print('RMSLE: %.2f' % (msle ** (0.5)))"
      ]
    },
    {
      "cell_type": "code",
      "execution_count": null,
      "metadata": {
        "id": "y3qwU-rR8baQ"
      },
      "outputs": [],
      "source": [
        "dest = '/content/drive/MyDrive/HSE Final Project/to_test'\n",
        "name = 'submit_9_test.csv'\n",
        "\n",
        "test_df = pd.read_csv(dest + '/' + name)\n",
        "test_df.head()"
      ]
    },
    {
      "cell_type": "code",
      "execution_count": null,
      "metadata": {
        "id": "GTMpzBzt8bc5"
      },
      "outputs": [],
      "source": [
        "test_pred = xgbr.predict(test_df)\n",
        "print(test_pred)"
      ]
    },
    {
      "cell_type": "code",
      "execution_count": null,
      "metadata": {
        "id": "guR693Q38bf_"
      },
      "outputs": [],
      "source": [
        "name_sample = 'sample_submission.csv'\n",
        "\n",
        "sample = pd.read_csv(dest + '/' + name_sample)\n",
        "sample.head()"
      ]
    },
    {
      "cell_type": "code",
      "execution_count": null,
      "metadata": {
        "id": "Mm5bOWJm8biM"
      },
      "outputs": [],
      "source": [
        "sample.item_cnt_month = np.around(test_pred)\n",
        "sample.head()"
      ]
    },
    {
      "cell_type": "code",
      "execution_count": null,
      "metadata": {
        "id": "-QA1-Gah8bmj"
      },
      "outputs": [],
      "source": [
        "dest = '/content/drive/MyDrive/HSE Final Project/submissions/'\n",
        "sample.to_csv(dest + 'submission #17 (new prices + valid).csv', index=False)"
      ]
    },
    {
      "cell_type": "code",
      "execution_count": null,
      "metadata": {
        "id": "BpEbSyXy-hA6"
      },
      "outputs": [],
      "source": [
        "from xgboost import plot_importance\n",
        "import matplotlib.pyplot as plt\n",
        "\n",
        "\n",
        "def plot_features(booster, figsize):    \n",
        "    fig, ax = plt.subplots(1, 1, figsize=figsize)\n",
        "    return plot_importance(booster=booster, ax=ax)"
      ]
    },
    {
      "cell_type": "code",
      "execution_count": null,
      "metadata": {
        "id": "0L4CgBg3-hDB"
      },
      "outputs": [],
      "source": [
        "plot_features(xgbr, (10, 14))"
      ]
    },
    {
      "cell_type": "code",
      "execution_count": null,
      "metadata": {
        "id": "j1SHDDbcAdF3"
      },
      "outputs": [],
      "source": [
        ""
      ]
    },
    {
      "cell_type": "code",
      "execution_count": null,
      "metadata": {
        "id": "R1jgmhvbAdH6"
      },
      "outputs": [],
      "source": [
        ""
      ]
    }
  ],
  "metadata": {
    "accelerator": "GPU",
    "colab": {
      "collapsed_sections": [],
      "machine_shape": "hm",
      "name": "HSE XGBoost Model Optimization.ipynb",
      "provenance": [],
      "mount_file_id": "1QhJ70X6HbLTChMfkk5wK-UzghN-3ANEn",
      "authorship_tag": "ABX9TyOHEJgSrZQvF9qgHTr3s0AO"
    },
    "kernelspec": {
      "display_name": "Python 3",
      "name": "python3"
    },
    "language_info": {
      "name": "python"
    }
  },
  "nbformat": 4,
  "nbformat_minor": 0
}